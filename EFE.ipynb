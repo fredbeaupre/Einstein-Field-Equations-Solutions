{
  "nbformat": 4,
  "nbformat_minor": 0,
  "metadata": {
    "colab": {
      "name": "EFE.ipynb",
      "provenance": [],
      "collapsed_sections": [],
      "toc_visible": true,
      "authorship_tag": "ABX9TyPuBD6y9t6VjGY8YhrGCc2N",
      "include_colab_link": true
    },
    "kernelspec": {
      "display_name": "Python 3",
      "name": "python3"
    },
    "language_info": {
      "name": "python"
    }
  },
  "cells": [
    {
      "cell_type": "markdown",
      "metadata": {
        "id": "view-in-github",
        "colab_type": "text"
      },
      "source": [
        "<a href=\"https://colab.research.google.com/github/fredbeaupre/Einstein-Field-Equations-Solutions/blob/main/EFE.ipynb\" target=\"_parent\"><img src=\"https://colab.research.google.com/assets/colab-badge.svg\" alt=\"Open In Colab\"/></a>"
      ]
    },
    {
      "cell_type": "markdown",
      "metadata": {
        "id": "lfzE6v32G7HC"
      },
      "source": [
        "# Import einsteinpy for tensor helper function"
      ]
    },
    {
      "cell_type": "code",
      "metadata": {
        "id": "ZUIPCFPLG2bw",
        "colab": {
          "base_uri": "https://localhost:8080/",
          "height": 0
        },
        "outputId": "ab7eda91-8b0c-4204-f109-cccfe3f1f194"
      },
      "source": [
        "!pip install einsteinpy"
      ],
      "execution_count": 1,
      "outputs": [
        {
          "output_type": "stream",
          "text": [
            "Requirement already satisfied: einsteinpy in /usr/local/lib/python3.7/dist-packages (0.3.1)\n",
            "Requirement already satisfied: astropy in /usr/local/lib/python3.7/dist-packages (from einsteinpy) (4.2)\n",
            "Requirement already satisfied: matplotlib in /usr/local/lib/python3.7/dist-packages (from einsteinpy) (3.2.2)\n",
            "Requirement already satisfied: numba!=0.49.0,>=0.46; implementation_name == \"cpython\" in /usr/local/lib/python3.7/dist-packages (from einsteinpy) (0.51.2)\n",
            "Requirement already satisfied: sympy>=1.1 in /usr/local/lib/python3.7/dist-packages (from einsteinpy) (1.7.1)\n",
            "Requirement already satisfied: plotly>=4.0 in /usr/local/lib/python3.7/dist-packages (from einsteinpy) (4.4.1)\n",
            "Requirement already satisfied: scipy>=1.0 in /usr/local/lib/python3.7/dist-packages (from einsteinpy) (1.4.1)\n",
            "Requirement already satisfied: numpy in /usr/local/lib/python3.7/dist-packages (from einsteinpy) (1.19.5)\n",
            "Requirement already satisfied: pyerfa in /usr/local/lib/python3.7/dist-packages (from astropy->einsteinpy) (1.7.2)\n",
            "Requirement already satisfied: pyparsing!=2.0.4,!=2.1.2,!=2.1.6,>=2.0.1 in /usr/local/lib/python3.7/dist-packages (from matplotlib->einsteinpy) (2.4.7)\n",
            "Requirement already satisfied: python-dateutil>=2.1 in /usr/local/lib/python3.7/dist-packages (from matplotlib->einsteinpy) (2.8.1)\n",
            "Requirement already satisfied: kiwisolver>=1.0.1 in /usr/local/lib/python3.7/dist-packages (from matplotlib->einsteinpy) (1.3.1)\n",
            "Requirement already satisfied: cycler>=0.10 in /usr/local/lib/python3.7/dist-packages (from matplotlib->einsteinpy) (0.10.0)\n",
            "Requirement already satisfied: llvmlite<0.35,>=0.34.0.dev0 in /usr/local/lib/python3.7/dist-packages (from numba!=0.49.0,>=0.46; implementation_name == \"cpython\"->einsteinpy) (0.34.0)\n",
            "Requirement already satisfied: setuptools in /usr/local/lib/python3.7/dist-packages (from numba!=0.49.0,>=0.46; implementation_name == \"cpython\"->einsteinpy) (54.1.2)\n",
            "Requirement already satisfied: mpmath>=0.19 in /usr/local/lib/python3.7/dist-packages (from sympy>=1.1->einsteinpy) (1.2.1)\n",
            "Requirement already satisfied: six in /usr/local/lib/python3.7/dist-packages (from plotly>=4.0->einsteinpy) (1.15.0)\n",
            "Requirement already satisfied: retrying>=1.3.3 in /usr/local/lib/python3.7/dist-packages (from plotly>=4.0->einsteinpy) (1.3.3)\n"
          ],
          "name": "stdout"
        }
      ]
    },
    {
      "cell_type": "code",
      "metadata": {
        "id": "oawjqT4WG41E"
      },
      "source": [
        "import sympy \n",
        "from sympy import exp, simplify, tensorcontraction, tensorproduct, sin, cos\n",
        "from sympy.core.expr import Expr\n",
        "import numpy as np\n",
        "import einsteinpy\n",
        "from einsteinpy.symbolic import MetricTensor, BaseRelativityTensor\n",
        "from einsteinpy.symbolic.tensor import BaseRelativityTensor, _change_config\n",
        "from einsteinpy.symbolic.helpers import _change_name, simplify_sympy_array, _flatten_list\n",
        "\n",
        "%matplotlib inline\n",
        "\n",
        "from itertools import product\n",
        "import matplotlib.pyplot as plt\n",
        "import numba\n",
        "import numpy as np\n",
        "from IPython.display import display, Math\n",
        "from sympy import symbols, latex, lambdify, Matrix\n",
        "from scipy.integrate import solve_ivp\n",
        "from sympy.diffgeom import Manifold, Patch, CoordSystem, metric_to_Christoffel_2nd, TensorProduct"
      ],
      "execution_count": 2,
      "outputs": []
    },
    {
      "cell_type": "code",
      "metadata": {
        "id": "L6yUESJvCnfn"
      },
      "source": [
        "def latex_print(something):\n",
        "  display(Math(latex(something)))"
      ],
      "execution_count": 3,
      "outputs": []
    },
    {
      "cell_type": "markdown",
      "metadata": {
        "id": "qTolKrG0HYUZ"
      },
      "source": [
        "# Christoffel Symbols"
      ]
    },
    {
      "cell_type": "code",
      "metadata": {
        "id": "O56eRlUfHZz2"
      },
      "source": [
        "class ChristoffelSymbols(BaseRelativityTensor):\n",
        "  \n",
        "  def __init__(self,\n",
        "               arr,\n",
        "               syms,\n",
        "               config=\"ull\",\n",
        "               parent_metric=None,\n",
        "               name=\"ChristoffelSymbols\"):\n",
        "    \n",
        "    super(ChristoffelSymbols, self).__init__(\n",
        "        arr=arr, syms=syms, config=config, parent_metric=parent_metric, name=name\n",
        "    )\n",
        "    self._order = 3\n",
        "    if not len(self.config) == self._order:\n",
        "      raise ValueError(\"Error: wrong config\")\n",
        "\n",
        "  @classmethod\n",
        "  def compute_christoffel(cls, metric):\n",
        "    dims = metric.dims\n",
        "    temp_list = np.zeros((dims, dims, dims), dtype=int).tolist()\n",
        "    mat, syms = metric.lower_config().tensor(), metric.symbols()\n",
        "    inv_mat = sympy.Matrix(mat.tolist()).inv()\n",
        "    for t in range(dims ** 3):\n",
        "      k = t % dims\n",
        "      j = (int(t / dims)) % (dims)\n",
        "      i = (int(t / (dims ** 2))) % (dims)\n",
        "      if k <= j:\n",
        "          temp = 0\n",
        "          for n in range(dims):\n",
        "              temp += (inv_mat[i, n] / 2) * (\n",
        "                  sympy.diff(mat[n, j], syms[k])\n",
        "                  + sympy.diff(mat[n, k], syms[j])\n",
        "                  - sympy.diff(mat[j, k], syms[n])\n",
        "              )\n",
        "          temp_list[i][j][k] = temp_list[i][k][j] = temp\n",
        "    return cls(temp_list, syms, config=\"ull\", parent_metric=metric)\n",
        "\n",
        "  \n"
      ],
      "execution_count": 4,
      "outputs": []
    },
    {
      "cell_type": "markdown",
      "metadata": {
        "id": "MBuMWWODIsoM"
      },
      "source": [
        "# Riemann Tensor"
      ]
    },
    {
      "cell_type": "code",
      "metadata": {
        "id": "PqZxH97yItrQ"
      },
      "source": [
        "class RiemannTensor(BaseRelativityTensor):\n",
        "\n",
        "    def __init__(\n",
        "        self,\n",
        "        arr,\n",
        "        syms,\n",
        "        config=\"ulll\",\n",
        "        parent_metric=None,\n",
        "        name=\"RiemannTensor\",\n",
        "    ):\n",
        "       \n",
        "        super(RiemannTensor, self).__init__(\n",
        "            arr=arr, syms=syms, config=config, parent_metric=parent_metric, name=name\n",
        "        )\n",
        "        self._order = 4\n",
        "        if not len(config) == self._order:\n",
        "            raise ValueError(\"config should be of length {}\".format(self._order))\n",
        "\n",
        "    @classmethod\n",
        "    def compute_riemann(cls, chris, parent_metric=None):\n",
        "        if not chris.config == \"ull\":\n",
        "            chris = chris.change_config(newconfig=\"ull\", metric=parent_metric)\n",
        "        arr, syms = chris.tensor(), chris.symbols()\n",
        "        dims = len(syms)\n",
        "        riemann = (np.zeros(shape=(dims, dims, dims, dims), dtype=int)).tolist()\n",
        "        for i in range(dims ** 4):\n",
        "            n = i % dims\n",
        "            r = (int(i / dims)) % (dims)\n",
        "            s = (int(i / (dims ** 2))) % (dims)\n",
        "            t = (int(i / (dims ** 3))) % (dims)\n",
        "            temp = sympy.diff(arr[t, s, n], syms[r]) - sympy.diff(arr[t, s, r], syms[n])\n",
        "            for p in range(dims):\n",
        "                temp += arr[p, s, n] * arr[t, p, r] - arr[p, s, r] * arr[t, p, n]\n",
        "            riemann[t][s][r][n] = sympy.simplify(temp)\n",
        "        if parent_metric is None:\n",
        "            parent_metric = chris.parent_metric\n",
        "        return cls(riemann, syms, config=\"ulll\", parent_metric=parent_metric)\n",
        "      \n",
        "    def change_config(self, newconfig=\"llll\", metric=None):\n",
        "      if metric is None:\n",
        "          metric = self._parent_metric\n",
        "      if metric is None:\n",
        "          raise Exception(\"No Parent Metric Found\")\n",
        "      new_tensor = _change_config(self, metric, newconfig)\n",
        "      new_obj = RiemannCurvatureTensor(\n",
        "          new_tensor,\n",
        "          self.syms,\n",
        "          config=newconfig,\n",
        "          parent_metric=metric,\n",
        "          name=_change_name(self.name, context=\"__\" + newconfig),\n",
        "      )\n",
        "      return new_obj\n"
      ],
      "execution_count": 5,
      "outputs": []
    },
    {
      "cell_type": "markdown",
      "metadata": {
        "id": "sGDSdLm-J-mU"
      },
      "source": [
        "# Ricci Tensor"
      ]
    },
    {
      "cell_type": "code",
      "metadata": {
        "id": "mYuOEH2dJ_sS"
      },
      "source": [
        "class RicciTensor(BaseRelativityTensor):\n",
        "\n",
        "    def __init__(self, arr, syms, config=\"ll\", parent_metric=None, name=\"RicciTensor\"):\n",
        "        super(RicciTensor, self).__init__(\n",
        "            arr=arr, syms=syms, config=config, parent_metric=parent_metric, name=name\n",
        "        )\n",
        "        self._order = 2\n",
        "        if not len(config) == self._order:\n",
        "            raise ValueError(\"config should be of length {}\".format(self._order))\n",
        "\n",
        "    @classmethod\n",
        "    def compute_ricci_tensor(cls, riemann, parent_metric=None):\n",
        "        if not riemann.config == \"ulll\":\n",
        "            riemann = riemann.change_config(newconfig=\"ulll\", metric=parent_metric)\n",
        "        if parent_metric is None:\n",
        "            parent_metric = riemann.parent_metric\n",
        "        return cls(\n",
        "            simplify_sympy_array(sympy.tensorcontraction(riemann.tensor(), (0, 2))),\n",
        "            riemann.syms,\n",
        "            config=\"ll\",\n",
        "            parent_metric=parent_metric,\n",
        "        )\n",
        "\n",
        "\n",
        "    def change_config(self, newconfig=\"ul\", metric=None):\n",
        "        if metric is None:\n",
        "            metric = self._parent_metric\n",
        "        if metric is None:\n",
        "            raise Exception(\"No Parent Metric Found\")\n",
        "        new_tensor = _change_config(self, metric, newconfig)\n",
        "        new_obj = RicciTensor(\n",
        "            new_tensor,\n",
        "            self.syms,\n",
        "            config=newconfig,\n",
        "            parent_metric=metric,\n",
        "            name=_change_name(self.name, context=\"__\" + newconfig),\n",
        "        )\n",
        "        return new_obj"
      ],
      "execution_count": 6,
      "outputs": []
    },
    {
      "cell_type": "markdown",
      "metadata": {
        "id": "YGwTTnIWKXeU"
      },
      "source": [
        "# Ricci Scalar"
      ]
    },
    {
      "cell_type": "code",
      "metadata": {
        "id": "-Wd_utW-KOXM"
      },
      "source": [
        "class RicciScalar(BaseRelativityTensor):\n",
        "\n",
        "    def __init__(self, arr, syms, parent_metric=None):\n",
        "        super(RicciScalar, self).__init__(\n",
        "            arr=arr,\n",
        "            syms=syms,\n",
        "            config=\"\",\n",
        "            parent_metric=parent_metric,\n",
        "            name=\"RicciScalar\",\n",
        "        )\n",
        "        self._order = 0\n",
        "\n",
        "    @property\n",
        "    def expr(self):\n",
        "        val = sum(self.arr) \n",
        "        return val\n",
        "\n",
        "    @classmethod\n",
        "    def compute_ricci_scalar(cls, riccitensor, parent_metric=None):\n",
        "        if not riccitensor.config == \"ul\":\n",
        "            riccitensor = riccitensor.change_config(\n",
        "                newconfig=\"ul\", metric=parent_metric\n",
        "            )\n",
        "        if parent_metric is None:\n",
        "            parent_metric = riccitensor.parent_metric\n",
        "        ricci_scalar = tensorcontraction(riccitensor.tensor(), (0, 1))\n",
        "        return cls(\n",
        "            simplify_sympy_array(ricci_scalar),\n",
        "            riccitensor.syms,\n",
        "            parent_metric=parent_metric,\n",
        "        )\n",
        "\n",
        "   "
      ],
      "execution_count": 7,
      "outputs": []
    },
    {
      "cell_type": "markdown",
      "metadata": {
        "id": "vPOWSm0uLF_q"
      },
      "source": [
        "# Einstein Tensor"
      ]
    },
    {
      "cell_type": "code",
      "metadata": {
        "id": "c7WESrmhLG-9"
      },
      "source": [
        "class EinsteinTensor(BaseRelativityTensor):\n",
        "\n",
        "    def __init__(\n",
        "        self, arr, syms, config=\"ll\", parent_metric=None, name=\"EinsteinTensor\"\n",
        "    ):\n",
        "        super(EinsteinTensor, self).__init__(\n",
        "            arr=arr, syms=syms, config=config, parent_metric=parent_metric, name=name\n",
        "        )\n",
        "        self._order = 2\n",
        "        if not len(config) == self._order:\n",
        "            raise ValueError(\"Error: Wrong config\")\n",
        "\n",
        "    @classmethod\n",
        "    def compute_einstein_tensor(cls, ricci_t, ricci_s, metric):\n",
        "        einstein_tensor = (\n",
        "            ricci_t.tensor() - (1 / 2) * metric.lower_config().tensor() * ricci_s.expr\n",
        "        )\n",
        "        return cls(\n",
        "            einstein_tensor,\n",
        "            metric.syms,\n",
        "            config=\"ll\",\n",
        "            parent_metric=ricci_t.parent_metric,\n",
        "        )\n",
        "\n",
        "    def change_config(self, newconfig=\"ul\", metric=None):\n",
        "        if metric is None:\n",
        "            metric = self._parent_metric\n",
        "        if metric is None:\n",
        "            raise Exception(\"Parent Metric not found, can't do configuration change\")\n",
        "        new_tensor = _change_config(self, metric, newconfig)\n",
        "        new_obj = EinsteinTensor(\n",
        "            new_tensor,\n",
        "            self.syms,\n",
        "            config=newconfig,\n",
        "            parent_metric=metric,\n",
        "            name=_change_name(self.name, context=\"__\" + newconfig),\n",
        "        )\n",
        "        return new_obj"
      ],
      "execution_count": 8,
      "outputs": []
    },
    {
      "cell_type": "markdown",
      "metadata": {
        "id": "5tHz8O92MkxS"
      },
      "source": [
        "# Schwarzchild Metric"
      ]
    },
    {
      "cell_type": "code",
      "metadata": {
        "id": "dO5HDIsHIMuR",
        "colab": {
          "base_uri": "https://localhost:8080/",
          "height": 105
        },
        "outputId": "32cff855-f302-47d5-ee12-0bebaa678830"
      },
      "source": [
        "metric_syms = sympy.symbols('t r theta phi')\n",
        "R_sym = sympy.symbols('R')\n",
        "metric = [[ 0 for i in range(4)] for i in range(4)]\n",
        "metric[0][0] = -(1 - (R_sym/metric_syms[1]))\n",
        "metric[1][1] = (1 - (R_sym/metric_syms[1]))**(-1)\n",
        "metric[2][2] = metric_syms[1]**2\n",
        "metric[3][3] = (metric_syms[1]**2) * (sin(metric_syms[2]))**2\n",
        "m_obj = MetricTensor(metric, metric_syms)\n",
        "m_obj.tensor()"
      ],
      "execution_count": 9,
      "outputs": [
        {
          "output_type": "execute_result",
          "data": {
            "text/latex": "$\\displaystyle \\left[\\begin{matrix}\\frac{R}{r} - 1 & 0 & 0 & 0\\\\0 & \\frac{1}{- \\frac{R}{r} + 1} & 0 & 0\\\\0 & 0 & r^{2} & 0\\\\0 & 0 & 0 & r^{2} \\sin^{2}{\\left(\\theta \\right)}\\end{matrix}\\right]$",
            "text/plain": [
              "[[R/r - 1, 0, 0, 0], [0, 1/(-R/r + 1), 0, 0], [0, 0, r**2, 0], [0, 0, 0, r**2*sin(theta)**2]]"
            ]
          },
          "metadata": {
            "tags": []
          },
          "execution_count": 9
        }
      ]
    },
    {
      "cell_type": "markdown",
      "metadata": {
        "id": "rDIAGGdgIZHn"
      },
      "source": [
        "## Christoffel Symbols for the Schwarzchild Metric"
      ]
    },
    {
      "cell_type": "code",
      "metadata": {
        "id": "GhG51KwMIQtN",
        "colab": {
          "base_uri": "https://localhost:8080/",
          "height": 125
        },
        "outputId": "723f25e2-3bff-4510-b368-ac779429fe0c"
      },
      "source": [
        "ch = ChristoffelSymbols.compute_christoffel(m_obj)\n",
        "ch.tensor()"
      ],
      "execution_count": 10,
      "outputs": [
        {
          "output_type": "execute_result",
          "data": {
            "text/latex": "$\\displaystyle \\left[\\begin{matrix}\\left[\\begin{matrix}0 & - \\frac{R}{2 r^{2} \\left(\\frac{R}{r} - 1\\right)} & 0 & 0\\\\- \\frac{R}{2 r^{2} \\left(\\frac{R}{r} - 1\\right)} & 0 & 0 & 0\\\\0 & 0 & 0 & 0\\\\0 & 0 & 0 & 0\\end{matrix}\\right] & \\left[\\begin{matrix}\\frac{R \\left(- \\frac{R}{2 r} + \\frac{1}{2}\\right)}{r^{2}} & 0 & 0 & 0\\\\0 & - \\frac{R \\left(- \\frac{R}{2 r} + \\frac{1}{2}\\right)}{r^{2} \\left(- \\frac{R}{r} + 1\\right)^{2}} & 0 & 0\\\\0 & 0 & - 2 r \\left(- \\frac{R}{2 r} + \\frac{1}{2}\\right) & 0\\\\0 & 0 & 0 & - 2 r \\left(- \\frac{R}{2 r} + \\frac{1}{2}\\right) \\sin^{2}{\\left(\\theta \\right)}\\end{matrix}\\right] & \\left[\\begin{matrix}0 & 0 & 0 & 0\\\\0 & 0 & \\frac{1}{r} & 0\\\\0 & \\frac{1}{r} & 0 & 0\\\\0 & 0 & 0 & - \\sin{\\left(\\theta \\right)} \\cos{\\left(\\theta \\right)}\\end{matrix}\\right] & \\left[\\begin{matrix}0 & 0 & 0 & 0\\\\0 & 0 & 0 & \\frac{1}{r}\\\\0 & 0 & 0 & \\frac{\\cos{\\left(\\theta \\right)}}{\\sin{\\left(\\theta \\right)}}\\\\0 & \\frac{1}{r} & \\frac{\\cos{\\left(\\theta \\right)}}{\\sin{\\left(\\theta \\right)}} & 0\\end{matrix}\\right]\\end{matrix}\\right]$",
            "text/plain": [
              "[[[0, -R/(2*r**2*(R/r - 1)), 0, 0], [-R/(2*r**2*(R/r - 1)), 0, 0, 0], [0, 0, 0, 0], [0, 0, 0, 0]], [[R*(-R/(2*r) + 1/2)/r**2, 0, 0, 0], [0, -R*(-R/(2*r) + 1/2)/(r**2*(-R/r + 1)**2), 0, 0], [0, 0, -2*r*(-R/(2*r) + 1/2), 0], [0, 0, 0, -2*r*(-R/(2*r) + 1/2)*sin(theta)**2]], [[0, 0, 0, 0], [0, 0, 1/r, 0], [0, 1/r, 0, 0], [0, 0, 0, -sin(theta)*cos(theta)]], [[0, 0, 0, 0], [0, 0, 0, 1/r], [0, 0, 0, cos(theta)/sin(theta)], [0, 1/r, cos(theta)/sin(theta), 0]]]"
            ]
          },
          "metadata": {
            "tags": []
          },
          "execution_count": 10
        }
      ]
    },
    {
      "cell_type": "code",
      "metadata": {
        "colab": {
          "base_uri": "https://localhost:8080/",
          "height": 343
        },
        "id": "8e7q9pA0DIPP",
        "outputId": "7f931225-70ac-4a68-dc29-9426d022a514"
      },
      "source": [
        "for i, j, k in product(range(4), range(4), range(4)):\n",
        "    if ch[i, j, k] != 0:\n",
        "        display(Math(f'\\Gamma^{i}_{{{j},{k}}} = ' + latex(ch[i, j, k])))"
      ],
      "execution_count": 11,
      "outputs": [
        {
          "output_type": "display_data",
          "data": {
            "text/latex": "$$\\Gamma^0_{0,1} = - \\frac{R}{2 r^{2} \\left(\\frac{R}{r} - 1\\right)}$$",
            "text/plain": [
              "<IPython.core.display.Math object>"
            ]
          },
          "metadata": {
            "tags": []
          }
        },
        {
          "output_type": "display_data",
          "data": {
            "text/latex": "$$\\Gamma^0_{1,0} = - \\frac{R}{2 r^{2} \\left(\\frac{R}{r} - 1\\right)}$$",
            "text/plain": [
              "<IPython.core.display.Math object>"
            ]
          },
          "metadata": {
            "tags": []
          }
        },
        {
          "output_type": "display_data",
          "data": {
            "text/latex": "$$\\Gamma^1_{0,0} = \\frac{R \\left(- \\frac{R}{2 r} + \\frac{1}{2}\\right)}{r^{2}}$$",
            "text/plain": [
              "<IPython.core.display.Math object>"
            ]
          },
          "metadata": {
            "tags": []
          }
        },
        {
          "output_type": "display_data",
          "data": {
            "text/latex": "$$\\Gamma^1_{1,1} = - \\frac{R \\left(- \\frac{R}{2 r} + \\frac{1}{2}\\right)}{r^{2} \\left(- \\frac{R}{r} + 1\\right)^{2}}$$",
            "text/plain": [
              "<IPython.core.display.Math object>"
            ]
          },
          "metadata": {
            "tags": []
          }
        },
        {
          "output_type": "display_data",
          "data": {
            "text/latex": "$$\\Gamma^1_{2,2} = - 2 r \\left(- \\frac{R}{2 r} + \\frac{1}{2}\\right)$$",
            "text/plain": [
              "<IPython.core.display.Math object>"
            ]
          },
          "metadata": {
            "tags": []
          }
        },
        {
          "output_type": "display_data",
          "data": {
            "text/latex": "$$\\Gamma^1_{3,3} = - 2 r \\left(- \\frac{R}{2 r} + \\frac{1}{2}\\right) \\sin^{2}{\\left(\\theta \\right)}$$",
            "text/plain": [
              "<IPython.core.display.Math object>"
            ]
          },
          "metadata": {
            "tags": []
          }
        },
        {
          "output_type": "display_data",
          "data": {
            "text/latex": "$$\\Gamma^2_{1,2} = \\frac{1}{r}$$",
            "text/plain": [
              "<IPython.core.display.Math object>"
            ]
          },
          "metadata": {
            "tags": []
          }
        },
        {
          "output_type": "display_data",
          "data": {
            "text/latex": "$$\\Gamma^2_{2,1} = \\frac{1}{r}$$",
            "text/plain": [
              "<IPython.core.display.Math object>"
            ]
          },
          "metadata": {
            "tags": []
          }
        },
        {
          "output_type": "display_data",
          "data": {
            "text/latex": "$$\\Gamma^2_{3,3} = - \\sin{\\left(\\theta \\right)} \\cos{\\left(\\theta \\right)}$$",
            "text/plain": [
              "<IPython.core.display.Math object>"
            ]
          },
          "metadata": {
            "tags": []
          }
        },
        {
          "output_type": "display_data",
          "data": {
            "text/latex": "$$\\Gamma^3_{1,3} = \\frac{1}{r}$$",
            "text/plain": [
              "<IPython.core.display.Math object>"
            ]
          },
          "metadata": {
            "tags": []
          }
        },
        {
          "output_type": "display_data",
          "data": {
            "text/latex": "$$\\Gamma^3_{2,3} = \\frac{\\cos{\\left(\\theta \\right)}}{\\sin{\\left(\\theta \\right)}}$$",
            "text/plain": [
              "<IPython.core.display.Math object>"
            ]
          },
          "metadata": {
            "tags": []
          }
        },
        {
          "output_type": "display_data",
          "data": {
            "text/latex": "$$\\Gamma^3_{3,1} = \\frac{1}{r}$$",
            "text/plain": [
              "<IPython.core.display.Math object>"
            ]
          },
          "metadata": {
            "tags": []
          }
        },
        {
          "output_type": "display_data",
          "data": {
            "text/latex": "$$\\Gamma^3_{3,2} = \\frac{\\cos{\\left(\\theta \\right)}}{\\sin{\\left(\\theta \\right)}}$$",
            "text/plain": [
              "<IPython.core.display.Math object>"
            ]
          },
          "metadata": {
            "tags": []
          }
        }
      ]
    },
    {
      "cell_type": "markdown",
      "metadata": {
        "id": "rSBT0R2-JJ7I"
      },
      "source": [
        "## Riemann Curvature Tensor Results for the Schwarzchild Metric"
      ]
    },
    {
      "cell_type": "code",
      "metadata": {
        "id": "Ih5NLaDvI4t8",
        "colab": {
          "base_uri": "https://localhost:8080/",
          "height": 380
        },
        "outputId": "fd85f101-12b6-47bb-87ac-8c60a8cbbbf0"
      },
      "source": [
        "riemann = RiemannTensor.compute_riemann(ch)\n",
        "riemann.tensor()"
      ],
      "execution_count": 12,
      "outputs": [
        {
          "output_type": "execute_result",
          "data": {
            "text/latex": "$\\displaystyle \\left[\\begin{matrix}\\left[\\begin{matrix}0 & 0 & 0 & 0\\\\0 & 0 & 0 & 0\\\\0 & 0 & 0 & 0\\\\0 & 0 & 0 & 0\\end{matrix}\\right] & \\left[\\begin{matrix}0 & \\frac{R}{r^{2} \\left(- R + r\\right)} & 0 & 0\\\\\\frac{R}{r^{2} \\left(R - r\\right)} & 0 & 0 & 0\\\\0 & 0 & 0 & 0\\\\0 & 0 & 0 & 0\\end{matrix}\\right] & \\left[\\begin{matrix}0 & 0 & - \\frac{R}{2 r} & 0\\\\0 & 0 & 0 & 0\\\\\\frac{R}{2 r} & 0 & 0 & 0\\\\0 & 0 & 0 & 0\\end{matrix}\\right] & \\left[\\begin{matrix}0 & 0 & 0 & - \\frac{R \\sin^{2}{\\left(\\theta \\right)}}{2 r}\\\\0 & 0 & 0 & 0\\\\0 & 0 & 0 & 0\\\\\\frac{R \\sin^{2}{\\left(\\theta \\right)}}{2 r} & 0 & 0 & 0\\end{matrix}\\right]\\\\\\left[\\begin{matrix}0 & \\frac{R \\left(- R + r\\right)}{r^{4}} & 0 & 0\\\\\\frac{R \\left(R - r\\right)}{r^{4}} & 0 & 0 & 0\\\\0 & 0 & 0 & 0\\\\0 & 0 & 0 & 0\\end{matrix}\\right] & \\left[\\begin{matrix}0 & 0 & 0 & 0\\\\0 & 0 & 0 & 0\\\\0 & 0 & 0 & 0\\\\0 & 0 & 0 & 0\\end{matrix}\\right] & \\left[\\begin{matrix}0 & 0 & 0 & 0\\\\0 & 0 & - \\frac{R}{2 r} & 0\\\\0 & \\frac{R}{2 r} & 0 & 0\\\\0 & 0 & 0 & 0\\end{matrix}\\right] & \\left[\\begin{matrix}0 & 0 & 0 & 0\\\\0 & 0 & 0 & - \\frac{R \\sin^{2}{\\left(\\theta \\right)}}{2 r}\\\\0 & 0 & 0 & 0\\\\0 & \\frac{R \\sin^{2}{\\left(\\theta \\right)}}{2 r} & 0 & 0\\end{matrix}\\right]\\\\\\left[\\begin{matrix}0 & 0 & \\frac{R \\left(R - r\\right)}{2 r^{4}} & 0\\\\0 & 0 & 0 & 0\\\\\\frac{R \\left(- R + r\\right)}{2 r^{4}} & 0 & 0 & 0\\\\0 & 0 & 0 & 0\\end{matrix}\\right] & \\left[\\begin{matrix}0 & 0 & 0 & 0\\\\0 & 0 & \\frac{R}{2 r^{2} \\left(- R + r\\right)} & 0\\\\0 & \\frac{R}{2 r^{2} \\left(R - r\\right)} & 0 & 0\\\\0 & 0 & 0 & 0\\end{matrix}\\right] & \\left[\\begin{matrix}0 & 0 & 0 & 0\\\\0 & 0 & 0 & 0\\\\0 & 0 & 0 & 0\\\\0 & 0 & 0 & 0\\end{matrix}\\right] & \\left[\\begin{matrix}0 & 0 & 0 & 0\\\\0 & 0 & 0 & 0\\\\0 & 0 & 0 & \\frac{R \\sin^{2}{\\left(\\theta \\right)}}{r}\\\\0 & 0 & - \\frac{R \\sin^{2}{\\left(\\theta \\right)}}{r} & 0\\end{matrix}\\right]\\\\\\left[\\begin{matrix}0 & 0 & 0 & \\frac{R \\left(R - r\\right)}{2 r^{4}}\\\\0 & 0 & 0 & 0\\\\0 & 0 & 0 & 0\\\\\\frac{R \\left(- R + r\\right)}{2 r^{4}} & 0 & 0 & 0\\end{matrix}\\right] & \\left[\\begin{matrix}0 & 0 & 0 & 0\\\\0 & 0 & 0 & \\frac{R}{2 r^{2} \\left(- R + r\\right)}\\\\0 & 0 & 0 & 0\\\\0 & \\frac{R}{2 r^{2} \\left(R - r\\right)} & 0 & 0\\end{matrix}\\right] & \\left[\\begin{matrix}0 & 0 & 0 & 0\\\\0 & 0 & 0 & 0\\\\0 & 0 & 0 & - \\frac{R}{r}\\\\0 & 0 & \\frac{R}{r} & 0\\end{matrix}\\right] & \\left[\\begin{matrix}0 & 0 & 0 & 0\\\\0 & 0 & 0 & 0\\\\0 & 0 & 0 & 0\\\\0 & 0 & 0 & 0\\end{matrix}\\right]\\end{matrix}\\right]$",
            "text/plain": [
              "[[[[0, 0, 0, 0], [0, 0, 0, 0], [0, 0, 0, 0], [0, 0, 0, 0]], [[0, R/(r**2*(-R + r)), 0, 0], [R/(r**2*(R - r)), 0, 0, 0], [0, 0, 0, 0], [0, 0, 0, 0]], [[0, 0, -R/(2*r), 0], [0, 0, 0, 0], [R/(2*r), 0, 0, 0], [0, 0, 0, 0]], [[0, 0, 0, -R*sin(theta)**2/(2*r)], [0, 0, 0, 0], [0, 0, 0, 0], [R*sin(theta)**2/(2*r), 0, 0, 0]]], [[[0, R*(-R + r)/r**4, 0, 0], [R*(R - r)/r**4, 0, 0, 0], [0, 0, 0, 0], [0, 0, 0, 0]], [[0, 0, 0, 0], [0, 0, 0, 0], [0, 0, 0, 0], [0, 0, 0, 0]], [[0, 0, 0, 0], [0, 0, -R/(2*r), 0], [0, R/(2*r), 0, 0], [0, 0, 0, 0]], [[0, 0, 0, 0], [0, 0, 0, -R*sin(theta)**2/(2*r)], [0, 0, 0, 0], [0, R*sin(theta)**2/(2*r), 0, 0]]], [[[0, 0, R*(R - r)/(2*r**4), 0], [0, 0, 0, 0], [R*(-R + r)/(2*r**4), 0, 0, 0], [0, 0, 0, 0]], [[0, 0, 0, 0], [0, 0, R/(2*r**2*(-R + r)), 0], [0, R/(2*r**2*(R - r)), 0, 0], [0, 0, 0, 0]], [[0, 0, 0, 0], [0, 0, 0, 0], [0, 0, 0, 0], [0, 0, 0, 0]], [[0, 0, 0, 0], [0, 0, 0, 0], [0, 0, 0, R*sin(theta)**2/r], [0, 0, -R*sin(theta)**2/r, 0]]], [[[0, 0, 0, R*(R - r)/(2*r**4)], [0, 0, 0, 0], [0, 0, 0, 0], [R*(-R + r)/(2*r**4), 0, 0, 0]], [[0, 0, 0, 0], [0, 0, 0, R/(2*r**2*(-R + r))], [0, 0, 0, 0], [0, R/(2*r**2*(R - r)), 0, 0]], [[0, 0, 0, 0], [0, 0, 0, 0], [0, 0, 0, -R/r], [0, 0, R/r, 0]], [[0, 0, 0, 0], [0, 0, 0, 0], [0, 0, 0, 0], [0, 0, 0, 0]]]]"
            ]
          },
          "metadata": {
            "tags": []
          },
          "execution_count": 12
        }
      ]
    },
    {
      "cell_type": "code",
      "metadata": {
        "colab": {
          "base_uri": "https://localhost:8080/",
          "height": 585
        },
        "id": "044GvUJqDe_Q",
        "outputId": "ecb91622-efd0-4b34-bc5d-3daf1613ab27"
      },
      "source": [
        "for i, j, k, l in product(range(4), range(4), range(4), range(4)):\n",
        "    if riemann[i, j, k, l] != 0:\n",
        "        display(Math(f'\\R^{i}_{{{j},{k}, {l}}} = ' + latex(riemann[i, j, k, l])))"
      ],
      "execution_count": 13,
      "outputs": [
        {
          "output_type": "display_data",
          "data": {
            "text/latex": "$$\\R^0_{1,0, 1} = \\frac{R}{r^{2} \\left(- R + r\\right)}$$",
            "text/plain": [
              "<IPython.core.display.Math object>"
            ]
          },
          "metadata": {
            "tags": []
          }
        },
        {
          "output_type": "display_data",
          "data": {
            "text/latex": "$$\\R^0_{1,1, 0} = \\frac{R}{r^{2} \\left(R - r\\right)}$$",
            "text/plain": [
              "<IPython.core.display.Math object>"
            ]
          },
          "metadata": {
            "tags": []
          }
        },
        {
          "output_type": "display_data",
          "data": {
            "text/latex": "$$\\R^0_{2,0, 2} = - \\frac{R}{2 r}$$",
            "text/plain": [
              "<IPython.core.display.Math object>"
            ]
          },
          "metadata": {
            "tags": []
          }
        },
        {
          "output_type": "display_data",
          "data": {
            "text/latex": "$$\\R^0_{2,2, 0} = \\frac{R}{2 r}$$",
            "text/plain": [
              "<IPython.core.display.Math object>"
            ]
          },
          "metadata": {
            "tags": []
          }
        },
        {
          "output_type": "display_data",
          "data": {
            "text/latex": "$$\\R^0_{3,0, 3} = - \\frac{R \\sin^{2}{\\left(\\theta \\right)}}{2 r}$$",
            "text/plain": [
              "<IPython.core.display.Math object>"
            ]
          },
          "metadata": {
            "tags": []
          }
        },
        {
          "output_type": "display_data",
          "data": {
            "text/latex": "$$\\R^0_{3,3, 0} = \\frac{R \\sin^{2}{\\left(\\theta \\right)}}{2 r}$$",
            "text/plain": [
              "<IPython.core.display.Math object>"
            ]
          },
          "metadata": {
            "tags": []
          }
        },
        {
          "output_type": "display_data",
          "data": {
            "text/latex": "$$\\R^1_{0,0, 1} = \\frac{R \\left(- R + r\\right)}{r^{4}}$$",
            "text/plain": [
              "<IPython.core.display.Math object>"
            ]
          },
          "metadata": {
            "tags": []
          }
        },
        {
          "output_type": "display_data",
          "data": {
            "text/latex": "$$\\R^1_{0,1, 0} = \\frac{R \\left(R - r\\right)}{r^{4}}$$",
            "text/plain": [
              "<IPython.core.display.Math object>"
            ]
          },
          "metadata": {
            "tags": []
          }
        },
        {
          "output_type": "display_data",
          "data": {
            "text/latex": "$$\\R^1_{2,1, 2} = - \\frac{R}{2 r}$$",
            "text/plain": [
              "<IPython.core.display.Math object>"
            ]
          },
          "metadata": {
            "tags": []
          }
        },
        {
          "output_type": "display_data",
          "data": {
            "text/latex": "$$\\R^1_{2,2, 1} = \\frac{R}{2 r}$$",
            "text/plain": [
              "<IPython.core.display.Math object>"
            ]
          },
          "metadata": {
            "tags": []
          }
        },
        {
          "output_type": "display_data",
          "data": {
            "text/latex": "$$\\R^1_{3,1, 3} = - \\frac{R \\sin^{2}{\\left(\\theta \\right)}}{2 r}$$",
            "text/plain": [
              "<IPython.core.display.Math object>"
            ]
          },
          "metadata": {
            "tags": []
          }
        },
        {
          "output_type": "display_data",
          "data": {
            "text/latex": "$$\\R^1_{3,3, 1} = \\frac{R \\sin^{2}{\\left(\\theta \\right)}}{2 r}$$",
            "text/plain": [
              "<IPython.core.display.Math object>"
            ]
          },
          "metadata": {
            "tags": []
          }
        },
        {
          "output_type": "display_data",
          "data": {
            "text/latex": "$$\\R^2_{0,0, 2} = \\frac{R \\left(R - r\\right)}{2 r^{4}}$$",
            "text/plain": [
              "<IPython.core.display.Math object>"
            ]
          },
          "metadata": {
            "tags": []
          }
        },
        {
          "output_type": "display_data",
          "data": {
            "text/latex": "$$\\R^2_{0,2, 0} = \\frac{R \\left(- R + r\\right)}{2 r^{4}}$$",
            "text/plain": [
              "<IPython.core.display.Math object>"
            ]
          },
          "metadata": {
            "tags": []
          }
        },
        {
          "output_type": "display_data",
          "data": {
            "text/latex": "$$\\R^2_{1,1, 2} = \\frac{R}{2 r^{2} \\left(- R + r\\right)}$$",
            "text/plain": [
              "<IPython.core.display.Math object>"
            ]
          },
          "metadata": {
            "tags": []
          }
        },
        {
          "output_type": "display_data",
          "data": {
            "text/latex": "$$\\R^2_{1,2, 1} = \\frac{R}{2 r^{2} \\left(R - r\\right)}$$",
            "text/plain": [
              "<IPython.core.display.Math object>"
            ]
          },
          "metadata": {
            "tags": []
          }
        },
        {
          "output_type": "display_data",
          "data": {
            "text/latex": "$$\\R^2_{3,2, 3} = \\frac{R \\sin^{2}{\\left(\\theta \\right)}}{r}$$",
            "text/plain": [
              "<IPython.core.display.Math object>"
            ]
          },
          "metadata": {
            "tags": []
          }
        },
        {
          "output_type": "display_data",
          "data": {
            "text/latex": "$$\\R^2_{3,3, 2} = - \\frac{R \\sin^{2}{\\left(\\theta \\right)}}{r}$$",
            "text/plain": [
              "<IPython.core.display.Math object>"
            ]
          },
          "metadata": {
            "tags": []
          }
        },
        {
          "output_type": "display_data",
          "data": {
            "text/latex": "$$\\R^3_{0,0, 3} = \\frac{R \\left(R - r\\right)}{2 r^{4}}$$",
            "text/plain": [
              "<IPython.core.display.Math object>"
            ]
          },
          "metadata": {
            "tags": []
          }
        },
        {
          "output_type": "display_data",
          "data": {
            "text/latex": "$$\\R^3_{0,3, 0} = \\frac{R \\left(- R + r\\right)}{2 r^{4}}$$",
            "text/plain": [
              "<IPython.core.display.Math object>"
            ]
          },
          "metadata": {
            "tags": []
          }
        },
        {
          "output_type": "display_data",
          "data": {
            "text/latex": "$$\\R^3_{1,1, 3} = \\frac{R}{2 r^{2} \\left(- R + r\\right)}$$",
            "text/plain": [
              "<IPython.core.display.Math object>"
            ]
          },
          "metadata": {
            "tags": []
          }
        },
        {
          "output_type": "display_data",
          "data": {
            "text/latex": "$$\\R^3_{1,3, 1} = \\frac{R}{2 r^{2} \\left(R - r\\right)}$$",
            "text/plain": [
              "<IPython.core.display.Math object>"
            ]
          },
          "metadata": {
            "tags": []
          }
        },
        {
          "output_type": "display_data",
          "data": {
            "text/latex": "$$\\R^3_{2,2, 3} = - \\frac{R}{r}$$",
            "text/plain": [
              "<IPython.core.display.Math object>"
            ]
          },
          "metadata": {
            "tags": []
          }
        },
        {
          "output_type": "display_data",
          "data": {
            "text/latex": "$$\\R^3_{2,3, 2} = \\frac{R}{r}$$",
            "text/plain": [
              "<IPython.core.display.Math object>"
            ]
          },
          "metadata": {
            "tags": []
          }
        }
      ]
    },
    {
      "cell_type": "markdown",
      "metadata": {
        "id": "FT-IQQUrMwkL"
      },
      "source": [
        "## Ricci Tensor for the Schwarzchild Metric"
      ]
    },
    {
      "cell_type": "code",
      "metadata": {
        "colab": {
          "base_uri": "https://localhost:8080/",
          "height": 131
        },
        "id": "gMvnTPVFKOBQ",
        "outputId": "47844769-6e9b-4232-fe95-667aeadff606"
      },
      "source": [
        "ricci = RicciTensor.compute_ricci_tensor(riemann)\n",
        "print(f'R_uv = \\n')\n",
        "ricci.tensor()"
      ],
      "execution_count": 14,
      "outputs": [
        {
          "output_type": "stream",
          "text": [
            "R_uv = \n",
            "\n"
          ],
          "name": "stdout"
        },
        {
          "output_type": "execute_result",
          "data": {
            "text/latex": "$\\displaystyle \\left[\\begin{matrix}0 & 0 & 0 & 0\\\\0 & 0 & 0 & 0\\\\0 & 0 & 0 & 0\\\\0 & 0 & 0 & 0\\end{matrix}\\right]$",
            "text/plain": [
              "[[0, 0, 0, 0], [0, 0, 0, 0], [0, 0, 0, 0], [0, 0, 0, 0]]"
            ]
          },
          "metadata": {
            "tags": []
          },
          "execution_count": 14
        }
      ]
    },
    {
      "cell_type": "markdown",
      "metadata": {
        "id": "urPrN2rQK03_"
      },
      "source": [
        "## Ricci Scalar for Schwarzchild metric"
      ]
    },
    {
      "cell_type": "code",
      "metadata": {
        "colab": {
          "base_uri": "https://localhost:8080/",
          "height": 0
        },
        "id": "zuR3kdluKhYA",
        "outputId": "3e0a67f3-6b39-4ed2-98bc-786fe8658848"
      },
      "source": [
        "ricci_scalar = RicciScalar.compute_ricci_scalar(ricci)\n",
        "ricci_scalar.simplify()\n",
        "print(f'R = {ricci_scalar.expr}')"
      ],
      "execution_count": 15,
      "outputs": [
        {
          "output_type": "stream",
          "text": [
            "R = 0\n"
          ],
          "name": "stdout"
        }
      ]
    },
    {
      "cell_type": "markdown",
      "metadata": {
        "id": "q9J87S5CLyh7"
      },
      "source": [
        "## Einstein Tensor for the Schwarzschild Metric"
      ]
    },
    {
      "cell_type": "code",
      "metadata": {
        "colab": {
          "base_uri": "https://localhost:8080/",
          "height": 98
        },
        "id": "ba4prDUnLkGw",
        "outputId": "3092c663-b3ac-4157-f4f7-1b2c3c4c5450"
      },
      "source": [
        "G = EinsteinTensor.compute_einstein_tensor(ricci, ricci_scalar, m_obj)\n",
        "G.tensor()"
      ],
      "execution_count": 16,
      "outputs": [
        {
          "output_type": "execute_result",
          "data": {
            "text/latex": "$\\displaystyle \\left[\\begin{matrix}0 & 0 & 0 & 0\\\\0 & 0 & 0 & 0\\\\0 & 0 & 0 & 0\\\\0 & 0 & 0 & 0\\end{matrix}\\right]$",
            "text/plain": [
              "[[0, 0, 0, 0], [0, 0, 0, 0], [0, 0, 0, 0], [0, 0, 0, 0]]"
            ]
          },
          "metadata": {
            "tags": []
          },
          "execution_count": 16
        }
      ]
    },
    {
      "cell_type": "markdown",
      "metadata": {
        "id": "fHM2chUSMYmC"
      },
      "source": [
        "# De Sitter Space"
      ]
    },
    {
      "cell_type": "markdown",
      "metadata": {
        "id": "iqJQ2L4RaNqO"
      },
      "source": [
        "So we see that the Schwarzschild metric is a solution of the source free Einstein equations"
      ]
    },
    {
      "cell_type": "markdown",
      "metadata": {
        "id": "xAc86MJvNU4c"
      },
      "source": [
        "## De Sitter Space Metric"
      ]
    },
    {
      "cell_type": "code",
      "metadata": {
        "colab": {
          "base_uri": "https://localhost:8080/",
          "height": 98
        },
        "id": "BDFWfA8MLq6C",
        "outputId": "abadc742-f730-4275-e440-bb4332d261b7"
      },
      "source": [
        "syms = sympy.symbols('t x y z')\n",
        "other_sym = sympy.symbols('H')\n",
        "sitter_metric = [[ 0 for i in range(4)] for i in range(4)]\n",
        "sitter_metric[0][0] = -1\n",
        "sitter_metric[1][1] = exp(2*syms[0]*other_sym)\n",
        "sitter_metric[2][2] = exp(2*syms[0]*other_sym)\n",
        "sitter_metric[3][3] = exp(2*syms[0]*other_sym)\n",
        "sitter_m_obj = MetricTensor(sitter_metric, syms)\n",
        "sitter_m_obj.tensor()"
      ],
      "execution_count": 17,
      "outputs": [
        {
          "output_type": "execute_result",
          "data": {
            "text/latex": "$\\displaystyle \\left[\\begin{matrix}-1 & 0 & 0 & 0\\\\0 & e^{2 H t} & 0 & 0\\\\0 & 0 & e^{2 H t} & 0\\\\0 & 0 & 0 & e^{2 H t}\\end{matrix}\\right]$",
            "text/plain": [
              "[[-1, 0, 0, 0], [0, exp(2*H*t), 0, 0], [0, 0, exp(2*H*t), 0], [0, 0, 0, exp(2*H*t)]]"
            ]
          },
          "metadata": {
            "tags": []
          },
          "execution_count": 17
        }
      ]
    },
    {
      "cell_type": "markdown",
      "metadata": {
        "id": "CCIESPdVNXHf"
      },
      "source": [
        "## Christoffel Symbols for de Sitter Space"
      ]
    },
    {
      "cell_type": "code",
      "metadata": {
        "colab": {
          "base_uri": "https://localhost:8080/",
          "height": 98
        },
        "id": "LfG7H0FiMhTb",
        "outputId": "f013626b-e4e0-491b-f0e5-6292baa2e8af"
      },
      "source": [
        "sitter_ch = ChristoffelSymbols.compute_christoffel(sitter_m_obj)\n",
        "sitter_ch.tensor()"
      ],
      "execution_count": 18,
      "outputs": [
        {
          "output_type": "execute_result",
          "data": {
            "text/latex": "$\\displaystyle \\left[\\begin{matrix}\\left[\\begin{matrix}0 & 0 & 0 & 0\\\\0 & H e^{2 H t} & 0 & 0\\\\0 & 0 & H e^{2 H t} & 0\\\\0 & 0 & 0 & H e^{2 H t}\\end{matrix}\\right] & \\left[\\begin{matrix}0 & H & 0 & 0\\\\H & 0 & 0 & 0\\\\0 & 0 & 0 & 0\\\\0 & 0 & 0 & 0\\end{matrix}\\right] & \\left[\\begin{matrix}0 & 0 & H & 0\\\\0 & 0 & 0 & 0\\\\H & 0 & 0 & 0\\\\0 & 0 & 0 & 0\\end{matrix}\\right] & \\left[\\begin{matrix}0 & 0 & 0 & H\\\\0 & 0 & 0 & 0\\\\0 & 0 & 0 & 0\\\\H & 0 & 0 & 0\\end{matrix}\\right]\\end{matrix}\\right]$",
            "text/plain": [
              "[[[0, 0, 0, 0], [0, H*exp(2*H*t), 0, 0], [0, 0, H*exp(2*H*t), 0], [0, 0, 0, H*exp(2*H*t)]], [[0, H, 0, 0], [H, 0, 0, 0], [0, 0, 0, 0], [0, 0, 0, 0]], [[0, 0, H, 0], [0, 0, 0, 0], [H, 0, 0, 0], [0, 0, 0, 0]], [[0, 0, 0, H], [0, 0, 0, 0], [0, 0, 0, 0], [H, 0, 0, 0]]]"
            ]
          },
          "metadata": {
            "tags": []
          },
          "execution_count": 18
        }
      ]
    },
    {
      "cell_type": "code",
      "metadata": {
        "colab": {
          "base_uri": "https://localhost:8080/",
          "height": 210
        },
        "id": "xVD2lP19EkTJ",
        "outputId": "0eee2e8e-7a97-4bea-92ab-b2cafca81165"
      },
      "source": [
        "for i, j, k in product(range(4), range(4), range(4)):\n",
        "    if sitter_ch[i, j, k] != 0:\n",
        "        display(Math(f'\\Gamma^{i}_{{{j},{k}}} = ' + latex(sitter_ch[i, j, k])))"
      ],
      "execution_count": 19,
      "outputs": [
        {
          "output_type": "display_data",
          "data": {
            "text/latex": "$$\\Gamma^0_{1,1} = H e^{2 H t}$$",
            "text/plain": [
              "<IPython.core.display.Math object>"
            ]
          },
          "metadata": {
            "tags": []
          }
        },
        {
          "output_type": "display_data",
          "data": {
            "text/latex": "$$\\Gamma^0_{2,2} = H e^{2 H t}$$",
            "text/plain": [
              "<IPython.core.display.Math object>"
            ]
          },
          "metadata": {
            "tags": []
          }
        },
        {
          "output_type": "display_data",
          "data": {
            "text/latex": "$$\\Gamma^0_{3,3} = H e^{2 H t}$$",
            "text/plain": [
              "<IPython.core.display.Math object>"
            ]
          },
          "metadata": {
            "tags": []
          }
        },
        {
          "output_type": "display_data",
          "data": {
            "text/latex": "$$\\Gamma^1_{0,1} = H$$",
            "text/plain": [
              "<IPython.core.display.Math object>"
            ]
          },
          "metadata": {
            "tags": []
          }
        },
        {
          "output_type": "display_data",
          "data": {
            "text/latex": "$$\\Gamma^1_{1,0} = H$$",
            "text/plain": [
              "<IPython.core.display.Math object>"
            ]
          },
          "metadata": {
            "tags": []
          }
        },
        {
          "output_type": "display_data",
          "data": {
            "text/latex": "$$\\Gamma^2_{0,2} = H$$",
            "text/plain": [
              "<IPython.core.display.Math object>"
            ]
          },
          "metadata": {
            "tags": []
          }
        },
        {
          "output_type": "display_data",
          "data": {
            "text/latex": "$$\\Gamma^2_{2,0} = H$$",
            "text/plain": [
              "<IPython.core.display.Math object>"
            ]
          },
          "metadata": {
            "tags": []
          }
        },
        {
          "output_type": "display_data",
          "data": {
            "text/latex": "$$\\Gamma^3_{0,3} = H$$",
            "text/plain": [
              "<IPython.core.display.Math object>"
            ]
          },
          "metadata": {
            "tags": []
          }
        },
        {
          "output_type": "display_data",
          "data": {
            "text/latex": "$$\\Gamma^3_{3,0} = H$$",
            "text/plain": [
              "<IPython.core.display.Math object>"
            ]
          },
          "metadata": {
            "tags": []
          }
        }
      ]
    },
    {
      "cell_type": "markdown",
      "metadata": {
        "id": "LTTxAnKnNgwK"
      },
      "source": [
        "## Riemann Tensor for de Sitter Space"
      ]
    },
    {
      "cell_type": "code",
      "metadata": {
        "colab": {
          "base_uri": "https://localhost:8080/",
          "height": 343
        },
        "id": "7N1cUvJ9NJqH",
        "outputId": "304f4581-15fe-49a2-ab0a-b6d719680838"
      },
      "source": [
        "sitter_riemann = RiemannTensor.compute_riemann(sitter_ch)\n",
        "sitter_riemann.tensor()"
      ],
      "execution_count": 20,
      "outputs": [
        {
          "output_type": "execute_result",
          "data": {
            "text/latex": "$\\displaystyle \\left[\\begin{matrix}\\left[\\begin{matrix}0 & 0 & 0 & 0\\\\0 & 0 & 0 & 0\\\\0 & 0 & 0 & 0\\\\0 & 0 & 0 & 0\\end{matrix}\\right] & \\left[\\begin{matrix}0 & H^{2} e^{2 H t} & 0 & 0\\\\- H^{2} e^{2 H t} & 0 & 0 & 0\\\\0 & 0 & 0 & 0\\\\0 & 0 & 0 & 0\\end{matrix}\\right] & \\left[\\begin{matrix}0 & 0 & H^{2} e^{2 H t} & 0\\\\0 & 0 & 0 & 0\\\\- H^{2} e^{2 H t} & 0 & 0 & 0\\\\0 & 0 & 0 & 0\\end{matrix}\\right] & \\left[\\begin{matrix}0 & 0 & 0 & H^{2} e^{2 H t}\\\\0 & 0 & 0 & 0\\\\0 & 0 & 0 & 0\\\\- H^{2} e^{2 H t} & 0 & 0 & 0\\end{matrix}\\right]\\\\\\left[\\begin{matrix}0 & H^{2} & 0 & 0\\\\- H^{2} & 0 & 0 & 0\\\\0 & 0 & 0 & 0\\\\0 & 0 & 0 & 0\\end{matrix}\\right] & \\left[\\begin{matrix}0 & 0 & 0 & 0\\\\0 & 0 & 0 & 0\\\\0 & 0 & 0 & 0\\\\0 & 0 & 0 & 0\\end{matrix}\\right] & \\left[\\begin{matrix}0 & 0 & 0 & 0\\\\0 & 0 & H^{2} e^{2 H t} & 0\\\\0 & - H^{2} e^{2 H t} & 0 & 0\\\\0 & 0 & 0 & 0\\end{matrix}\\right] & \\left[\\begin{matrix}0 & 0 & 0 & 0\\\\0 & 0 & 0 & H^{2} e^{2 H t}\\\\0 & 0 & 0 & 0\\\\0 & - H^{2} e^{2 H t} & 0 & 0\\end{matrix}\\right]\\\\\\left[\\begin{matrix}0 & 0 & H^{2} & 0\\\\0 & 0 & 0 & 0\\\\- H^{2} & 0 & 0 & 0\\\\0 & 0 & 0 & 0\\end{matrix}\\right] & \\left[\\begin{matrix}0 & 0 & 0 & 0\\\\0 & 0 & - H^{2} e^{2 H t} & 0\\\\0 & H^{2} e^{2 H t} & 0 & 0\\\\0 & 0 & 0 & 0\\end{matrix}\\right] & \\left[\\begin{matrix}0 & 0 & 0 & 0\\\\0 & 0 & 0 & 0\\\\0 & 0 & 0 & 0\\\\0 & 0 & 0 & 0\\end{matrix}\\right] & \\left[\\begin{matrix}0 & 0 & 0 & 0\\\\0 & 0 & 0 & 0\\\\0 & 0 & 0 & H^{2} e^{2 H t}\\\\0 & 0 & - H^{2} e^{2 H t} & 0\\end{matrix}\\right]\\\\\\left[\\begin{matrix}0 & 0 & 0 & H^{2}\\\\0 & 0 & 0 & 0\\\\0 & 0 & 0 & 0\\\\- H^{2} & 0 & 0 & 0\\end{matrix}\\right] & \\left[\\begin{matrix}0 & 0 & 0 & 0\\\\0 & 0 & 0 & - H^{2} e^{2 H t}\\\\0 & 0 & 0 & 0\\\\0 & H^{2} e^{2 H t} & 0 & 0\\end{matrix}\\right] & \\left[\\begin{matrix}0 & 0 & 0 & 0\\\\0 & 0 & 0 & 0\\\\0 & 0 & 0 & - H^{2} e^{2 H t}\\\\0 & 0 & H^{2} e^{2 H t} & 0\\end{matrix}\\right] & \\left[\\begin{matrix}0 & 0 & 0 & 0\\\\0 & 0 & 0 & 0\\\\0 & 0 & 0 & 0\\\\0 & 0 & 0 & 0\\end{matrix}\\right]\\end{matrix}\\right]$",
            "text/plain": [
              "[[[[0, 0, 0, 0], [0, 0, 0, 0], [0, 0, 0, 0], [0, 0, 0, 0]], [[0, H**2*exp(2*H*t), 0, 0], [-H**2*exp(2*H*t), 0, 0, 0], [0, 0, 0, 0], [0, 0, 0, 0]], [[0, 0, H**2*exp(2*H*t), 0], [0, 0, 0, 0], [-H**2*exp(2*H*t), 0, 0, 0], [0, 0, 0, 0]], [[0, 0, 0, H**2*exp(2*H*t)], [0, 0, 0, 0], [0, 0, 0, 0], [-H**2*exp(2*H*t), 0, 0, 0]]], [[[0, H**2, 0, 0], [-H**2, 0, 0, 0], [0, 0, 0, 0], [0, 0, 0, 0]], [[0, 0, 0, 0], [0, 0, 0, 0], [0, 0, 0, 0], [0, 0, 0, 0]], [[0, 0, 0, 0], [0, 0, H**2*exp(2*H*t), 0], [0, -H**2*exp(2*H*t), 0, 0], [0, 0, 0, 0]], [[0, 0, 0, 0], [0, 0, 0, H**2*exp(2*H*t)], [0, 0, 0, 0], [0, -H**2*exp(2*H*t), 0, 0]]], [[[0, 0, H**2, 0], [0, 0, 0, 0], [-H**2, 0, 0, 0], [0, 0, 0, 0]], [[0, 0, 0, 0], [0, 0, -H**2*exp(2*H*t), 0], [0, H**2*exp(2*H*t), 0, 0], [0, 0, 0, 0]], [[0, 0, 0, 0], [0, 0, 0, 0], [0, 0, 0, 0], [0, 0, 0, 0]], [[0, 0, 0, 0], [0, 0, 0, 0], [0, 0, 0, H**2*exp(2*H*t)], [0, 0, -H**2*exp(2*H*t), 0]]], [[[0, 0, 0, H**2], [0, 0, 0, 0], [0, 0, 0, 0], [-H**2, 0, 0, 0]], [[0, 0, 0, 0], [0, 0, 0, -H**2*exp(2*H*t)], [0, 0, 0, 0], [0, H**2*exp(2*H*t), 0, 0]], [[0, 0, 0, 0], [0, 0, 0, 0], [0, 0, 0, -H**2*exp(2*H*t)], [0, 0, H**2*exp(2*H*t), 0]], [[0, 0, 0, 0], [0, 0, 0, 0], [0, 0, 0, 0], [0, 0, 0, 0]]]]"
            ]
          },
          "metadata": {
            "tags": []
          },
          "execution_count": 20
        }
      ]
    },
    {
      "cell_type": "code",
      "metadata": {
        "colab": {
          "base_uri": "https://localhost:8080/",
          "height": 532
        },
        "id": "DePh3X_HEu-1",
        "outputId": "b447df11-777a-4e3c-c994-f9cbdd5585eb"
      },
      "source": [
        "for i, j, k, l in product(range(4), range(4), range(4), range(4)):\n",
        "    if sitter_riemann[i, j, k, l] != 0:\n",
        "        display(Math(f'\\R^{i}_{{{j},{k}, {l}}} = ' + latex(sitter_riemann[i, j, k, l])))"
      ],
      "execution_count": 21,
      "outputs": [
        {
          "output_type": "display_data",
          "data": {
            "text/latex": "$$\\R^0_{1,0, 1} = H^{2} e^{2 H t}$$",
            "text/plain": [
              "<IPython.core.display.Math object>"
            ]
          },
          "metadata": {
            "tags": []
          }
        },
        {
          "output_type": "display_data",
          "data": {
            "text/latex": "$$\\R^0_{1,1, 0} = - H^{2} e^{2 H t}$$",
            "text/plain": [
              "<IPython.core.display.Math object>"
            ]
          },
          "metadata": {
            "tags": []
          }
        },
        {
          "output_type": "display_data",
          "data": {
            "text/latex": "$$\\R^0_{2,0, 2} = H^{2} e^{2 H t}$$",
            "text/plain": [
              "<IPython.core.display.Math object>"
            ]
          },
          "metadata": {
            "tags": []
          }
        },
        {
          "output_type": "display_data",
          "data": {
            "text/latex": "$$\\R^0_{2,2, 0} = - H^{2} e^{2 H t}$$",
            "text/plain": [
              "<IPython.core.display.Math object>"
            ]
          },
          "metadata": {
            "tags": []
          }
        },
        {
          "output_type": "display_data",
          "data": {
            "text/latex": "$$\\R^0_{3,0, 3} = H^{2} e^{2 H t}$$",
            "text/plain": [
              "<IPython.core.display.Math object>"
            ]
          },
          "metadata": {
            "tags": []
          }
        },
        {
          "output_type": "display_data",
          "data": {
            "text/latex": "$$\\R^0_{3,3, 0} = - H^{2} e^{2 H t}$$",
            "text/plain": [
              "<IPython.core.display.Math object>"
            ]
          },
          "metadata": {
            "tags": []
          }
        },
        {
          "output_type": "display_data",
          "data": {
            "text/latex": "$$\\R^1_{0,0, 1} = H^{2}$$",
            "text/plain": [
              "<IPython.core.display.Math object>"
            ]
          },
          "metadata": {
            "tags": []
          }
        },
        {
          "output_type": "display_data",
          "data": {
            "text/latex": "$$\\R^1_{0,1, 0} = - H^{2}$$",
            "text/plain": [
              "<IPython.core.display.Math object>"
            ]
          },
          "metadata": {
            "tags": []
          }
        },
        {
          "output_type": "display_data",
          "data": {
            "text/latex": "$$\\R^1_{2,1, 2} = H^{2} e^{2 H t}$$",
            "text/plain": [
              "<IPython.core.display.Math object>"
            ]
          },
          "metadata": {
            "tags": []
          }
        },
        {
          "output_type": "display_data",
          "data": {
            "text/latex": "$$\\R^1_{2,2, 1} = - H^{2} e^{2 H t}$$",
            "text/plain": [
              "<IPython.core.display.Math object>"
            ]
          },
          "metadata": {
            "tags": []
          }
        },
        {
          "output_type": "display_data",
          "data": {
            "text/latex": "$$\\R^1_{3,1, 3} = H^{2} e^{2 H t}$$",
            "text/plain": [
              "<IPython.core.display.Math object>"
            ]
          },
          "metadata": {
            "tags": []
          }
        },
        {
          "output_type": "display_data",
          "data": {
            "text/latex": "$$\\R^1_{3,3, 1} = - H^{2} e^{2 H t}$$",
            "text/plain": [
              "<IPython.core.display.Math object>"
            ]
          },
          "metadata": {
            "tags": []
          }
        },
        {
          "output_type": "display_data",
          "data": {
            "text/latex": "$$\\R^2_{0,0, 2} = H^{2}$$",
            "text/plain": [
              "<IPython.core.display.Math object>"
            ]
          },
          "metadata": {
            "tags": []
          }
        },
        {
          "output_type": "display_data",
          "data": {
            "text/latex": "$$\\R^2_{0,2, 0} = - H^{2}$$",
            "text/plain": [
              "<IPython.core.display.Math object>"
            ]
          },
          "metadata": {
            "tags": []
          }
        },
        {
          "output_type": "display_data",
          "data": {
            "text/latex": "$$\\R^2_{1,1, 2} = - H^{2} e^{2 H t}$$",
            "text/plain": [
              "<IPython.core.display.Math object>"
            ]
          },
          "metadata": {
            "tags": []
          }
        },
        {
          "output_type": "display_data",
          "data": {
            "text/latex": "$$\\R^2_{1,2, 1} = H^{2} e^{2 H t}$$",
            "text/plain": [
              "<IPython.core.display.Math object>"
            ]
          },
          "metadata": {
            "tags": []
          }
        },
        {
          "output_type": "display_data",
          "data": {
            "text/latex": "$$\\R^2_{3,2, 3} = H^{2} e^{2 H t}$$",
            "text/plain": [
              "<IPython.core.display.Math object>"
            ]
          },
          "metadata": {
            "tags": []
          }
        },
        {
          "output_type": "display_data",
          "data": {
            "text/latex": "$$\\R^2_{3,3, 2} = - H^{2} e^{2 H t}$$",
            "text/plain": [
              "<IPython.core.display.Math object>"
            ]
          },
          "metadata": {
            "tags": []
          }
        },
        {
          "output_type": "display_data",
          "data": {
            "text/latex": "$$\\R^3_{0,0, 3} = H^{2}$$",
            "text/plain": [
              "<IPython.core.display.Math object>"
            ]
          },
          "metadata": {
            "tags": []
          }
        },
        {
          "output_type": "display_data",
          "data": {
            "text/latex": "$$\\R^3_{0,3, 0} = - H^{2}$$",
            "text/plain": [
              "<IPython.core.display.Math object>"
            ]
          },
          "metadata": {
            "tags": []
          }
        },
        {
          "output_type": "display_data",
          "data": {
            "text/latex": "$$\\R^3_{1,1, 3} = - H^{2} e^{2 H t}$$",
            "text/plain": [
              "<IPython.core.display.Math object>"
            ]
          },
          "metadata": {
            "tags": []
          }
        },
        {
          "output_type": "display_data",
          "data": {
            "text/latex": "$$\\R^3_{1,3, 1} = H^{2} e^{2 H t}$$",
            "text/plain": [
              "<IPython.core.display.Math object>"
            ]
          },
          "metadata": {
            "tags": []
          }
        },
        {
          "output_type": "display_data",
          "data": {
            "text/latex": "$$\\R^3_{2,2, 3} = - H^{2} e^{2 H t}$$",
            "text/plain": [
              "<IPython.core.display.Math object>"
            ]
          },
          "metadata": {
            "tags": []
          }
        },
        {
          "output_type": "display_data",
          "data": {
            "text/latex": "$$\\R^3_{2,3, 2} = H^{2} e^{2 H t}$$",
            "text/plain": [
              "<IPython.core.display.Math object>"
            ]
          },
          "metadata": {
            "tags": []
          }
        }
      ]
    },
    {
      "cell_type": "markdown",
      "metadata": {
        "id": "4IXxQ4pANqWq"
      },
      "source": [
        "## Ricci Tensor for de Sitter Space"
      ]
    },
    {
      "cell_type": "code",
      "metadata": {
        "colab": {
          "base_uri": "https://localhost:8080/",
          "height": 98
        },
        "id": "pBafe0zkNTaQ",
        "outputId": "5ebcc11c-0522-4082-a794-b088aa9877d2"
      },
      "source": [
        "sitter_ricci_tensor = RicciTensor.compute_ricci_tensor(sitter_riemann)\n",
        "sitter_ricci_tensor.tensor()"
      ],
      "execution_count": 22,
      "outputs": [
        {
          "output_type": "execute_result",
          "data": {
            "text/latex": "$\\displaystyle \\left[\\begin{matrix}- 3 H^{2} & 0 & 0 & 0\\\\0 & 3 H^{2} e^{2 H t} & 0 & 0\\\\0 & 0 & 3 H^{2} e^{2 H t} & 0\\\\0 & 0 & 0 & 3 H^{2} e^{2 H t}\\end{matrix}\\right]$",
            "text/plain": [
              "[[-3*H**2, 0, 0, 0], [0, 3*H**2*exp(2*H*t), 0, 0], [0, 0, 3*H**2*exp(2*H*t), 0], [0, 0, 0, 3*H**2*exp(2*H*t)]]"
            ]
          },
          "metadata": {
            "tags": []
          },
          "execution_count": 22
        }
      ]
    },
    {
      "cell_type": "code",
      "metadata": {
        "colab": {
          "base_uri": "https://localhost:8080/",
          "height": 277
        },
        "id": "6HMMT5vRVZLB",
        "outputId": "63c311bb-820f-443d-83ed-dab61b3db026"
      },
      "source": [
        "for i, j in product(range(4), range(4)):\n",
        "    if kerr_ch[i, j] != 0:\n",
        "        display(Math(f'R^_{{{i},{j}}} = ' + latex(sitter_ricci_tensor[i, j])))"
      ],
      "execution_count": 51,
      "outputs": [
        {
          "output_type": "display_data",
          "data": {
            "text/latex": "$$R^_{0,0} = - 3 H^{2}$$",
            "text/plain": [
              "<IPython.core.display.Math object>"
            ]
          },
          "metadata": {
            "tags": []
          }
        },
        {
          "output_type": "display_data",
          "data": {
            "text/latex": "$$R^_{0,1} = 0$$",
            "text/plain": [
              "<IPython.core.display.Math object>"
            ]
          },
          "metadata": {
            "tags": []
          }
        },
        {
          "output_type": "display_data",
          "data": {
            "text/latex": "$$R^_{0,2} = 0$$",
            "text/plain": [
              "<IPython.core.display.Math object>"
            ]
          },
          "metadata": {
            "tags": []
          }
        },
        {
          "output_type": "display_data",
          "data": {
            "text/latex": "$$R^_{0,3} = 0$$",
            "text/plain": [
              "<IPython.core.display.Math object>"
            ]
          },
          "metadata": {
            "tags": []
          }
        },
        {
          "output_type": "display_data",
          "data": {
            "text/latex": "$$R^_{1,0} = 0$$",
            "text/plain": [
              "<IPython.core.display.Math object>"
            ]
          },
          "metadata": {
            "tags": []
          }
        },
        {
          "output_type": "display_data",
          "data": {
            "text/latex": "$$R^_{1,1} = 3 H^{2} e^{2 H t}$$",
            "text/plain": [
              "<IPython.core.display.Math object>"
            ]
          },
          "metadata": {
            "tags": []
          }
        },
        {
          "output_type": "display_data",
          "data": {
            "text/latex": "$$R^_{1,2} = 0$$",
            "text/plain": [
              "<IPython.core.display.Math object>"
            ]
          },
          "metadata": {
            "tags": []
          }
        },
        {
          "output_type": "display_data",
          "data": {
            "text/latex": "$$R^_{1,3} = 0$$",
            "text/plain": [
              "<IPython.core.display.Math object>"
            ]
          },
          "metadata": {
            "tags": []
          }
        },
        {
          "output_type": "display_data",
          "data": {
            "text/latex": "$$R^_{2,0} = 0$$",
            "text/plain": [
              "<IPython.core.display.Math object>"
            ]
          },
          "metadata": {
            "tags": []
          }
        },
        {
          "output_type": "display_data",
          "data": {
            "text/latex": "$$R^_{2,1} = 0$$",
            "text/plain": [
              "<IPython.core.display.Math object>"
            ]
          },
          "metadata": {
            "tags": []
          }
        },
        {
          "output_type": "display_data",
          "data": {
            "text/latex": "$$R^_{2,2} = 3 H^{2} e^{2 H t}$$",
            "text/plain": [
              "<IPython.core.display.Math object>"
            ]
          },
          "metadata": {
            "tags": []
          }
        },
        {
          "output_type": "display_data",
          "data": {
            "text/latex": "$$R^_{2,3} = 0$$",
            "text/plain": [
              "<IPython.core.display.Math object>"
            ]
          },
          "metadata": {
            "tags": []
          }
        },
        {
          "output_type": "display_data",
          "data": {
            "text/latex": "$$R^_{3,0} = 0$$",
            "text/plain": [
              "<IPython.core.display.Math object>"
            ]
          },
          "metadata": {
            "tags": []
          }
        },
        {
          "output_type": "display_data",
          "data": {
            "text/latex": "$$R^_{3,1} = 0$$",
            "text/plain": [
              "<IPython.core.display.Math object>"
            ]
          },
          "metadata": {
            "tags": []
          }
        },
        {
          "output_type": "display_data",
          "data": {
            "text/latex": "$$R^_{3,2} = 0$$",
            "text/plain": [
              "<IPython.core.display.Math object>"
            ]
          },
          "metadata": {
            "tags": []
          }
        },
        {
          "output_type": "display_data",
          "data": {
            "text/latex": "$$R^_{3,3} = 3 H^{2} e^{2 H t}$$",
            "text/plain": [
              "<IPython.core.display.Math object>"
            ]
          },
          "metadata": {
            "tags": []
          }
        }
      ]
    },
    {
      "cell_type": "markdown",
      "metadata": {
        "id": "cZApkKE0Nu6_"
      },
      "source": [
        "## Ricci Scalar for de Sitter Space"
      ]
    },
    {
      "cell_type": "code",
      "metadata": {
        "colab": {
          "base_uri": "https://localhost:8080/",
          "height": 38
        },
        "id": "D_CbJ1TINpgy",
        "outputId": "f7dd6030-266d-4328-bcd5-4f7453b8dbd5"
      },
      "source": [
        "sitter_ricci_scalar = RicciScalar.compute_ricci_scalar(sitter_ricci_tensor)\n",
        "sitter_ricci_scalar.simplify()\n",
        "display(Math(f'R  =' +  latex(sitter_ricci_scalar.expr)))"
      ],
      "execution_count": 23,
      "outputs": [
        {
          "output_type": "display_data",
          "data": {
            "text/latex": "$$R  =12 H^{2}$$",
            "text/plain": [
              "<IPython.core.display.Math object>"
            ]
          },
          "metadata": {
            "tags": []
          }
        }
      ]
    },
    {
      "cell_type": "markdown",
      "metadata": {
        "id": "SO2gjMJIODoL"
      },
      "source": [
        "## Einstein Tensor for de Sitter Space"
      ]
    },
    {
      "cell_type": "code",
      "metadata": {
        "colab": {
          "base_uri": "https://localhost:8080/",
          "height": 98
        },
        "id": "v1zGPou-OGDe",
        "outputId": "a2b3fac1-5eef-428d-d2f6-34d2fc860713"
      },
      "source": [
        "G = EinsteinTensor.compute_einstein_tensor(sitter_ricci_tensor, sitter_ricci_scalar, sitter_m_obj)\n",
        "G.tensor()"
      ],
      "execution_count": 24,
      "outputs": [
        {
          "output_type": "execute_result",
          "data": {
            "text/latex": "$\\displaystyle \\left[\\begin{matrix}3.0 H^{2} & 0 & 0 & 0\\\\0 & - 3.0 H^{2} e^{2 H t} & 0 & 0\\\\0 & 0 & - 3.0 H^{2} e^{2 H t} & 0\\\\0 & 0 & 0 & - 3.0 H^{2} e^{2 H t}\\end{matrix}\\right]$",
            "text/plain": [
              "[[3.0*H**2, 0, 0, 0], [0, -3.0*H**2*exp(2*H*t), 0, 0], [0, 0, -3.0*H**2*exp(2*H*t), 0], [0, 0, 0, -3.0*H**2*exp(2*H*t)]]"
            ]
          },
          "metadata": {
            "tags": []
          },
          "execution_count": 24
        }
      ]
    },
    {
      "cell_type": "markdown",
      "metadata": {
        "id": "vGBU9YDjbWEh"
      },
      "source": [
        "And we see that de Sitter Space is a solution to Einstein's equations with a cosmological constant source, where $\\Lambda = 3H^2$"
      ]
    },
    {
      "cell_type": "markdown",
      "metadata": {
        "id": "-jJF3LpbUYQO"
      },
      "source": [
        "# Kerr Space"
      ]
    },
    {
      "cell_type": "code",
      "metadata": {
        "id": "dFtkwcvrUaOQ"
      },
      "source": [
        "from einsteinpy.metric.kerr import Kerr"
      ],
      "execution_count": 25,
      "outputs": []
    },
    {
      "cell_type": "markdown",
      "metadata": {
        "id": "UUOUqA0NeUHP"
      },
      "source": [
        "## Metric for Kerr Space"
      ]
    },
    {
      "cell_type": "code",
      "metadata": {
        "colab": {
          "base_uri": "https://localhost:8080/",
          "height": 126
        },
        "id": "aCXNyIcNUtWm",
        "outputId": "682fc321-6fee-4567-9f65-0380c9bd7547"
      },
      "source": [
        "metric_syms = sympy.symbols('t r theta phi')\n",
        "R_sym = sympy.symbols('R')\n",
        "a_sym = sympy.symbols('a')\n",
        "delta = (metric_syms[1]**2) - (R_sym*metric_syms[1]) + (a_sym**2)\n",
        "rho2 = (metric_syms[1])**2 + (a_sym**2 * cos(metric_syms[2])**2)\n",
        "metric = [[ 0 for i in range(4)] for i in range(4)]\n",
        "metric[0][0] = - (1 - ( R_sym*metric_syms[1]/rho2) )\n",
        "metric[1][1] = rho2/delta\n",
        "metric[2][2] = rho2\n",
        "metric[3][3] = (sin(metric_syms[2])**2 / rho2) * ( \n",
        "    (metric_syms[1]**2 + a_sym**2)**2 - a_sym**2*delta*sin(metric_syms[2])**2  )\n",
        "metric[0][3] = -( (R_sym*a_sym*metric_syms[1]*sin(metric_syms[2])**2) / rho2 )\n",
        "metric[3][0] = -( (R_sym*a_sym*metric_syms[1]*sin(metric_syms[2])**2) / rho2 )\n",
        "kerr_metric = MetricTensor(metric, metric_syms)\n",
        "kerr_metric.tensor()"
      ],
      "execution_count": 26,
      "outputs": [
        {
          "output_type": "execute_result",
          "data": {
            "text/latex": "$\\displaystyle \\left[\\begin{matrix}\\frac{R r}{a^{2} \\cos^{2}{\\left(\\theta \\right)} + r^{2}} - 1 & 0 & 0 & - \\frac{R a r \\sin^{2}{\\left(\\theta \\right)}}{a^{2} \\cos^{2}{\\left(\\theta \\right)} + r^{2}}\\\\0 & \\frac{a^{2} \\cos^{2}{\\left(\\theta \\right)} + r^{2}}{- R r + a^{2} + r^{2}} & 0 & 0\\\\0 & 0 & a^{2} \\cos^{2}{\\left(\\theta \\right)} + r^{2} & 0\\\\- \\frac{R a r \\sin^{2}{\\left(\\theta \\right)}}{a^{2} \\cos^{2}{\\left(\\theta \\right)} + r^{2}} & 0 & 0 & \\frac{\\left(- a^{2} \\left(- R r + a^{2} + r^{2}\\right) \\sin^{2}{\\left(\\theta \\right)} + \\left(a^{2} + r^{2}\\right)^{2}\\right) \\sin^{2}{\\left(\\theta \\right)}}{a^{2} \\cos^{2}{\\left(\\theta \\right)} + r^{2}}\\end{matrix}\\right]$",
            "text/plain": [
              "[[R*r/(a**2*cos(theta)**2 + r**2) - 1, 0, 0, -R*a*r*sin(theta)**2/(a**2*cos(theta)**2 + r**2)], [0, (a**2*cos(theta)**2 + r**2)/(-R*r + a**2 + r**2), 0, 0], [0, 0, a**2*cos(theta)**2 + r**2, 0], [-R*a*r*sin(theta)**2/(a**2*cos(theta)**2 + r**2), 0, 0, (-a**2*(-R*r + a**2 + r**2)*sin(theta)**2 + (a**2 + r**2)**2)*sin(theta)**2/(a**2*cos(theta)**2 + r**2)]]"
            ]
          },
          "metadata": {
            "tags": []
          },
          "execution_count": 26
        }
      ]
    },
    {
      "cell_type": "markdown",
      "metadata": {
        "id": "DJAYbtdkeWlh"
      },
      "source": [
        "## Christoffel Symbols for Kerr Metric"
      ]
    },
    {
      "cell_type": "code",
      "metadata": {
        "id": "iP6Tld-nbk4o",
        "colab": {
          "base_uri": "https://localhost:8080/",
          "height": 251
        },
        "outputId": "20491493-55f3-48a5-a571-e46496a05613"
      },
      "source": [
        "kerr_ch = ChristoffelSymbols.compute_christoffel(kerr_metric)\n",
        "kerr_ch.tensor()"
      ],
      "execution_count": 27,
      "outputs": [
        {
          "output_type": "execute_result",
          "data": {
            "text/latex": "$\\displaystyle \\left[\\begin{matrix}\\left[\\begin{matrix}0 & \\frac{\\left(- \\frac{2 R r^{2}}{\\left(a^{2} \\cos^{2}{\\left(\\theta \\right)} + r^{2}\\right)^{2}} + \\frac{R}{a^{2} \\cos^{2}{\\left(\\theta \\right)} + r^{2}}\\right) \\left(- R a^{4} r \\sin^{2}{\\left(\\theta \\right)} \\cos^{2}{\\left(\\theta \\right)} - R a^{2} r^{3} \\sin^{2}{\\left(\\theta \\right)} + a^{6} \\sin^{2}{\\left(\\theta \\right)} \\cos^{2}{\\left(\\theta \\right)} - a^{6} \\cos^{2}{\\left(\\theta \\right)} + a^{4} r^{2} \\sin^{2}{\\left(\\theta \\right)} \\cos^{2}{\\left(\\theta \\right)} + a^{4} r^{2} \\sin^{2}{\\left(\\theta \\right)} - 2 a^{4} r^{2} \\cos^{2}{\\left(\\theta \\right)} - a^{4} r^{2} + a^{2} r^{4} \\sin^{2}{\\left(\\theta \\right)} - a^{2} r^{4} \\cos^{2}{\\left(\\theta \\right)} - 2 a^{2} r^{4} - r^{6}\\right)}{2 \\left(R a^{4} r \\sin^{2}{\\left(\\theta \\right)} \\cos^{2}{\\left(\\theta \\right)} + R a^{4} r \\sin^{2}{\\left(\\theta \\right)} - R a^{4} r + 2 R a^{2} r^{3} \\sin^{2}{\\left(\\theta \\right)} - 2 R a^{2} r^{3} - R r^{5} - a^{6} \\sin^{2}{\\left(\\theta \\right)} \\cos^{2}{\\left(\\theta \\right)} + a^{6} \\cos^{2}{\\left(\\theta \\right)} - a^{4} r^{2} \\sin^{2}{\\left(\\theta \\right)} \\cos^{2}{\\left(\\theta \\right)} - a^{4} r^{2} \\sin^{2}{\\left(\\theta \\right)} + 2 a^{4} r^{2} \\cos^{2}{\\left(\\theta \\right)} + a^{4} r^{2} - a^{2} r^{4} \\sin^{2}{\\left(\\theta \\right)} + a^{2} r^{4} \\cos^{2}{\\left(\\theta \\right)} + 2 a^{2} r^{4} + r^{6}\\right)} + \\frac{\\left(- R a^{3} r \\cos^{2}{\\left(\\theta \\right)} - R a r^{3}\\right) \\left(\\frac{2 R a r^{2} \\sin^{2}{\\left(\\theta \\right)}}{\\left(a^{2} \\cos^{2}{\\left(\\theta \\right)} + r^{2}\\right)^{2}} - \\frac{R a \\sin^{2}{\\left(\\theta \\right)}}{a^{2} \\cos^{2}{\\left(\\theta \\right)} + r^{2}}\\right)}{2 \\left(R a^{4} r \\sin^{2}{\\left(\\theta \\right)} \\cos^{2}{\\left(\\theta \\right)} + R a^{4} r \\sin^{2}{\\left(\\theta \\right)} - R a^{4} r + 2 R a^{2} r^{3} \\sin^{2}{\\left(\\theta \\right)} - 2 R a^{2} r^{3} - R r^{5} - a^{6} \\sin^{2}{\\left(\\theta \\right)} \\cos^{2}{\\left(\\theta \\right)} + a^{6} \\cos^{2}{\\left(\\theta \\right)} - a^{4} r^{2} \\sin^{2}{\\left(\\theta \\right)} \\cos^{2}{\\left(\\theta \\right)} - a^{4} r^{2} \\sin^{2}{\\left(\\theta \\right)} + 2 a^{4} r^{2} \\cos^{2}{\\left(\\theta \\right)} + a^{4} r^{2} - a^{2} r^{4} \\sin^{2}{\\left(\\theta \\right)} + a^{2} r^{4} \\cos^{2}{\\left(\\theta \\right)} + 2 a^{2} r^{4} + r^{6}\\right)} & \\frac{R a^{2} r \\left(- R a^{4} r \\sin^{2}{\\left(\\theta \\right)} \\cos^{2}{\\left(\\theta \\right)} - R a^{2} r^{3} \\sin^{2}{\\left(\\theta \\right)} + a^{6} \\sin^{2}{\\left(\\theta \\right)} \\cos^{2}{\\left(\\theta \\right)} - a^{6} \\cos^{2}{\\left(\\theta \\right)} + a^{4} r^{2} \\sin^{2}{\\left(\\theta \\right)} \\cos^{2}{\\left(\\theta \\right)} + a^{4} r^{2} \\sin^{2}{\\left(\\theta \\right)} - 2 a^{4} r^{2} \\cos^{2}{\\left(\\theta \\right)} - a^{4} r^{2} + a^{2} r^{4} \\sin^{2}{\\left(\\theta \\right)} - a^{2} r^{4} \\cos^{2}{\\left(\\theta \\right)} - 2 a^{2} r^{4} - r^{6}\\right) \\sin{\\left(\\theta \\right)} \\cos{\\left(\\theta \\right)}}{\\left(a^{2} \\cos^{2}{\\left(\\theta \\right)} + r^{2}\\right)^{2} \\left(R a^{4} r \\sin^{2}{\\left(\\theta \\right)} \\cos^{2}{\\left(\\theta \\right)} + R a^{4} r \\sin^{2}{\\left(\\theta \\right)} - R a^{4} r + 2 R a^{2} r^{3} \\sin^{2}{\\left(\\theta \\right)} - 2 R a^{2} r^{3} - R r^{5} - a^{6} \\sin^{2}{\\left(\\theta \\right)} \\cos^{2}{\\left(\\theta \\right)} + a^{6} \\cos^{2}{\\left(\\theta \\right)} - a^{4} r^{2} \\sin^{2}{\\left(\\theta \\right)} \\cos^{2}{\\left(\\theta \\right)} - a^{4} r^{2} \\sin^{2}{\\left(\\theta \\right)} + 2 a^{4} r^{2} \\cos^{2}{\\left(\\theta \\right)} + a^{4} r^{2} - a^{2} r^{4} \\sin^{2}{\\left(\\theta \\right)} + a^{2} r^{4} \\cos^{2}{\\left(\\theta \\right)} + 2 a^{2} r^{4} + r^{6}\\right)} + \\frac{\\left(- R a^{3} r \\cos^{2}{\\left(\\theta \\right)} - R a r^{3}\\right) \\left(- \\frac{2 R a^{3} r \\sin^{3}{\\left(\\theta \\right)} \\cos{\\left(\\theta \\right)}}{\\left(a^{2} \\cos^{2}{\\left(\\theta \\right)} + r^{2}\\right)^{2}} - \\frac{2 R a r \\sin{\\left(\\theta \\right)} \\cos{\\left(\\theta \\right)}}{a^{2} \\cos^{2}{\\left(\\theta \\right)} + r^{2}}\\right)}{2 \\left(R a^{4} r \\sin^{2}{\\left(\\theta \\right)} \\cos^{2}{\\left(\\theta \\right)} + R a^{4} r \\sin^{2}{\\left(\\theta \\right)} - R a^{4} r + 2 R a^{2} r^{3} \\sin^{2}{\\left(\\theta \\right)} - 2 R a^{2} r^{3} - R r^{5} - a^{6} \\sin^{2}{\\left(\\theta \\right)} \\cos^{2}{\\left(\\theta \\right)} + a^{6} \\cos^{2}{\\left(\\theta \\right)} - a^{4} r^{2} \\sin^{2}{\\left(\\theta \\right)} \\cos^{2}{\\left(\\theta \\right)} - a^{4} r^{2} \\sin^{2}{\\left(\\theta \\right)} + 2 a^{4} r^{2} \\cos^{2}{\\left(\\theta \\right)} + a^{4} r^{2} - a^{2} r^{4} \\sin^{2}{\\left(\\theta \\right)} + a^{2} r^{4} \\cos^{2}{\\left(\\theta \\right)} + 2 a^{2} r^{4} + r^{6}\\right)} & 0\\\\\\frac{\\left(- \\frac{2 R r^{2}}{\\left(a^{2} \\cos^{2}{\\left(\\theta \\right)} + r^{2}\\right)^{2}} + \\frac{R}{a^{2} \\cos^{2}{\\left(\\theta \\right)} + r^{2}}\\right) \\left(- R a^{4} r \\sin^{2}{\\left(\\theta \\right)} \\cos^{2}{\\left(\\theta \\right)} - R a^{2} r^{3} \\sin^{2}{\\left(\\theta \\right)} + a^{6} \\sin^{2}{\\left(\\theta \\right)} \\cos^{2}{\\left(\\theta \\right)} - a^{6} \\cos^{2}{\\left(\\theta \\right)} + a^{4} r^{2} \\sin^{2}{\\left(\\theta \\right)} \\cos^{2}{\\left(\\theta \\right)} + a^{4} r^{2} \\sin^{2}{\\left(\\theta \\right)} - 2 a^{4} r^{2} \\cos^{2}{\\left(\\theta \\right)} - a^{4} r^{2} + a^{2} r^{4} \\sin^{2}{\\left(\\theta \\right)} - a^{2} r^{4} \\cos^{2}{\\left(\\theta \\right)} - 2 a^{2} r^{4} - r^{6}\\right)}{2 \\left(R a^{4} r \\sin^{2}{\\left(\\theta \\right)} \\cos^{2}{\\left(\\theta \\right)} + R a^{4} r \\sin^{2}{\\left(\\theta \\right)} - R a^{4} r + 2 R a^{2} r^{3} \\sin^{2}{\\left(\\theta \\right)} - 2 R a^{2} r^{3} - R r^{5} - a^{6} \\sin^{2}{\\left(\\theta \\right)} \\cos^{2}{\\left(\\theta \\right)} + a^{6} \\cos^{2}{\\left(\\theta \\right)} - a^{4} r^{2} \\sin^{2}{\\left(\\theta \\right)} \\cos^{2}{\\left(\\theta \\right)} - a^{4} r^{2} \\sin^{2}{\\left(\\theta \\right)} + 2 a^{4} r^{2} \\cos^{2}{\\left(\\theta \\right)} + a^{4} r^{2} - a^{2} r^{4} \\sin^{2}{\\left(\\theta \\right)} + a^{2} r^{4} \\cos^{2}{\\left(\\theta \\right)} + 2 a^{2} r^{4} + r^{6}\\right)} + \\frac{\\left(- R a^{3} r \\cos^{2}{\\left(\\theta \\right)} - R a r^{3}\\right) \\left(\\frac{2 R a r^{2} \\sin^{2}{\\left(\\theta \\right)}}{\\left(a^{2} \\cos^{2}{\\left(\\theta \\right)} + r^{2}\\right)^{2}} - \\frac{R a \\sin^{2}{\\left(\\theta \\right)}}{a^{2} \\cos^{2}{\\left(\\theta \\right)} + r^{2}}\\right)}{2 \\left(R a^{4} r \\sin^{2}{\\left(\\theta \\right)} \\cos^{2}{\\left(\\theta \\right)} + R a^{4} r \\sin^{2}{\\left(\\theta \\right)} - R a^{4} r + 2 R a^{2} r^{3} \\sin^{2}{\\left(\\theta \\right)} - 2 R a^{2} r^{3} - R r^{5} - a^{6} \\sin^{2}{\\left(\\theta \\right)} \\cos^{2}{\\left(\\theta \\right)} + a^{6} \\cos^{2}{\\left(\\theta \\right)} - a^{4} r^{2} \\sin^{2}{\\left(\\theta \\right)} \\cos^{2}{\\left(\\theta \\right)} - a^{4} r^{2} \\sin^{2}{\\left(\\theta \\right)} + 2 a^{4} r^{2} \\cos^{2}{\\left(\\theta \\right)} + a^{4} r^{2} - a^{2} r^{4} \\sin^{2}{\\left(\\theta \\right)} + a^{2} r^{4} \\cos^{2}{\\left(\\theta \\right)} + 2 a^{2} r^{4} + r^{6}\\right)} & 0 & 0 & \\frac{\\left(- R a^{3} r \\cos^{2}{\\left(\\theta \\right)} - R a r^{3}\\right) \\left(- \\frac{2 r \\left(- a^{2} \\left(- R r + a^{2} + r^{2}\\right) \\sin^{2}{\\left(\\theta \\right)} + \\left(a^{2} + r^{2}\\right)^{2}\\right) \\sin^{2}{\\left(\\theta \\right)}}{\\left(a^{2} \\cos^{2}{\\left(\\theta \\right)} + r^{2}\\right)^{2}} + \\frac{\\left(- a^{2} \\left(- R + 2 r\\right) \\sin^{2}{\\left(\\theta \\right)} + 4 r \\left(a^{2} + r^{2}\\right)\\right) \\sin^{2}{\\left(\\theta \\right)}}{a^{2} \\cos^{2}{\\left(\\theta \\right)} + r^{2}}\\right)}{2 \\left(R a^{4} r \\sin^{2}{\\left(\\theta \\right)} \\cos^{2}{\\left(\\theta \\right)} + R a^{4} r \\sin^{2}{\\left(\\theta \\right)} - R a^{4} r + 2 R a^{2} r^{3} \\sin^{2}{\\left(\\theta \\right)} - 2 R a^{2} r^{3} - R r^{5} - a^{6} \\sin^{2}{\\left(\\theta \\right)} \\cos^{2}{\\left(\\theta \\right)} + a^{6} \\cos^{2}{\\left(\\theta \\right)} - a^{4} r^{2} \\sin^{2}{\\left(\\theta \\right)} \\cos^{2}{\\left(\\theta \\right)} - a^{4} r^{2} \\sin^{2}{\\left(\\theta \\right)} + 2 a^{4} r^{2} \\cos^{2}{\\left(\\theta \\right)} + a^{4} r^{2} - a^{2} r^{4} \\sin^{2}{\\left(\\theta \\right)} + a^{2} r^{4} \\cos^{2}{\\left(\\theta \\right)} + 2 a^{2} r^{4} + r^{6}\\right)} + \\frac{\\left(\\frac{2 R a r^{2} \\sin^{2}{\\left(\\theta \\right)}}{\\left(a^{2} \\cos^{2}{\\left(\\theta \\right)} + r^{2}\\right)^{2}} - \\frac{R a \\sin^{2}{\\left(\\theta \\right)}}{a^{2} \\cos^{2}{\\left(\\theta \\right)} + r^{2}}\\right) \\left(- R a^{4} r \\sin^{2}{\\left(\\theta \\right)} \\cos^{2}{\\left(\\theta \\right)} - R a^{2} r^{3} \\sin^{2}{\\left(\\theta \\right)} + a^{6} \\sin^{2}{\\left(\\theta \\right)} \\cos^{2}{\\left(\\theta \\right)} - a^{6} \\cos^{2}{\\left(\\theta \\right)} + a^{4} r^{2} \\sin^{2}{\\left(\\theta \\right)} \\cos^{2}{\\left(\\theta \\right)} + a^{4} r^{2} \\sin^{2}{\\left(\\theta \\right)} - 2 a^{4} r^{2} \\cos^{2}{\\left(\\theta \\right)} - a^{4} r^{2} + a^{2} r^{4} \\sin^{2}{\\left(\\theta \\right)} - a^{2} r^{4} \\cos^{2}{\\left(\\theta \\right)} - 2 a^{2} r^{4} - r^{6}\\right)}{2 \\left(R a^{4} r \\sin^{2}{\\left(\\theta \\right)} \\cos^{2}{\\left(\\theta \\right)} + R a^{4} r \\sin^{2}{\\left(\\theta \\right)} - R a^{4} r + 2 R a^{2} r^{3} \\sin^{2}{\\left(\\theta \\right)} - 2 R a^{2} r^{3} - R r^{5} - a^{6} \\sin^{2}{\\left(\\theta \\right)} \\cos^{2}{\\left(\\theta \\right)} + a^{6} \\cos^{2}{\\left(\\theta \\right)} - a^{4} r^{2} \\sin^{2}{\\left(\\theta \\right)} \\cos^{2}{\\left(\\theta \\right)} - a^{4} r^{2} \\sin^{2}{\\left(\\theta \\right)} + 2 a^{4} r^{2} \\cos^{2}{\\left(\\theta \\right)} + a^{4} r^{2} - a^{2} r^{4} \\sin^{2}{\\left(\\theta \\right)} + a^{2} r^{4} \\cos^{2}{\\left(\\theta \\right)} + 2 a^{2} r^{4} + r^{6}\\right)}\\\\\\frac{R a^{2} r \\left(- R a^{4} r \\sin^{2}{\\left(\\theta \\right)} \\cos^{2}{\\left(\\theta \\right)} - R a^{2} r^{3} \\sin^{2}{\\left(\\theta \\right)} + a^{6} \\sin^{2}{\\left(\\theta \\right)} \\cos^{2}{\\left(\\theta \\right)} - a^{6} \\cos^{2}{\\left(\\theta \\right)} + a^{4} r^{2} \\sin^{2}{\\left(\\theta \\right)} \\cos^{2}{\\left(\\theta \\right)} + a^{4} r^{2} \\sin^{2}{\\left(\\theta \\right)} - 2 a^{4} r^{2} \\cos^{2}{\\left(\\theta \\right)} - a^{4} r^{2} + a^{2} r^{4} \\sin^{2}{\\left(\\theta \\right)} - a^{2} r^{4} \\cos^{2}{\\left(\\theta \\right)} - 2 a^{2} r^{4} - r^{6}\\right) \\sin{\\left(\\theta \\right)} \\cos{\\left(\\theta \\right)}}{\\left(a^{2} \\cos^{2}{\\left(\\theta \\right)} + r^{2}\\right)^{2} \\left(R a^{4} r \\sin^{2}{\\left(\\theta \\right)} \\cos^{2}{\\left(\\theta \\right)} + R a^{4} r \\sin^{2}{\\left(\\theta \\right)} - R a^{4} r + 2 R a^{2} r^{3} \\sin^{2}{\\left(\\theta \\right)} - 2 R a^{2} r^{3} - R r^{5} - a^{6} \\sin^{2}{\\left(\\theta \\right)} \\cos^{2}{\\left(\\theta \\right)} + a^{6} \\cos^{2}{\\left(\\theta \\right)} - a^{4} r^{2} \\sin^{2}{\\left(\\theta \\right)} \\cos^{2}{\\left(\\theta \\right)} - a^{4} r^{2} \\sin^{2}{\\left(\\theta \\right)} + 2 a^{4} r^{2} \\cos^{2}{\\left(\\theta \\right)} + a^{4} r^{2} - a^{2} r^{4} \\sin^{2}{\\left(\\theta \\right)} + a^{2} r^{4} \\cos^{2}{\\left(\\theta \\right)} + 2 a^{2} r^{4} + r^{6}\\right)} + \\frac{\\left(- R a^{3} r \\cos^{2}{\\left(\\theta \\right)} - R a r^{3}\\right) \\left(- \\frac{2 R a^{3} r \\sin^{3}{\\left(\\theta \\right)} \\cos{\\left(\\theta \\right)}}{\\left(a^{2} \\cos^{2}{\\left(\\theta \\right)} + r^{2}\\right)^{2}} - \\frac{2 R a r \\sin{\\left(\\theta \\right)} \\cos{\\left(\\theta \\right)}}{a^{2} \\cos^{2}{\\left(\\theta \\right)} + r^{2}}\\right)}{2 \\left(R a^{4} r \\sin^{2}{\\left(\\theta \\right)} \\cos^{2}{\\left(\\theta \\right)} + R a^{4} r \\sin^{2}{\\left(\\theta \\right)} - R a^{4} r + 2 R a^{2} r^{3} \\sin^{2}{\\left(\\theta \\right)} - 2 R a^{2} r^{3} - R r^{5} - a^{6} \\sin^{2}{\\left(\\theta \\right)} \\cos^{2}{\\left(\\theta \\right)} + a^{6} \\cos^{2}{\\left(\\theta \\right)} - a^{4} r^{2} \\sin^{2}{\\left(\\theta \\right)} \\cos^{2}{\\left(\\theta \\right)} - a^{4} r^{2} \\sin^{2}{\\left(\\theta \\right)} + 2 a^{4} r^{2} \\cos^{2}{\\left(\\theta \\right)} + a^{4} r^{2} - a^{2} r^{4} \\sin^{2}{\\left(\\theta \\right)} + a^{2} r^{4} \\cos^{2}{\\left(\\theta \\right)} + 2 a^{2} r^{4} + r^{6}\\right)} & 0 & 0 & \\frac{\\left(- R a^{3} r \\cos^{2}{\\left(\\theta \\right)} - R a r^{3}\\right) \\left(- \\frac{2 a^{2} \\left(- R r + a^{2} + r^{2}\\right) \\sin^{3}{\\left(\\theta \\right)} \\cos{\\left(\\theta \\right)}}{a^{2} \\cos^{2}{\\left(\\theta \\right)} + r^{2}} + \\frac{2 a^{2} \\left(- a^{2} \\left(- R r + a^{2} + r^{2}\\right) \\sin^{2}{\\left(\\theta \\right)} + \\left(a^{2} + r^{2}\\right)^{2}\\right) \\sin^{3}{\\left(\\theta \\right)} \\cos{\\left(\\theta \\right)}}{\\left(a^{2} \\cos^{2}{\\left(\\theta \\right)} + r^{2}\\right)^{2}} + \\frac{2 \\left(- a^{2} \\left(- R r + a^{2} + r^{2}\\right) \\sin^{2}{\\left(\\theta \\right)} + \\left(a^{2} + r^{2}\\right)^{2}\\right) \\sin{\\left(\\theta \\right)} \\cos{\\left(\\theta \\right)}}{a^{2} \\cos^{2}{\\left(\\theta \\right)} + r^{2}}\\right)}{2 \\left(R a^{4} r \\sin^{2}{\\left(\\theta \\right)} \\cos^{2}{\\left(\\theta \\right)} + R a^{4} r \\sin^{2}{\\left(\\theta \\right)} - R a^{4} r + 2 R a^{2} r^{3} \\sin^{2}{\\left(\\theta \\right)} - 2 R a^{2} r^{3} - R r^{5} - a^{6} \\sin^{2}{\\left(\\theta \\right)} \\cos^{2}{\\left(\\theta \\right)} + a^{6} \\cos^{2}{\\left(\\theta \\right)} - a^{4} r^{2} \\sin^{2}{\\left(\\theta \\right)} \\cos^{2}{\\left(\\theta \\right)} - a^{4} r^{2} \\sin^{2}{\\left(\\theta \\right)} + 2 a^{4} r^{2} \\cos^{2}{\\left(\\theta \\right)} + a^{4} r^{2} - a^{2} r^{4} \\sin^{2}{\\left(\\theta \\right)} + a^{2} r^{4} \\cos^{2}{\\left(\\theta \\right)} + 2 a^{2} r^{4} + r^{6}\\right)} + \\frac{\\left(- \\frac{2 R a^{3} r \\sin^{3}{\\left(\\theta \\right)} \\cos{\\left(\\theta \\right)}}{\\left(a^{2} \\cos^{2}{\\left(\\theta \\right)} + r^{2}\\right)^{2}} - \\frac{2 R a r \\sin{\\left(\\theta \\right)} \\cos{\\left(\\theta \\right)}}{a^{2} \\cos^{2}{\\left(\\theta \\right)} + r^{2}}\\right) \\left(- R a^{4} r \\sin^{2}{\\left(\\theta \\right)} \\cos^{2}{\\left(\\theta \\right)} - R a^{2} r^{3} \\sin^{2}{\\left(\\theta \\right)} + a^{6} \\sin^{2}{\\left(\\theta \\right)} \\cos^{2}{\\left(\\theta \\right)} - a^{6} \\cos^{2}{\\left(\\theta \\right)} + a^{4} r^{2} \\sin^{2}{\\left(\\theta \\right)} \\cos^{2}{\\left(\\theta \\right)} + a^{4} r^{2} \\sin^{2}{\\left(\\theta \\right)} - 2 a^{4} r^{2} \\cos^{2}{\\left(\\theta \\right)} - a^{4} r^{2} + a^{2} r^{4} \\sin^{2}{\\left(\\theta \\right)} - a^{2} r^{4} \\cos^{2}{\\left(\\theta \\right)} - 2 a^{2} r^{4} - r^{6}\\right)}{2 \\left(R a^{4} r \\sin^{2}{\\left(\\theta \\right)} \\cos^{2}{\\left(\\theta \\right)} + R a^{4} r \\sin^{2}{\\left(\\theta \\right)} - R a^{4} r + 2 R a^{2} r^{3} \\sin^{2}{\\left(\\theta \\right)} - 2 R a^{2} r^{3} - R r^{5} - a^{6} \\sin^{2}{\\left(\\theta \\right)} \\cos^{2}{\\left(\\theta \\right)} + a^{6} \\cos^{2}{\\left(\\theta \\right)} - a^{4} r^{2} \\sin^{2}{\\left(\\theta \\right)} \\cos^{2}{\\left(\\theta \\right)} - a^{4} r^{2} \\sin^{2}{\\left(\\theta \\right)} + 2 a^{4} r^{2} \\cos^{2}{\\left(\\theta \\right)} + a^{4} r^{2} - a^{2} r^{4} \\sin^{2}{\\left(\\theta \\right)} + a^{2} r^{4} \\cos^{2}{\\left(\\theta \\right)} + 2 a^{2} r^{4} + r^{6}\\right)}\\\\0 & \\frac{\\left(- R a^{3} r \\cos^{2}{\\left(\\theta \\right)} - R a r^{3}\\right) \\left(- \\frac{2 r \\left(- a^{2} \\left(- R r + a^{2} + r^{2}\\right) \\sin^{2}{\\left(\\theta \\right)} + \\left(a^{2} + r^{2}\\right)^{2}\\right) \\sin^{2}{\\left(\\theta \\right)}}{\\left(a^{2} \\cos^{2}{\\left(\\theta \\right)} + r^{2}\\right)^{2}} + \\frac{\\left(- a^{2} \\left(- R + 2 r\\right) \\sin^{2}{\\left(\\theta \\right)} + 4 r \\left(a^{2} + r^{2}\\right)\\right) \\sin^{2}{\\left(\\theta \\right)}}{a^{2} \\cos^{2}{\\left(\\theta \\right)} + r^{2}}\\right)}{2 \\left(R a^{4} r \\sin^{2}{\\left(\\theta \\right)} \\cos^{2}{\\left(\\theta \\right)} + R a^{4} r \\sin^{2}{\\left(\\theta \\right)} - R a^{4} r + 2 R a^{2} r^{3} \\sin^{2}{\\left(\\theta \\right)} - 2 R a^{2} r^{3} - R r^{5} - a^{6} \\sin^{2}{\\left(\\theta \\right)} \\cos^{2}{\\left(\\theta \\right)} + a^{6} \\cos^{2}{\\left(\\theta \\right)} - a^{4} r^{2} \\sin^{2}{\\left(\\theta \\right)} \\cos^{2}{\\left(\\theta \\right)} - a^{4} r^{2} \\sin^{2}{\\left(\\theta \\right)} + 2 a^{4} r^{2} \\cos^{2}{\\left(\\theta \\right)} + a^{4} r^{2} - a^{2} r^{4} \\sin^{2}{\\left(\\theta \\right)} + a^{2} r^{4} \\cos^{2}{\\left(\\theta \\right)} + 2 a^{2} r^{4} + r^{6}\\right)} + \\frac{\\left(\\frac{2 R a r^{2} \\sin^{2}{\\left(\\theta \\right)}}{\\left(a^{2} \\cos^{2}{\\left(\\theta \\right)} + r^{2}\\right)^{2}} - \\frac{R a \\sin^{2}{\\left(\\theta \\right)}}{a^{2} \\cos^{2}{\\left(\\theta \\right)} + r^{2}}\\right) \\left(- R a^{4} r \\sin^{2}{\\left(\\theta \\right)} \\cos^{2}{\\left(\\theta \\right)} - R a^{2} r^{3} \\sin^{2}{\\left(\\theta \\right)} + a^{6} \\sin^{2}{\\left(\\theta \\right)} \\cos^{2}{\\left(\\theta \\right)} - a^{6} \\cos^{2}{\\left(\\theta \\right)} + a^{4} r^{2} \\sin^{2}{\\left(\\theta \\right)} \\cos^{2}{\\left(\\theta \\right)} + a^{4} r^{2} \\sin^{2}{\\left(\\theta \\right)} - 2 a^{4} r^{2} \\cos^{2}{\\left(\\theta \\right)} - a^{4} r^{2} + a^{2} r^{4} \\sin^{2}{\\left(\\theta \\right)} - a^{2} r^{4} \\cos^{2}{\\left(\\theta \\right)} - 2 a^{2} r^{4} - r^{6}\\right)}{2 \\left(R a^{4} r \\sin^{2}{\\left(\\theta \\right)} \\cos^{2}{\\left(\\theta \\right)} + R a^{4} r \\sin^{2}{\\left(\\theta \\right)} - R a^{4} r + 2 R a^{2} r^{3} \\sin^{2}{\\left(\\theta \\right)} - 2 R a^{2} r^{3} - R r^{5} - a^{6} \\sin^{2}{\\left(\\theta \\right)} \\cos^{2}{\\left(\\theta \\right)} + a^{6} \\cos^{2}{\\left(\\theta \\right)} - a^{4} r^{2} \\sin^{2}{\\left(\\theta \\right)} \\cos^{2}{\\left(\\theta \\right)} - a^{4} r^{2} \\sin^{2}{\\left(\\theta \\right)} + 2 a^{4} r^{2} \\cos^{2}{\\left(\\theta \\right)} + a^{4} r^{2} - a^{2} r^{4} \\sin^{2}{\\left(\\theta \\right)} + a^{2} r^{4} \\cos^{2}{\\left(\\theta \\right)} + 2 a^{2} r^{4} + r^{6}\\right)} & \\frac{\\left(- R a^{3} r \\cos^{2}{\\left(\\theta \\right)} - R a r^{3}\\right) \\left(- \\frac{2 a^{2} \\left(- R r + a^{2} + r^{2}\\right) \\sin^{3}{\\left(\\theta \\right)} \\cos{\\left(\\theta \\right)}}{a^{2} \\cos^{2}{\\left(\\theta \\right)} + r^{2}} + \\frac{2 a^{2} \\left(- a^{2} \\left(- R r + a^{2} + r^{2}\\right) \\sin^{2}{\\left(\\theta \\right)} + \\left(a^{2} + r^{2}\\right)^{2}\\right) \\sin^{3}{\\left(\\theta \\right)} \\cos{\\left(\\theta \\right)}}{\\left(a^{2} \\cos^{2}{\\left(\\theta \\right)} + r^{2}\\right)^{2}} + \\frac{2 \\left(- a^{2} \\left(- R r + a^{2} + r^{2}\\right) \\sin^{2}{\\left(\\theta \\right)} + \\left(a^{2} + r^{2}\\right)^{2}\\right) \\sin{\\left(\\theta \\right)} \\cos{\\left(\\theta \\right)}}{a^{2} \\cos^{2}{\\left(\\theta \\right)} + r^{2}}\\right)}{2 \\left(R a^{4} r \\sin^{2}{\\left(\\theta \\right)} \\cos^{2}{\\left(\\theta \\right)} + R a^{4} r \\sin^{2}{\\left(\\theta \\right)} - R a^{4} r + 2 R a^{2} r^{3} \\sin^{2}{\\left(\\theta \\right)} - 2 R a^{2} r^{3} - R r^{5} - a^{6} \\sin^{2}{\\left(\\theta \\right)} \\cos^{2}{\\left(\\theta \\right)} + a^{6} \\cos^{2}{\\left(\\theta \\right)} - a^{4} r^{2} \\sin^{2}{\\left(\\theta \\right)} \\cos^{2}{\\left(\\theta \\right)} - a^{4} r^{2} \\sin^{2}{\\left(\\theta \\right)} + 2 a^{4} r^{2} \\cos^{2}{\\left(\\theta \\right)} + a^{4} r^{2} - a^{2} r^{4} \\sin^{2}{\\left(\\theta \\right)} + a^{2} r^{4} \\cos^{2}{\\left(\\theta \\right)} + 2 a^{2} r^{4} + r^{6}\\right)} + \\frac{\\left(- \\frac{2 R a^{3} r \\sin^{3}{\\left(\\theta \\right)} \\cos{\\left(\\theta \\right)}}{\\left(a^{2} \\cos^{2}{\\left(\\theta \\right)} + r^{2}\\right)^{2}} - \\frac{2 R a r \\sin{\\left(\\theta \\right)} \\cos{\\left(\\theta \\right)}}{a^{2} \\cos^{2}{\\left(\\theta \\right)} + r^{2}}\\right) \\left(- R a^{4} r \\sin^{2}{\\left(\\theta \\right)} \\cos^{2}{\\left(\\theta \\right)} - R a^{2} r^{3} \\sin^{2}{\\left(\\theta \\right)} + a^{6} \\sin^{2}{\\left(\\theta \\right)} \\cos^{2}{\\left(\\theta \\right)} - a^{6} \\cos^{2}{\\left(\\theta \\right)} + a^{4} r^{2} \\sin^{2}{\\left(\\theta \\right)} \\cos^{2}{\\left(\\theta \\right)} + a^{4} r^{2} \\sin^{2}{\\left(\\theta \\right)} - 2 a^{4} r^{2} \\cos^{2}{\\left(\\theta \\right)} - a^{4} r^{2} + a^{2} r^{4} \\sin^{2}{\\left(\\theta \\right)} - a^{2} r^{4} \\cos^{2}{\\left(\\theta \\right)} - 2 a^{2} r^{4} - r^{6}\\right)}{2 \\left(R a^{4} r \\sin^{2}{\\left(\\theta \\right)} \\cos^{2}{\\left(\\theta \\right)} + R a^{4} r \\sin^{2}{\\left(\\theta \\right)} - R a^{4} r + 2 R a^{2} r^{3} \\sin^{2}{\\left(\\theta \\right)} - 2 R a^{2} r^{3} - R r^{5} - a^{6} \\sin^{2}{\\left(\\theta \\right)} \\cos^{2}{\\left(\\theta \\right)} + a^{6} \\cos^{2}{\\left(\\theta \\right)} - a^{4} r^{2} \\sin^{2}{\\left(\\theta \\right)} \\cos^{2}{\\left(\\theta \\right)} - a^{4} r^{2} \\sin^{2}{\\left(\\theta \\right)} + 2 a^{4} r^{2} \\cos^{2}{\\left(\\theta \\right)} + a^{4} r^{2} - a^{2} r^{4} \\sin^{2}{\\left(\\theta \\right)} + a^{2} r^{4} \\cos^{2}{\\left(\\theta \\right)} + 2 a^{2} r^{4} + r^{6}\\right)} & 0\\end{matrix}\\right] & \\left[\\begin{matrix}\\frac{\\left(\\frac{2 R r^{2}}{\\left(a^{2} \\cos^{2}{\\left(\\theta \\right)} + r^{2}\\right)^{2}} - \\frac{R}{a^{2} \\cos^{2}{\\left(\\theta \\right)} + r^{2}}\\right) \\left(- R r + a^{2} + r^{2}\\right)}{2 \\left(a^{2} \\cos^{2}{\\left(\\theta \\right)} + r^{2}\\right)} & 0 & 0 & \\frac{\\left(- \\frac{2 R a r^{2} \\sin^{2}{\\left(\\theta \\right)}}{\\left(a^{2} \\cos^{2}{\\left(\\theta \\right)} + r^{2}\\right)^{2}} + \\frac{R a \\sin^{2}{\\left(\\theta \\right)}}{a^{2} \\cos^{2}{\\left(\\theta \\right)} + r^{2}}\\right) \\left(- R r + a^{2} + r^{2}\\right)}{2 \\left(a^{2} \\cos^{2}{\\left(\\theta \\right)} + r^{2}\\right)}\\\\0 & \\frac{\\left(\\frac{2 r}{- R r + a^{2} + r^{2}} + \\frac{\\left(R - 2 r\\right) \\left(a^{2} \\cos^{2}{\\left(\\theta \\right)} + r^{2}\\right)}{\\left(- R r + a^{2} + r^{2}\\right)^{2}}\\right) \\left(- R r + a^{2} + r^{2}\\right)}{2 \\left(a^{2} \\cos^{2}{\\left(\\theta \\right)} + r^{2}\\right)} & - \\frac{a^{2} \\sin{\\left(\\theta \\right)} \\cos{\\left(\\theta \\right)}}{a^{2} \\cos^{2}{\\left(\\theta \\right)} + r^{2}} & 0\\\\0 & - \\frac{a^{2} \\sin{\\left(\\theta \\right)} \\cos{\\left(\\theta \\right)}}{a^{2} \\cos^{2}{\\left(\\theta \\right)} + r^{2}} & - \\frac{r \\left(- R r + a^{2} + r^{2}\\right)}{a^{2} \\cos^{2}{\\left(\\theta \\right)} + r^{2}} & 0\\\\\\frac{\\left(- \\frac{2 R a r^{2} \\sin^{2}{\\left(\\theta \\right)}}{\\left(a^{2} \\cos^{2}{\\left(\\theta \\right)} + r^{2}\\right)^{2}} + \\frac{R a \\sin^{2}{\\left(\\theta \\right)}}{a^{2} \\cos^{2}{\\left(\\theta \\right)} + r^{2}}\\right) \\left(- R r + a^{2} + r^{2}\\right)}{2 \\left(a^{2} \\cos^{2}{\\left(\\theta \\right)} + r^{2}\\right)} & 0 & 0 & \\frac{\\left(\\frac{2 r \\left(- a^{2} \\left(- R r + a^{2} + r^{2}\\right) \\sin^{2}{\\left(\\theta \\right)} + \\left(a^{2} + r^{2}\\right)^{2}\\right) \\sin^{2}{\\left(\\theta \\right)}}{\\left(a^{2} \\cos^{2}{\\left(\\theta \\right)} + r^{2}\\right)^{2}} - \\frac{\\left(- a^{2} \\left(- R + 2 r\\right) \\sin^{2}{\\left(\\theta \\right)} + 4 r \\left(a^{2} + r^{2}\\right)\\right) \\sin^{2}{\\left(\\theta \\right)}}{a^{2} \\cos^{2}{\\left(\\theta \\right)} + r^{2}}\\right) \\left(- R r + a^{2} + r^{2}\\right)}{2 \\left(a^{2} \\cos^{2}{\\left(\\theta \\right)} + r^{2}\\right)}\\end{matrix}\\right] & \\left[\\begin{matrix}- \\frac{R a^{2} r \\sin{\\left(\\theta \\right)} \\cos{\\left(\\theta \\right)}}{\\left(a^{2} \\cos^{2}{\\left(\\theta \\right)} + r^{2}\\right)^{3}} & 0 & 0 & \\frac{\\frac{2 R a^{3} r \\sin^{3}{\\left(\\theta \\right)} \\cos{\\left(\\theta \\right)}}{\\left(a^{2} \\cos^{2}{\\left(\\theta \\right)} + r^{2}\\right)^{2}} + \\frac{2 R a r \\sin{\\left(\\theta \\right)} \\cos{\\left(\\theta \\right)}}{a^{2} \\cos^{2}{\\left(\\theta \\right)} + r^{2}}}{2 \\left(a^{2} \\cos^{2}{\\left(\\theta \\right)} + r^{2}\\right)}\\\\0 & \\frac{a^{2} \\sin{\\left(\\theta \\right)} \\cos{\\left(\\theta \\right)}}{\\left(a^{2} \\cos^{2}{\\left(\\theta \\right)} + r^{2}\\right) \\left(- R r + a^{2} + r^{2}\\right)} & \\frac{r}{a^{2} \\cos^{2}{\\left(\\theta \\right)} + r^{2}} & 0\\\\0 & \\frac{r}{a^{2} \\cos^{2}{\\left(\\theta \\right)} + r^{2}} & - \\frac{a^{2} \\sin{\\left(\\theta \\right)} \\cos{\\left(\\theta \\right)}}{a^{2} \\cos^{2}{\\left(\\theta \\right)} + r^{2}} & 0\\\\\\frac{\\frac{2 R a^{3} r \\sin^{3}{\\left(\\theta \\right)} \\cos{\\left(\\theta \\right)}}{\\left(a^{2} \\cos^{2}{\\left(\\theta \\right)} + r^{2}\\right)^{2}} + \\frac{2 R a r \\sin{\\left(\\theta \\right)} \\cos{\\left(\\theta \\right)}}{a^{2} \\cos^{2}{\\left(\\theta \\right)} + r^{2}}}{2 \\left(a^{2} \\cos^{2}{\\left(\\theta \\right)} + r^{2}\\right)} & 0 & 0 & \\frac{\\frac{2 a^{2} \\left(- R r + a^{2} + r^{2}\\right) \\sin^{3}{\\left(\\theta \\right)} \\cos{\\left(\\theta \\right)}}{a^{2} \\cos^{2}{\\left(\\theta \\right)} + r^{2}} - \\frac{2 a^{2} \\left(- a^{2} \\left(- R r + a^{2} + r^{2}\\right) \\sin^{2}{\\left(\\theta \\right)} + \\left(a^{2} + r^{2}\\right)^{2}\\right) \\sin^{3}{\\left(\\theta \\right)} \\cos{\\left(\\theta \\right)}}{\\left(a^{2} \\cos^{2}{\\left(\\theta \\right)} + r^{2}\\right)^{2}} - \\frac{2 \\left(- a^{2} \\left(- R r + a^{2} + r^{2}\\right) \\sin^{2}{\\left(\\theta \\right)} + \\left(a^{2} + r^{2}\\right)^{2}\\right) \\sin{\\left(\\theta \\right)} \\cos{\\left(\\theta \\right)}}{a^{2} \\cos^{2}{\\left(\\theta \\right)} + r^{2}}}{2 \\left(a^{2} \\cos^{2}{\\left(\\theta \\right)} + r^{2}\\right)}\\end{matrix}\\right] & \\left[\\begin{matrix}0 & \\frac{\\left(- \\frac{2 R r^{2}}{\\left(a^{2} \\cos^{2}{\\left(\\theta \\right)} + r^{2}\\right)^{2}} + \\frac{R}{a^{2} \\cos^{2}{\\left(\\theta \\right)} + r^{2}}\\right) \\left(- R a^{3} r \\cos^{2}{\\left(\\theta \\right)} - R a r^{3}\\right)}{2 \\left(R a^{4} r \\sin^{2}{\\left(\\theta \\right)} \\cos^{2}{\\left(\\theta \\right)} + R a^{4} r \\sin^{2}{\\left(\\theta \\right)} - R a^{4} r + 2 R a^{2} r^{3} \\sin^{2}{\\left(\\theta \\right)} - 2 R a^{2} r^{3} - R r^{5} - a^{6} \\sin^{2}{\\left(\\theta \\right)} \\cos^{2}{\\left(\\theta \\right)} + a^{6} \\cos^{2}{\\left(\\theta \\right)} - a^{4} r^{2} \\sin^{2}{\\left(\\theta \\right)} \\cos^{2}{\\left(\\theta \\right)} - a^{4} r^{2} \\sin^{2}{\\left(\\theta \\right)} + 2 a^{4} r^{2} \\cos^{2}{\\left(\\theta \\right)} + a^{4} r^{2} - a^{2} r^{4} \\sin^{2}{\\left(\\theta \\right)} + a^{2} r^{4} \\cos^{2}{\\left(\\theta \\right)} + 2 a^{2} r^{4} + r^{6}\\right)} + \\frac{\\left(\\frac{2 R a r^{2} \\sin^{2}{\\left(\\theta \\right)}}{\\left(a^{2} \\cos^{2}{\\left(\\theta \\right)} + r^{2}\\right)^{2}} - \\frac{R a \\sin^{2}{\\left(\\theta \\right)}}{a^{2} \\cos^{2}{\\left(\\theta \\right)} + r^{2}}\\right) \\left(- R a^{2} r \\cos^{2}{\\left(\\theta \\right)} - R r^{3} + a^{4} \\cos^{4}{\\left(\\theta \\right)} + 2 a^{2} r^{2} \\cos^{2}{\\left(\\theta \\right)} + r^{4}\\right)}{2 \\left(R a^{4} r \\sin^{4}{\\left(\\theta \\right)} \\cos^{2}{\\left(\\theta \\right)} + R a^{4} r \\sin^{4}{\\left(\\theta \\right)} - R a^{4} r \\sin^{2}{\\left(\\theta \\right)} + 2 R a^{2} r^{3} \\sin^{4}{\\left(\\theta \\right)} - 2 R a^{2} r^{3} \\sin^{2}{\\left(\\theta \\right)} - R r^{5} \\sin^{2}{\\left(\\theta \\right)} - a^{6} \\sin^{4}{\\left(\\theta \\right)} \\cos^{2}{\\left(\\theta \\right)} + a^{6} \\sin^{2}{\\left(\\theta \\right)} \\cos^{2}{\\left(\\theta \\right)} - a^{4} r^{2} \\sin^{4}{\\left(\\theta \\right)} \\cos^{2}{\\left(\\theta \\right)} - a^{4} r^{2} \\sin^{4}{\\left(\\theta \\right)} + 2 a^{4} r^{2} \\sin^{2}{\\left(\\theta \\right)} \\cos^{2}{\\left(\\theta \\right)} + a^{4} r^{2} \\sin^{2}{\\left(\\theta \\right)} - a^{2} r^{4} \\sin^{4}{\\left(\\theta \\right)} + a^{2} r^{4} \\sin^{2}{\\left(\\theta \\right)} \\cos^{2}{\\left(\\theta \\right)} + 2 a^{2} r^{4} \\sin^{2}{\\left(\\theta \\right)} + r^{6} \\sin^{2}{\\left(\\theta \\right)}\\right)} & \\frac{R a^{2} r \\left(- R a^{3} r \\cos^{2}{\\left(\\theta \\right)} - R a r^{3}\\right) \\sin{\\left(\\theta \\right)} \\cos{\\left(\\theta \\right)}}{\\left(a^{2} \\cos^{2}{\\left(\\theta \\right)} + r^{2}\\right)^{2} \\left(R a^{4} r \\sin^{2}{\\left(\\theta \\right)} \\cos^{2}{\\left(\\theta \\right)} + R a^{4} r \\sin^{2}{\\left(\\theta \\right)} - R a^{4} r + 2 R a^{2} r^{3} \\sin^{2}{\\left(\\theta \\right)} - 2 R a^{2} r^{3} - R r^{5} - a^{6} \\sin^{2}{\\left(\\theta \\right)} \\cos^{2}{\\left(\\theta \\right)} + a^{6} \\cos^{2}{\\left(\\theta \\right)} - a^{4} r^{2} \\sin^{2}{\\left(\\theta \\right)} \\cos^{2}{\\left(\\theta \\right)} - a^{4} r^{2} \\sin^{2}{\\left(\\theta \\right)} + 2 a^{4} r^{2} \\cos^{2}{\\left(\\theta \\right)} + a^{4} r^{2} - a^{2} r^{4} \\sin^{2}{\\left(\\theta \\right)} + a^{2} r^{4} \\cos^{2}{\\left(\\theta \\right)} + 2 a^{2} r^{4} + r^{6}\\right)} + \\frac{\\left(- \\frac{2 R a^{3} r \\sin^{3}{\\left(\\theta \\right)} \\cos{\\left(\\theta \\right)}}{\\left(a^{2} \\cos^{2}{\\left(\\theta \\right)} + r^{2}\\right)^{2}} - \\frac{2 R a r \\sin{\\left(\\theta \\right)} \\cos{\\left(\\theta \\right)}}{a^{2} \\cos^{2}{\\left(\\theta \\right)} + r^{2}}\\right) \\left(- R a^{2} r \\cos^{2}{\\left(\\theta \\right)} - R r^{3} + a^{4} \\cos^{4}{\\left(\\theta \\right)} + 2 a^{2} r^{2} \\cos^{2}{\\left(\\theta \\right)} + r^{4}\\right)}{2 \\left(R a^{4} r \\sin^{4}{\\left(\\theta \\right)} \\cos^{2}{\\left(\\theta \\right)} + R a^{4} r \\sin^{4}{\\left(\\theta \\right)} - R a^{4} r \\sin^{2}{\\left(\\theta \\right)} + 2 R a^{2} r^{3} \\sin^{4}{\\left(\\theta \\right)} - 2 R a^{2} r^{3} \\sin^{2}{\\left(\\theta \\right)} - R r^{5} \\sin^{2}{\\left(\\theta \\right)} - a^{6} \\sin^{4}{\\left(\\theta \\right)} \\cos^{2}{\\left(\\theta \\right)} + a^{6} \\sin^{2}{\\left(\\theta \\right)} \\cos^{2}{\\left(\\theta \\right)} - a^{4} r^{2} \\sin^{4}{\\left(\\theta \\right)} \\cos^{2}{\\left(\\theta \\right)} - a^{4} r^{2} \\sin^{4}{\\left(\\theta \\right)} + 2 a^{4} r^{2} \\sin^{2}{\\left(\\theta \\right)} \\cos^{2}{\\left(\\theta \\right)} + a^{4} r^{2} \\sin^{2}{\\left(\\theta \\right)} - a^{2} r^{4} \\sin^{4}{\\left(\\theta \\right)} + a^{2} r^{4} \\sin^{2}{\\left(\\theta \\right)} \\cos^{2}{\\left(\\theta \\right)} + 2 a^{2} r^{4} \\sin^{2}{\\left(\\theta \\right)} + r^{6} \\sin^{2}{\\left(\\theta \\right)}\\right)} & 0\\\\\\frac{\\left(- \\frac{2 R r^{2}}{\\left(a^{2} \\cos^{2}{\\left(\\theta \\right)} + r^{2}\\right)^{2}} + \\frac{R}{a^{2} \\cos^{2}{\\left(\\theta \\right)} + r^{2}}\\right) \\left(- R a^{3} r \\cos^{2}{\\left(\\theta \\right)} - R a r^{3}\\right)}{2 \\left(R a^{4} r \\sin^{2}{\\left(\\theta \\right)} \\cos^{2}{\\left(\\theta \\right)} + R a^{4} r \\sin^{2}{\\left(\\theta \\right)} - R a^{4} r + 2 R a^{2} r^{3} \\sin^{2}{\\left(\\theta \\right)} - 2 R a^{2} r^{3} - R r^{5} - a^{6} \\sin^{2}{\\left(\\theta \\right)} \\cos^{2}{\\left(\\theta \\right)} + a^{6} \\cos^{2}{\\left(\\theta \\right)} - a^{4} r^{2} \\sin^{2}{\\left(\\theta \\right)} \\cos^{2}{\\left(\\theta \\right)} - a^{4} r^{2} \\sin^{2}{\\left(\\theta \\right)} + 2 a^{4} r^{2} \\cos^{2}{\\left(\\theta \\right)} + a^{4} r^{2} - a^{2} r^{4} \\sin^{2}{\\left(\\theta \\right)} + a^{2} r^{4} \\cos^{2}{\\left(\\theta \\right)} + 2 a^{2} r^{4} + r^{6}\\right)} + \\frac{\\left(\\frac{2 R a r^{2} \\sin^{2}{\\left(\\theta \\right)}}{\\left(a^{2} \\cos^{2}{\\left(\\theta \\right)} + r^{2}\\right)^{2}} - \\frac{R a \\sin^{2}{\\left(\\theta \\right)}}{a^{2} \\cos^{2}{\\left(\\theta \\right)} + r^{2}}\\right) \\left(- R a^{2} r \\cos^{2}{\\left(\\theta \\right)} - R r^{3} + a^{4} \\cos^{4}{\\left(\\theta \\right)} + 2 a^{2} r^{2} \\cos^{2}{\\left(\\theta \\right)} + r^{4}\\right)}{2 \\left(R a^{4} r \\sin^{4}{\\left(\\theta \\right)} \\cos^{2}{\\left(\\theta \\right)} + R a^{4} r \\sin^{4}{\\left(\\theta \\right)} - R a^{4} r \\sin^{2}{\\left(\\theta \\right)} + 2 R a^{2} r^{3} \\sin^{4}{\\left(\\theta \\right)} - 2 R a^{2} r^{3} \\sin^{2}{\\left(\\theta \\right)} - R r^{5} \\sin^{2}{\\left(\\theta \\right)} - a^{6} \\sin^{4}{\\left(\\theta \\right)} \\cos^{2}{\\left(\\theta \\right)} + a^{6} \\sin^{2}{\\left(\\theta \\right)} \\cos^{2}{\\left(\\theta \\right)} - a^{4} r^{2} \\sin^{4}{\\left(\\theta \\right)} \\cos^{2}{\\left(\\theta \\right)} - a^{4} r^{2} \\sin^{4}{\\left(\\theta \\right)} + 2 a^{4} r^{2} \\sin^{2}{\\left(\\theta \\right)} \\cos^{2}{\\left(\\theta \\right)} + a^{4} r^{2} \\sin^{2}{\\left(\\theta \\right)} - a^{2} r^{4} \\sin^{4}{\\left(\\theta \\right)} + a^{2} r^{4} \\sin^{2}{\\left(\\theta \\right)} \\cos^{2}{\\left(\\theta \\right)} + 2 a^{2} r^{4} \\sin^{2}{\\left(\\theta \\right)} + r^{6} \\sin^{2}{\\left(\\theta \\right)}\\right)} & 0 & 0 & \\frac{\\left(- R a^{3} r \\cos^{2}{\\left(\\theta \\right)} - R a r^{3}\\right) \\left(\\frac{2 R a r^{2} \\sin^{2}{\\left(\\theta \\right)}}{\\left(a^{2} \\cos^{2}{\\left(\\theta \\right)} + r^{2}\\right)^{2}} - \\frac{R a \\sin^{2}{\\left(\\theta \\right)}}{a^{2} \\cos^{2}{\\left(\\theta \\right)} + r^{2}}\\right)}{2 \\left(R a^{4} r \\sin^{2}{\\left(\\theta \\right)} \\cos^{2}{\\left(\\theta \\right)} + R a^{4} r \\sin^{2}{\\left(\\theta \\right)} - R a^{4} r + 2 R a^{2} r^{3} \\sin^{2}{\\left(\\theta \\right)} - 2 R a^{2} r^{3} - R r^{5} - a^{6} \\sin^{2}{\\left(\\theta \\right)} \\cos^{2}{\\left(\\theta \\right)} + a^{6} \\cos^{2}{\\left(\\theta \\right)} - a^{4} r^{2} \\sin^{2}{\\left(\\theta \\right)} \\cos^{2}{\\left(\\theta \\right)} - a^{4} r^{2} \\sin^{2}{\\left(\\theta \\right)} + 2 a^{4} r^{2} \\cos^{2}{\\left(\\theta \\right)} + a^{4} r^{2} - a^{2} r^{4} \\sin^{2}{\\left(\\theta \\right)} + a^{2} r^{4} \\cos^{2}{\\left(\\theta \\right)} + 2 a^{2} r^{4} + r^{6}\\right)} + \\frac{\\left(- \\frac{2 r \\left(- a^{2} \\left(- R r + a^{2} + r^{2}\\right) \\sin^{2}{\\left(\\theta \\right)} + \\left(a^{2} + r^{2}\\right)^{2}\\right) \\sin^{2}{\\left(\\theta \\right)}}{\\left(a^{2} \\cos^{2}{\\left(\\theta \\right)} + r^{2}\\right)^{2}} + \\frac{\\left(- a^{2} \\left(- R + 2 r\\right) \\sin^{2}{\\left(\\theta \\right)} + 4 r \\left(a^{2} + r^{2}\\right)\\right) \\sin^{2}{\\left(\\theta \\right)}}{a^{2} \\cos^{2}{\\left(\\theta \\right)} + r^{2}}\\right) \\left(- R a^{2} r \\cos^{2}{\\left(\\theta \\right)} - R r^{3} + a^{4} \\cos^{4}{\\left(\\theta \\right)} + 2 a^{2} r^{2} \\cos^{2}{\\left(\\theta \\right)} + r^{4}\\right)}{2 \\left(R a^{4} r \\sin^{4}{\\left(\\theta \\right)} \\cos^{2}{\\left(\\theta \\right)} + R a^{4} r \\sin^{4}{\\left(\\theta \\right)} - R a^{4} r \\sin^{2}{\\left(\\theta \\right)} + 2 R a^{2} r^{3} \\sin^{4}{\\left(\\theta \\right)} - 2 R a^{2} r^{3} \\sin^{2}{\\left(\\theta \\right)} - R r^{5} \\sin^{2}{\\left(\\theta \\right)} - a^{6} \\sin^{4}{\\left(\\theta \\right)} \\cos^{2}{\\left(\\theta \\right)} + a^{6} \\sin^{2}{\\left(\\theta \\right)} \\cos^{2}{\\left(\\theta \\right)} - a^{4} r^{2} \\sin^{4}{\\left(\\theta \\right)} \\cos^{2}{\\left(\\theta \\right)} - a^{4} r^{2} \\sin^{4}{\\left(\\theta \\right)} + 2 a^{4} r^{2} \\sin^{2}{\\left(\\theta \\right)} \\cos^{2}{\\left(\\theta \\right)} + a^{4} r^{2} \\sin^{2}{\\left(\\theta \\right)} - a^{2} r^{4} \\sin^{4}{\\left(\\theta \\right)} + a^{2} r^{4} \\sin^{2}{\\left(\\theta \\right)} \\cos^{2}{\\left(\\theta \\right)} + 2 a^{2} r^{4} \\sin^{2}{\\left(\\theta \\right)} + r^{6} \\sin^{2}{\\left(\\theta \\right)}\\right)}\\\\\\frac{R a^{2} r \\left(- R a^{3} r \\cos^{2}{\\left(\\theta \\right)} - R a r^{3}\\right) \\sin{\\left(\\theta \\right)} \\cos{\\left(\\theta \\right)}}{\\left(a^{2} \\cos^{2}{\\left(\\theta \\right)} + r^{2}\\right)^{2} \\left(R a^{4} r \\sin^{2}{\\left(\\theta \\right)} \\cos^{2}{\\left(\\theta \\right)} + R a^{4} r \\sin^{2}{\\left(\\theta \\right)} - R a^{4} r + 2 R a^{2} r^{3} \\sin^{2}{\\left(\\theta \\right)} - 2 R a^{2} r^{3} - R r^{5} - a^{6} \\sin^{2}{\\left(\\theta \\right)} \\cos^{2}{\\left(\\theta \\right)} + a^{6} \\cos^{2}{\\left(\\theta \\right)} - a^{4} r^{2} \\sin^{2}{\\left(\\theta \\right)} \\cos^{2}{\\left(\\theta \\right)} - a^{4} r^{2} \\sin^{2}{\\left(\\theta \\right)} + 2 a^{4} r^{2} \\cos^{2}{\\left(\\theta \\right)} + a^{4} r^{2} - a^{2} r^{4} \\sin^{2}{\\left(\\theta \\right)} + a^{2} r^{4} \\cos^{2}{\\left(\\theta \\right)} + 2 a^{2} r^{4} + r^{6}\\right)} + \\frac{\\left(- \\frac{2 R a^{3} r \\sin^{3}{\\left(\\theta \\right)} \\cos{\\left(\\theta \\right)}}{\\left(a^{2} \\cos^{2}{\\left(\\theta \\right)} + r^{2}\\right)^{2}} - \\frac{2 R a r \\sin{\\left(\\theta \\right)} \\cos{\\left(\\theta \\right)}}{a^{2} \\cos^{2}{\\left(\\theta \\right)} + r^{2}}\\right) \\left(- R a^{2} r \\cos^{2}{\\left(\\theta \\right)} - R r^{3} + a^{4} \\cos^{4}{\\left(\\theta \\right)} + 2 a^{2} r^{2} \\cos^{2}{\\left(\\theta \\right)} + r^{4}\\right)}{2 \\left(R a^{4} r \\sin^{4}{\\left(\\theta \\right)} \\cos^{2}{\\left(\\theta \\right)} + R a^{4} r \\sin^{4}{\\left(\\theta \\right)} - R a^{4} r \\sin^{2}{\\left(\\theta \\right)} + 2 R a^{2} r^{3} \\sin^{4}{\\left(\\theta \\right)} - 2 R a^{2} r^{3} \\sin^{2}{\\left(\\theta \\right)} - R r^{5} \\sin^{2}{\\left(\\theta \\right)} - a^{6} \\sin^{4}{\\left(\\theta \\right)} \\cos^{2}{\\left(\\theta \\right)} + a^{6} \\sin^{2}{\\left(\\theta \\right)} \\cos^{2}{\\left(\\theta \\right)} - a^{4} r^{2} \\sin^{4}{\\left(\\theta \\right)} \\cos^{2}{\\left(\\theta \\right)} - a^{4} r^{2} \\sin^{4}{\\left(\\theta \\right)} + 2 a^{4} r^{2} \\sin^{2}{\\left(\\theta \\right)} \\cos^{2}{\\left(\\theta \\right)} + a^{4} r^{2} \\sin^{2}{\\left(\\theta \\right)} - a^{2} r^{4} \\sin^{4}{\\left(\\theta \\right)} + a^{2} r^{4} \\sin^{2}{\\left(\\theta \\right)} \\cos^{2}{\\left(\\theta \\right)} + 2 a^{2} r^{4} \\sin^{2}{\\left(\\theta \\right)} + r^{6} \\sin^{2}{\\left(\\theta \\right)}\\right)} & 0 & 0 & \\frac{\\left(- R a^{3} r \\cos^{2}{\\left(\\theta \\right)} - R a r^{3}\\right) \\left(- \\frac{2 R a^{3} r \\sin^{3}{\\left(\\theta \\right)} \\cos{\\left(\\theta \\right)}}{\\left(a^{2} \\cos^{2}{\\left(\\theta \\right)} + r^{2}\\right)^{2}} - \\frac{2 R a r \\sin{\\left(\\theta \\right)} \\cos{\\left(\\theta \\right)}}{a^{2} \\cos^{2}{\\left(\\theta \\right)} + r^{2}}\\right)}{2 \\left(R a^{4} r \\sin^{2}{\\left(\\theta \\right)} \\cos^{2}{\\left(\\theta \\right)} + R a^{4} r \\sin^{2}{\\left(\\theta \\right)} - R a^{4} r + 2 R a^{2} r^{3} \\sin^{2}{\\left(\\theta \\right)} - 2 R a^{2} r^{3} - R r^{5} - a^{6} \\sin^{2}{\\left(\\theta \\right)} \\cos^{2}{\\left(\\theta \\right)} + a^{6} \\cos^{2}{\\left(\\theta \\right)} - a^{4} r^{2} \\sin^{2}{\\left(\\theta \\right)} \\cos^{2}{\\left(\\theta \\right)} - a^{4} r^{2} \\sin^{2}{\\left(\\theta \\right)} + 2 a^{4} r^{2} \\cos^{2}{\\left(\\theta \\right)} + a^{4} r^{2} - a^{2} r^{4} \\sin^{2}{\\left(\\theta \\right)} + a^{2} r^{4} \\cos^{2}{\\left(\\theta \\right)} + 2 a^{2} r^{4} + r^{6}\\right)} + \\frac{\\left(- \\frac{2 a^{2} \\left(- R r + a^{2} + r^{2}\\right) \\sin^{3}{\\left(\\theta \\right)} \\cos{\\left(\\theta \\right)}}{a^{2} \\cos^{2}{\\left(\\theta \\right)} + r^{2}} + \\frac{2 a^{2} \\left(- a^{2} \\left(- R r + a^{2} + r^{2}\\right) \\sin^{2}{\\left(\\theta \\right)} + \\left(a^{2} + r^{2}\\right)^{2}\\right) \\sin^{3}{\\left(\\theta \\right)} \\cos{\\left(\\theta \\right)}}{\\left(a^{2} \\cos^{2}{\\left(\\theta \\right)} + r^{2}\\right)^{2}} + \\frac{2 \\left(- a^{2} \\left(- R r + a^{2} + r^{2}\\right) \\sin^{2}{\\left(\\theta \\right)} + \\left(a^{2} + r^{2}\\right)^{2}\\right) \\sin{\\left(\\theta \\right)} \\cos{\\left(\\theta \\right)}}{a^{2} \\cos^{2}{\\left(\\theta \\right)} + r^{2}}\\right) \\left(- R a^{2} r \\cos^{2}{\\left(\\theta \\right)} - R r^{3} + a^{4} \\cos^{4}{\\left(\\theta \\right)} + 2 a^{2} r^{2} \\cos^{2}{\\left(\\theta \\right)} + r^{4}\\right)}{2 \\left(R a^{4} r \\sin^{4}{\\left(\\theta \\right)} \\cos^{2}{\\left(\\theta \\right)} + R a^{4} r \\sin^{4}{\\left(\\theta \\right)} - R a^{4} r \\sin^{2}{\\left(\\theta \\right)} + 2 R a^{2} r^{3} \\sin^{4}{\\left(\\theta \\right)} - 2 R a^{2} r^{3} \\sin^{2}{\\left(\\theta \\right)} - R r^{5} \\sin^{2}{\\left(\\theta \\right)} - a^{6} \\sin^{4}{\\left(\\theta \\right)} \\cos^{2}{\\left(\\theta \\right)} + a^{6} \\sin^{2}{\\left(\\theta \\right)} \\cos^{2}{\\left(\\theta \\right)} - a^{4} r^{2} \\sin^{4}{\\left(\\theta \\right)} \\cos^{2}{\\left(\\theta \\right)} - a^{4} r^{2} \\sin^{4}{\\left(\\theta \\right)} + 2 a^{4} r^{2} \\sin^{2}{\\left(\\theta \\right)} \\cos^{2}{\\left(\\theta \\right)} + a^{4} r^{2} \\sin^{2}{\\left(\\theta \\right)} - a^{2} r^{4} \\sin^{4}{\\left(\\theta \\right)} + a^{2} r^{4} \\sin^{2}{\\left(\\theta \\right)} \\cos^{2}{\\left(\\theta \\right)} + 2 a^{2} r^{4} \\sin^{2}{\\left(\\theta \\right)} + r^{6} \\sin^{2}{\\left(\\theta \\right)}\\right)}\\\\0 & \\frac{\\left(- R a^{3} r \\cos^{2}{\\left(\\theta \\right)} - R a r^{3}\\right) \\left(\\frac{2 R a r^{2} \\sin^{2}{\\left(\\theta \\right)}}{\\left(a^{2} \\cos^{2}{\\left(\\theta \\right)} + r^{2}\\right)^{2}} - \\frac{R a \\sin^{2}{\\left(\\theta \\right)}}{a^{2} \\cos^{2}{\\left(\\theta \\right)} + r^{2}}\\right)}{2 \\left(R a^{4} r \\sin^{2}{\\left(\\theta \\right)} \\cos^{2}{\\left(\\theta \\right)} + R a^{4} r \\sin^{2}{\\left(\\theta \\right)} - R a^{4} r + 2 R a^{2} r^{3} \\sin^{2}{\\left(\\theta \\right)} - 2 R a^{2} r^{3} - R r^{5} - a^{6} \\sin^{2}{\\left(\\theta \\right)} \\cos^{2}{\\left(\\theta \\right)} + a^{6} \\cos^{2}{\\left(\\theta \\right)} - a^{4} r^{2} \\sin^{2}{\\left(\\theta \\right)} \\cos^{2}{\\left(\\theta \\right)} - a^{4} r^{2} \\sin^{2}{\\left(\\theta \\right)} + 2 a^{4} r^{2} \\cos^{2}{\\left(\\theta \\right)} + a^{4} r^{2} - a^{2} r^{4} \\sin^{2}{\\left(\\theta \\right)} + a^{2} r^{4} \\cos^{2}{\\left(\\theta \\right)} + 2 a^{2} r^{4} + r^{6}\\right)} + \\frac{\\left(- \\frac{2 r \\left(- a^{2} \\left(- R r + a^{2} + r^{2}\\right) \\sin^{2}{\\left(\\theta \\right)} + \\left(a^{2} + r^{2}\\right)^{2}\\right) \\sin^{2}{\\left(\\theta \\right)}}{\\left(a^{2} \\cos^{2}{\\left(\\theta \\right)} + r^{2}\\right)^{2}} + \\frac{\\left(- a^{2} \\left(- R + 2 r\\right) \\sin^{2}{\\left(\\theta \\right)} + 4 r \\left(a^{2} + r^{2}\\right)\\right) \\sin^{2}{\\left(\\theta \\right)}}{a^{2} \\cos^{2}{\\left(\\theta \\right)} + r^{2}}\\right) \\left(- R a^{2} r \\cos^{2}{\\left(\\theta \\right)} - R r^{3} + a^{4} \\cos^{4}{\\left(\\theta \\right)} + 2 a^{2} r^{2} \\cos^{2}{\\left(\\theta \\right)} + r^{4}\\right)}{2 \\left(R a^{4} r \\sin^{4}{\\left(\\theta \\right)} \\cos^{2}{\\left(\\theta \\right)} + R a^{4} r \\sin^{4}{\\left(\\theta \\right)} - R a^{4} r \\sin^{2}{\\left(\\theta \\right)} + 2 R a^{2} r^{3} \\sin^{4}{\\left(\\theta \\right)} - 2 R a^{2} r^{3} \\sin^{2}{\\left(\\theta \\right)} - R r^{5} \\sin^{2}{\\left(\\theta \\right)} - a^{6} \\sin^{4}{\\left(\\theta \\right)} \\cos^{2}{\\left(\\theta \\right)} + a^{6} \\sin^{2}{\\left(\\theta \\right)} \\cos^{2}{\\left(\\theta \\right)} - a^{4} r^{2} \\sin^{4}{\\left(\\theta \\right)} \\cos^{2}{\\left(\\theta \\right)} - a^{4} r^{2} \\sin^{4}{\\left(\\theta \\right)} + 2 a^{4} r^{2} \\sin^{2}{\\left(\\theta \\right)} \\cos^{2}{\\left(\\theta \\right)} + a^{4} r^{2} \\sin^{2}{\\left(\\theta \\right)} - a^{2} r^{4} \\sin^{4}{\\left(\\theta \\right)} + a^{2} r^{4} \\sin^{2}{\\left(\\theta \\right)} \\cos^{2}{\\left(\\theta \\right)} + 2 a^{2} r^{4} \\sin^{2}{\\left(\\theta \\right)} + r^{6} \\sin^{2}{\\left(\\theta \\right)}\\right)} & \\frac{\\left(- R a^{3} r \\cos^{2}{\\left(\\theta \\right)} - R a r^{3}\\right) \\left(- \\frac{2 R a^{3} r \\sin^{3}{\\left(\\theta \\right)} \\cos{\\left(\\theta \\right)}}{\\left(a^{2} \\cos^{2}{\\left(\\theta \\right)} + r^{2}\\right)^{2}} - \\frac{2 R a r \\sin{\\left(\\theta \\right)} \\cos{\\left(\\theta \\right)}}{a^{2} \\cos^{2}{\\left(\\theta \\right)} + r^{2}}\\right)}{2 \\left(R a^{4} r \\sin^{2}{\\left(\\theta \\right)} \\cos^{2}{\\left(\\theta \\right)} + R a^{4} r \\sin^{2}{\\left(\\theta \\right)} - R a^{4} r + 2 R a^{2} r^{3} \\sin^{2}{\\left(\\theta \\right)} - 2 R a^{2} r^{3} - R r^{5} - a^{6} \\sin^{2}{\\left(\\theta \\right)} \\cos^{2}{\\left(\\theta \\right)} + a^{6} \\cos^{2}{\\left(\\theta \\right)} - a^{4} r^{2} \\sin^{2}{\\left(\\theta \\right)} \\cos^{2}{\\left(\\theta \\right)} - a^{4} r^{2} \\sin^{2}{\\left(\\theta \\right)} + 2 a^{4} r^{2} \\cos^{2}{\\left(\\theta \\right)} + a^{4} r^{2} - a^{2} r^{4} \\sin^{2}{\\left(\\theta \\right)} + a^{2} r^{4} \\cos^{2}{\\left(\\theta \\right)} + 2 a^{2} r^{4} + r^{6}\\right)} + \\frac{\\left(- \\frac{2 a^{2} \\left(- R r + a^{2} + r^{2}\\right) \\sin^{3}{\\left(\\theta \\right)} \\cos{\\left(\\theta \\right)}}{a^{2} \\cos^{2}{\\left(\\theta \\right)} + r^{2}} + \\frac{2 a^{2} \\left(- a^{2} \\left(- R r + a^{2} + r^{2}\\right) \\sin^{2}{\\left(\\theta \\right)} + \\left(a^{2} + r^{2}\\right)^{2}\\right) \\sin^{3}{\\left(\\theta \\right)} \\cos{\\left(\\theta \\right)}}{\\left(a^{2} \\cos^{2}{\\left(\\theta \\right)} + r^{2}\\right)^{2}} + \\frac{2 \\left(- a^{2} \\left(- R r + a^{2} + r^{2}\\right) \\sin^{2}{\\left(\\theta \\right)} + \\left(a^{2} + r^{2}\\right)^{2}\\right) \\sin{\\left(\\theta \\right)} \\cos{\\left(\\theta \\right)}}{a^{2} \\cos^{2}{\\left(\\theta \\right)} + r^{2}}\\right) \\left(- R a^{2} r \\cos^{2}{\\left(\\theta \\right)} - R r^{3} + a^{4} \\cos^{4}{\\left(\\theta \\right)} + 2 a^{2} r^{2} \\cos^{2}{\\left(\\theta \\right)} + r^{4}\\right)}{2 \\left(R a^{4} r \\sin^{4}{\\left(\\theta \\right)} \\cos^{2}{\\left(\\theta \\right)} + R a^{4} r \\sin^{4}{\\left(\\theta \\right)} - R a^{4} r \\sin^{2}{\\left(\\theta \\right)} + 2 R a^{2} r^{3} \\sin^{4}{\\left(\\theta \\right)} - 2 R a^{2} r^{3} \\sin^{2}{\\left(\\theta \\right)} - R r^{5} \\sin^{2}{\\left(\\theta \\right)} - a^{6} \\sin^{4}{\\left(\\theta \\right)} \\cos^{2}{\\left(\\theta \\right)} + a^{6} \\sin^{2}{\\left(\\theta \\right)} \\cos^{2}{\\left(\\theta \\right)} - a^{4} r^{2} \\sin^{4}{\\left(\\theta \\right)} \\cos^{2}{\\left(\\theta \\right)} - a^{4} r^{2} \\sin^{4}{\\left(\\theta \\right)} + 2 a^{4} r^{2} \\sin^{2}{\\left(\\theta \\right)} \\cos^{2}{\\left(\\theta \\right)} + a^{4} r^{2} \\sin^{2}{\\left(\\theta \\right)} - a^{2} r^{4} \\sin^{4}{\\left(\\theta \\right)} + a^{2} r^{4} \\sin^{2}{\\left(\\theta \\right)} \\cos^{2}{\\left(\\theta \\right)} + 2 a^{2} r^{4} \\sin^{2}{\\left(\\theta \\right)} + r^{6} \\sin^{2}{\\left(\\theta \\right)}\\right)} & 0\\end{matrix}\\right]\\end{matrix}\\right]$",
            "text/plain": [
              "[[[0, (-2*R*r**2/(a**2*cos(theta)**2 + r**2)**2 + R/(a**2*cos(theta)**2 + r**2))*(-R*a**4*r*sin(theta)**2*cos(theta)**2 - R*a**2*r**3*sin(theta)**2 + a**6*sin(theta)**2*cos(theta)**2 - a**6*cos(theta)**2 + a**4*r**2*sin(theta)**2*cos(theta)**2 + a**4*r**2*sin(theta)**2 - 2*a**4*r**2*cos(theta)**2 - a**4*r**2 + a**2*r**4*sin(theta)**2 - a**2*r**4*cos(theta)**2 - 2*a**2*r**4 - r**6)/(2*(R*a**4*r*sin(theta)**2*cos(theta)**2 + R*a**4*r*sin(theta)**2 - R*a**4*r + 2*R*a**2*r**3*sin(theta)**2 - 2*R*a**2*r**3 - R*r**5 - a**6*sin(theta)**2*cos(theta)**2 + a**6*cos(theta)**2 - a**4*r**2*sin(theta)**2*cos(theta)**2 - a**4*r**2*sin(theta)**2 + 2*a**4*r**2*cos(theta)**2 + a**4*r**2 - a**2*r**4*sin(theta)**2 + a**2*r**4*cos(theta)**2 + 2*a**2*r**4 + r**6)) + (-R*a**3*r*cos(theta)**2 - R*a*r**3)*(2*R*a*r**2*sin(theta)**2/(a**2*cos(theta)**2 + r**2)**2 - R*a*sin(theta)**2/(a**2*cos(theta)**2 + r**2))/(2*(R*a**4*r*sin(theta)**2*cos(theta)**2 + R*a**4*r*sin(theta)**2 - R*a**4*r + 2*R*a**2*r**3*sin(theta)**2 - 2*R*a**2*r**3 - R*r**5 - a**6*sin(theta)**2*cos(theta)**2 + a**6*cos(theta)**2 - a**4*r**2*sin(theta)**2*cos(theta)**2 - a**4*r**2*sin(theta)**2 + 2*a**4*r**2*cos(theta)**2 + a**4*r**2 - a**2*r**4*sin(theta)**2 + a**2*r**4*cos(theta)**2 + 2*a**2*r**4 + r**6)), R*a**2*r*(-R*a**4*r*sin(theta)**2*cos(theta)**2 - R*a**2*r**3*sin(theta)**2 + a**6*sin(theta)**2*cos(theta)**2 - a**6*cos(theta)**2 + a**4*r**2*sin(theta)**2*cos(theta)**2 + a**4*r**2*sin(theta)**2 - 2*a**4*r**2*cos(theta)**2 - a**4*r**2 + a**2*r**4*sin(theta)**2 - a**2*r**4*cos(theta)**2 - 2*a**2*r**4 - r**6)*sin(theta)*cos(theta)/((a**2*cos(theta)**2 + r**2)**2*(R*a**4*r*sin(theta)**2*cos(theta)**2 + R*a**4*r*sin(theta)**2 - R*a**4*r + 2*R*a**2*r**3*sin(theta)**2 - 2*R*a**2*r**3 - R*r**5 - a**6*sin(theta)**2*cos(theta)**2 + a**6*cos(theta)**2 - a**4*r**2*sin(theta)**2*cos(theta)**2 - a**4*r**2*sin(theta)**2 + 2*a**4*r**2*cos(theta)**2 + a**4*r**2 - a**2*r**4*sin(theta)**2 + a**2*r**4*cos(theta)**2 + 2*a**2*r**4 + r**6)) + (-R*a**3*r*cos(theta)**2 - R*a*r**3)*(-2*R*a**3*r*sin(theta)**3*cos(theta)/(a**2*cos(theta)**2 + r**2)**2 - 2*R*a*r*sin(theta)*cos(theta)/(a**2*cos(theta)**2 + r**2))/(2*(R*a**4*r*sin(theta)**2*cos(theta)**2 + R*a**4*r*sin(theta)**2 - R*a**4*r + 2*R*a**2*r**3*sin(theta)**2 - 2*R*a**2*r**3 - R*r**5 - a**6*sin(theta)**2*cos(theta)**2 + a**6*cos(theta)**2 - a**4*r**2*sin(theta)**2*cos(theta)**2 - a**4*r**2*sin(theta)**2 + 2*a**4*r**2*cos(theta)**2 + a**4*r**2 - a**2*r**4*sin(theta)**2 + a**2*r**4*cos(theta)**2 + 2*a**2*r**4 + r**6)), 0], [(-2*R*r**2/(a**2*cos(theta)**2 + r**2)**2 + R/(a**2*cos(theta)**2 + r**2))*(-R*a**4*r*sin(theta)**2*cos(theta)**2 - R*a**2*r**3*sin(theta)**2 + a**6*sin(theta)**2*cos(theta)**2 - a**6*cos(theta)**2 + a**4*r**2*sin(theta)**2*cos(theta)**2 + a**4*r**2*sin(theta)**2 - 2*a**4*r**2*cos(theta)**2 - a**4*r**2 + a**2*r**4*sin(theta)**2 - a**2*r**4*cos(theta)**2 - 2*a**2*r**4 - r**6)/(2*(R*a**4*r*sin(theta)**2*cos(theta)**2 + R*a**4*r*sin(theta)**2 - R*a**4*r + 2*R*a**2*r**3*sin(theta)**2 - 2*R*a**2*r**3 - R*r**5 - a**6*sin(theta)**2*cos(theta)**2 + a**6*cos(theta)**2 - a**4*r**2*sin(theta)**2*cos(theta)**2 - a**4*r**2*sin(theta)**2 + 2*a**4*r**2*cos(theta)**2 + a**4*r**2 - a**2*r**4*sin(theta)**2 + a**2*r**4*cos(theta)**2 + 2*a**2*r**4 + r**6)) + (-R*a**3*r*cos(theta)**2 - R*a*r**3)*(2*R*a*r**2*sin(theta)**2/(a**2*cos(theta)**2 + r**2)**2 - R*a*sin(theta)**2/(a**2*cos(theta)**2 + r**2))/(2*(R*a**4*r*sin(theta)**2*cos(theta)**2 + R*a**4*r*sin(theta)**2 - R*a**4*r + 2*R*a**2*r**3*sin(theta)**2 - 2*R*a**2*r**3 - R*r**5 - a**6*sin(theta)**2*cos(theta)**2 + a**6*cos(theta)**2 - a**4*r**2*sin(theta)**2*cos(theta)**2 - a**4*r**2*sin(theta)**2 + 2*a**4*r**2*cos(theta)**2 + a**4*r**2 - a**2*r**4*sin(theta)**2 + a**2*r**4*cos(theta)**2 + 2*a**2*r**4 + r**6)), 0, 0, (-R*a**3*r*cos(theta)**2 - R*a*r**3)*(-2*r*(-a**2*(-R*r + a**2 + r**2)*sin(theta)**2 + (a**2 + r**2)**2)*sin(theta)**2/(a**2*cos(theta)**2 + r**2)**2 + (-a**2*(-R + 2*r)*sin(theta)**2 + 4*r*(a**2 + r**2))*sin(theta)**2/(a**2*cos(theta)**2 + r**2))/(2*(R*a**4*r*sin(theta)**2*cos(theta)**2 + R*a**4*r*sin(theta)**2 - R*a**4*r + 2*R*a**2*r**3*sin(theta)**2 - 2*R*a**2*r**3 - R*r**5 - a**6*sin(theta)**2*cos(theta)**2 + a**6*cos(theta)**2 - a**4*r**2*sin(theta)**2*cos(theta)**2 - a**4*r**2*sin(theta)**2 + 2*a**4*r**2*cos(theta)**2 + a**4*r**2 - a**2*r**4*sin(theta)**2 + a**2*r**4*cos(theta)**2 + 2*a**2*r**4 + r**6)) + (2*R*a*r**2*sin(theta)**2/(a**2*cos(theta)**2 + r**2)**2 - R*a*sin(theta)**2/(a**2*cos(theta)**2 + r**2))*(-R*a**4*r*sin(theta)**2*cos(theta)**2 - R*a**2*r**3*sin(theta)**2 + a**6*sin(theta)**2*cos(theta)**2 - a**6*cos(theta)**2 + a**4*r**2*sin(theta)**2*cos(theta)**2 + a**4*r**2*sin(theta)**2 - 2*a**4*r**2*cos(theta)**2 - a**4*r**2 + a**2*r**4*sin(theta)**2 - a**2*r**4*cos(theta)**2 - 2*a**2*r**4 - r**6)/(2*(R*a**4*r*sin(theta)**2*cos(theta)**2 + R*a**4*r*sin(theta)**2 - R*a**4*r + 2*R*a**2*r**3*sin(theta)**2 - 2*R*a**2*r**3 - R*r**5 - a**6*sin(theta)**2*cos(theta)**2 + a**6*cos(theta)**2 - a**4*r**2*sin(theta)**2*cos(theta)**2 - a**4*r**2*sin(theta)**2 + 2*a**4*r**2*cos(theta)**2 + a**4*r**2 - a**2*r**4*sin(theta)**2 + a**2*r**4*cos(theta)**2 + 2*a**2*r**4 + r**6))], [R*a**2*r*(-R*a**4*r*sin(theta)**2*cos(theta)**2 - R*a**2*r**3*sin(theta)**2 + a**6*sin(theta)**2*cos(theta)**2 - a**6*cos(theta)**2 + a**4*r**2*sin(theta)**2*cos(theta)**2 + a**4*r**2*sin(theta)**2 - 2*a**4*r**2*cos(theta)**2 - a**4*r**2 + a**2*r**4*sin(theta)**2 - a**2*r**4*cos(theta)**2 - 2*a**2*r**4 - r**6)*sin(theta)*cos(theta)/((a**2*cos(theta)**2 + r**2)**2*(R*a**4*r*sin(theta)**2*cos(theta)**2 + R*a**4*r*sin(theta)**2 - R*a**4*r + 2*R*a**2*r**3*sin(theta)**2 - 2*R*a**2*r**3 - R*r**5 - a**6*sin(theta)**2*cos(theta)**2 + a**6*cos(theta)**2 - a**4*r**2*sin(theta)**2*cos(theta)**2 - a**4*r**2*sin(theta)**2 + 2*a**4*r**2*cos(theta)**2 + a**4*r**2 - a**2*r**4*sin(theta)**2 + a**2*r**4*cos(theta)**2 + 2*a**2*r**4 + r**6)) + (-R*a**3*r*cos(theta)**2 - R*a*r**3)*(-2*R*a**3*r*sin(theta)**3*cos(theta)/(a**2*cos(theta)**2 + r**2)**2 - 2*R*a*r*sin(theta)*cos(theta)/(a**2*cos(theta)**2 + r**2))/(2*(R*a**4*r*sin(theta)**2*cos(theta)**2 + R*a**4*r*sin(theta)**2 - R*a**4*r + 2*R*a**2*r**3*sin(theta)**2 - 2*R*a**2*r**3 - R*r**5 - a**6*sin(theta)**2*cos(theta)**2 + a**6*cos(theta)**2 - a**4*r**2*sin(theta)**2*cos(theta)**2 - a**4*r**2*sin(theta)**2 + 2*a**4*r**2*cos(theta)**2 + a**4*r**2 - a**2*r**4*sin(theta)**2 + a**2*r**4*cos(theta)**2 + 2*a**2*r**4 + r**6)), 0, 0, (-R*a**3*r*cos(theta)**2 - R*a*r**3)*(-2*a**2*(-R*r + a**2 + r**2)*sin(theta)**3*cos(theta)/(a**2*cos(theta)**2 + r**2) + 2*a**2*(-a**2*(-R*r + a**2 + r**2)*sin(theta)**2 + (a**2 + r**2)**2)*sin(theta)**3*cos(theta)/(a**2*cos(theta)**2 + r**2)**2 + 2*(-a**2*(-R*r + a**2 + r**2)*sin(theta)**2 + (a**2 + r**2)**2)*sin(theta)*cos(theta)/(a**2*cos(theta)**2 + r**2))/(2*(R*a**4*r*sin(theta)**2*cos(theta)**2 + R*a**4*r*sin(theta)**2 - R*a**4*r + 2*R*a**2*r**3*sin(theta)**2 - 2*R*a**2*r**3 - R*r**5 - a**6*sin(theta)**2*cos(theta)**2 + a**6*cos(theta)**2 - a**4*r**2*sin(theta)**2*cos(theta)**2 - a**4*r**2*sin(theta)**2 + 2*a**4*r**2*cos(theta)**2 + a**4*r**2 - a**2*r**4*sin(theta)**2 + a**2*r**4*cos(theta)**2 + 2*a**2*r**4 + r**6)) + (-2*R*a**3*r*sin(theta)**3*cos(theta)/(a**2*cos(theta)**2 + r**2)**2 - 2*R*a*r*sin(theta)*cos(theta)/(a**2*cos(theta)**2 + r**2))*(-R*a**4*r*sin(theta)**2*cos(theta)**2 - R*a**2*r**3*sin(theta)**2 + a**6*sin(theta)**2*cos(theta)**2 - a**6*cos(theta)**2 + a**4*r**2*sin(theta)**2*cos(theta)**2 + a**4*r**2*sin(theta)**2 - 2*a**4*r**2*cos(theta)**2 - a**4*r**2 + a**2*r**4*sin(theta)**2 - a**2*r**4*cos(theta)**2 - 2*a**2*r**4 - r**6)/(2*(R*a**4*r*sin(theta)**2*cos(theta)**2 + R*a**4*r*sin(theta)**2 - R*a**4*r + 2*R*a**2*r**3*sin(theta)**2 - 2*R*a**2*r**3 - R*r**5 - a**6*sin(theta)**2*cos(theta)**2 + a**6*cos(theta)**2 - a**4*r**2*sin(theta)**2*cos(theta)**2 - a**4*r**2*sin(theta)**2 + 2*a**4*r**2*cos(theta)**2 + a**4*r**2 - a**2*r**4*sin(theta)**2 + a**2*r**4*cos(theta)**2 + 2*a**2*r**4 + r**6))], [0, (-R*a**3*r*cos(theta)**2 - R*a*r**3)*(-2*r*(-a**2*(-R*r + a**2 + r**2)*sin(theta)**2 + (a**2 + r**2)**2)*sin(theta)**2/(a**2*cos(theta)**2 + r**2)**2 + (-a**2*(-R + 2*r)*sin(theta)**2 + 4*r*(a**2 + r**2))*sin(theta)**2/(a**2*cos(theta)**2 + r**2))/(2*(R*a**4*r*sin(theta)**2*cos(theta)**2 + R*a**4*r*sin(theta)**2 - R*a**4*r + 2*R*a**2*r**3*sin(theta)**2 - 2*R*a**2*r**3 - R*r**5 - a**6*sin(theta)**2*cos(theta)**2 + a**6*cos(theta)**2 - a**4*r**2*sin(theta)**2*cos(theta)**2 - a**4*r**2*sin(theta)**2 + 2*a**4*r**2*cos(theta)**2 + a**4*r**2 - a**2*r**4*sin(theta)**2 + a**2*r**4*cos(theta)**2 + 2*a**2*r**4 + r**6)) + (2*R*a*r**2*sin(theta)**2/(a**2*cos(theta)**2 + r**2)**2 - R*a*sin(theta)**2/(a**2*cos(theta)**2 + r**2))*(-R*a**4*r*sin(theta)**2*cos(theta)**2 - R*a**2*r**3*sin(theta)**2 + a**6*sin(theta)**2*cos(theta)**2 - a**6*cos(theta)**2 + a**4*r**2*sin(theta)**2*cos(theta)**2 + a**4*r**2*sin(theta)**2 - 2*a**4*r**2*cos(theta)**2 - a**4*r**2 + a**2*r**4*sin(theta)**2 - a**2*r**4*cos(theta)**2 - 2*a**2*r**4 - r**6)/(2*(R*a**4*r*sin(theta)**2*cos(theta)**2 + R*a**4*r*sin(theta)**2 - R*a**4*r + 2*R*a**2*r**3*sin(theta)**2 - 2*R*a**2*r**3 - R*r**5 - a**6*sin(theta)**2*cos(theta)**2 + a**6*cos(theta)**2 - a**4*r**2*sin(theta)**2*cos(theta)**2 - a**4*r**2*sin(theta)**2 + 2*a**4*r**2*cos(theta)**2 + a**4*r**2 - a**2*r**4*sin(theta)**2 + a**2*r**4*cos(theta)**2 + 2*a**2*r**4 + r**6)), (-R*a**3*r*cos(theta)**2 - R*a*r**3)*(-2*a**2*(-R*r + a**2 + r**2)*sin(theta)**3*cos(theta)/(a**2*cos(theta)**2 + r**2) + 2*a**2*(-a**2*(-R*r + a**2 + r**2)*sin(theta)**2 + (a**2 + r**2)**2)*sin(theta)**3*cos(theta)/(a**2*cos(theta)**2 + r**2)**2 + 2*(-a**2*(-R*r + a**2 + r**2)*sin(theta)**2 + (a**2 + r**2)**2)*sin(theta)*cos(theta)/(a**2*cos(theta)**2 + r**2))/(2*(R*a**4*r*sin(theta)**2*cos(theta)**2 + R*a**4*r*sin(theta)**2 - R*a**4*r + 2*R*a**2*r**3*sin(theta)**2 - 2*R*a**2*r**3 - R*r**5 - a**6*sin(theta)**2*cos(theta)**2 + a**6*cos(theta)**2 - a**4*r**2*sin(theta)**2*cos(theta)**2 - a**4*r**2*sin(theta)**2 + 2*a**4*r**2*cos(theta)**2 + a**4*r**2 - a**2*r**4*sin(theta)**2 + a**2*r**4*cos(theta)**2 + 2*a**2*r**4 + r**6)) + (-2*R*a**3*r*sin(theta)**3*cos(theta)/(a**2*cos(theta)**2 + r**2)**2 - 2*R*a*r*sin(theta)*cos(theta)/(a**2*cos(theta)**2 + r**2))*(-R*a**4*r*sin(theta)**2*cos(theta)**2 - R*a**2*r**3*sin(theta)**2 + a**6*sin(theta)**2*cos(theta)**2 - a**6*cos(theta)**2 + a**4*r**2*sin(theta)**2*cos(theta)**2 + a**4*r**2*sin(theta)**2 - 2*a**4*r**2*cos(theta)**2 - a**4*r**2 + a**2*r**4*sin(theta)**2 - a**2*r**4*cos(theta)**2 - 2*a**2*r**4 - r**6)/(2*(R*a**4*r*sin(theta)**2*cos(theta)**2 + R*a**4*r*sin(theta)**2 - R*a**4*r + 2*R*a**2*r**3*sin(theta)**2 - 2*R*a**2*r**3 - R*r**5 - a**6*sin(theta)**2*cos(theta)**2 + a**6*cos(theta)**2 - a**4*r**2*sin(theta)**2*cos(theta)**2 - a**4*r**2*sin(theta)**2 + 2*a**4*r**2*cos(theta)**2 + a**4*r**2 - a**2*r**4*sin(theta)**2 + a**2*r**4*cos(theta)**2 + 2*a**2*r**4 + r**6)), 0]], [[(2*R*r**2/(a**2*cos(theta)**2 + r**2)**2 - R/(a**2*cos(theta)**2 + r**2))*(-R*r + a**2 + r**2)/(2*(a**2*cos(theta)**2 + r**2)), 0, 0, (-2*R*a*r**2*sin(theta)**2/(a**2*cos(theta)**2 + r**2)**2 + R*a*sin(theta)**2/(a**2*cos(theta)**2 + r**2))*(-R*r + a**2 + r**2)/(2*(a**2*cos(theta)**2 + r**2))], [0, (2*r/(-R*r + a**2 + r**2) + (R - 2*r)*(a**2*cos(theta)**2 + r**2)/(-R*r + a**2 + r**2)**2)*(-R*r + a**2 + r**2)/(2*(a**2*cos(theta)**2 + r**2)), -a**2*sin(theta)*cos(theta)/(a**2*cos(theta)**2 + r**2), 0], [0, -a**2*sin(theta)*cos(theta)/(a**2*cos(theta)**2 + r**2), -r*(-R*r + a**2 + r**2)/(a**2*cos(theta)**2 + r**2), 0], [(-2*R*a*r**2*sin(theta)**2/(a**2*cos(theta)**2 + r**2)**2 + R*a*sin(theta)**2/(a**2*cos(theta)**2 + r**2))*(-R*r + a**2 + r**2)/(2*(a**2*cos(theta)**2 + r**2)), 0, 0, (2*r*(-a**2*(-R*r + a**2 + r**2)*sin(theta)**2 + (a**2 + r**2)**2)*sin(theta)**2/(a**2*cos(theta)**2 + r**2)**2 - (-a**2*(-R + 2*r)*sin(theta)**2 + 4*r*(a**2 + r**2))*sin(theta)**2/(a**2*cos(theta)**2 + r**2))*(-R*r + a**2 + r**2)/(2*(a**2*cos(theta)**2 + r**2))]], [[-R*a**2*r*sin(theta)*cos(theta)/(a**2*cos(theta)**2 + r**2)**3, 0, 0, (2*R*a**3*r*sin(theta)**3*cos(theta)/(a**2*cos(theta)**2 + r**2)**2 + 2*R*a*r*sin(theta)*cos(theta)/(a**2*cos(theta)**2 + r**2))/(2*(a**2*cos(theta)**2 + r**2))], [0, a**2*sin(theta)*cos(theta)/((a**2*cos(theta)**2 + r**2)*(-R*r + a**2 + r**2)), r/(a**2*cos(theta)**2 + r**2), 0], [0, r/(a**2*cos(theta)**2 + r**2), -a**2*sin(theta)*cos(theta)/(a**2*cos(theta)**2 + r**2), 0], [(2*R*a**3*r*sin(theta)**3*cos(theta)/(a**2*cos(theta)**2 + r**2)**2 + 2*R*a*r*sin(theta)*cos(theta)/(a**2*cos(theta)**2 + r**2))/(2*(a**2*cos(theta)**2 + r**2)), 0, 0, (2*a**2*(-R*r + a**2 + r**2)*sin(theta)**3*cos(theta)/(a**2*cos(theta)**2 + r**2) - 2*a**2*(-a**2*(-R*r + a**2 + r**2)*sin(theta)**2 + (a**2 + r**2)**2)*sin(theta)**3*cos(theta)/(a**2*cos(theta)**2 + r**2)**2 - 2*(-a**2*(-R*r + a**2 + r**2)*sin(theta)**2 + (a**2 + r**2)**2)*sin(theta)*cos(theta)/(a**2*cos(theta)**2 + r**2))/(2*(a**2*cos(theta)**2 + r**2))]], [[0, (-2*R*r**2/(a**2*cos(theta)**2 + r**2)**2 + R/(a**2*cos(theta)**2 + r**2))*(-R*a**3*r*cos(theta)**2 - R*a*r**3)/(2*(R*a**4*r*sin(theta)**2*cos(theta)**2 + R*a**4*r*sin(theta)**2 - R*a**4*r + 2*R*a**2*r**3*sin(theta)**2 - 2*R*a**2*r**3 - R*r**5 - a**6*sin(theta)**2*cos(theta)**2 + a**6*cos(theta)**2 - a**4*r**2*sin(theta)**2*cos(theta)**2 - a**4*r**2*sin(theta)**2 + 2*a**4*r**2*cos(theta)**2 + a**4*r**2 - a**2*r**4*sin(theta)**2 + a**2*r**4*cos(theta)**2 + 2*a**2*r**4 + r**6)) + (2*R*a*r**2*sin(theta)**2/(a**2*cos(theta)**2 + r**2)**2 - R*a*sin(theta)**2/(a**2*cos(theta)**2 + r**2))*(-R*a**2*r*cos(theta)**2 - R*r**3 + a**4*cos(theta)**4 + 2*a**2*r**2*cos(theta)**2 + r**4)/(2*(R*a**4*r*sin(theta)**4*cos(theta)**2 + R*a**4*r*sin(theta)**4 - R*a**4*r*sin(theta)**2 + 2*R*a**2*r**3*sin(theta)**4 - 2*R*a**2*r**3*sin(theta)**2 - R*r**5*sin(theta)**2 - a**6*sin(theta)**4*cos(theta)**2 + a**6*sin(theta)**2*cos(theta)**2 - a**4*r**2*sin(theta)**4*cos(theta)**2 - a**4*r**2*sin(theta)**4 + 2*a**4*r**2*sin(theta)**2*cos(theta)**2 + a**4*r**2*sin(theta)**2 - a**2*r**4*sin(theta)**4 + a**2*r**4*sin(theta)**2*cos(theta)**2 + 2*a**2*r**4*sin(theta)**2 + r**6*sin(theta)**2)), R*a**2*r*(-R*a**3*r*cos(theta)**2 - R*a*r**3)*sin(theta)*cos(theta)/((a**2*cos(theta)**2 + r**2)**2*(R*a**4*r*sin(theta)**2*cos(theta)**2 + R*a**4*r*sin(theta)**2 - R*a**4*r + 2*R*a**2*r**3*sin(theta)**2 - 2*R*a**2*r**3 - R*r**5 - a**6*sin(theta)**2*cos(theta)**2 + a**6*cos(theta)**2 - a**4*r**2*sin(theta)**2*cos(theta)**2 - a**4*r**2*sin(theta)**2 + 2*a**4*r**2*cos(theta)**2 + a**4*r**2 - a**2*r**4*sin(theta)**2 + a**2*r**4*cos(theta)**2 + 2*a**2*r**4 + r**6)) + (-2*R*a**3*r*sin(theta)**3*cos(theta)/(a**2*cos(theta)**2 + r**2)**2 - 2*R*a*r*sin(theta)*cos(theta)/(a**2*cos(theta)**2 + r**2))*(-R*a**2*r*cos(theta)**2 - R*r**3 + a**4*cos(theta)**4 + 2*a**2*r**2*cos(theta)**2 + r**4)/(2*(R*a**4*r*sin(theta)**4*cos(theta)**2 + R*a**4*r*sin(theta)**4 - R*a**4*r*sin(theta)**2 + 2*R*a**2*r**3*sin(theta)**4 - 2*R*a**2*r**3*sin(theta)**2 - R*r**5*sin(theta)**2 - a**6*sin(theta)**4*cos(theta)**2 + a**6*sin(theta)**2*cos(theta)**2 - a**4*r**2*sin(theta)**4*cos(theta)**2 - a**4*r**2*sin(theta)**4 + 2*a**4*r**2*sin(theta)**2*cos(theta)**2 + a**4*r**2*sin(theta)**2 - a**2*r**4*sin(theta)**4 + a**2*r**4*sin(theta)**2*cos(theta)**2 + 2*a**2*r**4*sin(theta)**2 + r**6*sin(theta)**2)), 0], [(-2*R*r**2/(a**2*cos(theta)**2 + r**2)**2 + R/(a**2*cos(theta)**2 + r**2))*(-R*a**3*r*cos(theta)**2 - R*a*r**3)/(2*(R*a**4*r*sin(theta)**2*cos(theta)**2 + R*a**4*r*sin(theta)**2 - R*a**4*r + 2*R*a**2*r**3*sin(theta)**2 - 2*R*a**2*r**3 - R*r**5 - a**6*sin(theta)**2*cos(theta)**2 + a**6*cos(theta)**2 - a**4*r**2*sin(theta)**2*cos(theta)**2 - a**4*r**2*sin(theta)**2 + 2*a**4*r**2*cos(theta)**2 + a**4*r**2 - a**2*r**4*sin(theta)**2 + a**2*r**4*cos(theta)**2 + 2*a**2*r**4 + r**6)) + (2*R*a*r**2*sin(theta)**2/(a**2*cos(theta)**2 + r**2)**2 - R*a*sin(theta)**2/(a**2*cos(theta)**2 + r**2))*(-R*a**2*r*cos(theta)**2 - R*r**3 + a**4*cos(theta)**4 + 2*a**2*r**2*cos(theta)**2 + r**4)/(2*(R*a**4*r*sin(theta)**4*cos(theta)**2 + R*a**4*r*sin(theta)**4 - R*a**4*r*sin(theta)**2 + 2*R*a**2*r**3*sin(theta)**4 - 2*R*a**2*r**3*sin(theta)**2 - R*r**5*sin(theta)**2 - a**6*sin(theta)**4*cos(theta)**2 + a**6*sin(theta)**2*cos(theta)**2 - a**4*r**2*sin(theta)**4*cos(theta)**2 - a**4*r**2*sin(theta)**4 + 2*a**4*r**2*sin(theta)**2*cos(theta)**2 + a**4*r**2*sin(theta)**2 - a**2*r**4*sin(theta)**4 + a**2*r**4*sin(theta)**2*cos(theta)**2 + 2*a**2*r**4*sin(theta)**2 + r**6*sin(theta)**2)), 0, 0, (-R*a**3*r*cos(theta)**2 - R*a*r**3)*(2*R*a*r**2*sin(theta)**2/(a**2*cos(theta)**2 + r**2)**2 - R*a*sin(theta)**2/(a**2*cos(theta)**2 + r**2))/(2*(R*a**4*r*sin(theta)**2*cos(theta)**2 + R*a**4*r*sin(theta)**2 - R*a**4*r + 2*R*a**2*r**3*sin(theta)**2 - 2*R*a**2*r**3 - R*r**5 - a**6*sin(theta)**2*cos(theta)**2 + a**6*cos(theta)**2 - a**4*r**2*sin(theta)**2*cos(theta)**2 - a**4*r**2*sin(theta)**2 + 2*a**4*r**2*cos(theta)**2 + a**4*r**2 - a**2*r**4*sin(theta)**2 + a**2*r**4*cos(theta)**2 + 2*a**2*r**4 + r**6)) + (-2*r*(-a**2*(-R*r + a**2 + r**2)*sin(theta)**2 + (a**2 + r**2)**2)*sin(theta)**2/(a**2*cos(theta)**2 + r**2)**2 + (-a**2*(-R + 2*r)*sin(theta)**2 + 4*r*(a**2 + r**2))*sin(theta)**2/(a**2*cos(theta)**2 + r**2))*(-R*a**2*r*cos(theta)**2 - R*r**3 + a**4*cos(theta)**4 + 2*a**2*r**2*cos(theta)**2 + r**4)/(2*(R*a**4*r*sin(theta)**4*cos(theta)**2 + R*a**4*r*sin(theta)**4 - R*a**4*r*sin(theta)**2 + 2*R*a**2*r**3*sin(theta)**4 - 2*R*a**2*r**3*sin(theta)**2 - R*r**5*sin(theta)**2 - a**6*sin(theta)**4*cos(theta)**2 + a**6*sin(theta)**2*cos(theta)**2 - a**4*r**2*sin(theta)**4*cos(theta)**2 - a**4*r**2*sin(theta)**4 + 2*a**4*r**2*sin(theta)**2*cos(theta)**2 + a**4*r**2*sin(theta)**2 - a**2*r**4*sin(theta)**4 + a**2*r**4*sin(theta)**2*cos(theta)**2 + 2*a**2*r**4*sin(theta)**2 + r**6*sin(theta)**2))], [R*a**2*r*(-R*a**3*r*cos(theta)**2 - R*a*r**3)*sin(theta)*cos(theta)/((a**2*cos(theta)**2 + r**2)**2*(R*a**4*r*sin(theta)**2*cos(theta)**2 + R*a**4*r*sin(theta)**2 - R*a**4*r + 2*R*a**2*r**3*sin(theta)**2 - 2*R*a**2*r**3 - R*r**5 - a**6*sin(theta)**2*cos(theta)**2 + a**6*cos(theta)**2 - a**4*r**2*sin(theta)**2*cos(theta)**2 - a**4*r**2*sin(theta)**2 + 2*a**4*r**2*cos(theta)**2 + a**4*r**2 - a**2*r**4*sin(theta)**2 + a**2*r**4*cos(theta)**2 + 2*a**2*r**4 + r**6)) + (-2*R*a**3*r*sin(theta)**3*cos(theta)/(a**2*cos(theta)**2 + r**2)**2 - 2*R*a*r*sin(theta)*cos(theta)/(a**2*cos(theta)**2 + r**2))*(-R*a**2*r*cos(theta)**2 - R*r**3 + a**4*cos(theta)**4 + 2*a**2*r**2*cos(theta)**2 + r**4)/(2*(R*a**4*r*sin(theta)**4*cos(theta)**2 + R*a**4*r*sin(theta)**4 - R*a**4*r*sin(theta)**2 + 2*R*a**2*r**3*sin(theta)**4 - 2*R*a**2*r**3*sin(theta)**2 - R*r**5*sin(theta)**2 - a**6*sin(theta)**4*cos(theta)**2 + a**6*sin(theta)**2*cos(theta)**2 - a**4*r**2*sin(theta)**4*cos(theta)**2 - a**4*r**2*sin(theta)**4 + 2*a**4*r**2*sin(theta)**2*cos(theta)**2 + a**4*r**2*sin(theta)**2 - a**2*r**4*sin(theta)**4 + a**2*r**4*sin(theta)**2*cos(theta)**2 + 2*a**2*r**4*sin(theta)**2 + r**6*sin(theta)**2)), 0, 0, (-R*a**3*r*cos(theta)**2 - R*a*r**3)*(-2*R*a**3*r*sin(theta)**3*cos(theta)/(a**2*cos(theta)**2 + r**2)**2 - 2*R*a*r*sin(theta)*cos(theta)/(a**2*cos(theta)**2 + r**2))/(2*(R*a**4*r*sin(theta)**2*cos(theta)**2 + R*a**4*r*sin(theta)**2 - R*a**4*r + 2*R*a**2*r**3*sin(theta)**2 - 2*R*a**2*r**3 - R*r**5 - a**6*sin(theta)**2*cos(theta)**2 + a**6*cos(theta)**2 - a**4*r**2*sin(theta)**2*cos(theta)**2 - a**4*r**2*sin(theta)**2 + 2*a**4*r**2*cos(theta)**2 + a**4*r**2 - a**2*r**4*sin(theta)**2 + a**2*r**4*cos(theta)**2 + 2*a**2*r**4 + r**6)) + (-2*a**2*(-R*r + a**2 + r**2)*sin(theta)**3*cos(theta)/(a**2*cos(theta)**2 + r**2) + 2*a**2*(-a**2*(-R*r + a**2 + r**2)*sin(theta)**2 + (a**2 + r**2)**2)*sin(theta)**3*cos(theta)/(a**2*cos(theta)**2 + r**2)**2 + 2*(-a**2*(-R*r + a**2 + r**2)*sin(theta)**2 + (a**2 + r**2)**2)*sin(theta)*cos(theta)/(a**2*cos(theta)**2 + r**2))*(-R*a**2*r*cos(theta)**2 - R*r**3 + a**4*cos(theta)**4 + 2*a**2*r**2*cos(theta)**2 + r**4)/(2*(R*a**4*r*sin(theta)**4*cos(theta)**2 + R*a**4*r*sin(theta)**4 - R*a**4*r*sin(theta)**2 + 2*R*a**2*r**3*sin(theta)**4 - 2*R*a**2*r**3*sin(theta)**2 - R*r**5*sin(theta)**2 - a**6*sin(theta)**4*cos(theta)**2 + a**6*sin(theta)**2*cos(theta)**2 - a**4*r**2*sin(theta)**4*cos(theta)**2 - a**4*r**2*sin(theta)**4 + 2*a**4*r**2*sin(theta)**2*cos(theta)**2 + a**4*r**2*sin(theta)**2 - a**2*r**4*sin(theta)**4 + a**2*r**4*sin(theta)**2*cos(theta)**2 + 2*a**2*r**4*sin(theta)**2 + r**6*sin(theta)**2))], [0, (-R*a**3*r*cos(theta)**2 - R*a*r**3)*(2*R*a*r**2*sin(theta)**2/(a**2*cos(theta)**2 + r**2)**2 - R*a*sin(theta)**2/(a**2*cos(theta)**2 + r**2))/(2*(R*a**4*r*sin(theta)**2*cos(theta)**2 + R*a**4*r*sin(theta)**2 - R*a**4*r + 2*R*a**2*r**3*sin(theta)**2 - 2*R*a**2*r**3 - R*r**5 - a**6*sin(theta)**2*cos(theta)**2 + a**6*cos(theta)**2 - a**4*r**2*sin(theta)**2*cos(theta)**2 - a**4*r**2*sin(theta)**2 + 2*a**4*r**2*cos(theta)**2 + a**4*r**2 - a**2*r**4*sin(theta)**2 + a**2*r**4*cos(theta)**2 + 2*a**2*r**4 + r**6)) + (-2*r*(-a**2*(-R*r + a**2 + r**2)*sin(theta)**2 + (a**2 + r**2)**2)*sin(theta)**2/(a**2*cos(theta)**2 + r**2)**2 + (-a**2*(-R + 2*r)*sin(theta)**2 + 4*r*(a**2 + r**2))*sin(theta)**2/(a**2*cos(theta)**2 + r**2))*(-R*a**2*r*cos(theta)**2 - R*r**3 + a**4*cos(theta)**4 + 2*a**2*r**2*cos(theta)**2 + r**4)/(2*(R*a**4*r*sin(theta)**4*cos(theta)**2 + R*a**4*r*sin(theta)**4 - R*a**4*r*sin(theta)**2 + 2*R*a**2*r**3*sin(theta)**4 - 2*R*a**2*r**3*sin(theta)**2 - R*r**5*sin(theta)**2 - a**6*sin(theta)**4*cos(theta)**2 + a**6*sin(theta)**2*cos(theta)**2 - a**4*r**2*sin(theta)**4*cos(theta)**2 - a**4*r**2*sin(theta)**4 + 2*a**4*r**2*sin(theta)**2*cos(theta)**2 + a**4*r**2*sin(theta)**2 - a**2*r**4*sin(theta)**4 + a**2*r**4*sin(theta)**2*cos(theta)**2 + 2*a**2*r**4*sin(theta)**2 + r**6*sin(theta)**2)), (-R*a**3*r*cos(theta)**2 - R*a*r**3)*(-2*R*a**3*r*sin(theta)**3*cos(theta)/(a**2*cos(theta)**2 + r**2)**2 - 2*R*a*r*sin(theta)*cos(theta)/(a**2*cos(theta)**2 + r**2))/(2*(R*a**4*r*sin(theta)**2*cos(theta)**2 + R*a**4*r*sin(theta)**2 - R*a**4*r + 2*R*a**2*r**3*sin(theta)**2 - 2*R*a**2*r**3 - R*r**5 - a**6*sin(theta)**2*cos(theta)**2 + a**6*cos(theta)**2 - a**4*r**2*sin(theta)**2*cos(theta)**2 - a**4*r**2*sin(theta)**2 + 2*a**4*r**2*cos(theta)**2 + a**4*r**2 - a**2*r**4*sin(theta)**2 + a**2*r**4*cos(theta)**2 + 2*a**2*r**4 + r**6)) + (-2*a**2*(-R*r + a**2 + r**2)*sin(theta)**3*cos(theta)/(a**2*cos(theta)**2 + r**2) + 2*a**2*(-a**2*(-R*r + a**2 + r**2)*sin(theta)**2 + (a**2 + r**2)**2)*sin(theta)**3*cos(theta)/(a**2*cos(theta)**2 + r**2)**2 + 2*(-a**2*(-R*r + a**2 + r**2)*sin(theta)**2 + (a**2 + r**2)**2)*sin(theta)*cos(theta)/(a**2*cos(theta)**2 + r**2))*(-R*a**2*r*cos(theta)**2 - R*r**3 + a**4*cos(theta)**4 + 2*a**2*r**2*cos(theta)**2 + r**4)/(2*(R*a**4*r*sin(theta)**4*cos(theta)**2 + R*a**4*r*sin(theta)**4 - R*a**4*r*sin(theta)**2 + 2*R*a**2*r**3*sin(theta)**4 - 2*R*a**2*r**3*sin(theta)**2 - R*r**5*sin(theta)**2 - a**6*sin(theta)**4*cos(theta)**2 + a**6*sin(theta)**2*cos(theta)**2 - a**4*r**2*sin(theta)**4*cos(theta)**2 - a**4*r**2*sin(theta)**4 + 2*a**4*r**2*sin(theta)**2*cos(theta)**2 + a**4*r**2*sin(theta)**2 - a**2*r**4*sin(theta)**4 + a**2*r**4*sin(theta)**2*cos(theta)**2 + 2*a**2*r**4*sin(theta)**2 + r**6*sin(theta)**2)), 0]]]"
            ]
          },
          "metadata": {
            "tags": []
          },
          "execution_count": 27
        }
      ]
    },
    {
      "cell_type": "code",
      "metadata": {
        "colab": {
          "base_uri": "https://localhost:8080/",
          "height": 2430
        },
        "id": "di69nI-cFyh3",
        "outputId": "5c1d4209-4b58-4054-f6a0-6e81b4b3b0b6"
      },
      "source": [
        "for i, j, k in product(range(4), range(4), range(4)):\n",
        "    if kerr_ch[i, j, k] != 0:\n",
        "        display(Math(f'\\Gamma^{i}_{{{j},{k}}} = ' + latex(kerr_ch[i, j, k])))"
      ],
      "execution_count": 28,
      "outputs": [
        {
          "output_type": "display_data",
          "data": {
            "text/latex": "$$\\Gamma^0_{0,1} = \\frac{\\left(- \\frac{2 R r^{2}}{\\left(a^{2} \\cos^{2}{\\left(\\theta \\right)} + r^{2}\\right)^{2}} + \\frac{R}{a^{2} \\cos^{2}{\\left(\\theta \\right)} + r^{2}}\\right) \\left(- R a^{4} r \\sin^{2}{\\left(\\theta \\right)} \\cos^{2}{\\left(\\theta \\right)} - R a^{2} r^{3} \\sin^{2}{\\left(\\theta \\right)} + a^{6} \\sin^{2}{\\left(\\theta \\right)} \\cos^{2}{\\left(\\theta \\right)} - a^{6} \\cos^{2}{\\left(\\theta \\right)} + a^{4} r^{2} \\sin^{2}{\\left(\\theta \\right)} \\cos^{2}{\\left(\\theta \\right)} + a^{4} r^{2} \\sin^{2}{\\left(\\theta \\right)} - 2 a^{4} r^{2} \\cos^{2}{\\left(\\theta \\right)} - a^{4} r^{2} + a^{2} r^{4} \\sin^{2}{\\left(\\theta \\right)} - a^{2} r^{4} \\cos^{2}{\\left(\\theta \\right)} - 2 a^{2} r^{4} - r^{6}\\right)}{2 \\left(R a^{4} r \\sin^{2}{\\left(\\theta \\right)} \\cos^{2}{\\left(\\theta \\right)} + R a^{4} r \\sin^{2}{\\left(\\theta \\right)} - R a^{4} r + 2 R a^{2} r^{3} \\sin^{2}{\\left(\\theta \\right)} - 2 R a^{2} r^{3} - R r^{5} - a^{6} \\sin^{2}{\\left(\\theta \\right)} \\cos^{2}{\\left(\\theta \\right)} + a^{6} \\cos^{2}{\\left(\\theta \\right)} - a^{4} r^{2} \\sin^{2}{\\left(\\theta \\right)} \\cos^{2}{\\left(\\theta \\right)} - a^{4} r^{2} \\sin^{2}{\\left(\\theta \\right)} + 2 a^{4} r^{2} \\cos^{2}{\\left(\\theta \\right)} + a^{4} r^{2} - a^{2} r^{4} \\sin^{2}{\\left(\\theta \\right)} + a^{2} r^{4} \\cos^{2}{\\left(\\theta \\right)} + 2 a^{2} r^{4} + r^{6}\\right)} + \\frac{\\left(- R a^{3} r \\cos^{2}{\\left(\\theta \\right)} - R a r^{3}\\right) \\left(\\frac{2 R a r^{2} \\sin^{2}{\\left(\\theta \\right)}}{\\left(a^{2} \\cos^{2}{\\left(\\theta \\right)} + r^{2}\\right)^{2}} - \\frac{R a \\sin^{2}{\\left(\\theta \\right)}}{a^{2} \\cos^{2}{\\left(\\theta \\right)} + r^{2}}\\right)}{2 \\left(R a^{4} r \\sin^{2}{\\left(\\theta \\right)} \\cos^{2}{\\left(\\theta \\right)} + R a^{4} r \\sin^{2}{\\left(\\theta \\right)} - R a^{4} r + 2 R a^{2} r^{3} \\sin^{2}{\\left(\\theta \\right)} - 2 R a^{2} r^{3} - R r^{5} - a^{6} \\sin^{2}{\\left(\\theta \\right)} \\cos^{2}{\\left(\\theta \\right)} + a^{6} \\cos^{2}{\\left(\\theta \\right)} - a^{4} r^{2} \\sin^{2}{\\left(\\theta \\right)} \\cos^{2}{\\left(\\theta \\right)} - a^{4} r^{2} \\sin^{2}{\\left(\\theta \\right)} + 2 a^{4} r^{2} \\cos^{2}{\\left(\\theta \\right)} + a^{4} r^{2} - a^{2} r^{4} \\sin^{2}{\\left(\\theta \\right)} + a^{2} r^{4} \\cos^{2}{\\left(\\theta \\right)} + 2 a^{2} r^{4} + r^{6}\\right)}$$",
            "text/plain": [
              "<IPython.core.display.Math object>"
            ]
          },
          "metadata": {
            "tags": []
          }
        },
        {
          "output_type": "display_data",
          "data": {
            "text/latex": "$$\\Gamma^0_{0,2} = \\frac{R a^{2} r \\left(- R a^{4} r \\sin^{2}{\\left(\\theta \\right)} \\cos^{2}{\\left(\\theta \\right)} - R a^{2} r^{3} \\sin^{2}{\\left(\\theta \\right)} + a^{6} \\sin^{2}{\\left(\\theta \\right)} \\cos^{2}{\\left(\\theta \\right)} - a^{6} \\cos^{2}{\\left(\\theta \\right)} + a^{4} r^{2} \\sin^{2}{\\left(\\theta \\right)} \\cos^{2}{\\left(\\theta \\right)} + a^{4} r^{2} \\sin^{2}{\\left(\\theta \\right)} - 2 a^{4} r^{2} \\cos^{2}{\\left(\\theta \\right)} - a^{4} r^{2} + a^{2} r^{4} \\sin^{2}{\\left(\\theta \\right)} - a^{2} r^{4} \\cos^{2}{\\left(\\theta \\right)} - 2 a^{2} r^{4} - r^{6}\\right) \\sin{\\left(\\theta \\right)} \\cos{\\left(\\theta \\right)}}{\\left(a^{2} \\cos^{2}{\\left(\\theta \\right)} + r^{2}\\right)^{2} \\left(R a^{4} r \\sin^{2}{\\left(\\theta \\right)} \\cos^{2}{\\left(\\theta \\right)} + R a^{4} r \\sin^{2}{\\left(\\theta \\right)} - R a^{4} r + 2 R a^{2} r^{3} \\sin^{2}{\\left(\\theta \\right)} - 2 R a^{2} r^{3} - R r^{5} - a^{6} \\sin^{2}{\\left(\\theta \\right)} \\cos^{2}{\\left(\\theta \\right)} + a^{6} \\cos^{2}{\\left(\\theta \\right)} - a^{4} r^{2} \\sin^{2}{\\left(\\theta \\right)} \\cos^{2}{\\left(\\theta \\right)} - a^{4} r^{2} \\sin^{2}{\\left(\\theta \\right)} + 2 a^{4} r^{2} \\cos^{2}{\\left(\\theta \\right)} + a^{4} r^{2} - a^{2} r^{4} \\sin^{2}{\\left(\\theta \\right)} + a^{2} r^{4} \\cos^{2}{\\left(\\theta \\right)} + 2 a^{2} r^{4} + r^{6}\\right)} + \\frac{\\left(- R a^{3} r \\cos^{2}{\\left(\\theta \\right)} - R a r^{3}\\right) \\left(- \\frac{2 R a^{3} r \\sin^{3}{\\left(\\theta \\right)} \\cos{\\left(\\theta \\right)}}{\\left(a^{2} \\cos^{2}{\\left(\\theta \\right)} + r^{2}\\right)^{2}} - \\frac{2 R a r \\sin{\\left(\\theta \\right)} \\cos{\\left(\\theta \\right)}}{a^{2} \\cos^{2}{\\left(\\theta \\right)} + r^{2}}\\right)}{2 \\left(R a^{4} r \\sin^{2}{\\left(\\theta \\right)} \\cos^{2}{\\left(\\theta \\right)} + R a^{4} r \\sin^{2}{\\left(\\theta \\right)} - R a^{4} r + 2 R a^{2} r^{3} \\sin^{2}{\\left(\\theta \\right)} - 2 R a^{2} r^{3} - R r^{5} - a^{6} \\sin^{2}{\\left(\\theta \\right)} \\cos^{2}{\\left(\\theta \\right)} + a^{6} \\cos^{2}{\\left(\\theta \\right)} - a^{4} r^{2} \\sin^{2}{\\left(\\theta \\right)} \\cos^{2}{\\left(\\theta \\right)} - a^{4} r^{2} \\sin^{2}{\\left(\\theta \\right)} + 2 a^{4} r^{2} \\cos^{2}{\\left(\\theta \\right)} + a^{4} r^{2} - a^{2} r^{4} \\sin^{2}{\\left(\\theta \\right)} + a^{2} r^{4} \\cos^{2}{\\left(\\theta \\right)} + 2 a^{2} r^{4} + r^{6}\\right)}$$",
            "text/plain": [
              "<IPython.core.display.Math object>"
            ]
          },
          "metadata": {
            "tags": []
          }
        },
        {
          "output_type": "display_data",
          "data": {
            "text/latex": "$$\\Gamma^0_{1,0} = \\frac{\\left(- \\frac{2 R r^{2}}{\\left(a^{2} \\cos^{2}{\\left(\\theta \\right)} + r^{2}\\right)^{2}} + \\frac{R}{a^{2} \\cos^{2}{\\left(\\theta \\right)} + r^{2}}\\right) \\left(- R a^{4} r \\sin^{2}{\\left(\\theta \\right)} \\cos^{2}{\\left(\\theta \\right)} - R a^{2} r^{3} \\sin^{2}{\\left(\\theta \\right)} + a^{6} \\sin^{2}{\\left(\\theta \\right)} \\cos^{2}{\\left(\\theta \\right)} - a^{6} \\cos^{2}{\\left(\\theta \\right)} + a^{4} r^{2} \\sin^{2}{\\left(\\theta \\right)} \\cos^{2}{\\left(\\theta \\right)} + a^{4} r^{2} \\sin^{2}{\\left(\\theta \\right)} - 2 a^{4} r^{2} \\cos^{2}{\\left(\\theta \\right)} - a^{4} r^{2} + a^{2} r^{4} \\sin^{2}{\\left(\\theta \\right)} - a^{2} r^{4} \\cos^{2}{\\left(\\theta \\right)} - 2 a^{2} r^{4} - r^{6}\\right)}{2 \\left(R a^{4} r \\sin^{2}{\\left(\\theta \\right)} \\cos^{2}{\\left(\\theta \\right)} + R a^{4} r \\sin^{2}{\\left(\\theta \\right)} - R a^{4} r + 2 R a^{2} r^{3} \\sin^{2}{\\left(\\theta \\right)} - 2 R a^{2} r^{3} - R r^{5} - a^{6} \\sin^{2}{\\left(\\theta \\right)} \\cos^{2}{\\left(\\theta \\right)} + a^{6} \\cos^{2}{\\left(\\theta \\right)} - a^{4} r^{2} \\sin^{2}{\\left(\\theta \\right)} \\cos^{2}{\\left(\\theta \\right)} - a^{4} r^{2} \\sin^{2}{\\left(\\theta \\right)} + 2 a^{4} r^{2} \\cos^{2}{\\left(\\theta \\right)} + a^{4} r^{2} - a^{2} r^{4} \\sin^{2}{\\left(\\theta \\right)} + a^{2} r^{4} \\cos^{2}{\\left(\\theta \\right)} + 2 a^{2} r^{4} + r^{6}\\right)} + \\frac{\\left(- R a^{3} r \\cos^{2}{\\left(\\theta \\right)} - R a r^{3}\\right) \\left(\\frac{2 R a r^{2} \\sin^{2}{\\left(\\theta \\right)}}{\\left(a^{2} \\cos^{2}{\\left(\\theta \\right)} + r^{2}\\right)^{2}} - \\frac{R a \\sin^{2}{\\left(\\theta \\right)}}{a^{2} \\cos^{2}{\\left(\\theta \\right)} + r^{2}}\\right)}{2 \\left(R a^{4} r \\sin^{2}{\\left(\\theta \\right)} \\cos^{2}{\\left(\\theta \\right)} + R a^{4} r \\sin^{2}{\\left(\\theta \\right)} - R a^{4} r + 2 R a^{2} r^{3} \\sin^{2}{\\left(\\theta \\right)} - 2 R a^{2} r^{3} - R r^{5} - a^{6} \\sin^{2}{\\left(\\theta \\right)} \\cos^{2}{\\left(\\theta \\right)} + a^{6} \\cos^{2}{\\left(\\theta \\right)} - a^{4} r^{2} \\sin^{2}{\\left(\\theta \\right)} \\cos^{2}{\\left(\\theta \\right)} - a^{4} r^{2} \\sin^{2}{\\left(\\theta \\right)} + 2 a^{4} r^{2} \\cos^{2}{\\left(\\theta \\right)} + a^{4} r^{2} - a^{2} r^{4} \\sin^{2}{\\left(\\theta \\right)} + a^{2} r^{4} \\cos^{2}{\\left(\\theta \\right)} + 2 a^{2} r^{4} + r^{6}\\right)}$$",
            "text/plain": [
              "<IPython.core.display.Math object>"
            ]
          },
          "metadata": {
            "tags": []
          }
        },
        {
          "output_type": "display_data",
          "data": {
            "text/latex": "$$\\Gamma^0_{1,3} = \\frac{\\left(- R a^{3} r \\cos^{2}{\\left(\\theta \\right)} - R a r^{3}\\right) \\left(- \\frac{2 r \\left(- a^{2} \\left(- R r + a^{2} + r^{2}\\right) \\sin^{2}{\\left(\\theta \\right)} + \\left(a^{2} + r^{2}\\right)^{2}\\right) \\sin^{2}{\\left(\\theta \\right)}}{\\left(a^{2} \\cos^{2}{\\left(\\theta \\right)} + r^{2}\\right)^{2}} + \\frac{\\left(- a^{2} \\left(- R + 2 r\\right) \\sin^{2}{\\left(\\theta \\right)} + 4 r \\left(a^{2} + r^{2}\\right)\\right) \\sin^{2}{\\left(\\theta \\right)}}{a^{2} \\cos^{2}{\\left(\\theta \\right)} + r^{2}}\\right)}{2 \\left(R a^{4} r \\sin^{2}{\\left(\\theta \\right)} \\cos^{2}{\\left(\\theta \\right)} + R a^{4} r \\sin^{2}{\\left(\\theta \\right)} - R a^{4} r + 2 R a^{2} r^{3} \\sin^{2}{\\left(\\theta \\right)} - 2 R a^{2} r^{3} - R r^{5} - a^{6} \\sin^{2}{\\left(\\theta \\right)} \\cos^{2}{\\left(\\theta \\right)} + a^{6} \\cos^{2}{\\left(\\theta \\right)} - a^{4} r^{2} \\sin^{2}{\\left(\\theta \\right)} \\cos^{2}{\\left(\\theta \\right)} - a^{4} r^{2} \\sin^{2}{\\left(\\theta \\right)} + 2 a^{4} r^{2} \\cos^{2}{\\left(\\theta \\right)} + a^{4} r^{2} - a^{2} r^{4} \\sin^{2}{\\left(\\theta \\right)} + a^{2} r^{4} \\cos^{2}{\\left(\\theta \\right)} + 2 a^{2} r^{4} + r^{6}\\right)} + \\frac{\\left(\\frac{2 R a r^{2} \\sin^{2}{\\left(\\theta \\right)}}{\\left(a^{2} \\cos^{2}{\\left(\\theta \\right)} + r^{2}\\right)^{2}} - \\frac{R a \\sin^{2}{\\left(\\theta \\right)}}{a^{2} \\cos^{2}{\\left(\\theta \\right)} + r^{2}}\\right) \\left(- R a^{4} r \\sin^{2}{\\left(\\theta \\right)} \\cos^{2}{\\left(\\theta \\right)} - R a^{2} r^{3} \\sin^{2}{\\left(\\theta \\right)} + a^{6} \\sin^{2}{\\left(\\theta \\right)} \\cos^{2}{\\left(\\theta \\right)} - a^{6} \\cos^{2}{\\left(\\theta \\right)} + a^{4} r^{2} \\sin^{2}{\\left(\\theta \\right)} \\cos^{2}{\\left(\\theta \\right)} + a^{4} r^{2} \\sin^{2}{\\left(\\theta \\right)} - 2 a^{4} r^{2} \\cos^{2}{\\left(\\theta \\right)} - a^{4} r^{2} + a^{2} r^{4} \\sin^{2}{\\left(\\theta \\right)} - a^{2} r^{4} \\cos^{2}{\\left(\\theta \\right)} - 2 a^{2} r^{4} - r^{6}\\right)}{2 \\left(R a^{4} r \\sin^{2}{\\left(\\theta \\right)} \\cos^{2}{\\left(\\theta \\right)} + R a^{4} r \\sin^{2}{\\left(\\theta \\right)} - R a^{4} r + 2 R a^{2} r^{3} \\sin^{2}{\\left(\\theta \\right)} - 2 R a^{2} r^{3} - R r^{5} - a^{6} \\sin^{2}{\\left(\\theta \\right)} \\cos^{2}{\\left(\\theta \\right)} + a^{6} \\cos^{2}{\\left(\\theta \\right)} - a^{4} r^{2} \\sin^{2}{\\left(\\theta \\right)} \\cos^{2}{\\left(\\theta \\right)} - a^{4} r^{2} \\sin^{2}{\\left(\\theta \\right)} + 2 a^{4} r^{2} \\cos^{2}{\\left(\\theta \\right)} + a^{4} r^{2} - a^{2} r^{4} \\sin^{2}{\\left(\\theta \\right)} + a^{2} r^{4} \\cos^{2}{\\left(\\theta \\right)} + 2 a^{2} r^{4} + r^{6}\\right)}$$",
            "text/plain": [
              "<IPython.core.display.Math object>"
            ]
          },
          "metadata": {
            "tags": []
          }
        },
        {
          "output_type": "display_data",
          "data": {
            "text/latex": "$$\\Gamma^0_{2,0} = \\frac{R a^{2} r \\left(- R a^{4} r \\sin^{2}{\\left(\\theta \\right)} \\cos^{2}{\\left(\\theta \\right)} - R a^{2} r^{3} \\sin^{2}{\\left(\\theta \\right)} + a^{6} \\sin^{2}{\\left(\\theta \\right)} \\cos^{2}{\\left(\\theta \\right)} - a^{6} \\cos^{2}{\\left(\\theta \\right)} + a^{4} r^{2} \\sin^{2}{\\left(\\theta \\right)} \\cos^{2}{\\left(\\theta \\right)} + a^{4} r^{2} \\sin^{2}{\\left(\\theta \\right)} - 2 a^{4} r^{2} \\cos^{2}{\\left(\\theta \\right)} - a^{4} r^{2} + a^{2} r^{4} \\sin^{2}{\\left(\\theta \\right)} - a^{2} r^{4} \\cos^{2}{\\left(\\theta \\right)} - 2 a^{2} r^{4} - r^{6}\\right) \\sin{\\left(\\theta \\right)} \\cos{\\left(\\theta \\right)}}{\\left(a^{2} \\cos^{2}{\\left(\\theta \\right)} + r^{2}\\right)^{2} \\left(R a^{4} r \\sin^{2}{\\left(\\theta \\right)} \\cos^{2}{\\left(\\theta \\right)} + R a^{4} r \\sin^{2}{\\left(\\theta \\right)} - R a^{4} r + 2 R a^{2} r^{3} \\sin^{2}{\\left(\\theta \\right)} - 2 R a^{2} r^{3} - R r^{5} - a^{6} \\sin^{2}{\\left(\\theta \\right)} \\cos^{2}{\\left(\\theta \\right)} + a^{6} \\cos^{2}{\\left(\\theta \\right)} - a^{4} r^{2} \\sin^{2}{\\left(\\theta \\right)} \\cos^{2}{\\left(\\theta \\right)} - a^{4} r^{2} \\sin^{2}{\\left(\\theta \\right)} + 2 a^{4} r^{2} \\cos^{2}{\\left(\\theta \\right)} + a^{4} r^{2} - a^{2} r^{4} \\sin^{2}{\\left(\\theta \\right)} + a^{2} r^{4} \\cos^{2}{\\left(\\theta \\right)} + 2 a^{2} r^{4} + r^{6}\\right)} + \\frac{\\left(- R a^{3} r \\cos^{2}{\\left(\\theta \\right)} - R a r^{3}\\right) \\left(- \\frac{2 R a^{3} r \\sin^{3}{\\left(\\theta \\right)} \\cos{\\left(\\theta \\right)}}{\\left(a^{2} \\cos^{2}{\\left(\\theta \\right)} + r^{2}\\right)^{2}} - \\frac{2 R a r \\sin{\\left(\\theta \\right)} \\cos{\\left(\\theta \\right)}}{a^{2} \\cos^{2}{\\left(\\theta \\right)} + r^{2}}\\right)}{2 \\left(R a^{4} r \\sin^{2}{\\left(\\theta \\right)} \\cos^{2}{\\left(\\theta \\right)} + R a^{4} r \\sin^{2}{\\left(\\theta \\right)} - R a^{4} r + 2 R a^{2} r^{3} \\sin^{2}{\\left(\\theta \\right)} - 2 R a^{2} r^{3} - R r^{5} - a^{6} \\sin^{2}{\\left(\\theta \\right)} \\cos^{2}{\\left(\\theta \\right)} + a^{6} \\cos^{2}{\\left(\\theta \\right)} - a^{4} r^{2} \\sin^{2}{\\left(\\theta \\right)} \\cos^{2}{\\left(\\theta \\right)} - a^{4} r^{2} \\sin^{2}{\\left(\\theta \\right)} + 2 a^{4} r^{2} \\cos^{2}{\\left(\\theta \\right)} + a^{4} r^{2} - a^{2} r^{4} \\sin^{2}{\\left(\\theta \\right)} + a^{2} r^{4} \\cos^{2}{\\left(\\theta \\right)} + 2 a^{2} r^{4} + r^{6}\\right)}$$",
            "text/plain": [
              "<IPython.core.display.Math object>"
            ]
          },
          "metadata": {
            "tags": []
          }
        },
        {
          "output_type": "display_data",
          "data": {
            "text/latex": "$$\\Gamma^0_{2,3} = \\frac{\\left(- R a^{3} r \\cos^{2}{\\left(\\theta \\right)} - R a r^{3}\\right) \\left(- \\frac{2 a^{2} \\left(- R r + a^{2} + r^{2}\\right) \\sin^{3}{\\left(\\theta \\right)} \\cos{\\left(\\theta \\right)}}{a^{2} \\cos^{2}{\\left(\\theta \\right)} + r^{2}} + \\frac{2 a^{2} \\left(- a^{2} \\left(- R r + a^{2} + r^{2}\\right) \\sin^{2}{\\left(\\theta \\right)} + \\left(a^{2} + r^{2}\\right)^{2}\\right) \\sin^{3}{\\left(\\theta \\right)} \\cos{\\left(\\theta \\right)}}{\\left(a^{2} \\cos^{2}{\\left(\\theta \\right)} + r^{2}\\right)^{2}} + \\frac{2 \\left(- a^{2} \\left(- R r + a^{2} + r^{2}\\right) \\sin^{2}{\\left(\\theta \\right)} + \\left(a^{2} + r^{2}\\right)^{2}\\right) \\sin{\\left(\\theta \\right)} \\cos{\\left(\\theta \\right)}}{a^{2} \\cos^{2}{\\left(\\theta \\right)} + r^{2}}\\right)}{2 \\left(R a^{4} r \\sin^{2}{\\left(\\theta \\right)} \\cos^{2}{\\left(\\theta \\right)} + R a^{4} r \\sin^{2}{\\left(\\theta \\right)} - R a^{4} r + 2 R a^{2} r^{3} \\sin^{2}{\\left(\\theta \\right)} - 2 R a^{2} r^{3} - R r^{5} - a^{6} \\sin^{2}{\\left(\\theta \\right)} \\cos^{2}{\\left(\\theta \\right)} + a^{6} \\cos^{2}{\\left(\\theta \\right)} - a^{4} r^{2} \\sin^{2}{\\left(\\theta \\right)} \\cos^{2}{\\left(\\theta \\right)} - a^{4} r^{2} \\sin^{2}{\\left(\\theta \\right)} + 2 a^{4} r^{2} \\cos^{2}{\\left(\\theta \\right)} + a^{4} r^{2} - a^{2} r^{4} \\sin^{2}{\\left(\\theta \\right)} + a^{2} r^{4} \\cos^{2}{\\left(\\theta \\right)} + 2 a^{2} r^{4} + r^{6}\\right)} + \\frac{\\left(- \\frac{2 R a^{3} r \\sin^{3}{\\left(\\theta \\right)} \\cos{\\left(\\theta \\right)}}{\\left(a^{2} \\cos^{2}{\\left(\\theta \\right)} + r^{2}\\right)^{2}} - \\frac{2 R a r \\sin{\\left(\\theta \\right)} \\cos{\\left(\\theta \\right)}}{a^{2} \\cos^{2}{\\left(\\theta \\right)} + r^{2}}\\right) \\left(- R a^{4} r \\sin^{2}{\\left(\\theta \\right)} \\cos^{2}{\\left(\\theta \\right)} - R a^{2} r^{3} \\sin^{2}{\\left(\\theta \\right)} + a^{6} \\sin^{2}{\\left(\\theta \\right)} \\cos^{2}{\\left(\\theta \\right)} - a^{6} \\cos^{2}{\\left(\\theta \\right)} + a^{4} r^{2} \\sin^{2}{\\left(\\theta \\right)} \\cos^{2}{\\left(\\theta \\right)} + a^{4} r^{2} \\sin^{2}{\\left(\\theta \\right)} - 2 a^{4} r^{2} \\cos^{2}{\\left(\\theta \\right)} - a^{4} r^{2} + a^{2} r^{4} \\sin^{2}{\\left(\\theta \\right)} - a^{2} r^{4} \\cos^{2}{\\left(\\theta \\right)} - 2 a^{2} r^{4} - r^{6}\\right)}{2 \\left(R a^{4} r \\sin^{2}{\\left(\\theta \\right)} \\cos^{2}{\\left(\\theta \\right)} + R a^{4} r \\sin^{2}{\\left(\\theta \\right)} - R a^{4} r + 2 R a^{2} r^{3} \\sin^{2}{\\left(\\theta \\right)} - 2 R a^{2} r^{3} - R r^{5} - a^{6} \\sin^{2}{\\left(\\theta \\right)} \\cos^{2}{\\left(\\theta \\right)} + a^{6} \\cos^{2}{\\left(\\theta \\right)} - a^{4} r^{2} \\sin^{2}{\\left(\\theta \\right)} \\cos^{2}{\\left(\\theta \\right)} - a^{4} r^{2} \\sin^{2}{\\left(\\theta \\right)} + 2 a^{4} r^{2} \\cos^{2}{\\left(\\theta \\right)} + a^{4} r^{2} - a^{2} r^{4} \\sin^{2}{\\left(\\theta \\right)} + a^{2} r^{4} \\cos^{2}{\\left(\\theta \\right)} + 2 a^{2} r^{4} + r^{6}\\right)}$$",
            "text/plain": [
              "<IPython.core.display.Math object>"
            ]
          },
          "metadata": {
            "tags": []
          }
        },
        {
          "output_type": "display_data",
          "data": {
            "text/latex": "$$\\Gamma^0_{3,1} = \\frac{\\left(- R a^{3} r \\cos^{2}{\\left(\\theta \\right)} - R a r^{3}\\right) \\left(- \\frac{2 r \\left(- a^{2} \\left(- R r + a^{2} + r^{2}\\right) \\sin^{2}{\\left(\\theta \\right)} + \\left(a^{2} + r^{2}\\right)^{2}\\right) \\sin^{2}{\\left(\\theta \\right)}}{\\left(a^{2} \\cos^{2}{\\left(\\theta \\right)} + r^{2}\\right)^{2}} + \\frac{\\left(- a^{2} \\left(- R + 2 r\\right) \\sin^{2}{\\left(\\theta \\right)} + 4 r \\left(a^{2} + r^{2}\\right)\\right) \\sin^{2}{\\left(\\theta \\right)}}{a^{2} \\cos^{2}{\\left(\\theta \\right)} + r^{2}}\\right)}{2 \\left(R a^{4} r \\sin^{2}{\\left(\\theta \\right)} \\cos^{2}{\\left(\\theta \\right)} + R a^{4} r \\sin^{2}{\\left(\\theta \\right)} - R a^{4} r + 2 R a^{2} r^{3} \\sin^{2}{\\left(\\theta \\right)} - 2 R a^{2} r^{3} - R r^{5} - a^{6} \\sin^{2}{\\left(\\theta \\right)} \\cos^{2}{\\left(\\theta \\right)} + a^{6} \\cos^{2}{\\left(\\theta \\right)} - a^{4} r^{2} \\sin^{2}{\\left(\\theta \\right)} \\cos^{2}{\\left(\\theta \\right)} - a^{4} r^{2} \\sin^{2}{\\left(\\theta \\right)} + 2 a^{4} r^{2} \\cos^{2}{\\left(\\theta \\right)} + a^{4} r^{2} - a^{2} r^{4} \\sin^{2}{\\left(\\theta \\right)} + a^{2} r^{4} \\cos^{2}{\\left(\\theta \\right)} + 2 a^{2} r^{4} + r^{6}\\right)} + \\frac{\\left(\\frac{2 R a r^{2} \\sin^{2}{\\left(\\theta \\right)}}{\\left(a^{2} \\cos^{2}{\\left(\\theta \\right)} + r^{2}\\right)^{2}} - \\frac{R a \\sin^{2}{\\left(\\theta \\right)}}{a^{2} \\cos^{2}{\\left(\\theta \\right)} + r^{2}}\\right) \\left(- R a^{4} r \\sin^{2}{\\left(\\theta \\right)} \\cos^{2}{\\left(\\theta \\right)} - R a^{2} r^{3} \\sin^{2}{\\left(\\theta \\right)} + a^{6} \\sin^{2}{\\left(\\theta \\right)} \\cos^{2}{\\left(\\theta \\right)} - a^{6} \\cos^{2}{\\left(\\theta \\right)} + a^{4} r^{2} \\sin^{2}{\\left(\\theta \\right)} \\cos^{2}{\\left(\\theta \\right)} + a^{4} r^{2} \\sin^{2}{\\left(\\theta \\right)} - 2 a^{4} r^{2} \\cos^{2}{\\left(\\theta \\right)} - a^{4} r^{2} + a^{2} r^{4} \\sin^{2}{\\left(\\theta \\right)} - a^{2} r^{4} \\cos^{2}{\\left(\\theta \\right)} - 2 a^{2} r^{4} - r^{6}\\right)}{2 \\left(R a^{4} r \\sin^{2}{\\left(\\theta \\right)} \\cos^{2}{\\left(\\theta \\right)} + R a^{4} r \\sin^{2}{\\left(\\theta \\right)} - R a^{4} r + 2 R a^{2} r^{3} \\sin^{2}{\\left(\\theta \\right)} - 2 R a^{2} r^{3} - R r^{5} - a^{6} \\sin^{2}{\\left(\\theta \\right)} \\cos^{2}{\\left(\\theta \\right)} + a^{6} \\cos^{2}{\\left(\\theta \\right)} - a^{4} r^{2} \\sin^{2}{\\left(\\theta \\right)} \\cos^{2}{\\left(\\theta \\right)} - a^{4} r^{2} \\sin^{2}{\\left(\\theta \\right)} + 2 a^{4} r^{2} \\cos^{2}{\\left(\\theta \\right)} + a^{4} r^{2} - a^{2} r^{4} \\sin^{2}{\\left(\\theta \\right)} + a^{2} r^{4} \\cos^{2}{\\left(\\theta \\right)} + 2 a^{2} r^{4} + r^{6}\\right)}$$",
            "text/plain": [
              "<IPython.core.display.Math object>"
            ]
          },
          "metadata": {
            "tags": []
          }
        },
        {
          "output_type": "display_data",
          "data": {
            "text/latex": "$$\\Gamma^0_{3,2} = \\frac{\\left(- R a^{3} r \\cos^{2}{\\left(\\theta \\right)} - R a r^{3}\\right) \\left(- \\frac{2 a^{2} \\left(- R r + a^{2} + r^{2}\\right) \\sin^{3}{\\left(\\theta \\right)} \\cos{\\left(\\theta \\right)}}{a^{2} \\cos^{2}{\\left(\\theta \\right)} + r^{2}} + \\frac{2 a^{2} \\left(- a^{2} \\left(- R r + a^{2} + r^{2}\\right) \\sin^{2}{\\left(\\theta \\right)} + \\left(a^{2} + r^{2}\\right)^{2}\\right) \\sin^{3}{\\left(\\theta \\right)} \\cos{\\left(\\theta \\right)}}{\\left(a^{2} \\cos^{2}{\\left(\\theta \\right)} + r^{2}\\right)^{2}} + \\frac{2 \\left(- a^{2} \\left(- R r + a^{2} + r^{2}\\right) \\sin^{2}{\\left(\\theta \\right)} + \\left(a^{2} + r^{2}\\right)^{2}\\right) \\sin{\\left(\\theta \\right)} \\cos{\\left(\\theta \\right)}}{a^{2} \\cos^{2}{\\left(\\theta \\right)} + r^{2}}\\right)}{2 \\left(R a^{4} r \\sin^{2}{\\left(\\theta \\right)} \\cos^{2}{\\left(\\theta \\right)} + R a^{4} r \\sin^{2}{\\left(\\theta \\right)} - R a^{4} r + 2 R a^{2} r^{3} \\sin^{2}{\\left(\\theta \\right)} - 2 R a^{2} r^{3} - R r^{5} - a^{6} \\sin^{2}{\\left(\\theta \\right)} \\cos^{2}{\\left(\\theta \\right)} + a^{6} \\cos^{2}{\\left(\\theta \\right)} - a^{4} r^{2} \\sin^{2}{\\left(\\theta \\right)} \\cos^{2}{\\left(\\theta \\right)} - a^{4} r^{2} \\sin^{2}{\\left(\\theta \\right)} + 2 a^{4} r^{2} \\cos^{2}{\\left(\\theta \\right)} + a^{4} r^{2} - a^{2} r^{4} \\sin^{2}{\\left(\\theta \\right)} + a^{2} r^{4} \\cos^{2}{\\left(\\theta \\right)} + 2 a^{2} r^{4} + r^{6}\\right)} + \\frac{\\left(- \\frac{2 R a^{3} r \\sin^{3}{\\left(\\theta \\right)} \\cos{\\left(\\theta \\right)}}{\\left(a^{2} \\cos^{2}{\\left(\\theta \\right)} + r^{2}\\right)^{2}} - \\frac{2 R a r \\sin{\\left(\\theta \\right)} \\cos{\\left(\\theta \\right)}}{a^{2} \\cos^{2}{\\left(\\theta \\right)} + r^{2}}\\right) \\left(- R a^{4} r \\sin^{2}{\\left(\\theta \\right)} \\cos^{2}{\\left(\\theta \\right)} - R a^{2} r^{3} \\sin^{2}{\\left(\\theta \\right)} + a^{6} \\sin^{2}{\\left(\\theta \\right)} \\cos^{2}{\\left(\\theta \\right)} - a^{6} \\cos^{2}{\\left(\\theta \\right)} + a^{4} r^{2} \\sin^{2}{\\left(\\theta \\right)} \\cos^{2}{\\left(\\theta \\right)} + a^{4} r^{2} \\sin^{2}{\\left(\\theta \\right)} - 2 a^{4} r^{2} \\cos^{2}{\\left(\\theta \\right)} - a^{4} r^{2} + a^{2} r^{4} \\sin^{2}{\\left(\\theta \\right)} - a^{2} r^{4} \\cos^{2}{\\left(\\theta \\right)} - 2 a^{2} r^{4} - r^{6}\\right)}{2 \\left(R a^{4} r \\sin^{2}{\\left(\\theta \\right)} \\cos^{2}{\\left(\\theta \\right)} + R a^{4} r \\sin^{2}{\\left(\\theta \\right)} - R a^{4} r + 2 R a^{2} r^{3} \\sin^{2}{\\left(\\theta \\right)} - 2 R a^{2} r^{3} - R r^{5} - a^{6} \\sin^{2}{\\left(\\theta \\right)} \\cos^{2}{\\left(\\theta \\right)} + a^{6} \\cos^{2}{\\left(\\theta \\right)} - a^{4} r^{2} \\sin^{2}{\\left(\\theta \\right)} \\cos^{2}{\\left(\\theta \\right)} - a^{4} r^{2} \\sin^{2}{\\left(\\theta \\right)} + 2 a^{4} r^{2} \\cos^{2}{\\left(\\theta \\right)} + a^{4} r^{2} - a^{2} r^{4} \\sin^{2}{\\left(\\theta \\right)} + a^{2} r^{4} \\cos^{2}{\\left(\\theta \\right)} + 2 a^{2} r^{4} + r^{6}\\right)}$$",
            "text/plain": [
              "<IPython.core.display.Math object>"
            ]
          },
          "metadata": {
            "tags": []
          }
        },
        {
          "output_type": "display_data",
          "data": {
            "text/latex": "$$\\Gamma^1_{0,0} = \\frac{\\left(\\frac{2 R r^{2}}{\\left(a^{2} \\cos^{2}{\\left(\\theta \\right)} + r^{2}\\right)^{2}} - \\frac{R}{a^{2} \\cos^{2}{\\left(\\theta \\right)} + r^{2}}\\right) \\left(- R r + a^{2} + r^{2}\\right)}{2 \\left(a^{2} \\cos^{2}{\\left(\\theta \\right)} + r^{2}\\right)}$$",
            "text/plain": [
              "<IPython.core.display.Math object>"
            ]
          },
          "metadata": {
            "tags": []
          }
        },
        {
          "output_type": "display_data",
          "data": {
            "text/latex": "$$\\Gamma^1_{0,3} = \\frac{\\left(- \\frac{2 R a r^{2} \\sin^{2}{\\left(\\theta \\right)}}{\\left(a^{2} \\cos^{2}{\\left(\\theta \\right)} + r^{2}\\right)^{2}} + \\frac{R a \\sin^{2}{\\left(\\theta \\right)}}{a^{2} \\cos^{2}{\\left(\\theta \\right)} + r^{2}}\\right) \\left(- R r + a^{2} + r^{2}\\right)}{2 \\left(a^{2} \\cos^{2}{\\left(\\theta \\right)} + r^{2}\\right)}$$",
            "text/plain": [
              "<IPython.core.display.Math object>"
            ]
          },
          "metadata": {
            "tags": []
          }
        },
        {
          "output_type": "display_data",
          "data": {
            "text/latex": "$$\\Gamma^1_{1,1} = \\frac{\\left(\\frac{2 r}{- R r + a^{2} + r^{2}} + \\frac{\\left(R - 2 r\\right) \\left(a^{2} \\cos^{2}{\\left(\\theta \\right)} + r^{2}\\right)}{\\left(- R r + a^{2} + r^{2}\\right)^{2}}\\right) \\left(- R r + a^{2} + r^{2}\\right)}{2 \\left(a^{2} \\cos^{2}{\\left(\\theta \\right)} + r^{2}\\right)}$$",
            "text/plain": [
              "<IPython.core.display.Math object>"
            ]
          },
          "metadata": {
            "tags": []
          }
        },
        {
          "output_type": "display_data",
          "data": {
            "text/latex": "$$\\Gamma^1_{1,2} = - \\frac{a^{2} \\sin{\\left(\\theta \\right)} \\cos{\\left(\\theta \\right)}}{a^{2} \\cos^{2}{\\left(\\theta \\right)} + r^{2}}$$",
            "text/plain": [
              "<IPython.core.display.Math object>"
            ]
          },
          "metadata": {
            "tags": []
          }
        },
        {
          "output_type": "display_data",
          "data": {
            "text/latex": "$$\\Gamma^1_{2,1} = - \\frac{a^{2} \\sin{\\left(\\theta \\right)} \\cos{\\left(\\theta \\right)}}{a^{2} \\cos^{2}{\\left(\\theta \\right)} + r^{2}}$$",
            "text/plain": [
              "<IPython.core.display.Math object>"
            ]
          },
          "metadata": {
            "tags": []
          }
        },
        {
          "output_type": "display_data",
          "data": {
            "text/latex": "$$\\Gamma^1_{2,2} = - \\frac{r \\left(- R r + a^{2} + r^{2}\\right)}{a^{2} \\cos^{2}{\\left(\\theta \\right)} + r^{2}}$$",
            "text/plain": [
              "<IPython.core.display.Math object>"
            ]
          },
          "metadata": {
            "tags": []
          }
        },
        {
          "output_type": "display_data",
          "data": {
            "text/latex": "$$\\Gamma^1_{3,0} = \\frac{\\left(- \\frac{2 R a r^{2} \\sin^{2}{\\left(\\theta \\right)}}{\\left(a^{2} \\cos^{2}{\\left(\\theta \\right)} + r^{2}\\right)^{2}} + \\frac{R a \\sin^{2}{\\left(\\theta \\right)}}{a^{2} \\cos^{2}{\\left(\\theta \\right)} + r^{2}}\\right) \\left(- R r + a^{2} + r^{2}\\right)}{2 \\left(a^{2} \\cos^{2}{\\left(\\theta \\right)} + r^{2}\\right)}$$",
            "text/plain": [
              "<IPython.core.display.Math object>"
            ]
          },
          "metadata": {
            "tags": []
          }
        },
        {
          "output_type": "display_data",
          "data": {
            "text/latex": "$$\\Gamma^1_{3,3} = \\frac{\\left(\\frac{2 r \\left(- a^{2} \\left(- R r + a^{2} + r^{2}\\right) \\sin^{2}{\\left(\\theta \\right)} + \\left(a^{2} + r^{2}\\right)^{2}\\right) \\sin^{2}{\\left(\\theta \\right)}}{\\left(a^{2} \\cos^{2}{\\left(\\theta \\right)} + r^{2}\\right)^{2}} - \\frac{\\left(- a^{2} \\left(- R + 2 r\\right) \\sin^{2}{\\left(\\theta \\right)} + 4 r \\left(a^{2} + r^{2}\\right)\\right) \\sin^{2}{\\left(\\theta \\right)}}{a^{2} \\cos^{2}{\\left(\\theta \\right)} + r^{2}}\\right) \\left(- R r + a^{2} + r^{2}\\right)}{2 \\left(a^{2} \\cos^{2}{\\left(\\theta \\right)} + r^{2}\\right)}$$",
            "text/plain": [
              "<IPython.core.display.Math object>"
            ]
          },
          "metadata": {
            "tags": []
          }
        },
        {
          "output_type": "display_data",
          "data": {
            "text/latex": "$$\\Gamma^2_{0,0} = - \\frac{R a^{2} r \\sin{\\left(\\theta \\right)} \\cos{\\left(\\theta \\right)}}{\\left(a^{2} \\cos^{2}{\\left(\\theta \\right)} + r^{2}\\right)^{3}}$$",
            "text/plain": [
              "<IPython.core.display.Math object>"
            ]
          },
          "metadata": {
            "tags": []
          }
        },
        {
          "output_type": "display_data",
          "data": {
            "text/latex": "$$\\Gamma^2_{0,3} = \\frac{\\frac{2 R a^{3} r \\sin^{3}{\\left(\\theta \\right)} \\cos{\\left(\\theta \\right)}}{\\left(a^{2} \\cos^{2}{\\left(\\theta \\right)} + r^{2}\\right)^{2}} + \\frac{2 R a r \\sin{\\left(\\theta \\right)} \\cos{\\left(\\theta \\right)}}{a^{2} \\cos^{2}{\\left(\\theta \\right)} + r^{2}}}{2 \\left(a^{2} \\cos^{2}{\\left(\\theta \\right)} + r^{2}\\right)}$$",
            "text/plain": [
              "<IPython.core.display.Math object>"
            ]
          },
          "metadata": {
            "tags": []
          }
        },
        {
          "output_type": "display_data",
          "data": {
            "text/latex": "$$\\Gamma^2_{1,1} = \\frac{a^{2} \\sin{\\left(\\theta \\right)} \\cos{\\left(\\theta \\right)}}{\\left(a^{2} \\cos^{2}{\\left(\\theta \\right)} + r^{2}\\right) \\left(- R r + a^{2} + r^{2}\\right)}$$",
            "text/plain": [
              "<IPython.core.display.Math object>"
            ]
          },
          "metadata": {
            "tags": []
          }
        },
        {
          "output_type": "display_data",
          "data": {
            "text/latex": "$$\\Gamma^2_{1,2} = \\frac{r}{a^{2} \\cos^{2}{\\left(\\theta \\right)} + r^{2}}$$",
            "text/plain": [
              "<IPython.core.display.Math object>"
            ]
          },
          "metadata": {
            "tags": []
          }
        },
        {
          "output_type": "display_data",
          "data": {
            "text/latex": "$$\\Gamma^2_{2,1} = \\frac{r}{a^{2} \\cos^{2}{\\left(\\theta \\right)} + r^{2}}$$",
            "text/plain": [
              "<IPython.core.display.Math object>"
            ]
          },
          "metadata": {
            "tags": []
          }
        },
        {
          "output_type": "display_data",
          "data": {
            "text/latex": "$$\\Gamma^2_{2,2} = - \\frac{a^{2} \\sin{\\left(\\theta \\right)} \\cos{\\left(\\theta \\right)}}{a^{2} \\cos^{2}{\\left(\\theta \\right)} + r^{2}}$$",
            "text/plain": [
              "<IPython.core.display.Math object>"
            ]
          },
          "metadata": {
            "tags": []
          }
        },
        {
          "output_type": "display_data",
          "data": {
            "text/latex": "$$\\Gamma^2_{3,0} = \\frac{\\frac{2 R a^{3} r \\sin^{3}{\\left(\\theta \\right)} \\cos{\\left(\\theta \\right)}}{\\left(a^{2} \\cos^{2}{\\left(\\theta \\right)} + r^{2}\\right)^{2}} + \\frac{2 R a r \\sin{\\left(\\theta \\right)} \\cos{\\left(\\theta \\right)}}{a^{2} \\cos^{2}{\\left(\\theta \\right)} + r^{2}}}{2 \\left(a^{2} \\cos^{2}{\\left(\\theta \\right)} + r^{2}\\right)}$$",
            "text/plain": [
              "<IPython.core.display.Math object>"
            ]
          },
          "metadata": {
            "tags": []
          }
        },
        {
          "output_type": "display_data",
          "data": {
            "text/latex": "$$\\Gamma^2_{3,3} = \\frac{\\frac{2 a^{2} \\left(- R r + a^{2} + r^{2}\\right) \\sin^{3}{\\left(\\theta \\right)} \\cos{\\left(\\theta \\right)}}{a^{2} \\cos^{2}{\\left(\\theta \\right)} + r^{2}} - \\frac{2 a^{2} \\left(- a^{2} \\left(- R r + a^{2} + r^{2}\\right) \\sin^{2}{\\left(\\theta \\right)} + \\left(a^{2} + r^{2}\\right)^{2}\\right) \\sin^{3}{\\left(\\theta \\right)} \\cos{\\left(\\theta \\right)}}{\\left(a^{2} \\cos^{2}{\\left(\\theta \\right)} + r^{2}\\right)^{2}} - \\frac{2 \\left(- a^{2} \\left(- R r + a^{2} + r^{2}\\right) \\sin^{2}{\\left(\\theta \\right)} + \\left(a^{2} + r^{2}\\right)^{2}\\right) \\sin{\\left(\\theta \\right)} \\cos{\\left(\\theta \\right)}}{a^{2} \\cos^{2}{\\left(\\theta \\right)} + r^{2}}}{2 \\left(a^{2} \\cos^{2}{\\left(\\theta \\right)} + r^{2}\\right)}$$",
            "text/plain": [
              "<IPython.core.display.Math object>"
            ]
          },
          "metadata": {
            "tags": []
          }
        },
        {
          "output_type": "display_data",
          "data": {
            "text/latex": "$$\\Gamma^3_{0,1} = \\frac{\\left(- \\frac{2 R r^{2}}{\\left(a^{2} \\cos^{2}{\\left(\\theta \\right)} + r^{2}\\right)^{2}} + \\frac{R}{a^{2} \\cos^{2}{\\left(\\theta \\right)} + r^{2}}\\right) \\left(- R a^{3} r \\cos^{2}{\\left(\\theta \\right)} - R a r^{3}\\right)}{2 \\left(R a^{4} r \\sin^{2}{\\left(\\theta \\right)} \\cos^{2}{\\left(\\theta \\right)} + R a^{4} r \\sin^{2}{\\left(\\theta \\right)} - R a^{4} r + 2 R a^{2} r^{3} \\sin^{2}{\\left(\\theta \\right)} - 2 R a^{2} r^{3} - R r^{5} - a^{6} \\sin^{2}{\\left(\\theta \\right)} \\cos^{2}{\\left(\\theta \\right)} + a^{6} \\cos^{2}{\\left(\\theta \\right)} - a^{4} r^{2} \\sin^{2}{\\left(\\theta \\right)} \\cos^{2}{\\left(\\theta \\right)} - a^{4} r^{2} \\sin^{2}{\\left(\\theta \\right)} + 2 a^{4} r^{2} \\cos^{2}{\\left(\\theta \\right)} + a^{4} r^{2} - a^{2} r^{4} \\sin^{2}{\\left(\\theta \\right)} + a^{2} r^{4} \\cos^{2}{\\left(\\theta \\right)} + 2 a^{2} r^{4} + r^{6}\\right)} + \\frac{\\left(\\frac{2 R a r^{2} \\sin^{2}{\\left(\\theta \\right)}}{\\left(a^{2} \\cos^{2}{\\left(\\theta \\right)} + r^{2}\\right)^{2}} - \\frac{R a \\sin^{2}{\\left(\\theta \\right)}}{a^{2} \\cos^{2}{\\left(\\theta \\right)} + r^{2}}\\right) \\left(- R a^{2} r \\cos^{2}{\\left(\\theta \\right)} - R r^{3} + a^{4} \\cos^{4}{\\left(\\theta \\right)} + 2 a^{2} r^{2} \\cos^{2}{\\left(\\theta \\right)} + r^{4}\\right)}{2 \\left(R a^{4} r \\sin^{4}{\\left(\\theta \\right)} \\cos^{2}{\\left(\\theta \\right)} + R a^{4} r \\sin^{4}{\\left(\\theta \\right)} - R a^{4} r \\sin^{2}{\\left(\\theta \\right)} + 2 R a^{2} r^{3} \\sin^{4}{\\left(\\theta \\right)} - 2 R a^{2} r^{3} \\sin^{2}{\\left(\\theta \\right)} - R r^{5} \\sin^{2}{\\left(\\theta \\right)} - a^{6} \\sin^{4}{\\left(\\theta \\right)} \\cos^{2}{\\left(\\theta \\right)} + a^{6} \\sin^{2}{\\left(\\theta \\right)} \\cos^{2}{\\left(\\theta \\right)} - a^{4} r^{2} \\sin^{4}{\\left(\\theta \\right)} \\cos^{2}{\\left(\\theta \\right)} - a^{4} r^{2} \\sin^{4}{\\left(\\theta \\right)} + 2 a^{4} r^{2} \\sin^{2}{\\left(\\theta \\right)} \\cos^{2}{\\left(\\theta \\right)} + a^{4} r^{2} \\sin^{2}{\\left(\\theta \\right)} - a^{2} r^{4} \\sin^{4}{\\left(\\theta \\right)} + a^{2} r^{4} \\sin^{2}{\\left(\\theta \\right)} \\cos^{2}{\\left(\\theta \\right)} + 2 a^{2} r^{4} \\sin^{2}{\\left(\\theta \\right)} + r^{6} \\sin^{2}{\\left(\\theta \\right)}\\right)}$$",
            "text/plain": [
              "<IPython.core.display.Math object>"
            ]
          },
          "metadata": {
            "tags": []
          }
        },
        {
          "output_type": "display_data",
          "data": {
            "text/latex": "$$\\Gamma^3_{0,2} = \\frac{R a^{2} r \\left(- R a^{3} r \\cos^{2}{\\left(\\theta \\right)} - R a r^{3}\\right) \\sin{\\left(\\theta \\right)} \\cos{\\left(\\theta \\right)}}{\\left(a^{2} \\cos^{2}{\\left(\\theta \\right)} + r^{2}\\right)^{2} \\left(R a^{4} r \\sin^{2}{\\left(\\theta \\right)} \\cos^{2}{\\left(\\theta \\right)} + R a^{4} r \\sin^{2}{\\left(\\theta \\right)} - R a^{4} r + 2 R a^{2} r^{3} \\sin^{2}{\\left(\\theta \\right)} - 2 R a^{2} r^{3} - R r^{5} - a^{6} \\sin^{2}{\\left(\\theta \\right)} \\cos^{2}{\\left(\\theta \\right)} + a^{6} \\cos^{2}{\\left(\\theta \\right)} - a^{4} r^{2} \\sin^{2}{\\left(\\theta \\right)} \\cos^{2}{\\left(\\theta \\right)} - a^{4} r^{2} \\sin^{2}{\\left(\\theta \\right)} + 2 a^{4} r^{2} \\cos^{2}{\\left(\\theta \\right)} + a^{4} r^{2} - a^{2} r^{4} \\sin^{2}{\\left(\\theta \\right)} + a^{2} r^{4} \\cos^{2}{\\left(\\theta \\right)} + 2 a^{2} r^{4} + r^{6}\\right)} + \\frac{\\left(- \\frac{2 R a^{3} r \\sin^{3}{\\left(\\theta \\right)} \\cos{\\left(\\theta \\right)}}{\\left(a^{2} \\cos^{2}{\\left(\\theta \\right)} + r^{2}\\right)^{2}} - \\frac{2 R a r \\sin{\\left(\\theta \\right)} \\cos{\\left(\\theta \\right)}}{a^{2} \\cos^{2}{\\left(\\theta \\right)} + r^{2}}\\right) \\left(- R a^{2} r \\cos^{2}{\\left(\\theta \\right)} - R r^{3} + a^{4} \\cos^{4}{\\left(\\theta \\right)} + 2 a^{2} r^{2} \\cos^{2}{\\left(\\theta \\right)} + r^{4}\\right)}{2 \\left(R a^{4} r \\sin^{4}{\\left(\\theta \\right)} \\cos^{2}{\\left(\\theta \\right)} + R a^{4} r \\sin^{4}{\\left(\\theta \\right)} - R a^{4} r \\sin^{2}{\\left(\\theta \\right)} + 2 R a^{2} r^{3} \\sin^{4}{\\left(\\theta \\right)} - 2 R a^{2} r^{3} \\sin^{2}{\\left(\\theta \\right)} - R r^{5} \\sin^{2}{\\left(\\theta \\right)} - a^{6} \\sin^{4}{\\left(\\theta \\right)} \\cos^{2}{\\left(\\theta \\right)} + a^{6} \\sin^{2}{\\left(\\theta \\right)} \\cos^{2}{\\left(\\theta \\right)} - a^{4} r^{2} \\sin^{4}{\\left(\\theta \\right)} \\cos^{2}{\\left(\\theta \\right)} - a^{4} r^{2} \\sin^{4}{\\left(\\theta \\right)} + 2 a^{4} r^{2} \\sin^{2}{\\left(\\theta \\right)} \\cos^{2}{\\left(\\theta \\right)} + a^{4} r^{2} \\sin^{2}{\\left(\\theta \\right)} - a^{2} r^{4} \\sin^{4}{\\left(\\theta \\right)} + a^{2} r^{4} \\sin^{2}{\\left(\\theta \\right)} \\cos^{2}{\\left(\\theta \\right)} + 2 a^{2} r^{4} \\sin^{2}{\\left(\\theta \\right)} + r^{6} \\sin^{2}{\\left(\\theta \\right)}\\right)}$$",
            "text/plain": [
              "<IPython.core.display.Math object>"
            ]
          },
          "metadata": {
            "tags": []
          }
        },
        {
          "output_type": "display_data",
          "data": {
            "text/latex": "$$\\Gamma^3_{1,0} = \\frac{\\left(- \\frac{2 R r^{2}}{\\left(a^{2} \\cos^{2}{\\left(\\theta \\right)} + r^{2}\\right)^{2}} + \\frac{R}{a^{2} \\cos^{2}{\\left(\\theta \\right)} + r^{2}}\\right) \\left(- R a^{3} r \\cos^{2}{\\left(\\theta \\right)} - R a r^{3}\\right)}{2 \\left(R a^{4} r \\sin^{2}{\\left(\\theta \\right)} \\cos^{2}{\\left(\\theta \\right)} + R a^{4} r \\sin^{2}{\\left(\\theta \\right)} - R a^{4} r + 2 R a^{2} r^{3} \\sin^{2}{\\left(\\theta \\right)} - 2 R a^{2} r^{3} - R r^{5} - a^{6} \\sin^{2}{\\left(\\theta \\right)} \\cos^{2}{\\left(\\theta \\right)} + a^{6} \\cos^{2}{\\left(\\theta \\right)} - a^{4} r^{2} \\sin^{2}{\\left(\\theta \\right)} \\cos^{2}{\\left(\\theta \\right)} - a^{4} r^{2} \\sin^{2}{\\left(\\theta \\right)} + 2 a^{4} r^{2} \\cos^{2}{\\left(\\theta \\right)} + a^{4} r^{2} - a^{2} r^{4} \\sin^{2}{\\left(\\theta \\right)} + a^{2} r^{4} \\cos^{2}{\\left(\\theta \\right)} + 2 a^{2} r^{4} + r^{6}\\right)} + \\frac{\\left(\\frac{2 R a r^{2} \\sin^{2}{\\left(\\theta \\right)}}{\\left(a^{2} \\cos^{2}{\\left(\\theta \\right)} + r^{2}\\right)^{2}} - \\frac{R a \\sin^{2}{\\left(\\theta \\right)}}{a^{2} \\cos^{2}{\\left(\\theta \\right)} + r^{2}}\\right) \\left(- R a^{2} r \\cos^{2}{\\left(\\theta \\right)} - R r^{3} + a^{4} \\cos^{4}{\\left(\\theta \\right)} + 2 a^{2} r^{2} \\cos^{2}{\\left(\\theta \\right)} + r^{4}\\right)}{2 \\left(R a^{4} r \\sin^{4}{\\left(\\theta \\right)} \\cos^{2}{\\left(\\theta \\right)} + R a^{4} r \\sin^{4}{\\left(\\theta \\right)} - R a^{4} r \\sin^{2}{\\left(\\theta \\right)} + 2 R a^{2} r^{3} \\sin^{4}{\\left(\\theta \\right)} - 2 R a^{2} r^{3} \\sin^{2}{\\left(\\theta \\right)} - R r^{5} \\sin^{2}{\\left(\\theta \\right)} - a^{6} \\sin^{4}{\\left(\\theta \\right)} \\cos^{2}{\\left(\\theta \\right)} + a^{6} \\sin^{2}{\\left(\\theta \\right)} \\cos^{2}{\\left(\\theta \\right)} - a^{4} r^{2} \\sin^{4}{\\left(\\theta \\right)} \\cos^{2}{\\left(\\theta \\right)} - a^{4} r^{2} \\sin^{4}{\\left(\\theta \\right)} + 2 a^{4} r^{2} \\sin^{2}{\\left(\\theta \\right)} \\cos^{2}{\\left(\\theta \\right)} + a^{4} r^{2} \\sin^{2}{\\left(\\theta \\right)} - a^{2} r^{4} \\sin^{4}{\\left(\\theta \\right)} + a^{2} r^{4} \\sin^{2}{\\left(\\theta \\right)} \\cos^{2}{\\left(\\theta \\right)} + 2 a^{2} r^{4} \\sin^{2}{\\left(\\theta \\right)} + r^{6} \\sin^{2}{\\left(\\theta \\right)}\\right)}$$",
            "text/plain": [
              "<IPython.core.display.Math object>"
            ]
          },
          "metadata": {
            "tags": []
          }
        },
        {
          "output_type": "display_data",
          "data": {
            "text/latex": "$$\\Gamma^3_{1,3} = \\frac{\\left(- R a^{3} r \\cos^{2}{\\left(\\theta \\right)} - R a r^{3}\\right) \\left(\\frac{2 R a r^{2} \\sin^{2}{\\left(\\theta \\right)}}{\\left(a^{2} \\cos^{2}{\\left(\\theta \\right)} + r^{2}\\right)^{2}} - \\frac{R a \\sin^{2}{\\left(\\theta \\right)}}{a^{2} \\cos^{2}{\\left(\\theta \\right)} + r^{2}}\\right)}{2 \\left(R a^{4} r \\sin^{2}{\\left(\\theta \\right)} \\cos^{2}{\\left(\\theta \\right)} + R a^{4} r \\sin^{2}{\\left(\\theta \\right)} - R a^{4} r + 2 R a^{2} r^{3} \\sin^{2}{\\left(\\theta \\right)} - 2 R a^{2} r^{3} - R r^{5} - a^{6} \\sin^{2}{\\left(\\theta \\right)} \\cos^{2}{\\left(\\theta \\right)} + a^{6} \\cos^{2}{\\left(\\theta \\right)} - a^{4} r^{2} \\sin^{2}{\\left(\\theta \\right)} \\cos^{2}{\\left(\\theta \\right)} - a^{4} r^{2} \\sin^{2}{\\left(\\theta \\right)} + 2 a^{4} r^{2} \\cos^{2}{\\left(\\theta \\right)} + a^{4} r^{2} - a^{2} r^{4} \\sin^{2}{\\left(\\theta \\right)} + a^{2} r^{4} \\cos^{2}{\\left(\\theta \\right)} + 2 a^{2} r^{4} + r^{6}\\right)} + \\frac{\\left(- \\frac{2 r \\left(- a^{2} \\left(- R r + a^{2} + r^{2}\\right) \\sin^{2}{\\left(\\theta \\right)} + \\left(a^{2} + r^{2}\\right)^{2}\\right) \\sin^{2}{\\left(\\theta \\right)}}{\\left(a^{2} \\cos^{2}{\\left(\\theta \\right)} + r^{2}\\right)^{2}} + \\frac{\\left(- a^{2} \\left(- R + 2 r\\right) \\sin^{2}{\\left(\\theta \\right)} + 4 r \\left(a^{2} + r^{2}\\right)\\right) \\sin^{2}{\\left(\\theta \\right)}}{a^{2} \\cos^{2}{\\left(\\theta \\right)} + r^{2}}\\right) \\left(- R a^{2} r \\cos^{2}{\\left(\\theta \\right)} - R r^{3} + a^{4} \\cos^{4}{\\left(\\theta \\right)} + 2 a^{2} r^{2} \\cos^{2}{\\left(\\theta \\right)} + r^{4}\\right)}{2 \\left(R a^{4} r \\sin^{4}{\\left(\\theta \\right)} \\cos^{2}{\\left(\\theta \\right)} + R a^{4} r \\sin^{4}{\\left(\\theta \\right)} - R a^{4} r \\sin^{2}{\\left(\\theta \\right)} + 2 R a^{2} r^{3} \\sin^{4}{\\left(\\theta \\right)} - 2 R a^{2} r^{3} \\sin^{2}{\\left(\\theta \\right)} - R r^{5} \\sin^{2}{\\left(\\theta \\right)} - a^{6} \\sin^{4}{\\left(\\theta \\right)} \\cos^{2}{\\left(\\theta \\right)} + a^{6} \\sin^{2}{\\left(\\theta \\right)} \\cos^{2}{\\left(\\theta \\right)} - a^{4} r^{2} \\sin^{4}{\\left(\\theta \\right)} \\cos^{2}{\\left(\\theta \\right)} - a^{4} r^{2} \\sin^{4}{\\left(\\theta \\right)} + 2 a^{4} r^{2} \\sin^{2}{\\left(\\theta \\right)} \\cos^{2}{\\left(\\theta \\right)} + a^{4} r^{2} \\sin^{2}{\\left(\\theta \\right)} - a^{2} r^{4} \\sin^{4}{\\left(\\theta \\right)} + a^{2} r^{4} \\sin^{2}{\\left(\\theta \\right)} \\cos^{2}{\\left(\\theta \\right)} + 2 a^{2} r^{4} \\sin^{2}{\\left(\\theta \\right)} + r^{6} \\sin^{2}{\\left(\\theta \\right)}\\right)}$$",
            "text/plain": [
              "<IPython.core.display.Math object>"
            ]
          },
          "metadata": {
            "tags": []
          }
        },
        {
          "output_type": "display_data",
          "data": {
            "text/latex": "$$\\Gamma^3_{2,0} = \\frac{R a^{2} r \\left(- R a^{3} r \\cos^{2}{\\left(\\theta \\right)} - R a r^{3}\\right) \\sin{\\left(\\theta \\right)} \\cos{\\left(\\theta \\right)}}{\\left(a^{2} \\cos^{2}{\\left(\\theta \\right)} + r^{2}\\right)^{2} \\left(R a^{4} r \\sin^{2}{\\left(\\theta \\right)} \\cos^{2}{\\left(\\theta \\right)} + R a^{4} r \\sin^{2}{\\left(\\theta \\right)} - R a^{4} r + 2 R a^{2} r^{3} \\sin^{2}{\\left(\\theta \\right)} - 2 R a^{2} r^{3} - R r^{5} - a^{6} \\sin^{2}{\\left(\\theta \\right)} \\cos^{2}{\\left(\\theta \\right)} + a^{6} \\cos^{2}{\\left(\\theta \\right)} - a^{4} r^{2} \\sin^{2}{\\left(\\theta \\right)} \\cos^{2}{\\left(\\theta \\right)} - a^{4} r^{2} \\sin^{2}{\\left(\\theta \\right)} + 2 a^{4} r^{2} \\cos^{2}{\\left(\\theta \\right)} + a^{4} r^{2} - a^{2} r^{4} \\sin^{2}{\\left(\\theta \\right)} + a^{2} r^{4} \\cos^{2}{\\left(\\theta \\right)} + 2 a^{2} r^{4} + r^{6}\\right)} + \\frac{\\left(- \\frac{2 R a^{3} r \\sin^{3}{\\left(\\theta \\right)} \\cos{\\left(\\theta \\right)}}{\\left(a^{2} \\cos^{2}{\\left(\\theta \\right)} + r^{2}\\right)^{2}} - \\frac{2 R a r \\sin{\\left(\\theta \\right)} \\cos{\\left(\\theta \\right)}}{a^{2} \\cos^{2}{\\left(\\theta \\right)} + r^{2}}\\right) \\left(- R a^{2} r \\cos^{2}{\\left(\\theta \\right)} - R r^{3} + a^{4} \\cos^{4}{\\left(\\theta \\right)} + 2 a^{2} r^{2} \\cos^{2}{\\left(\\theta \\right)} + r^{4}\\right)}{2 \\left(R a^{4} r \\sin^{4}{\\left(\\theta \\right)} \\cos^{2}{\\left(\\theta \\right)} + R a^{4} r \\sin^{4}{\\left(\\theta \\right)} - R a^{4} r \\sin^{2}{\\left(\\theta \\right)} + 2 R a^{2} r^{3} \\sin^{4}{\\left(\\theta \\right)} - 2 R a^{2} r^{3} \\sin^{2}{\\left(\\theta \\right)} - R r^{5} \\sin^{2}{\\left(\\theta \\right)} - a^{6} \\sin^{4}{\\left(\\theta \\right)} \\cos^{2}{\\left(\\theta \\right)} + a^{6} \\sin^{2}{\\left(\\theta \\right)} \\cos^{2}{\\left(\\theta \\right)} - a^{4} r^{2} \\sin^{4}{\\left(\\theta \\right)} \\cos^{2}{\\left(\\theta \\right)} - a^{4} r^{2} \\sin^{4}{\\left(\\theta \\right)} + 2 a^{4} r^{2} \\sin^{2}{\\left(\\theta \\right)} \\cos^{2}{\\left(\\theta \\right)} + a^{4} r^{2} \\sin^{2}{\\left(\\theta \\right)} - a^{2} r^{4} \\sin^{4}{\\left(\\theta \\right)} + a^{2} r^{4} \\sin^{2}{\\left(\\theta \\right)} \\cos^{2}{\\left(\\theta \\right)} + 2 a^{2} r^{4} \\sin^{2}{\\left(\\theta \\right)} + r^{6} \\sin^{2}{\\left(\\theta \\right)}\\right)}$$",
            "text/plain": [
              "<IPython.core.display.Math object>"
            ]
          },
          "metadata": {
            "tags": []
          }
        },
        {
          "output_type": "display_data",
          "data": {
            "text/latex": "$$\\Gamma^3_{2,3} = \\frac{\\left(- R a^{3} r \\cos^{2}{\\left(\\theta \\right)} - R a r^{3}\\right) \\left(- \\frac{2 R a^{3} r \\sin^{3}{\\left(\\theta \\right)} \\cos{\\left(\\theta \\right)}}{\\left(a^{2} \\cos^{2}{\\left(\\theta \\right)} + r^{2}\\right)^{2}} - \\frac{2 R a r \\sin{\\left(\\theta \\right)} \\cos{\\left(\\theta \\right)}}{a^{2} \\cos^{2}{\\left(\\theta \\right)} + r^{2}}\\right)}{2 \\left(R a^{4} r \\sin^{2}{\\left(\\theta \\right)} \\cos^{2}{\\left(\\theta \\right)} + R a^{4} r \\sin^{2}{\\left(\\theta \\right)} - R a^{4} r + 2 R a^{2} r^{3} \\sin^{2}{\\left(\\theta \\right)} - 2 R a^{2} r^{3} - R r^{5} - a^{6} \\sin^{2}{\\left(\\theta \\right)} \\cos^{2}{\\left(\\theta \\right)} + a^{6} \\cos^{2}{\\left(\\theta \\right)} - a^{4} r^{2} \\sin^{2}{\\left(\\theta \\right)} \\cos^{2}{\\left(\\theta \\right)} - a^{4} r^{2} \\sin^{2}{\\left(\\theta \\right)} + 2 a^{4} r^{2} \\cos^{2}{\\left(\\theta \\right)} + a^{4} r^{2} - a^{2} r^{4} \\sin^{2}{\\left(\\theta \\right)} + a^{2} r^{4} \\cos^{2}{\\left(\\theta \\right)} + 2 a^{2} r^{4} + r^{6}\\right)} + \\frac{\\left(- \\frac{2 a^{2} \\left(- R r + a^{2} + r^{2}\\right) \\sin^{3}{\\left(\\theta \\right)} \\cos{\\left(\\theta \\right)}}{a^{2} \\cos^{2}{\\left(\\theta \\right)} + r^{2}} + \\frac{2 a^{2} \\left(- a^{2} \\left(- R r + a^{2} + r^{2}\\right) \\sin^{2}{\\left(\\theta \\right)} + \\left(a^{2} + r^{2}\\right)^{2}\\right) \\sin^{3}{\\left(\\theta \\right)} \\cos{\\left(\\theta \\right)}}{\\left(a^{2} \\cos^{2}{\\left(\\theta \\right)} + r^{2}\\right)^{2}} + \\frac{2 \\left(- a^{2} \\left(- R r + a^{2} + r^{2}\\right) \\sin^{2}{\\left(\\theta \\right)} + \\left(a^{2} + r^{2}\\right)^{2}\\right) \\sin{\\left(\\theta \\right)} \\cos{\\left(\\theta \\right)}}{a^{2} \\cos^{2}{\\left(\\theta \\right)} + r^{2}}\\right) \\left(- R a^{2} r \\cos^{2}{\\left(\\theta \\right)} - R r^{3} + a^{4} \\cos^{4}{\\left(\\theta \\right)} + 2 a^{2} r^{2} \\cos^{2}{\\left(\\theta \\right)} + r^{4}\\right)}{2 \\left(R a^{4} r \\sin^{4}{\\left(\\theta \\right)} \\cos^{2}{\\left(\\theta \\right)} + R a^{4} r \\sin^{4}{\\left(\\theta \\right)} - R a^{4} r \\sin^{2}{\\left(\\theta \\right)} + 2 R a^{2} r^{3} \\sin^{4}{\\left(\\theta \\right)} - 2 R a^{2} r^{3} \\sin^{2}{\\left(\\theta \\right)} - R r^{5} \\sin^{2}{\\left(\\theta \\right)} - a^{6} \\sin^{4}{\\left(\\theta \\right)} \\cos^{2}{\\left(\\theta \\right)} + a^{6} \\sin^{2}{\\left(\\theta \\right)} \\cos^{2}{\\left(\\theta \\right)} - a^{4} r^{2} \\sin^{4}{\\left(\\theta \\right)} \\cos^{2}{\\left(\\theta \\right)} - a^{4} r^{2} \\sin^{4}{\\left(\\theta \\right)} + 2 a^{4} r^{2} \\sin^{2}{\\left(\\theta \\right)} \\cos^{2}{\\left(\\theta \\right)} + a^{4} r^{2} \\sin^{2}{\\left(\\theta \\right)} - a^{2} r^{4} \\sin^{4}{\\left(\\theta \\right)} + a^{2} r^{4} \\sin^{2}{\\left(\\theta \\right)} \\cos^{2}{\\left(\\theta \\right)} + 2 a^{2} r^{4} \\sin^{2}{\\left(\\theta \\right)} + r^{6} \\sin^{2}{\\left(\\theta \\right)}\\right)}$$",
            "text/plain": [
              "<IPython.core.display.Math object>"
            ]
          },
          "metadata": {
            "tags": []
          }
        },
        {
          "output_type": "display_data",
          "data": {
            "text/latex": "$$\\Gamma^3_{3,1} = \\frac{\\left(- R a^{3} r \\cos^{2}{\\left(\\theta \\right)} - R a r^{3}\\right) \\left(\\frac{2 R a r^{2} \\sin^{2}{\\left(\\theta \\right)}}{\\left(a^{2} \\cos^{2}{\\left(\\theta \\right)} + r^{2}\\right)^{2}} - \\frac{R a \\sin^{2}{\\left(\\theta \\right)}}{a^{2} \\cos^{2}{\\left(\\theta \\right)} + r^{2}}\\right)}{2 \\left(R a^{4} r \\sin^{2}{\\left(\\theta \\right)} \\cos^{2}{\\left(\\theta \\right)} + R a^{4} r \\sin^{2}{\\left(\\theta \\right)} - R a^{4} r + 2 R a^{2} r^{3} \\sin^{2}{\\left(\\theta \\right)} - 2 R a^{2} r^{3} - R r^{5} - a^{6} \\sin^{2}{\\left(\\theta \\right)} \\cos^{2}{\\left(\\theta \\right)} + a^{6} \\cos^{2}{\\left(\\theta \\right)} - a^{4} r^{2} \\sin^{2}{\\left(\\theta \\right)} \\cos^{2}{\\left(\\theta \\right)} - a^{4} r^{2} \\sin^{2}{\\left(\\theta \\right)} + 2 a^{4} r^{2} \\cos^{2}{\\left(\\theta \\right)} + a^{4} r^{2} - a^{2} r^{4} \\sin^{2}{\\left(\\theta \\right)} + a^{2} r^{4} \\cos^{2}{\\left(\\theta \\right)} + 2 a^{2} r^{4} + r^{6}\\right)} + \\frac{\\left(- \\frac{2 r \\left(- a^{2} \\left(- R r + a^{2} + r^{2}\\right) \\sin^{2}{\\left(\\theta \\right)} + \\left(a^{2} + r^{2}\\right)^{2}\\right) \\sin^{2}{\\left(\\theta \\right)}}{\\left(a^{2} \\cos^{2}{\\left(\\theta \\right)} + r^{2}\\right)^{2}} + \\frac{\\left(- a^{2} \\left(- R + 2 r\\right) \\sin^{2}{\\left(\\theta \\right)} + 4 r \\left(a^{2} + r^{2}\\right)\\right) \\sin^{2}{\\left(\\theta \\right)}}{a^{2} \\cos^{2}{\\left(\\theta \\right)} + r^{2}}\\right) \\left(- R a^{2} r \\cos^{2}{\\left(\\theta \\right)} - R r^{3} + a^{4} \\cos^{4}{\\left(\\theta \\right)} + 2 a^{2} r^{2} \\cos^{2}{\\left(\\theta \\right)} + r^{4}\\right)}{2 \\left(R a^{4} r \\sin^{4}{\\left(\\theta \\right)} \\cos^{2}{\\left(\\theta \\right)} + R a^{4} r \\sin^{4}{\\left(\\theta \\right)} - R a^{4} r \\sin^{2}{\\left(\\theta \\right)} + 2 R a^{2} r^{3} \\sin^{4}{\\left(\\theta \\right)} - 2 R a^{2} r^{3} \\sin^{2}{\\left(\\theta \\right)} - R r^{5} \\sin^{2}{\\left(\\theta \\right)} - a^{6} \\sin^{4}{\\left(\\theta \\right)} \\cos^{2}{\\left(\\theta \\right)} + a^{6} \\sin^{2}{\\left(\\theta \\right)} \\cos^{2}{\\left(\\theta \\right)} - a^{4} r^{2} \\sin^{4}{\\left(\\theta \\right)} \\cos^{2}{\\left(\\theta \\right)} - a^{4} r^{2} \\sin^{4}{\\left(\\theta \\right)} + 2 a^{4} r^{2} \\sin^{2}{\\left(\\theta \\right)} \\cos^{2}{\\left(\\theta \\right)} + a^{4} r^{2} \\sin^{2}{\\left(\\theta \\right)} - a^{2} r^{4} \\sin^{4}{\\left(\\theta \\right)} + a^{2} r^{4} \\sin^{2}{\\left(\\theta \\right)} \\cos^{2}{\\left(\\theta \\right)} + 2 a^{2} r^{4} \\sin^{2}{\\left(\\theta \\right)} + r^{6} \\sin^{2}{\\left(\\theta \\right)}\\right)}$$",
            "text/plain": [
              "<IPython.core.display.Math object>"
            ]
          },
          "metadata": {
            "tags": []
          }
        },
        {
          "output_type": "display_data",
          "data": {
            "text/latex": "$$\\Gamma^3_{3,2} = \\frac{\\left(- R a^{3} r \\cos^{2}{\\left(\\theta \\right)} - R a r^{3}\\right) \\left(- \\frac{2 R a^{3} r \\sin^{3}{\\left(\\theta \\right)} \\cos{\\left(\\theta \\right)}}{\\left(a^{2} \\cos^{2}{\\left(\\theta \\right)} + r^{2}\\right)^{2}} - \\frac{2 R a r \\sin{\\left(\\theta \\right)} \\cos{\\left(\\theta \\right)}}{a^{2} \\cos^{2}{\\left(\\theta \\right)} + r^{2}}\\right)}{2 \\left(R a^{4} r \\sin^{2}{\\left(\\theta \\right)} \\cos^{2}{\\left(\\theta \\right)} + R a^{4} r \\sin^{2}{\\left(\\theta \\right)} - R a^{4} r + 2 R a^{2} r^{3} \\sin^{2}{\\left(\\theta \\right)} - 2 R a^{2} r^{3} - R r^{5} - a^{6} \\sin^{2}{\\left(\\theta \\right)} \\cos^{2}{\\left(\\theta \\right)} + a^{6} \\cos^{2}{\\left(\\theta \\right)} - a^{4} r^{2} \\sin^{2}{\\left(\\theta \\right)} \\cos^{2}{\\left(\\theta \\right)} - a^{4} r^{2} \\sin^{2}{\\left(\\theta \\right)} + 2 a^{4} r^{2} \\cos^{2}{\\left(\\theta \\right)} + a^{4} r^{2} - a^{2} r^{4} \\sin^{2}{\\left(\\theta \\right)} + a^{2} r^{4} \\cos^{2}{\\left(\\theta \\right)} + 2 a^{2} r^{4} + r^{6}\\right)} + \\frac{\\left(- \\frac{2 a^{2} \\left(- R r + a^{2} + r^{2}\\right) \\sin^{3}{\\left(\\theta \\right)} \\cos{\\left(\\theta \\right)}}{a^{2} \\cos^{2}{\\left(\\theta \\right)} + r^{2}} + \\frac{2 a^{2} \\left(- a^{2} \\left(- R r + a^{2} + r^{2}\\right) \\sin^{2}{\\left(\\theta \\right)} + \\left(a^{2} + r^{2}\\right)^{2}\\right) \\sin^{3}{\\left(\\theta \\right)} \\cos{\\left(\\theta \\right)}}{\\left(a^{2} \\cos^{2}{\\left(\\theta \\right)} + r^{2}\\right)^{2}} + \\frac{2 \\left(- a^{2} \\left(- R r + a^{2} + r^{2}\\right) \\sin^{2}{\\left(\\theta \\right)} + \\left(a^{2} + r^{2}\\right)^{2}\\right) \\sin{\\left(\\theta \\right)} \\cos{\\left(\\theta \\right)}}{a^{2} \\cos^{2}{\\left(\\theta \\right)} + r^{2}}\\right) \\left(- R a^{2} r \\cos^{2}{\\left(\\theta \\right)} - R r^{3} + a^{4} \\cos^{4}{\\left(\\theta \\right)} + 2 a^{2} r^{2} \\cos^{2}{\\left(\\theta \\right)} + r^{4}\\right)}{2 \\left(R a^{4} r \\sin^{4}{\\left(\\theta \\right)} \\cos^{2}{\\left(\\theta \\right)} + R a^{4} r \\sin^{4}{\\left(\\theta \\right)} - R a^{4} r \\sin^{2}{\\left(\\theta \\right)} + 2 R a^{2} r^{3} \\sin^{4}{\\left(\\theta \\right)} - 2 R a^{2} r^{3} \\sin^{2}{\\left(\\theta \\right)} - R r^{5} \\sin^{2}{\\left(\\theta \\right)} - a^{6} \\sin^{4}{\\left(\\theta \\right)} \\cos^{2}{\\left(\\theta \\right)} + a^{6} \\sin^{2}{\\left(\\theta \\right)} \\cos^{2}{\\left(\\theta \\right)} - a^{4} r^{2} \\sin^{4}{\\left(\\theta \\right)} \\cos^{2}{\\left(\\theta \\right)} - a^{4} r^{2} \\sin^{4}{\\left(\\theta \\right)} + 2 a^{4} r^{2} \\sin^{2}{\\left(\\theta \\right)} \\cos^{2}{\\left(\\theta \\right)} + a^{4} r^{2} \\sin^{2}{\\left(\\theta \\right)} - a^{2} r^{4} \\sin^{4}{\\left(\\theta \\right)} + a^{2} r^{4} \\sin^{2}{\\left(\\theta \\right)} \\cos^{2}{\\left(\\theta \\right)} + 2 a^{2} r^{4} \\sin^{2}{\\left(\\theta \\right)} + r^{6} \\sin^{2}{\\left(\\theta \\right)}\\right)}$$",
            "text/plain": [
              "<IPython.core.display.Math object>"
            ]
          },
          "metadata": {
            "tags": []
          }
        }
      ]
    },
    {
      "cell_type": "markdown",
      "metadata": {
        "id": "MZgKOBW_ei7U"
      },
      "source": [
        "## Riemann Tensor for Kerr Metric"
      ]
    },
    {
      "cell_type": "code",
      "metadata": {
        "id": "LMrdpY21eba8",
        "colab": {
          "base_uri": "https://localhost:8080/",
          "height": 312
        },
        "outputId": "7af810f7-bf0c-4acc-cace-e5b492cbe1ec"
      },
      "source": [
        "kerr_riemann = RiemannTensor.compute_riemann(kerr_ch)\n",
        "kerr_riemann"
      ],
      "execution_count": 30,
      "outputs": [
        {
          "output_type": "error",
          "ename": "KeyboardInterrupt",
          "evalue": "ignored",
          "traceback": [
            "\u001b[0;31m---------------------------------------------------------------------------\u001b[0m",
            "\u001b[0;31mKeyboardInterrupt\u001b[0m                         Traceback (most recent call last)",
            "\u001b[0;32m<ipython-input-30-527e174af079>\u001b[0m in \u001b[0;36m<module>\u001b[0;34m()\u001b[0m\n\u001b[0;32m----> 1\u001b[0;31m \u001b[0mkerr_riemann\u001b[0m \u001b[0;34m=\u001b[0m \u001b[0mRiemannTensor\u001b[0m\u001b[0;34m.\u001b[0m\u001b[0mcompute_riemann\u001b[0m\u001b[0;34m(\u001b[0m\u001b[0mkerr_ch\u001b[0m\u001b[0;34m)\u001b[0m\u001b[0;34m\u001b[0m\u001b[0;34m\u001b[0m\u001b[0m\n\u001b[0m\u001b[1;32m      2\u001b[0m \u001b[0mkerr_riemann\u001b[0m\u001b[0;34m\u001b[0m\u001b[0;34m\u001b[0m\u001b[0m\n",
            "\u001b[0;32m<ipython-input-5-b386af0486cf>\u001b[0m in \u001b[0;36mcompute_riemann\u001b[0;34m(cls, chris, parent_metric)\u001b[0m\n\u001b[1;32m     32\u001b[0m             \u001b[0;32mfor\u001b[0m \u001b[0mp\u001b[0m \u001b[0;32min\u001b[0m \u001b[0mrange\u001b[0m\u001b[0;34m(\u001b[0m\u001b[0mdims\u001b[0m\u001b[0;34m)\u001b[0m\u001b[0;34m:\u001b[0m\u001b[0;34m\u001b[0m\u001b[0;34m\u001b[0m\u001b[0m\n\u001b[1;32m     33\u001b[0m                 \u001b[0mtemp\u001b[0m \u001b[0;34m+=\u001b[0m \u001b[0marr\u001b[0m\u001b[0;34m[\u001b[0m\u001b[0mp\u001b[0m\u001b[0;34m,\u001b[0m \u001b[0ms\u001b[0m\u001b[0;34m,\u001b[0m \u001b[0mn\u001b[0m\u001b[0;34m]\u001b[0m \u001b[0;34m*\u001b[0m \u001b[0marr\u001b[0m\u001b[0;34m[\u001b[0m\u001b[0mt\u001b[0m\u001b[0;34m,\u001b[0m \u001b[0mp\u001b[0m\u001b[0;34m,\u001b[0m \u001b[0mr\u001b[0m\u001b[0;34m]\u001b[0m \u001b[0;34m-\u001b[0m \u001b[0marr\u001b[0m\u001b[0;34m[\u001b[0m\u001b[0mp\u001b[0m\u001b[0;34m,\u001b[0m \u001b[0ms\u001b[0m\u001b[0;34m,\u001b[0m \u001b[0mr\u001b[0m\u001b[0;34m]\u001b[0m \u001b[0;34m*\u001b[0m \u001b[0marr\u001b[0m\u001b[0;34m[\u001b[0m\u001b[0mt\u001b[0m\u001b[0;34m,\u001b[0m \u001b[0mp\u001b[0m\u001b[0;34m,\u001b[0m \u001b[0mn\u001b[0m\u001b[0;34m]\u001b[0m\u001b[0;34m\u001b[0m\u001b[0;34m\u001b[0m\u001b[0m\n\u001b[0;32m---> 34\u001b[0;31m             \u001b[0mriemann\u001b[0m\u001b[0;34m[\u001b[0m\u001b[0mt\u001b[0m\u001b[0;34m]\u001b[0m\u001b[0;34m[\u001b[0m\u001b[0ms\u001b[0m\u001b[0;34m]\u001b[0m\u001b[0;34m[\u001b[0m\u001b[0mr\u001b[0m\u001b[0;34m]\u001b[0m\u001b[0;34m[\u001b[0m\u001b[0mn\u001b[0m\u001b[0;34m]\u001b[0m \u001b[0;34m=\u001b[0m \u001b[0msympy\u001b[0m\u001b[0;34m.\u001b[0m\u001b[0msimplify\u001b[0m\u001b[0;34m(\u001b[0m\u001b[0mtemp\u001b[0m\u001b[0;34m)\u001b[0m\u001b[0;34m\u001b[0m\u001b[0;34m\u001b[0m\u001b[0m\n\u001b[0m\u001b[1;32m     35\u001b[0m         \u001b[0;32mif\u001b[0m \u001b[0mparent_metric\u001b[0m \u001b[0;32mis\u001b[0m \u001b[0;32mNone\u001b[0m\u001b[0;34m:\u001b[0m\u001b[0;34m\u001b[0m\u001b[0;34m\u001b[0m\u001b[0m\n\u001b[1;32m     36\u001b[0m             \u001b[0mparent_metric\u001b[0m \u001b[0;34m=\u001b[0m \u001b[0mchris\u001b[0m\u001b[0;34m.\u001b[0m\u001b[0mparent_metric\u001b[0m\u001b[0;34m\u001b[0m\u001b[0;34m\u001b[0m\u001b[0m\n",
            "\u001b[0;32m/usr/local/lib/python3.7/dist-packages/sympy/simplify/simplify.py\u001b[0m in \u001b[0;36msimplify\u001b[0;34m(expr, ratio, measure, rational, inverse, doit, **kwargs)\u001b[0m\n\u001b[1;32m    663\u001b[0m \u001b[0;34m\u001b[0m\u001b[0m\n\u001b[1;32m    664\u001b[0m     \u001b[0;32mif\u001b[0m \u001b[0mexpr\u001b[0m\u001b[0;34m.\u001b[0m\u001b[0mhas\u001b[0m\u001b[0;34m(\u001b[0m\u001b[0mTrigonometricFunction\u001b[0m\u001b[0;34m,\u001b[0m \u001b[0mHyperbolicFunction\u001b[0m\u001b[0;34m)\u001b[0m\u001b[0;34m:\u001b[0m\u001b[0;34m\u001b[0m\u001b[0;34m\u001b[0m\u001b[0m\n\u001b[0;32m--> 665\u001b[0;31m         \u001b[0mexpr\u001b[0m \u001b[0;34m=\u001b[0m \u001b[0mtrigsimp\u001b[0m\u001b[0;34m(\u001b[0m\u001b[0mexpr\u001b[0m\u001b[0;34m,\u001b[0m \u001b[0mdeep\u001b[0m\u001b[0;34m=\u001b[0m\u001b[0;32mTrue\u001b[0m\u001b[0;34m)\u001b[0m\u001b[0;34m\u001b[0m\u001b[0;34m\u001b[0m\u001b[0m\n\u001b[0m\u001b[1;32m    666\u001b[0m \u001b[0;34m\u001b[0m\u001b[0m\n\u001b[1;32m    667\u001b[0m     \u001b[0;32mif\u001b[0m \u001b[0mexpr\u001b[0m\u001b[0;34m.\u001b[0m\u001b[0mhas\u001b[0m\u001b[0;34m(\u001b[0m\u001b[0mlog\u001b[0m\u001b[0;34m)\u001b[0m\u001b[0;34m:\u001b[0m\u001b[0;34m\u001b[0m\u001b[0;34m\u001b[0m\u001b[0m\n",
            "\u001b[0;32m/usr/local/lib/python3.7/dist-packages/sympy/simplify/trigsimp.py\u001b[0m in \u001b[0;36mtrigsimp\u001b[0;34m(expr, **opts)\u001b[0m\n\u001b[1;32m    506\u001b[0m                    }[method]\n\u001b[1;32m    507\u001b[0m \u001b[0;34m\u001b[0m\u001b[0m\n\u001b[0;32m--> 508\u001b[0;31m     \u001b[0;32mreturn\u001b[0m \u001b[0mtrigsimpfunc\u001b[0m\u001b[0;34m(\u001b[0m\u001b[0mexpr\u001b[0m\u001b[0;34m)\u001b[0m\u001b[0;34m\u001b[0m\u001b[0;34m\u001b[0m\u001b[0m\n\u001b[0m\u001b[1;32m    509\u001b[0m \u001b[0;34m\u001b[0m\u001b[0m\n\u001b[1;32m    510\u001b[0m \u001b[0;34m\u001b[0m\u001b[0m\n",
            "\u001b[0;32m/usr/local/lib/python3.7/dist-packages/sympy/simplify/trigsimp.py\u001b[0m in \u001b[0;36m<lambda>\u001b[0;34m(x)\u001b[0m\n\u001b[1;32m    499\u001b[0m     trigsimpfunc = {\n\u001b[1;32m    500\u001b[0m         \u001b[0;34m'fu'\u001b[0m\u001b[0;34m:\u001b[0m \u001b[0;34m(\u001b[0m\u001b[0;32mlambda\u001b[0m \u001b[0mx\u001b[0m\u001b[0;34m:\u001b[0m \u001b[0mfu\u001b[0m\u001b[0;34m(\u001b[0m\u001b[0mx\u001b[0m\u001b[0;34m,\u001b[0m \u001b[0;34m**\u001b[0m\u001b[0mopts\u001b[0m\u001b[0;34m)\u001b[0m\u001b[0;34m)\u001b[0m\u001b[0;34m,\u001b[0m\u001b[0;34m\u001b[0m\u001b[0;34m\u001b[0m\u001b[0m\n\u001b[0;32m--> 501\u001b[0;31m         \u001b[0;34m'matching'\u001b[0m\u001b[0;34m:\u001b[0m \u001b[0;34m(\u001b[0m\u001b[0;32mlambda\u001b[0m \u001b[0mx\u001b[0m\u001b[0;34m:\u001b[0m \u001b[0mfutrig\u001b[0m\u001b[0;34m(\u001b[0m\u001b[0mx\u001b[0m\u001b[0;34m)\u001b[0m\u001b[0;34m)\u001b[0m\u001b[0;34m,\u001b[0m\u001b[0;34m\u001b[0m\u001b[0;34m\u001b[0m\u001b[0m\n\u001b[0m\u001b[1;32m    502\u001b[0m         \u001b[0;34m'groebner'\u001b[0m\u001b[0;34m:\u001b[0m \u001b[0;34m(\u001b[0m\u001b[0;32mlambda\u001b[0m \u001b[0mx\u001b[0m\u001b[0;34m:\u001b[0m \u001b[0mgroebnersimp\u001b[0m\u001b[0;34m(\u001b[0m\u001b[0mx\u001b[0m\u001b[0;34m,\u001b[0m \u001b[0;34m**\u001b[0m\u001b[0mopts\u001b[0m\u001b[0;34m)\u001b[0m\u001b[0;34m)\u001b[0m\u001b[0;34m,\u001b[0m\u001b[0;34m\u001b[0m\u001b[0;34m\u001b[0m\u001b[0m\n\u001b[1;32m    503\u001b[0m         'combined': (lambda x: futrig(groebnersimp(x,\n",
            "\u001b[0;32m/usr/local/lib/python3.7/dist-packages/sympy/simplify/trigsimp.py\u001b[0m in \u001b[0;36mfutrig\u001b[0;34m(e, hyper, **kwargs)\u001b[0m\n\u001b[1;32m   1098\u001b[0m \u001b[0;34m\u001b[0m\u001b[0m\n\u001b[1;32m   1099\u001b[0m     \u001b[0mold\u001b[0m \u001b[0;34m=\u001b[0m \u001b[0me\u001b[0m\u001b[0;34m\u001b[0m\u001b[0;34m\u001b[0m\u001b[0m\n\u001b[0;32m-> 1100\u001b[0;31m     \u001b[0me\u001b[0m \u001b[0;34m=\u001b[0m \u001b[0mbottom_up\u001b[0m\u001b[0;34m(\u001b[0m\u001b[0me\u001b[0m\u001b[0;34m,\u001b[0m \u001b[0m_futrig\u001b[0m\u001b[0;34m)\u001b[0m\u001b[0;34m\u001b[0m\u001b[0;34m\u001b[0m\u001b[0m\n\u001b[0m\u001b[1;32m   1101\u001b[0m \u001b[0;34m\u001b[0m\u001b[0m\n\u001b[1;32m   1102\u001b[0m     \u001b[0;32mif\u001b[0m \u001b[0mhyper\u001b[0m \u001b[0;32mand\u001b[0m \u001b[0me\u001b[0m\u001b[0;34m.\u001b[0m\u001b[0mhas\u001b[0m\u001b[0;34m(\u001b[0m\u001b[0mHyperbolicFunction\u001b[0m\u001b[0;34m)\u001b[0m\u001b[0;34m:\u001b[0m\u001b[0;34m\u001b[0m\u001b[0;34m\u001b[0m\u001b[0m\n",
            "\u001b[0;32m/usr/local/lib/python3.7/dist-packages/sympy/simplify/simplify.py\u001b[0m in \u001b[0;36mbottom_up\u001b[0;34m(rv, F, atoms, nonbasic)\u001b[0m\n\u001b[1;32m   1154\u001b[0m     \u001b[0;32mif\u001b[0m \u001b[0margs\u001b[0m \u001b[0;32mis\u001b[0m \u001b[0;32mnot\u001b[0m \u001b[0;32mNone\u001b[0m\u001b[0;34m:\u001b[0m\u001b[0;34m\u001b[0m\u001b[0;34m\u001b[0m\u001b[0m\n\u001b[1;32m   1155\u001b[0m         \u001b[0;32mif\u001b[0m \u001b[0margs\u001b[0m\u001b[0;34m:\u001b[0m\u001b[0;34m\u001b[0m\u001b[0;34m\u001b[0m\u001b[0m\n\u001b[0;32m-> 1156\u001b[0;31m             \u001b[0margs\u001b[0m \u001b[0;34m=\u001b[0m \u001b[0mtuple\u001b[0m\u001b[0;34m(\u001b[0m\u001b[0;34m[\u001b[0m\u001b[0mbottom_up\u001b[0m\u001b[0;34m(\u001b[0m\u001b[0ma\u001b[0m\u001b[0;34m,\u001b[0m \u001b[0mF\u001b[0m\u001b[0;34m,\u001b[0m \u001b[0matoms\u001b[0m\u001b[0;34m,\u001b[0m \u001b[0mnonbasic\u001b[0m\u001b[0;34m)\u001b[0m \u001b[0;32mfor\u001b[0m \u001b[0ma\u001b[0m \u001b[0;32min\u001b[0m \u001b[0margs\u001b[0m\u001b[0;34m]\u001b[0m\u001b[0;34m)\u001b[0m\u001b[0;34m\u001b[0m\u001b[0;34m\u001b[0m\u001b[0m\n\u001b[0m\u001b[1;32m   1157\u001b[0m             \u001b[0;32mif\u001b[0m \u001b[0margs\u001b[0m \u001b[0;34m!=\u001b[0m \u001b[0mrv\u001b[0m\u001b[0;34m.\u001b[0m\u001b[0margs\u001b[0m\u001b[0;34m:\u001b[0m\u001b[0;34m\u001b[0m\u001b[0;34m\u001b[0m\u001b[0m\n\u001b[1;32m   1158\u001b[0m                 \u001b[0mrv\u001b[0m \u001b[0;34m=\u001b[0m \u001b[0mrv\u001b[0m\u001b[0;34m.\u001b[0m\u001b[0mfunc\u001b[0m\u001b[0;34m(\u001b[0m\u001b[0;34m*\u001b[0m\u001b[0margs\u001b[0m\u001b[0;34m)\u001b[0m\u001b[0;34m\u001b[0m\u001b[0;34m\u001b[0m\u001b[0m\n",
            "\u001b[0;32m/usr/local/lib/python3.7/dist-packages/sympy/simplify/simplify.py\u001b[0m in \u001b[0;36m<listcomp>\u001b[0;34m(.0)\u001b[0m\n\u001b[1;32m   1154\u001b[0m     \u001b[0;32mif\u001b[0m \u001b[0margs\u001b[0m \u001b[0;32mis\u001b[0m \u001b[0;32mnot\u001b[0m \u001b[0;32mNone\u001b[0m\u001b[0;34m:\u001b[0m\u001b[0;34m\u001b[0m\u001b[0;34m\u001b[0m\u001b[0m\n\u001b[1;32m   1155\u001b[0m         \u001b[0;32mif\u001b[0m \u001b[0margs\u001b[0m\u001b[0;34m:\u001b[0m\u001b[0;34m\u001b[0m\u001b[0;34m\u001b[0m\u001b[0m\n\u001b[0;32m-> 1156\u001b[0;31m             \u001b[0margs\u001b[0m \u001b[0;34m=\u001b[0m \u001b[0mtuple\u001b[0m\u001b[0;34m(\u001b[0m\u001b[0;34m[\u001b[0m\u001b[0mbottom_up\u001b[0m\u001b[0;34m(\u001b[0m\u001b[0ma\u001b[0m\u001b[0;34m,\u001b[0m \u001b[0mF\u001b[0m\u001b[0;34m,\u001b[0m \u001b[0matoms\u001b[0m\u001b[0;34m,\u001b[0m \u001b[0mnonbasic\u001b[0m\u001b[0;34m)\u001b[0m \u001b[0;32mfor\u001b[0m \u001b[0ma\u001b[0m \u001b[0;32min\u001b[0m \u001b[0margs\u001b[0m\u001b[0;34m]\u001b[0m\u001b[0;34m)\u001b[0m\u001b[0;34m\u001b[0m\u001b[0;34m\u001b[0m\u001b[0m\n\u001b[0m\u001b[1;32m   1157\u001b[0m             \u001b[0;32mif\u001b[0m \u001b[0margs\u001b[0m \u001b[0;34m!=\u001b[0m \u001b[0mrv\u001b[0m\u001b[0;34m.\u001b[0m\u001b[0margs\u001b[0m\u001b[0;34m:\u001b[0m\u001b[0;34m\u001b[0m\u001b[0;34m\u001b[0m\u001b[0m\n\u001b[1;32m   1158\u001b[0m                 \u001b[0mrv\u001b[0m \u001b[0;34m=\u001b[0m \u001b[0mrv\u001b[0m\u001b[0;34m.\u001b[0m\u001b[0mfunc\u001b[0m\u001b[0;34m(\u001b[0m\u001b[0;34m*\u001b[0m\u001b[0margs\u001b[0m\u001b[0;34m)\u001b[0m\u001b[0;34m\u001b[0m\u001b[0;34m\u001b[0m\u001b[0m\n",
            "\u001b[0;32m/usr/local/lib/python3.7/dist-packages/sympy/simplify/simplify.py\u001b[0m in \u001b[0;36mbottom_up\u001b[0;34m(rv, F, atoms, nonbasic)\u001b[0m\n\u001b[1;32m   1154\u001b[0m     \u001b[0;32mif\u001b[0m \u001b[0margs\u001b[0m \u001b[0;32mis\u001b[0m \u001b[0;32mnot\u001b[0m \u001b[0;32mNone\u001b[0m\u001b[0;34m:\u001b[0m\u001b[0;34m\u001b[0m\u001b[0;34m\u001b[0m\u001b[0m\n\u001b[1;32m   1155\u001b[0m         \u001b[0;32mif\u001b[0m \u001b[0margs\u001b[0m\u001b[0;34m:\u001b[0m\u001b[0;34m\u001b[0m\u001b[0;34m\u001b[0m\u001b[0m\n\u001b[0;32m-> 1156\u001b[0;31m             \u001b[0margs\u001b[0m \u001b[0;34m=\u001b[0m \u001b[0mtuple\u001b[0m\u001b[0;34m(\u001b[0m\u001b[0;34m[\u001b[0m\u001b[0mbottom_up\u001b[0m\u001b[0;34m(\u001b[0m\u001b[0ma\u001b[0m\u001b[0;34m,\u001b[0m \u001b[0mF\u001b[0m\u001b[0;34m,\u001b[0m \u001b[0matoms\u001b[0m\u001b[0;34m,\u001b[0m \u001b[0mnonbasic\u001b[0m\u001b[0;34m)\u001b[0m \u001b[0;32mfor\u001b[0m \u001b[0ma\u001b[0m \u001b[0;32min\u001b[0m \u001b[0margs\u001b[0m\u001b[0;34m]\u001b[0m\u001b[0;34m)\u001b[0m\u001b[0;34m\u001b[0m\u001b[0;34m\u001b[0m\u001b[0m\n\u001b[0m\u001b[1;32m   1157\u001b[0m             \u001b[0;32mif\u001b[0m \u001b[0margs\u001b[0m \u001b[0;34m!=\u001b[0m \u001b[0mrv\u001b[0m\u001b[0;34m.\u001b[0m\u001b[0margs\u001b[0m\u001b[0;34m:\u001b[0m\u001b[0;34m\u001b[0m\u001b[0;34m\u001b[0m\u001b[0m\n\u001b[1;32m   1158\u001b[0m                 \u001b[0mrv\u001b[0m \u001b[0;34m=\u001b[0m \u001b[0mrv\u001b[0m\u001b[0;34m.\u001b[0m\u001b[0mfunc\u001b[0m\u001b[0;34m(\u001b[0m\u001b[0;34m*\u001b[0m\u001b[0margs\u001b[0m\u001b[0;34m)\u001b[0m\u001b[0;34m\u001b[0m\u001b[0;34m\u001b[0m\u001b[0m\n",
            "\u001b[0;32m/usr/local/lib/python3.7/dist-packages/sympy/simplify/simplify.py\u001b[0m in \u001b[0;36m<listcomp>\u001b[0;34m(.0)\u001b[0m\n\u001b[1;32m   1154\u001b[0m     \u001b[0;32mif\u001b[0m \u001b[0margs\u001b[0m \u001b[0;32mis\u001b[0m \u001b[0;32mnot\u001b[0m \u001b[0;32mNone\u001b[0m\u001b[0;34m:\u001b[0m\u001b[0;34m\u001b[0m\u001b[0;34m\u001b[0m\u001b[0m\n\u001b[1;32m   1155\u001b[0m         \u001b[0;32mif\u001b[0m \u001b[0margs\u001b[0m\u001b[0;34m:\u001b[0m\u001b[0;34m\u001b[0m\u001b[0;34m\u001b[0m\u001b[0m\n\u001b[0;32m-> 1156\u001b[0;31m             \u001b[0margs\u001b[0m \u001b[0;34m=\u001b[0m \u001b[0mtuple\u001b[0m\u001b[0;34m(\u001b[0m\u001b[0;34m[\u001b[0m\u001b[0mbottom_up\u001b[0m\u001b[0;34m(\u001b[0m\u001b[0ma\u001b[0m\u001b[0;34m,\u001b[0m \u001b[0mF\u001b[0m\u001b[0;34m,\u001b[0m \u001b[0matoms\u001b[0m\u001b[0;34m,\u001b[0m \u001b[0mnonbasic\u001b[0m\u001b[0;34m)\u001b[0m \u001b[0;32mfor\u001b[0m \u001b[0ma\u001b[0m \u001b[0;32min\u001b[0m \u001b[0margs\u001b[0m\u001b[0;34m]\u001b[0m\u001b[0;34m)\u001b[0m\u001b[0;34m\u001b[0m\u001b[0;34m\u001b[0m\u001b[0m\n\u001b[0m\u001b[1;32m   1157\u001b[0m             \u001b[0;32mif\u001b[0m \u001b[0margs\u001b[0m \u001b[0;34m!=\u001b[0m \u001b[0mrv\u001b[0m\u001b[0;34m.\u001b[0m\u001b[0margs\u001b[0m\u001b[0;34m:\u001b[0m\u001b[0;34m\u001b[0m\u001b[0;34m\u001b[0m\u001b[0m\n\u001b[1;32m   1158\u001b[0m                 \u001b[0mrv\u001b[0m \u001b[0;34m=\u001b[0m \u001b[0mrv\u001b[0m\u001b[0;34m.\u001b[0m\u001b[0mfunc\u001b[0m\u001b[0;34m(\u001b[0m\u001b[0;34m*\u001b[0m\u001b[0margs\u001b[0m\u001b[0;34m)\u001b[0m\u001b[0;34m\u001b[0m\u001b[0;34m\u001b[0m\u001b[0m\n",
            "\u001b[0;32m/usr/local/lib/python3.7/dist-packages/sympy/simplify/simplify.py\u001b[0m in \u001b[0;36mbottom_up\u001b[0;34m(rv, F, atoms, nonbasic)\u001b[0m\n\u001b[1;32m   1157\u001b[0m             \u001b[0;32mif\u001b[0m \u001b[0margs\u001b[0m \u001b[0;34m!=\u001b[0m \u001b[0mrv\u001b[0m\u001b[0;34m.\u001b[0m\u001b[0margs\u001b[0m\u001b[0;34m:\u001b[0m\u001b[0;34m\u001b[0m\u001b[0;34m\u001b[0m\u001b[0m\n\u001b[1;32m   1158\u001b[0m                 \u001b[0mrv\u001b[0m \u001b[0;34m=\u001b[0m \u001b[0mrv\u001b[0m\u001b[0;34m.\u001b[0m\u001b[0mfunc\u001b[0m\u001b[0;34m(\u001b[0m\u001b[0;34m*\u001b[0m\u001b[0margs\u001b[0m\u001b[0;34m)\u001b[0m\u001b[0;34m\u001b[0m\u001b[0;34m\u001b[0m\u001b[0m\n\u001b[0;32m-> 1159\u001b[0;31m             \u001b[0mrv\u001b[0m \u001b[0;34m=\u001b[0m \u001b[0mF\u001b[0m\u001b[0;34m(\u001b[0m\u001b[0mrv\u001b[0m\u001b[0;34m)\u001b[0m\u001b[0;34m\u001b[0m\u001b[0;34m\u001b[0m\u001b[0m\n\u001b[0m\u001b[1;32m   1160\u001b[0m         \u001b[0;32melif\u001b[0m \u001b[0matoms\u001b[0m\u001b[0;34m:\u001b[0m\u001b[0;34m\u001b[0m\u001b[0;34m\u001b[0m\u001b[0m\n\u001b[1;32m   1161\u001b[0m             \u001b[0mrv\u001b[0m \u001b[0;34m=\u001b[0m \u001b[0mF\u001b[0m\u001b[0;34m(\u001b[0m\u001b[0mrv\u001b[0m\u001b[0;34m)\u001b[0m\u001b[0;34m\u001b[0m\u001b[0;34m\u001b[0m\u001b[0m\n",
            "\u001b[0;32m/usr/local/lib/python3.7/dist-packages/sympy/simplify/trigsimp.py\u001b[0m in \u001b[0;36m_futrig\u001b[0;34m(e)\u001b[0m\n\u001b[1;32m   1166\u001b[0m             factor_terms, TR12(x), trigs)],  # expand tan of sum\n\u001b[1;32m   1167\u001b[0m         )]\n\u001b[0;32m-> 1168\u001b[0;31m     \u001b[0me\u001b[0m \u001b[0;34m=\u001b[0m \u001b[0mgreedy\u001b[0m\u001b[0;34m(\u001b[0m\u001b[0mtree\u001b[0m\u001b[0;34m,\u001b[0m \u001b[0mobjective\u001b[0m\u001b[0;34m=\u001b[0m\u001b[0mLops\u001b[0m\u001b[0;34m)\u001b[0m\u001b[0;34m(\u001b[0m\u001b[0me\u001b[0m\u001b[0;34m)\u001b[0m\u001b[0;34m\u001b[0m\u001b[0;34m\u001b[0m\u001b[0m\n\u001b[0m\u001b[1;32m   1169\u001b[0m \u001b[0;34m\u001b[0m\u001b[0m\n\u001b[1;32m   1170\u001b[0m     \u001b[0;32mif\u001b[0m \u001b[0mcoeff\u001b[0m \u001b[0;32mis\u001b[0m \u001b[0;32mnot\u001b[0m \u001b[0;32mNone\u001b[0m\u001b[0;34m:\u001b[0m\u001b[0;34m\u001b[0m\u001b[0;34m\u001b[0m\u001b[0m\n",
            "\u001b[0;32m/usr/local/lib/python3.7/dist-packages/sympy/strategies/core.py\u001b[0m in \u001b[0;36mminrule\u001b[0;34m(expr)\u001b[0m\n\u001b[1;32m    112\u001b[0m \u001b[0;34m\u001b[0m\u001b[0m\n\u001b[1;32m    113\u001b[0m     \u001b[0;32mdef\u001b[0m \u001b[0mminrule\u001b[0m\u001b[0;34m(\u001b[0m\u001b[0mexpr\u001b[0m\u001b[0;34m)\u001b[0m\u001b[0;34m:\u001b[0m\u001b[0;34m\u001b[0m\u001b[0;34m\u001b[0m\u001b[0m\n\u001b[0;32m--> 114\u001b[0;31m         \u001b[0;32mreturn\u001b[0m \u001b[0mmin\u001b[0m\u001b[0;34m(\u001b[0m\u001b[0;34m[\u001b[0m\u001b[0mrule\u001b[0m\u001b[0;34m(\u001b[0m\u001b[0mexpr\u001b[0m\u001b[0;34m)\u001b[0m \u001b[0;32mfor\u001b[0m \u001b[0mrule\u001b[0m \u001b[0;32min\u001b[0m \u001b[0mrules\u001b[0m\u001b[0;34m]\u001b[0m\u001b[0;34m,\u001b[0m \u001b[0mkey\u001b[0m\u001b[0;34m=\u001b[0m\u001b[0mobjective\u001b[0m\u001b[0;34m)\u001b[0m\u001b[0;34m\u001b[0m\u001b[0;34m\u001b[0m\u001b[0m\n\u001b[0m\u001b[1;32m    115\u001b[0m     \u001b[0;32mreturn\u001b[0m \u001b[0mminrule\u001b[0m\u001b[0;34m\u001b[0m\u001b[0;34m\u001b[0m\u001b[0m\n",
            "\u001b[0;32m/usr/local/lib/python3.7/dist-packages/sympy/strategies/core.py\u001b[0m in \u001b[0;36m<listcomp>\u001b[0;34m(.0)\u001b[0m\n\u001b[1;32m    112\u001b[0m \u001b[0;34m\u001b[0m\u001b[0m\n\u001b[1;32m    113\u001b[0m     \u001b[0;32mdef\u001b[0m \u001b[0mminrule\u001b[0m\u001b[0;34m(\u001b[0m\u001b[0mexpr\u001b[0m\u001b[0;34m)\u001b[0m\u001b[0;34m:\u001b[0m\u001b[0;34m\u001b[0m\u001b[0;34m\u001b[0m\u001b[0m\n\u001b[0;32m--> 114\u001b[0;31m         \u001b[0;32mreturn\u001b[0m \u001b[0mmin\u001b[0m\u001b[0;34m(\u001b[0m\u001b[0;34m[\u001b[0m\u001b[0mrule\u001b[0m\u001b[0;34m(\u001b[0m\u001b[0mexpr\u001b[0m\u001b[0;34m)\u001b[0m \u001b[0;32mfor\u001b[0m \u001b[0mrule\u001b[0m \u001b[0;32min\u001b[0m \u001b[0mrules\u001b[0m\u001b[0;34m]\u001b[0m\u001b[0;34m,\u001b[0m \u001b[0mkey\u001b[0m\u001b[0;34m=\u001b[0m\u001b[0mobjective\u001b[0m\u001b[0;34m)\u001b[0m\u001b[0;34m\u001b[0m\u001b[0;34m\u001b[0m\u001b[0m\n\u001b[0m\u001b[1;32m    115\u001b[0m     \u001b[0;32mreturn\u001b[0m \u001b[0mminrule\u001b[0m\u001b[0;34m\u001b[0m\u001b[0;34m\u001b[0m\u001b[0m\n",
            "\u001b[0;32m/usr/local/lib/python3.7/dist-packages/sympy/strategies/core.py\u001b[0m in \u001b[0;36mchain_rl\u001b[0;34m(expr)\u001b[0m\n\u001b[1;32m     42\u001b[0m     \u001b[0;32mdef\u001b[0m \u001b[0mchain_rl\u001b[0m\u001b[0;34m(\u001b[0m\u001b[0mexpr\u001b[0m\u001b[0;34m)\u001b[0m\u001b[0;34m:\u001b[0m\u001b[0;34m\u001b[0m\u001b[0;34m\u001b[0m\u001b[0m\n\u001b[1;32m     43\u001b[0m         \u001b[0;32mfor\u001b[0m \u001b[0mrule\u001b[0m \u001b[0;32min\u001b[0m \u001b[0mrules\u001b[0m\u001b[0;34m:\u001b[0m\u001b[0;34m\u001b[0m\u001b[0;34m\u001b[0m\u001b[0m\n\u001b[0;32m---> 44\u001b[0;31m             \u001b[0mexpr\u001b[0m \u001b[0;34m=\u001b[0m \u001b[0mrule\u001b[0m\u001b[0;34m(\u001b[0m\u001b[0mexpr\u001b[0m\u001b[0;34m)\u001b[0m\u001b[0;34m\u001b[0m\u001b[0;34m\u001b[0m\u001b[0m\n\u001b[0m\u001b[1;32m     45\u001b[0m         \u001b[0;32mreturn\u001b[0m \u001b[0mexpr\u001b[0m\u001b[0;34m\u001b[0m\u001b[0;34m\u001b[0m\u001b[0m\n\u001b[1;32m     46\u001b[0m     \u001b[0;32mreturn\u001b[0m \u001b[0mchain_rl\u001b[0m\u001b[0;34m\u001b[0m\u001b[0;34m\u001b[0m\u001b[0m\n",
            "\u001b[0;32m/usr/local/lib/python3.7/dist-packages/sympy/simplify/trigsimp.py\u001b[0m in \u001b[0;36m<lambda>\u001b[0;34m(x)\u001b[0m\n\u001b[1;32m   1134\u001b[0m         \u001b[0mTR1\u001b[0m\u001b[0;34m,\u001b[0m  \u001b[0;31m# sec-csc -> cos-sin\u001b[0m\u001b[0;34m\u001b[0m\u001b[0;34m\u001b[0m\u001b[0m\n\u001b[1;32m   1135\u001b[0m         \u001b[0mTR12\u001b[0m\u001b[0;34m,\u001b[0m  \u001b[0;31m# expand tan of sum\u001b[0m\u001b[0;34m\u001b[0m\u001b[0;34m\u001b[0m\u001b[0m\n\u001b[0;32m-> 1136\u001b[0;31m         \u001b[0;32mlambda\u001b[0m \u001b[0mx\u001b[0m\u001b[0;34m:\u001b[0m \u001b[0m_eapply\u001b[0m\u001b[0;34m(\u001b[0m\u001b[0mfactor\u001b[0m\u001b[0;34m,\u001b[0m \u001b[0mx\u001b[0m\u001b[0;34m,\u001b[0m \u001b[0mtrigs\u001b[0m\u001b[0;34m)\u001b[0m\u001b[0;34m,\u001b[0m\u001b[0;34m\u001b[0m\u001b[0;34m\u001b[0m\u001b[0m\n\u001b[0m\u001b[1;32m   1137\u001b[0m         \u001b[0mTR2\u001b[0m\u001b[0;34m,\u001b[0m  \u001b[0;31m# tan-cot -> sin-cos\u001b[0m\u001b[0;34m\u001b[0m\u001b[0;34m\u001b[0m\u001b[0m\n\u001b[1;32m   1138\u001b[0m         \u001b[0;34m[\u001b[0m\u001b[0midentity\u001b[0m\u001b[0;34m,\u001b[0m \u001b[0;32mlambda\u001b[0m \u001b[0mx\u001b[0m\u001b[0;34m:\u001b[0m \u001b[0m_eapply\u001b[0m\u001b[0;34m(\u001b[0m\u001b[0m_mexpand\u001b[0m\u001b[0;34m,\u001b[0m \u001b[0mx\u001b[0m\u001b[0;34m,\u001b[0m \u001b[0mtrigs\u001b[0m\u001b[0;34m)\u001b[0m\u001b[0;34m]\u001b[0m\u001b[0;34m,\u001b[0m\u001b[0;34m\u001b[0m\u001b[0;34m\u001b[0m\u001b[0m\n",
            "\u001b[0;32m/usr/local/lib/python3.7/dist-packages/sympy/simplify/trigsimp.py\u001b[0m in \u001b[0;36m_eapply\u001b[0;34m(func, e, cond)\u001b[0m\n\u001b[1;32m   1191\u001b[0m         \u001b[0;32mreturn\u001b[0m \u001b[0me\u001b[0m\u001b[0;34m\u001b[0m\u001b[0;34m\u001b[0m\u001b[0m\n\u001b[1;32m   1192\u001b[0m     \u001b[0;32mif\u001b[0m \u001b[0m_is_Expr\u001b[0m\u001b[0;34m(\u001b[0m\u001b[0me\u001b[0m\u001b[0;34m)\u001b[0m \u001b[0;32mor\u001b[0m \u001b[0;32mnot\u001b[0m \u001b[0me\u001b[0m\u001b[0;34m.\u001b[0m\u001b[0margs\u001b[0m\u001b[0;34m:\u001b[0m\u001b[0;34m\u001b[0m\u001b[0;34m\u001b[0m\u001b[0m\n\u001b[0;32m-> 1193\u001b[0;31m         \u001b[0;32mreturn\u001b[0m \u001b[0mfunc\u001b[0m\u001b[0;34m(\u001b[0m\u001b[0me\u001b[0m\u001b[0;34m)\u001b[0m\u001b[0;34m\u001b[0m\u001b[0;34m\u001b[0m\u001b[0m\n\u001b[0m\u001b[1;32m   1194\u001b[0m     return e.func(*[\n\u001b[1;32m   1195\u001b[0m         \u001b[0m_eapply\u001b[0m\u001b[0;34m(\u001b[0m\u001b[0mfunc\u001b[0m\u001b[0;34m,\u001b[0m \u001b[0mei\u001b[0m\u001b[0;34m)\u001b[0m \u001b[0;32mif\u001b[0m \u001b[0;34m(\u001b[0m\u001b[0mcond\u001b[0m \u001b[0;32mis\u001b[0m \u001b[0;32mNone\u001b[0m \u001b[0;32mor\u001b[0m \u001b[0mcond\u001b[0m\u001b[0;34m(\u001b[0m\u001b[0mei\u001b[0m\u001b[0;34m)\u001b[0m\u001b[0;34m)\u001b[0m \u001b[0;32melse\u001b[0m \u001b[0mei\u001b[0m\u001b[0;34m\u001b[0m\u001b[0;34m\u001b[0m\u001b[0m\n",
            "\u001b[0;32m/usr/local/lib/python3.7/dist-packages/sympy/polys/polytools.py\u001b[0m in \u001b[0;36mfactor\u001b[0;34m(f, deep, *gens, **args)\u001b[0m\n\u001b[1;32m   6368\u001b[0m \u001b[0;34m\u001b[0m\u001b[0m\n\u001b[1;32m   6369\u001b[0m     \u001b[0;32mtry\u001b[0m\u001b[0;34m:\u001b[0m\u001b[0;34m\u001b[0m\u001b[0;34m\u001b[0m\u001b[0m\n\u001b[0;32m-> 6370\u001b[0;31m         \u001b[0;32mreturn\u001b[0m \u001b[0m_generic_factor\u001b[0m\u001b[0;34m(\u001b[0m\u001b[0mf\u001b[0m\u001b[0;34m,\u001b[0m \u001b[0mgens\u001b[0m\u001b[0;34m,\u001b[0m \u001b[0margs\u001b[0m\u001b[0;34m,\u001b[0m \u001b[0mmethod\u001b[0m\u001b[0;34m=\u001b[0m\u001b[0;34m'factor'\u001b[0m\u001b[0;34m)\u001b[0m\u001b[0;34m\u001b[0m\u001b[0;34m\u001b[0m\u001b[0m\n\u001b[0m\u001b[1;32m   6371\u001b[0m     \u001b[0;32mexcept\u001b[0m \u001b[0mPolynomialError\u001b[0m \u001b[0;32mas\u001b[0m \u001b[0mmsg\u001b[0m\u001b[0;34m:\u001b[0m\u001b[0;34m\u001b[0m\u001b[0;34m\u001b[0m\u001b[0m\n\u001b[1;32m   6372\u001b[0m         \u001b[0;32mif\u001b[0m \u001b[0;32mnot\u001b[0m \u001b[0mf\u001b[0m\u001b[0;34m.\u001b[0m\u001b[0mis_commutative\u001b[0m\u001b[0;34m:\u001b[0m\u001b[0;34m\u001b[0m\u001b[0;34m\u001b[0m\u001b[0m\n",
            "\u001b[0;32m/usr/local/lib/python3.7/dist-packages/sympy/polys/polytools.py\u001b[0m in \u001b[0;36m_generic_factor\u001b[0;34m(expr, gens, args, method)\u001b[0m\n\u001b[1;32m   6040\u001b[0m     \u001b[0mopt\u001b[0m \u001b[0;34m=\u001b[0m \u001b[0moptions\u001b[0m\u001b[0;34m.\u001b[0m\u001b[0mbuild_options\u001b[0m\u001b[0;34m(\u001b[0m\u001b[0mgens\u001b[0m\u001b[0;34m,\u001b[0m \u001b[0margs\u001b[0m\u001b[0;34m)\u001b[0m\u001b[0;34m\u001b[0m\u001b[0;34m\u001b[0m\u001b[0m\n\u001b[1;32m   6041\u001b[0m     \u001b[0mopt\u001b[0m\u001b[0;34m[\u001b[0m\u001b[0;34m'fraction'\u001b[0m\u001b[0;34m]\u001b[0m \u001b[0;34m=\u001b[0m \u001b[0mfraction\u001b[0m\u001b[0;34m\u001b[0m\u001b[0;34m\u001b[0m\u001b[0m\n\u001b[0;32m-> 6042\u001b[0;31m     \u001b[0;32mreturn\u001b[0m \u001b[0m_symbolic_factor\u001b[0m\u001b[0;34m(\u001b[0m\u001b[0msympify\u001b[0m\u001b[0;34m(\u001b[0m\u001b[0mexpr\u001b[0m\u001b[0;34m)\u001b[0m\u001b[0;34m,\u001b[0m \u001b[0mopt\u001b[0m\u001b[0;34m,\u001b[0m \u001b[0mmethod\u001b[0m\u001b[0;34m)\u001b[0m\u001b[0;34m\u001b[0m\u001b[0;34m\u001b[0m\u001b[0m\n\u001b[0m\u001b[1;32m   6043\u001b[0m \u001b[0;34m\u001b[0m\u001b[0m\n\u001b[1;32m   6044\u001b[0m \u001b[0;34m\u001b[0m\u001b[0m\n",
            "\u001b[0;32m/usr/local/lib/python3.7/dist-packages/sympy/polys/polytools.py\u001b[0m in \u001b[0;36m_symbolic_factor\u001b[0;34m(expr, opt, method)\u001b[0m\n\u001b[1;32m   5980\u001b[0m         \u001b[0;32mif\u001b[0m \u001b[0mhasattr\u001b[0m\u001b[0;34m(\u001b[0m\u001b[0mexpr\u001b[0m\u001b[0;34m,\u001b[0m\u001b[0;34m'_eval_factor'\u001b[0m\u001b[0;34m)\u001b[0m\u001b[0;34m:\u001b[0m\u001b[0;34m\u001b[0m\u001b[0;34m\u001b[0m\u001b[0m\n\u001b[1;32m   5981\u001b[0m             \u001b[0;32mreturn\u001b[0m \u001b[0mexpr\u001b[0m\u001b[0;34m.\u001b[0m\u001b[0m_eval_factor\u001b[0m\u001b[0;34m(\u001b[0m\u001b[0;34m)\u001b[0m\u001b[0;34m\u001b[0m\u001b[0;34m\u001b[0m\u001b[0m\n\u001b[0;32m-> 5982\u001b[0;31m         \u001b[0mcoeff\u001b[0m\u001b[0;34m,\u001b[0m \u001b[0mfactors\u001b[0m \u001b[0;34m=\u001b[0m \u001b[0m_symbolic_factor_list\u001b[0m\u001b[0;34m(\u001b[0m\u001b[0mtogether\u001b[0m\u001b[0;34m(\u001b[0m\u001b[0mexpr\u001b[0m\u001b[0;34m,\u001b[0m \u001b[0mfraction\u001b[0m\u001b[0;34m=\u001b[0m\u001b[0mopt\u001b[0m\u001b[0;34m[\u001b[0m\u001b[0;34m'fraction'\u001b[0m\u001b[0;34m]\u001b[0m\u001b[0;34m)\u001b[0m\u001b[0;34m,\u001b[0m \u001b[0mopt\u001b[0m\u001b[0;34m,\u001b[0m \u001b[0mmethod\u001b[0m\u001b[0;34m)\u001b[0m\u001b[0;34m\u001b[0m\u001b[0;34m\u001b[0m\u001b[0m\n\u001b[0m\u001b[1;32m   5983\u001b[0m         \u001b[0;32mreturn\u001b[0m \u001b[0m_keep_coeff\u001b[0m\u001b[0;34m(\u001b[0m\u001b[0mcoeff\u001b[0m\u001b[0;34m,\u001b[0m \u001b[0m_factors_product\u001b[0m\u001b[0;34m(\u001b[0m\u001b[0mfactors\u001b[0m\u001b[0;34m)\u001b[0m\u001b[0;34m)\u001b[0m\u001b[0;34m\u001b[0m\u001b[0;34m\u001b[0m\u001b[0m\n\u001b[1;32m   5984\u001b[0m     \u001b[0;32melif\u001b[0m \u001b[0mhasattr\u001b[0m\u001b[0;34m(\u001b[0m\u001b[0mexpr\u001b[0m\u001b[0;34m,\u001b[0m \u001b[0;34m'args'\u001b[0m\u001b[0;34m)\u001b[0m\u001b[0;34m:\u001b[0m\u001b[0;34m\u001b[0m\u001b[0;34m\u001b[0m\u001b[0m\n",
            "\u001b[0;32m/usr/local/lib/python3.7/dist-packages/sympy/polys/polytools.py\u001b[0m in \u001b[0;36m_symbolic_factor_list\u001b[0;34m(expr, opt, method)\u001b[0m\n\u001b[1;32m   5945\u001b[0m             \u001b[0mfunc\u001b[0m \u001b[0;34m=\u001b[0m \u001b[0mgetattr\u001b[0m\u001b[0;34m(\u001b[0m\u001b[0mpoly\u001b[0m\u001b[0;34m,\u001b[0m \u001b[0mmethod\u001b[0m \u001b[0;34m+\u001b[0m \u001b[0;34m'_list'\u001b[0m\u001b[0;34m)\u001b[0m\u001b[0;34m\u001b[0m\u001b[0;34m\u001b[0m\u001b[0m\n\u001b[1;32m   5946\u001b[0m \u001b[0;34m\u001b[0m\u001b[0m\n\u001b[0;32m-> 5947\u001b[0;31m             \u001b[0m_coeff\u001b[0m\u001b[0;34m,\u001b[0m \u001b[0m_factors\u001b[0m \u001b[0;34m=\u001b[0m \u001b[0mfunc\u001b[0m\u001b[0;34m(\u001b[0m\u001b[0;34m)\u001b[0m\u001b[0;34m\u001b[0m\u001b[0;34m\u001b[0m\u001b[0m\n\u001b[0m\u001b[1;32m   5948\u001b[0m             \u001b[0;32mif\u001b[0m \u001b[0m_coeff\u001b[0m \u001b[0;32mis\u001b[0m \u001b[0;32mnot\u001b[0m \u001b[0mS\u001b[0m\u001b[0;34m.\u001b[0m\u001b[0mOne\u001b[0m\u001b[0;34m:\u001b[0m\u001b[0;34m\u001b[0m\u001b[0;34m\u001b[0m\u001b[0m\n\u001b[1;32m   5949\u001b[0m                 \u001b[0;32mif\u001b[0m \u001b[0mexp\u001b[0m\u001b[0;34m.\u001b[0m\u001b[0mis_Integer\u001b[0m\u001b[0;34m:\u001b[0m\u001b[0;34m\u001b[0m\u001b[0;34m\u001b[0m\u001b[0m\n",
            "\u001b[0;32m/usr/local/lib/python3.7/dist-packages/sympy/polys/polytools.py\u001b[0m in \u001b[0;36mfactor_list\u001b[0;34m(f)\u001b[0m\n\u001b[1;32m   3314\u001b[0m         \u001b[0;32mif\u001b[0m \u001b[0mhasattr\u001b[0m\u001b[0;34m(\u001b[0m\u001b[0mf\u001b[0m\u001b[0;34m.\u001b[0m\u001b[0mrep\u001b[0m\u001b[0;34m,\u001b[0m \u001b[0;34m'factor_list'\u001b[0m\u001b[0;34m)\u001b[0m\u001b[0;34m:\u001b[0m\u001b[0;34m\u001b[0m\u001b[0;34m\u001b[0m\u001b[0m\n\u001b[1;32m   3315\u001b[0m             \u001b[0;32mtry\u001b[0m\u001b[0;34m:\u001b[0m\u001b[0;34m\u001b[0m\u001b[0;34m\u001b[0m\u001b[0m\n\u001b[0;32m-> 3316\u001b[0;31m                 \u001b[0mcoeff\u001b[0m\u001b[0;34m,\u001b[0m \u001b[0mfactors\u001b[0m \u001b[0;34m=\u001b[0m \u001b[0mf\u001b[0m\u001b[0;34m.\u001b[0m\u001b[0mrep\u001b[0m\u001b[0;34m.\u001b[0m\u001b[0mfactor_list\u001b[0m\u001b[0;34m(\u001b[0m\u001b[0;34m)\u001b[0m\u001b[0;34m\u001b[0m\u001b[0;34m\u001b[0m\u001b[0m\n\u001b[0m\u001b[1;32m   3317\u001b[0m             \u001b[0;32mexcept\u001b[0m \u001b[0mDomainError\u001b[0m\u001b[0;34m:\u001b[0m\u001b[0;34m\u001b[0m\u001b[0;34m\u001b[0m\u001b[0m\n\u001b[1;32m   3318\u001b[0m                 \u001b[0;32mreturn\u001b[0m \u001b[0mS\u001b[0m\u001b[0;34m.\u001b[0m\u001b[0mOne\u001b[0m\u001b[0;34m,\u001b[0m \u001b[0;34m[\u001b[0m\u001b[0;34m(\u001b[0m\u001b[0mf\u001b[0m\u001b[0;34m,\u001b[0m \u001b[0;36m1\u001b[0m\u001b[0;34m)\u001b[0m\u001b[0;34m]\u001b[0m\u001b[0;34m\u001b[0m\u001b[0;34m\u001b[0m\u001b[0m\n",
            "\u001b[0;32m/usr/local/lib/python3.7/dist-packages/sympy/polys/polyclasses.py\u001b[0m in \u001b[0;36mfactor_list\u001b[0;34m(f)\u001b[0m\n\u001b[1;32m    793\u001b[0m     \u001b[0;32mdef\u001b[0m \u001b[0mfactor_list\u001b[0m\u001b[0;34m(\u001b[0m\u001b[0mf\u001b[0m\u001b[0;34m)\u001b[0m\u001b[0;34m:\u001b[0m\u001b[0;34m\u001b[0m\u001b[0;34m\u001b[0m\u001b[0m\n\u001b[1;32m    794\u001b[0m         \u001b[0;34m\"\"\"Returns a list of irreducible factors of ``f``. \"\"\"\u001b[0m\u001b[0;34m\u001b[0m\u001b[0;34m\u001b[0m\u001b[0m\n\u001b[0;32m--> 795\u001b[0;31m         \u001b[0mcoeff\u001b[0m\u001b[0;34m,\u001b[0m \u001b[0mfactors\u001b[0m \u001b[0;34m=\u001b[0m \u001b[0mdmp_factor_list\u001b[0m\u001b[0;34m(\u001b[0m\u001b[0mf\u001b[0m\u001b[0;34m.\u001b[0m\u001b[0mrep\u001b[0m\u001b[0;34m,\u001b[0m \u001b[0mf\u001b[0m\u001b[0;34m.\u001b[0m\u001b[0mlev\u001b[0m\u001b[0;34m,\u001b[0m \u001b[0mf\u001b[0m\u001b[0;34m.\u001b[0m\u001b[0mdom\u001b[0m\u001b[0;34m)\u001b[0m\u001b[0;34m\u001b[0m\u001b[0;34m\u001b[0m\u001b[0m\n\u001b[0m\u001b[1;32m    796\u001b[0m         \u001b[0;32mreturn\u001b[0m \u001b[0mcoeff\u001b[0m\u001b[0;34m,\u001b[0m \u001b[0;34m[\u001b[0m \u001b[0;34m(\u001b[0m\u001b[0mf\u001b[0m\u001b[0;34m.\u001b[0m\u001b[0mper\u001b[0m\u001b[0;34m(\u001b[0m\u001b[0mg\u001b[0m\u001b[0;34m)\u001b[0m\u001b[0;34m,\u001b[0m \u001b[0mk\u001b[0m\u001b[0;34m)\u001b[0m \u001b[0;32mfor\u001b[0m \u001b[0mg\u001b[0m\u001b[0;34m,\u001b[0m \u001b[0mk\u001b[0m \u001b[0;32min\u001b[0m \u001b[0mfactors\u001b[0m \u001b[0;34m]\u001b[0m\u001b[0;34m\u001b[0m\u001b[0;34m\u001b[0m\u001b[0m\n\u001b[1;32m    797\u001b[0m \u001b[0;34m\u001b[0m\u001b[0m\n",
            "\u001b[0;32m/usr/local/lib/python3.7/dist-packages/sympy/polys/factortools.py\u001b[0m in \u001b[0;36mdmp_factor_list\u001b[0;34m(f, u, K0)\u001b[0m\n\u001b[1;32m   1409\u001b[0m         \u001b[0;32mif\u001b[0m \u001b[0mK\u001b[0m\u001b[0;34m.\u001b[0m\u001b[0mis_ZZ\u001b[0m\u001b[0;34m:\u001b[0m\u001b[0;34m\u001b[0m\u001b[0;34m\u001b[0m\u001b[0m\n\u001b[1;32m   1410\u001b[0m             \u001b[0mlevels\u001b[0m\u001b[0;34m,\u001b[0m \u001b[0mf\u001b[0m\u001b[0;34m,\u001b[0m \u001b[0mv\u001b[0m \u001b[0;34m=\u001b[0m \u001b[0mdmp_exclude\u001b[0m\u001b[0;34m(\u001b[0m\u001b[0mf\u001b[0m\u001b[0;34m,\u001b[0m \u001b[0mu\u001b[0m\u001b[0;34m,\u001b[0m \u001b[0mK\u001b[0m\u001b[0;34m)\u001b[0m\u001b[0;34m\u001b[0m\u001b[0;34m\u001b[0m\u001b[0m\n\u001b[0;32m-> 1411\u001b[0;31m             \u001b[0mcoeff\u001b[0m\u001b[0;34m,\u001b[0m \u001b[0mfactors\u001b[0m \u001b[0;34m=\u001b[0m \u001b[0mdmp_zz_factor\u001b[0m\u001b[0;34m(\u001b[0m\u001b[0mf\u001b[0m\u001b[0;34m,\u001b[0m \u001b[0mv\u001b[0m\u001b[0;34m,\u001b[0m \u001b[0mK\u001b[0m\u001b[0;34m)\u001b[0m\u001b[0;34m\u001b[0m\u001b[0;34m\u001b[0m\u001b[0m\n\u001b[0m\u001b[1;32m   1412\u001b[0m \u001b[0;34m\u001b[0m\u001b[0m\n\u001b[1;32m   1413\u001b[0m             \u001b[0;32mfor\u001b[0m \u001b[0mi\u001b[0m\u001b[0;34m,\u001b[0m \u001b[0;34m(\u001b[0m\u001b[0mf\u001b[0m\u001b[0;34m,\u001b[0m \u001b[0mk\u001b[0m\u001b[0;34m)\u001b[0m \u001b[0;32min\u001b[0m \u001b[0menumerate\u001b[0m\u001b[0;34m(\u001b[0m\u001b[0mfactors\u001b[0m\u001b[0;34m)\u001b[0m\u001b[0;34m:\u001b[0m\u001b[0;34m\u001b[0m\u001b[0;34m\u001b[0m\u001b[0m\n",
            "\u001b[0;32m/usr/local/lib/python3.7/dist-packages/sympy/polys/factortools.py\u001b[0m in \u001b[0;36mdmp_zz_factor\u001b[0;34m(f, u, K)\u001b[0m\n\u001b[1;32m   1146\u001b[0m     \u001b[0;32mif\u001b[0m \u001b[0mdmp_degree\u001b[0m\u001b[0;34m(\u001b[0m\u001b[0mg\u001b[0m\u001b[0;34m,\u001b[0m \u001b[0mu\u001b[0m\u001b[0;34m)\u001b[0m \u001b[0;34m>\u001b[0m \u001b[0;36m0\u001b[0m\u001b[0;34m:\u001b[0m\u001b[0;34m\u001b[0m\u001b[0;34m\u001b[0m\u001b[0m\n\u001b[1;32m   1147\u001b[0m         \u001b[0mg\u001b[0m \u001b[0;34m=\u001b[0m \u001b[0mdmp_sqf_part\u001b[0m\u001b[0;34m(\u001b[0m\u001b[0mg\u001b[0m\u001b[0;34m,\u001b[0m \u001b[0mu\u001b[0m\u001b[0;34m,\u001b[0m \u001b[0mK\u001b[0m\u001b[0;34m)\u001b[0m\u001b[0;34m\u001b[0m\u001b[0;34m\u001b[0m\u001b[0m\n\u001b[0;32m-> 1148\u001b[0;31m         \u001b[0mH\u001b[0m \u001b[0;34m=\u001b[0m \u001b[0mdmp_zz_wang\u001b[0m\u001b[0;34m(\u001b[0m\u001b[0mg\u001b[0m\u001b[0;34m,\u001b[0m \u001b[0mu\u001b[0m\u001b[0;34m,\u001b[0m \u001b[0mK\u001b[0m\u001b[0;34m)\u001b[0m\u001b[0;34m\u001b[0m\u001b[0;34m\u001b[0m\u001b[0m\n\u001b[0m\u001b[1;32m   1149\u001b[0m         \u001b[0mfactors\u001b[0m \u001b[0;34m=\u001b[0m \u001b[0mdmp_trial_division\u001b[0m\u001b[0;34m(\u001b[0m\u001b[0mf\u001b[0m\u001b[0;34m,\u001b[0m \u001b[0mH\u001b[0m\u001b[0;34m,\u001b[0m \u001b[0mu\u001b[0m\u001b[0;34m,\u001b[0m \u001b[0mK\u001b[0m\u001b[0;34m)\u001b[0m\u001b[0;34m\u001b[0m\u001b[0;34m\u001b[0m\u001b[0m\n\u001b[1;32m   1150\u001b[0m \u001b[0;34m\u001b[0m\u001b[0m\n",
            "\u001b[0;32m/usr/local/lib/python3.7/dist-packages/sympy/polys/factortools.py\u001b[0m in \u001b[0;36mdmp_zz_wang\u001b[0;34m(f, u, K, mod, seed)\u001b[0m\n\u001b[1;32m   1023\u001b[0m \u001b[0;34m\u001b[0m\u001b[0m\n\u001b[1;32m   1024\u001b[0m             \u001b[0;32mtry\u001b[0m\u001b[0;34m:\u001b[0m\u001b[0;34m\u001b[0m\u001b[0;34m\u001b[0m\u001b[0m\n\u001b[0;32m-> 1025\u001b[0;31m                 \u001b[0mcs\u001b[0m\u001b[0;34m,\u001b[0m \u001b[0ms\u001b[0m\u001b[0;34m,\u001b[0m \u001b[0mE\u001b[0m \u001b[0;34m=\u001b[0m \u001b[0mdmp_zz_wang_test_points\u001b[0m\u001b[0;34m(\u001b[0m\u001b[0mf\u001b[0m\u001b[0;34m,\u001b[0m \u001b[0mT\u001b[0m\u001b[0;34m,\u001b[0m \u001b[0mct\u001b[0m\u001b[0;34m,\u001b[0m \u001b[0mA\u001b[0m\u001b[0;34m,\u001b[0m \u001b[0mu\u001b[0m\u001b[0;34m,\u001b[0m \u001b[0mK\u001b[0m\u001b[0;34m)\u001b[0m\u001b[0;34m\u001b[0m\u001b[0;34m\u001b[0m\u001b[0m\n\u001b[0m\u001b[1;32m   1026\u001b[0m             \u001b[0;32mexcept\u001b[0m \u001b[0mEvaluationFailed\u001b[0m\u001b[0;34m:\u001b[0m\u001b[0;34m\u001b[0m\u001b[0;34m\u001b[0m\u001b[0m\n\u001b[1;32m   1027\u001b[0m                 \u001b[0;32mcontinue\u001b[0m\u001b[0;34m\u001b[0m\u001b[0;34m\u001b[0m\u001b[0m\n",
            "\u001b[0;32m/usr/local/lib/python3.7/dist-packages/sympy/polys/factortools.py\u001b[0m in \u001b[0;36mdmp_zz_wang_test_points\u001b[0;34m(f, T, ct, A, u, K)\u001b[0m\n\u001b[1;32m    705\u001b[0m         \u001b[0;32mraise\u001b[0m \u001b[0mEvaluationFailed\u001b[0m\u001b[0;34m(\u001b[0m\u001b[0;34m'no luck'\u001b[0m\u001b[0;34m)\u001b[0m\u001b[0;34m\u001b[0m\u001b[0;34m\u001b[0m\u001b[0m\n\u001b[1;32m    706\u001b[0m \u001b[0;34m\u001b[0m\u001b[0m\n\u001b[0;32m--> 707\u001b[0;31m     \u001b[0mg\u001b[0m \u001b[0;34m=\u001b[0m \u001b[0mdmp_eval_tail\u001b[0m\u001b[0;34m(\u001b[0m\u001b[0mf\u001b[0m\u001b[0;34m,\u001b[0m \u001b[0mA\u001b[0m\u001b[0;34m,\u001b[0m \u001b[0mu\u001b[0m\u001b[0;34m,\u001b[0m \u001b[0mK\u001b[0m\u001b[0;34m)\u001b[0m\u001b[0;34m\u001b[0m\u001b[0;34m\u001b[0m\u001b[0m\n\u001b[0m\u001b[1;32m    708\u001b[0m \u001b[0;34m\u001b[0m\u001b[0m\n\u001b[1;32m    709\u001b[0m     \u001b[0;32mif\u001b[0m \u001b[0;32mnot\u001b[0m \u001b[0mdup_sqf_p\u001b[0m\u001b[0;34m(\u001b[0m\u001b[0mg\u001b[0m\u001b[0;34m,\u001b[0m \u001b[0mK\u001b[0m\u001b[0;34m)\u001b[0m\u001b[0;34m:\u001b[0m\u001b[0;34m\u001b[0m\u001b[0;34m\u001b[0m\u001b[0m\n",
            "\u001b[0;32m/usr/local/lib/python3.7/dist-packages/sympy/polys/densetools.py\u001b[0m in \u001b[0;36mdmp_eval_tail\u001b[0;34m(f, A, u, K)\u001b[0m\n\u001b[1;32m    386\u001b[0m         \u001b[0;32mreturn\u001b[0m \u001b[0mdmp_zero\u001b[0m\u001b[0;34m(\u001b[0m\u001b[0mu\u001b[0m \u001b[0;34m-\u001b[0m \u001b[0mlen\u001b[0m\u001b[0;34m(\u001b[0m\u001b[0mA\u001b[0m\u001b[0;34m)\u001b[0m\u001b[0;34m)\u001b[0m\u001b[0;34m\u001b[0m\u001b[0;34m\u001b[0m\u001b[0m\n\u001b[1;32m    387\u001b[0m \u001b[0;34m\u001b[0m\u001b[0m\n\u001b[0;32m--> 388\u001b[0;31m     \u001b[0me\u001b[0m \u001b[0;34m=\u001b[0m \u001b[0m_rec_eval_tail\u001b[0m\u001b[0;34m(\u001b[0m\u001b[0mf\u001b[0m\u001b[0;34m,\u001b[0m \u001b[0;36m0\u001b[0m\u001b[0;34m,\u001b[0m \u001b[0mA\u001b[0m\u001b[0;34m,\u001b[0m \u001b[0mu\u001b[0m\u001b[0;34m,\u001b[0m \u001b[0mK\u001b[0m\u001b[0;34m)\u001b[0m\u001b[0;34m\u001b[0m\u001b[0;34m\u001b[0m\u001b[0m\n\u001b[0m\u001b[1;32m    389\u001b[0m \u001b[0;34m\u001b[0m\u001b[0m\n\u001b[1;32m    390\u001b[0m     \u001b[0;32mif\u001b[0m \u001b[0mu\u001b[0m \u001b[0;34m==\u001b[0m \u001b[0mlen\u001b[0m\u001b[0;34m(\u001b[0m\u001b[0mA\u001b[0m\u001b[0;34m)\u001b[0m \u001b[0;34m-\u001b[0m \u001b[0;36m1\u001b[0m\u001b[0;34m:\u001b[0m\u001b[0;34m\u001b[0m\u001b[0;34m\u001b[0m\u001b[0m\n",
            "\u001b[0;32m/usr/local/lib/python3.7/dist-packages/sympy/polys/densetools.py\u001b[0m in \u001b[0;36m_rec_eval_tail\u001b[0;34m(g, i, A, u, K)\u001b[0m\n\u001b[1;32m    354\u001b[0m         \u001b[0;32mreturn\u001b[0m \u001b[0mdup_eval\u001b[0m\u001b[0;34m(\u001b[0m\u001b[0mg\u001b[0m\u001b[0;34m,\u001b[0m \u001b[0mA\u001b[0m\u001b[0;34m[\u001b[0m\u001b[0;34m-\u001b[0m\u001b[0;36m1\u001b[0m\u001b[0;34m]\u001b[0m\u001b[0;34m,\u001b[0m \u001b[0mK\u001b[0m\u001b[0;34m)\u001b[0m\u001b[0;34m\u001b[0m\u001b[0;34m\u001b[0m\u001b[0m\n\u001b[1;32m    355\u001b[0m     \u001b[0;32melse\u001b[0m\u001b[0;34m:\u001b[0m\u001b[0;34m\u001b[0m\u001b[0;34m\u001b[0m\u001b[0m\n\u001b[0;32m--> 356\u001b[0;31m         \u001b[0mh\u001b[0m \u001b[0;34m=\u001b[0m \u001b[0;34m[\u001b[0m \u001b[0m_rec_eval_tail\u001b[0m\u001b[0;34m(\u001b[0m\u001b[0mc\u001b[0m\u001b[0;34m,\u001b[0m \u001b[0mi\u001b[0m \u001b[0;34m+\u001b[0m \u001b[0;36m1\u001b[0m\u001b[0;34m,\u001b[0m \u001b[0mA\u001b[0m\u001b[0;34m,\u001b[0m \u001b[0mu\u001b[0m\u001b[0;34m,\u001b[0m \u001b[0mK\u001b[0m\u001b[0;34m)\u001b[0m \u001b[0;32mfor\u001b[0m \u001b[0mc\u001b[0m \u001b[0;32min\u001b[0m \u001b[0mg\u001b[0m \u001b[0;34m]\u001b[0m\u001b[0;34m\u001b[0m\u001b[0;34m\u001b[0m\u001b[0m\n\u001b[0m\u001b[1;32m    357\u001b[0m \u001b[0;34m\u001b[0m\u001b[0m\n\u001b[1;32m    358\u001b[0m         \u001b[0;32mif\u001b[0m \u001b[0mi\u001b[0m \u001b[0;34m<\u001b[0m \u001b[0mu\u001b[0m \u001b[0;34m-\u001b[0m \u001b[0mlen\u001b[0m\u001b[0;34m(\u001b[0m\u001b[0mA\u001b[0m\u001b[0;34m)\u001b[0m \u001b[0;34m+\u001b[0m \u001b[0;36m1\u001b[0m\u001b[0;34m:\u001b[0m\u001b[0;34m\u001b[0m\u001b[0;34m\u001b[0m\u001b[0m\n",
            "\u001b[0;32m/usr/local/lib/python3.7/dist-packages/sympy/polys/densetools.py\u001b[0m in \u001b[0;36m<listcomp>\u001b[0;34m(.0)\u001b[0m\n\u001b[1;32m    354\u001b[0m         \u001b[0;32mreturn\u001b[0m \u001b[0mdup_eval\u001b[0m\u001b[0;34m(\u001b[0m\u001b[0mg\u001b[0m\u001b[0;34m,\u001b[0m \u001b[0mA\u001b[0m\u001b[0;34m[\u001b[0m\u001b[0;34m-\u001b[0m\u001b[0;36m1\u001b[0m\u001b[0;34m]\u001b[0m\u001b[0;34m,\u001b[0m \u001b[0mK\u001b[0m\u001b[0;34m)\u001b[0m\u001b[0;34m\u001b[0m\u001b[0;34m\u001b[0m\u001b[0m\n\u001b[1;32m    355\u001b[0m     \u001b[0;32melse\u001b[0m\u001b[0;34m:\u001b[0m\u001b[0;34m\u001b[0m\u001b[0;34m\u001b[0m\u001b[0m\n\u001b[0;32m--> 356\u001b[0;31m         \u001b[0mh\u001b[0m \u001b[0;34m=\u001b[0m \u001b[0;34m[\u001b[0m \u001b[0m_rec_eval_tail\u001b[0m\u001b[0;34m(\u001b[0m\u001b[0mc\u001b[0m\u001b[0;34m,\u001b[0m \u001b[0mi\u001b[0m \u001b[0;34m+\u001b[0m \u001b[0;36m1\u001b[0m\u001b[0;34m,\u001b[0m \u001b[0mA\u001b[0m\u001b[0;34m,\u001b[0m \u001b[0mu\u001b[0m\u001b[0;34m,\u001b[0m \u001b[0mK\u001b[0m\u001b[0;34m)\u001b[0m \u001b[0;32mfor\u001b[0m \u001b[0mc\u001b[0m \u001b[0;32min\u001b[0m \u001b[0mg\u001b[0m \u001b[0;34m]\u001b[0m\u001b[0;34m\u001b[0m\u001b[0;34m\u001b[0m\u001b[0m\n\u001b[0m\u001b[1;32m    357\u001b[0m \u001b[0;34m\u001b[0m\u001b[0m\n\u001b[1;32m    358\u001b[0m         \u001b[0;32mif\u001b[0m \u001b[0mi\u001b[0m \u001b[0;34m<\u001b[0m \u001b[0mu\u001b[0m \u001b[0;34m-\u001b[0m \u001b[0mlen\u001b[0m\u001b[0;34m(\u001b[0m\u001b[0mA\u001b[0m\u001b[0;34m)\u001b[0m \u001b[0;34m+\u001b[0m \u001b[0;36m1\u001b[0m\u001b[0;34m:\u001b[0m\u001b[0;34m\u001b[0m\u001b[0;34m\u001b[0m\u001b[0m\n",
            "\u001b[0;32m/usr/local/lib/python3.7/dist-packages/sympy/polys/densetools.py\u001b[0m in \u001b[0;36m_rec_eval_tail\u001b[0;34m(g, i, A, u, K)\u001b[0m\n\u001b[1;32m    354\u001b[0m         \u001b[0;32mreturn\u001b[0m \u001b[0mdup_eval\u001b[0m\u001b[0;34m(\u001b[0m\u001b[0mg\u001b[0m\u001b[0;34m,\u001b[0m \u001b[0mA\u001b[0m\u001b[0;34m[\u001b[0m\u001b[0;34m-\u001b[0m\u001b[0;36m1\u001b[0m\u001b[0;34m]\u001b[0m\u001b[0;34m,\u001b[0m \u001b[0mK\u001b[0m\u001b[0;34m)\u001b[0m\u001b[0;34m\u001b[0m\u001b[0;34m\u001b[0m\u001b[0m\n\u001b[1;32m    355\u001b[0m     \u001b[0;32melse\u001b[0m\u001b[0;34m:\u001b[0m\u001b[0;34m\u001b[0m\u001b[0;34m\u001b[0m\u001b[0m\n\u001b[0;32m--> 356\u001b[0;31m         \u001b[0mh\u001b[0m \u001b[0;34m=\u001b[0m \u001b[0;34m[\u001b[0m \u001b[0m_rec_eval_tail\u001b[0m\u001b[0;34m(\u001b[0m\u001b[0mc\u001b[0m\u001b[0;34m,\u001b[0m \u001b[0mi\u001b[0m \u001b[0;34m+\u001b[0m \u001b[0;36m1\u001b[0m\u001b[0;34m,\u001b[0m \u001b[0mA\u001b[0m\u001b[0;34m,\u001b[0m \u001b[0mu\u001b[0m\u001b[0;34m,\u001b[0m \u001b[0mK\u001b[0m\u001b[0;34m)\u001b[0m \u001b[0;32mfor\u001b[0m \u001b[0mc\u001b[0m \u001b[0;32min\u001b[0m \u001b[0mg\u001b[0m \u001b[0;34m]\u001b[0m\u001b[0;34m\u001b[0m\u001b[0;34m\u001b[0m\u001b[0m\n\u001b[0m\u001b[1;32m    357\u001b[0m \u001b[0;34m\u001b[0m\u001b[0m\n\u001b[1;32m    358\u001b[0m         \u001b[0;32mif\u001b[0m \u001b[0mi\u001b[0m \u001b[0;34m<\u001b[0m \u001b[0mu\u001b[0m \u001b[0;34m-\u001b[0m \u001b[0mlen\u001b[0m\u001b[0;34m(\u001b[0m\u001b[0mA\u001b[0m\u001b[0;34m)\u001b[0m \u001b[0;34m+\u001b[0m \u001b[0;36m1\u001b[0m\u001b[0;34m:\u001b[0m\u001b[0;34m\u001b[0m\u001b[0;34m\u001b[0m\u001b[0m\n",
            "\u001b[0;32m/usr/local/lib/python3.7/dist-packages/sympy/polys/densetools.py\u001b[0m in \u001b[0;36m<listcomp>\u001b[0;34m(.0)\u001b[0m\n\u001b[1;32m    354\u001b[0m         \u001b[0;32mreturn\u001b[0m \u001b[0mdup_eval\u001b[0m\u001b[0;34m(\u001b[0m\u001b[0mg\u001b[0m\u001b[0;34m,\u001b[0m \u001b[0mA\u001b[0m\u001b[0;34m[\u001b[0m\u001b[0;34m-\u001b[0m\u001b[0;36m1\u001b[0m\u001b[0;34m]\u001b[0m\u001b[0;34m,\u001b[0m \u001b[0mK\u001b[0m\u001b[0;34m)\u001b[0m\u001b[0;34m\u001b[0m\u001b[0;34m\u001b[0m\u001b[0m\n\u001b[1;32m    355\u001b[0m     \u001b[0;32melse\u001b[0m\u001b[0;34m:\u001b[0m\u001b[0;34m\u001b[0m\u001b[0;34m\u001b[0m\u001b[0m\n\u001b[0;32m--> 356\u001b[0;31m         \u001b[0mh\u001b[0m \u001b[0;34m=\u001b[0m \u001b[0;34m[\u001b[0m \u001b[0m_rec_eval_tail\u001b[0m\u001b[0;34m(\u001b[0m\u001b[0mc\u001b[0m\u001b[0;34m,\u001b[0m \u001b[0mi\u001b[0m \u001b[0;34m+\u001b[0m \u001b[0;36m1\u001b[0m\u001b[0;34m,\u001b[0m \u001b[0mA\u001b[0m\u001b[0;34m,\u001b[0m \u001b[0mu\u001b[0m\u001b[0;34m,\u001b[0m \u001b[0mK\u001b[0m\u001b[0;34m)\u001b[0m \u001b[0;32mfor\u001b[0m \u001b[0mc\u001b[0m \u001b[0;32min\u001b[0m \u001b[0mg\u001b[0m \u001b[0;34m]\u001b[0m\u001b[0;34m\u001b[0m\u001b[0;34m\u001b[0m\u001b[0m\n\u001b[0m\u001b[1;32m    357\u001b[0m \u001b[0;34m\u001b[0m\u001b[0m\n\u001b[1;32m    358\u001b[0m         \u001b[0;32mif\u001b[0m \u001b[0mi\u001b[0m \u001b[0;34m<\u001b[0m \u001b[0mu\u001b[0m \u001b[0;34m-\u001b[0m \u001b[0mlen\u001b[0m\u001b[0;34m(\u001b[0m\u001b[0mA\u001b[0m\u001b[0;34m)\u001b[0m \u001b[0;34m+\u001b[0m \u001b[0;36m1\u001b[0m\u001b[0;34m:\u001b[0m\u001b[0;34m\u001b[0m\u001b[0;34m\u001b[0m\u001b[0m\n",
            "\u001b[0;32m/usr/local/lib/python3.7/dist-packages/sympy/polys/densetools.py\u001b[0m in \u001b[0;36m_rec_eval_tail\u001b[0;34m(g, i, A, u, K)\u001b[0m\n\u001b[1;32m    354\u001b[0m         \u001b[0;32mreturn\u001b[0m \u001b[0mdup_eval\u001b[0m\u001b[0;34m(\u001b[0m\u001b[0mg\u001b[0m\u001b[0;34m,\u001b[0m \u001b[0mA\u001b[0m\u001b[0;34m[\u001b[0m\u001b[0;34m-\u001b[0m\u001b[0;36m1\u001b[0m\u001b[0;34m]\u001b[0m\u001b[0;34m,\u001b[0m \u001b[0mK\u001b[0m\u001b[0;34m)\u001b[0m\u001b[0;34m\u001b[0m\u001b[0;34m\u001b[0m\u001b[0m\n\u001b[1;32m    355\u001b[0m     \u001b[0;32melse\u001b[0m\u001b[0;34m:\u001b[0m\u001b[0;34m\u001b[0m\u001b[0;34m\u001b[0m\u001b[0m\n\u001b[0;32m--> 356\u001b[0;31m         \u001b[0mh\u001b[0m \u001b[0;34m=\u001b[0m \u001b[0;34m[\u001b[0m \u001b[0m_rec_eval_tail\u001b[0m\u001b[0;34m(\u001b[0m\u001b[0mc\u001b[0m\u001b[0;34m,\u001b[0m \u001b[0mi\u001b[0m \u001b[0;34m+\u001b[0m \u001b[0;36m1\u001b[0m\u001b[0;34m,\u001b[0m \u001b[0mA\u001b[0m\u001b[0;34m,\u001b[0m \u001b[0mu\u001b[0m\u001b[0;34m,\u001b[0m \u001b[0mK\u001b[0m\u001b[0;34m)\u001b[0m \u001b[0;32mfor\u001b[0m \u001b[0mc\u001b[0m \u001b[0;32min\u001b[0m \u001b[0mg\u001b[0m \u001b[0;34m]\u001b[0m\u001b[0;34m\u001b[0m\u001b[0;34m\u001b[0m\u001b[0m\n\u001b[0m\u001b[1;32m    357\u001b[0m \u001b[0;34m\u001b[0m\u001b[0m\n\u001b[1;32m    358\u001b[0m         \u001b[0;32mif\u001b[0m \u001b[0mi\u001b[0m \u001b[0;34m<\u001b[0m \u001b[0mu\u001b[0m \u001b[0;34m-\u001b[0m \u001b[0mlen\u001b[0m\u001b[0;34m(\u001b[0m\u001b[0mA\u001b[0m\u001b[0;34m)\u001b[0m \u001b[0;34m+\u001b[0m \u001b[0;36m1\u001b[0m\u001b[0;34m:\u001b[0m\u001b[0;34m\u001b[0m\u001b[0;34m\u001b[0m\u001b[0m\n",
            "\u001b[0;32m/usr/local/lib/python3.7/dist-packages/sympy/polys/densetools.py\u001b[0m in \u001b[0;36m<listcomp>\u001b[0;34m(.0)\u001b[0m\n\u001b[1;32m    354\u001b[0m         \u001b[0;32mreturn\u001b[0m \u001b[0mdup_eval\u001b[0m\u001b[0;34m(\u001b[0m\u001b[0mg\u001b[0m\u001b[0;34m,\u001b[0m \u001b[0mA\u001b[0m\u001b[0;34m[\u001b[0m\u001b[0;34m-\u001b[0m\u001b[0;36m1\u001b[0m\u001b[0;34m]\u001b[0m\u001b[0;34m,\u001b[0m \u001b[0mK\u001b[0m\u001b[0;34m)\u001b[0m\u001b[0;34m\u001b[0m\u001b[0;34m\u001b[0m\u001b[0m\n\u001b[1;32m    355\u001b[0m     \u001b[0;32melse\u001b[0m\u001b[0;34m:\u001b[0m\u001b[0;34m\u001b[0m\u001b[0;34m\u001b[0m\u001b[0m\n\u001b[0;32m--> 356\u001b[0;31m         \u001b[0mh\u001b[0m \u001b[0;34m=\u001b[0m \u001b[0;34m[\u001b[0m \u001b[0m_rec_eval_tail\u001b[0m\u001b[0;34m(\u001b[0m\u001b[0mc\u001b[0m\u001b[0;34m,\u001b[0m \u001b[0mi\u001b[0m \u001b[0;34m+\u001b[0m \u001b[0;36m1\u001b[0m\u001b[0;34m,\u001b[0m \u001b[0mA\u001b[0m\u001b[0;34m,\u001b[0m \u001b[0mu\u001b[0m\u001b[0;34m,\u001b[0m \u001b[0mK\u001b[0m\u001b[0;34m)\u001b[0m \u001b[0;32mfor\u001b[0m \u001b[0mc\u001b[0m \u001b[0;32min\u001b[0m \u001b[0mg\u001b[0m \u001b[0;34m]\u001b[0m\u001b[0;34m\u001b[0m\u001b[0;34m\u001b[0m\u001b[0m\n\u001b[0m\u001b[1;32m    357\u001b[0m \u001b[0;34m\u001b[0m\u001b[0m\n\u001b[1;32m    358\u001b[0m         \u001b[0;32mif\u001b[0m \u001b[0mi\u001b[0m \u001b[0;34m<\u001b[0m \u001b[0mu\u001b[0m \u001b[0;34m-\u001b[0m \u001b[0mlen\u001b[0m\u001b[0;34m(\u001b[0m\u001b[0mA\u001b[0m\u001b[0;34m)\u001b[0m \u001b[0;34m+\u001b[0m \u001b[0;36m1\u001b[0m\u001b[0;34m:\u001b[0m\u001b[0;34m\u001b[0m\u001b[0;34m\u001b[0m\u001b[0m\n",
            "\u001b[0;32m/usr/local/lib/python3.7/dist-packages/sympy/polys/densetools.py\u001b[0m in \u001b[0;36m_rec_eval_tail\u001b[0;34m(g, i, A, u, K)\u001b[0m\n\u001b[1;32m    354\u001b[0m         \u001b[0;32mreturn\u001b[0m \u001b[0mdup_eval\u001b[0m\u001b[0;34m(\u001b[0m\u001b[0mg\u001b[0m\u001b[0;34m,\u001b[0m \u001b[0mA\u001b[0m\u001b[0;34m[\u001b[0m\u001b[0;34m-\u001b[0m\u001b[0;36m1\u001b[0m\u001b[0;34m]\u001b[0m\u001b[0;34m,\u001b[0m \u001b[0mK\u001b[0m\u001b[0;34m)\u001b[0m\u001b[0;34m\u001b[0m\u001b[0;34m\u001b[0m\u001b[0m\n\u001b[1;32m    355\u001b[0m     \u001b[0;32melse\u001b[0m\u001b[0;34m:\u001b[0m\u001b[0;34m\u001b[0m\u001b[0;34m\u001b[0m\u001b[0m\n\u001b[0;32m--> 356\u001b[0;31m         \u001b[0mh\u001b[0m \u001b[0;34m=\u001b[0m \u001b[0;34m[\u001b[0m \u001b[0m_rec_eval_tail\u001b[0m\u001b[0;34m(\u001b[0m\u001b[0mc\u001b[0m\u001b[0;34m,\u001b[0m \u001b[0mi\u001b[0m \u001b[0;34m+\u001b[0m \u001b[0;36m1\u001b[0m\u001b[0;34m,\u001b[0m \u001b[0mA\u001b[0m\u001b[0;34m,\u001b[0m \u001b[0mu\u001b[0m\u001b[0;34m,\u001b[0m \u001b[0mK\u001b[0m\u001b[0;34m)\u001b[0m \u001b[0;32mfor\u001b[0m \u001b[0mc\u001b[0m \u001b[0;32min\u001b[0m \u001b[0mg\u001b[0m \u001b[0;34m]\u001b[0m\u001b[0;34m\u001b[0m\u001b[0;34m\u001b[0m\u001b[0m\n\u001b[0m\u001b[1;32m    357\u001b[0m \u001b[0;34m\u001b[0m\u001b[0m\n\u001b[1;32m    358\u001b[0m         \u001b[0;32mif\u001b[0m \u001b[0mi\u001b[0m \u001b[0;34m<\u001b[0m \u001b[0mu\u001b[0m \u001b[0;34m-\u001b[0m \u001b[0mlen\u001b[0m\u001b[0;34m(\u001b[0m\u001b[0mA\u001b[0m\u001b[0;34m)\u001b[0m \u001b[0;34m+\u001b[0m \u001b[0;36m1\u001b[0m\u001b[0;34m:\u001b[0m\u001b[0;34m\u001b[0m\u001b[0;34m\u001b[0m\u001b[0m\n",
            "\u001b[0;32m/usr/local/lib/python3.7/dist-packages/sympy/polys/densetools.py\u001b[0m in \u001b[0;36m<listcomp>\u001b[0;34m(.0)\u001b[0m\n\u001b[1;32m    354\u001b[0m         \u001b[0;32mreturn\u001b[0m \u001b[0mdup_eval\u001b[0m\u001b[0;34m(\u001b[0m\u001b[0mg\u001b[0m\u001b[0;34m,\u001b[0m \u001b[0mA\u001b[0m\u001b[0;34m[\u001b[0m\u001b[0;34m-\u001b[0m\u001b[0;36m1\u001b[0m\u001b[0;34m]\u001b[0m\u001b[0;34m,\u001b[0m \u001b[0mK\u001b[0m\u001b[0;34m)\u001b[0m\u001b[0;34m\u001b[0m\u001b[0;34m\u001b[0m\u001b[0m\n\u001b[1;32m    355\u001b[0m     \u001b[0;32melse\u001b[0m\u001b[0;34m:\u001b[0m\u001b[0;34m\u001b[0m\u001b[0;34m\u001b[0m\u001b[0m\n\u001b[0;32m--> 356\u001b[0;31m         \u001b[0mh\u001b[0m \u001b[0;34m=\u001b[0m \u001b[0;34m[\u001b[0m \u001b[0m_rec_eval_tail\u001b[0m\u001b[0;34m(\u001b[0m\u001b[0mc\u001b[0m\u001b[0;34m,\u001b[0m \u001b[0mi\u001b[0m \u001b[0;34m+\u001b[0m \u001b[0;36m1\u001b[0m\u001b[0;34m,\u001b[0m \u001b[0mA\u001b[0m\u001b[0;34m,\u001b[0m \u001b[0mu\u001b[0m\u001b[0;34m,\u001b[0m \u001b[0mK\u001b[0m\u001b[0;34m)\u001b[0m \u001b[0;32mfor\u001b[0m \u001b[0mc\u001b[0m \u001b[0;32min\u001b[0m \u001b[0mg\u001b[0m \u001b[0;34m]\u001b[0m\u001b[0;34m\u001b[0m\u001b[0;34m\u001b[0m\u001b[0m\n\u001b[0m\u001b[1;32m    357\u001b[0m \u001b[0;34m\u001b[0m\u001b[0m\n\u001b[1;32m    358\u001b[0m         \u001b[0;32mif\u001b[0m \u001b[0mi\u001b[0m \u001b[0;34m<\u001b[0m \u001b[0mu\u001b[0m \u001b[0;34m-\u001b[0m \u001b[0mlen\u001b[0m\u001b[0;34m(\u001b[0m\u001b[0mA\u001b[0m\u001b[0;34m)\u001b[0m \u001b[0;34m+\u001b[0m \u001b[0;36m1\u001b[0m\u001b[0;34m:\u001b[0m\u001b[0;34m\u001b[0m\u001b[0;34m\u001b[0m\u001b[0m\n",
            "\u001b[0;31mKeyboardInterrupt\u001b[0m: "
          ]
        }
      ]
    },
    {
      "cell_type": "markdown",
      "metadata": {
        "id": "OlGJ94KgSZdL"
      },
      "source": [
        "The code above had been running for 7 hours before i decided to interrupt it so as not to have my computer crash. I will therefore try solving the Einstein equations for the Kerr metric using Boyer-Lindquist coordinates, as the 1 fewer off-diagonal element of the metric may help the computation cost."
      ]
    },
    {
      "cell_type": "code",
      "metadata": {
        "id": "XbwJCQSWeofD",
        "colab": {
          "base_uri": "https://localhost:8080/",
          "height": 121
        },
        "outputId": "5b2ec5a3-c460-488e-d263-b7c5e5129c71"
      },
      "source": [
        "metric_syms = sympy.symbols('t r theta phi')\n",
        "M_sym = sympy.symbols('M')\n",
        "a_sym = sympy.symbols('a')\n",
        "delta = (metric_syms[1]**2) - (2*M_sym*metric_syms[1]) + (a_sym**2)\n",
        "rho2 = (metric_syms[1])**2 + (a_sym**2 * cos(metric_syms[2])**2)\n",
        "metric = [[ 0 for i in range(4)] for i in range(4)]\n",
        "metric[0][0] = - (1 - (2* M_sym*metric_syms[1]/rho2) )\n",
        "metric[1][1] = rho2/delta\n",
        "metric[2][2] = rho2\n",
        "metric[3][3] = (sin(metric_syms[2])**2) * ( \n",
        "    metric_syms[1]**2 + a_sym**2 + ((2*M_sym*metric_syms[1]*a_sym**2*sin(metric_syms[2])**2)/rho2 ))\n",
        "metric[0][3] = -( (R_sym*a_sym*metric_syms[1]*sin(metric_syms[2])**2) / rho2 )\n",
        "kerr_metric = MetricTensor(metric, metric_syms)\n",
        "kerr_metric.tensor()"
      ],
      "execution_count": 31,
      "outputs": [
        {
          "output_type": "execute_result",
          "data": {
            "text/latex": "$\\displaystyle \\left[\\begin{matrix}\\frac{2 M r}{a^{2} \\cos^{2}{\\left(\\theta \\right)} + r^{2}} - 1 & 0 & 0 & - \\frac{R a r \\sin^{2}{\\left(\\theta \\right)}}{a^{2} \\cos^{2}{\\left(\\theta \\right)} + r^{2}}\\\\0 & \\frac{a^{2} \\cos^{2}{\\left(\\theta \\right)} + r^{2}}{- 2 M r + a^{2} + r^{2}} & 0 & 0\\\\0 & 0 & a^{2} \\cos^{2}{\\left(\\theta \\right)} + r^{2} & 0\\\\0 & 0 & 0 & \\left(\\frac{2 M a^{2} r \\sin^{2}{\\left(\\theta \\right)}}{a^{2} \\cos^{2}{\\left(\\theta \\right)} + r^{2}} + a^{2} + r^{2}\\right) \\sin^{2}{\\left(\\theta \\right)}\\end{matrix}\\right]$",
            "text/plain": [
              "[[2*M*r/(a**2*cos(theta)**2 + r**2) - 1, 0, 0, -R*a*r*sin(theta)**2/(a**2*cos(theta)**2 + r**2)], [0, (a**2*cos(theta)**2 + r**2)/(-2*M*r + a**2 + r**2), 0, 0], [0, 0, a**2*cos(theta)**2 + r**2, 0], [0, 0, 0, (2*M*a**2*r*sin(theta)**2/(a**2*cos(theta)**2 + r**2) + a**2 + r**2)*sin(theta)**2]]"
            ]
          },
          "metadata": {
            "tags": []
          },
          "execution_count": 31
        }
      ]
    },
    {
      "cell_type": "code",
      "metadata": {
        "colab": {
          "base_uri": "https://localhost:8080/",
          "height": 218
        },
        "id": "ckYzS0VfdgJj",
        "outputId": "8b7cd4a3-938b-4d74-c981-57c1070799fd"
      },
      "source": [
        "kerr_ch = ChristoffelSymbols.compute_christoffel(kerr_metric)\n",
        "kerr_ch.tensor()"
      ],
      "execution_count": 32,
      "outputs": [
        {
          "output_type": "execute_result",
          "data": {
            "text/latex": "$\\displaystyle \\left[\\begin{matrix}\\left[\\begin{matrix}0 & \\frac{\\left(- a^{2} \\cos^{2}{\\left(\\theta \\right)} - r^{2}\\right) \\left(- \\frac{4 M r^{2}}{\\left(a^{2} \\cos^{2}{\\left(\\theta \\right)} + r^{2}\\right)^{2}} + \\frac{2 M}{a^{2} \\cos^{2}{\\left(\\theta \\right)} + r^{2}}\\right)}{2 \\left(- 2 M r + a^{2} \\cos^{2}{\\left(\\theta \\right)} + r^{2}\\right)} & \\frac{2 M a^{2} r \\left(- a^{2} \\cos^{2}{\\left(\\theta \\right)} - r^{2}\\right) \\sin{\\left(\\theta \\right)} \\cos{\\left(\\theta \\right)}}{\\left(a^{2} \\cos^{2}{\\left(\\theta \\right)} + r^{2}\\right)^{2} \\left(- 2 M r + a^{2} \\cos^{2}{\\left(\\theta \\right)} + r^{2}\\right)} & 0\\\\\\frac{\\left(- a^{2} \\cos^{2}{\\left(\\theta \\right)} - r^{2}\\right) \\left(- \\frac{4 M r^{2}}{\\left(a^{2} \\cos^{2}{\\left(\\theta \\right)} + r^{2}\\right)^{2}} + \\frac{2 M}{a^{2} \\cos^{2}{\\left(\\theta \\right)} + r^{2}}\\right)}{2 \\left(- 2 M r + a^{2} \\cos^{2}{\\left(\\theta \\right)} + r^{2}\\right)} & 0 & 0 & \\frac{\\left(- a^{2} \\cos^{2}{\\left(\\theta \\right)} - r^{2}\\right) \\left(\\frac{2 R a r^{2} \\sin^{2}{\\left(\\theta \\right)}}{\\left(a^{2} \\cos^{2}{\\left(\\theta \\right)} + r^{2}\\right)^{2}} - \\frac{R a \\sin^{2}{\\left(\\theta \\right)}}{a^{2} \\cos^{2}{\\left(\\theta \\right)} + r^{2}}\\right)}{2 \\left(- 2 M r + a^{2} \\cos^{2}{\\left(\\theta \\right)} + r^{2}\\right)} + \\frac{\\left(- R a^{3} r \\cos^{2}{\\left(\\theta \\right)} - R a r^{3}\\right) \\left(- \\frac{4 M a^{2} r^{2} \\sin^{2}{\\left(\\theta \\right)}}{\\left(a^{2} \\cos^{2}{\\left(\\theta \\right)} + r^{2}\\right)^{2}} + \\frac{2 M a^{2} \\sin^{2}{\\left(\\theta \\right)}}{a^{2} \\cos^{2}{\\left(\\theta \\right)} + r^{2}} + 2 r\\right) \\sin^{2}{\\left(\\theta \\right)}}{2 \\left(- 4 M^{2} a^{2} r^{2} \\sin^{2}{\\left(\\theta \\right)} + 2 M a^{4} r \\sin^{2}{\\left(\\theta \\right)} \\cos^{2}{\\left(\\theta \\right)} - 2 M a^{4} r \\cos^{2}{\\left(\\theta \\right)} + 2 M a^{2} r^{3} \\sin^{2}{\\left(\\theta \\right)} - 2 M a^{2} r^{3} \\cos^{2}{\\left(\\theta \\right)} - 2 M a^{2} r^{3} - 2 M r^{5} + a^{6} \\cos^{4}{\\left(\\theta \\right)} + a^{4} r^{2} \\cos^{4}{\\left(\\theta \\right)} + 2 a^{4} r^{2} \\cos^{2}{\\left(\\theta \\right)} + 2 a^{2} r^{4} \\cos^{2}{\\left(\\theta \\right)} + a^{2} r^{4} + r^{6}\\right)}\\\\\\frac{2 M a^{2} r \\left(- a^{2} \\cos^{2}{\\left(\\theta \\right)} - r^{2}\\right) \\sin{\\left(\\theta \\right)} \\cos{\\left(\\theta \\right)}}{\\left(a^{2} \\cos^{2}{\\left(\\theta \\right)} + r^{2}\\right)^{2} \\left(- 2 M r + a^{2} \\cos^{2}{\\left(\\theta \\right)} + r^{2}\\right)} & 0 & 0 & \\frac{\\left(- a^{2} \\cos^{2}{\\left(\\theta \\right)} - r^{2}\\right) \\left(- \\frac{2 R a^{3} r \\sin^{3}{\\left(\\theta \\right)} \\cos{\\left(\\theta \\right)}}{\\left(a^{2} \\cos^{2}{\\left(\\theta \\right)} + r^{2}\\right)^{2}} - \\frac{2 R a r \\sin{\\left(\\theta \\right)} \\cos{\\left(\\theta \\right)}}{a^{2} \\cos^{2}{\\left(\\theta \\right)} + r^{2}}\\right)}{2 \\left(- 2 M r + a^{2} \\cos^{2}{\\left(\\theta \\right)} + r^{2}\\right)} + \\frac{\\left(\\left(\\frac{4 M a^{4} r \\sin^{3}{\\left(\\theta \\right)} \\cos{\\left(\\theta \\right)}}{\\left(a^{2} \\cos^{2}{\\left(\\theta \\right)} + r^{2}\\right)^{2}} + \\frac{4 M a^{2} r \\sin{\\left(\\theta \\right)} \\cos{\\left(\\theta \\right)}}{a^{2} \\cos^{2}{\\left(\\theta \\right)} + r^{2}}\\right) \\sin^{2}{\\left(\\theta \\right)} + 2 \\left(\\frac{2 M a^{2} r \\sin^{2}{\\left(\\theta \\right)}}{a^{2} \\cos^{2}{\\left(\\theta \\right)} + r^{2}} + a^{2} + r^{2}\\right) \\sin{\\left(\\theta \\right)} \\cos{\\left(\\theta \\right)}\\right) \\left(- R a^{3} r \\cos^{2}{\\left(\\theta \\right)} - R a r^{3}\\right)}{2 \\left(- 4 M^{2} a^{2} r^{2} \\sin^{2}{\\left(\\theta \\right)} + 2 M a^{4} r \\sin^{2}{\\left(\\theta \\right)} \\cos^{2}{\\left(\\theta \\right)} - 2 M a^{4} r \\cos^{2}{\\left(\\theta \\right)} + 2 M a^{2} r^{3} \\sin^{2}{\\left(\\theta \\right)} - 2 M a^{2} r^{3} \\cos^{2}{\\left(\\theta \\right)} - 2 M a^{2} r^{3} - 2 M r^{5} + a^{6} \\cos^{4}{\\left(\\theta \\right)} + a^{4} r^{2} \\cos^{4}{\\left(\\theta \\right)} + 2 a^{4} r^{2} \\cos^{2}{\\left(\\theta \\right)} + 2 a^{2} r^{4} \\cos^{2}{\\left(\\theta \\right)} + a^{2} r^{4} + r^{6}\\right)}\\\\0 & \\frac{\\left(- a^{2} \\cos^{2}{\\left(\\theta \\right)} - r^{2}\\right) \\left(\\frac{2 R a r^{2} \\sin^{2}{\\left(\\theta \\right)}}{\\left(a^{2} \\cos^{2}{\\left(\\theta \\right)} + r^{2}\\right)^{2}} - \\frac{R a \\sin^{2}{\\left(\\theta \\right)}}{a^{2} \\cos^{2}{\\left(\\theta \\right)} + r^{2}}\\right)}{2 \\left(- 2 M r + a^{2} \\cos^{2}{\\left(\\theta \\right)} + r^{2}\\right)} + \\frac{\\left(- R a^{3} r \\cos^{2}{\\left(\\theta \\right)} - R a r^{3}\\right) \\left(- \\frac{4 M a^{2} r^{2} \\sin^{2}{\\left(\\theta \\right)}}{\\left(a^{2} \\cos^{2}{\\left(\\theta \\right)} + r^{2}\\right)^{2}} + \\frac{2 M a^{2} \\sin^{2}{\\left(\\theta \\right)}}{a^{2} \\cos^{2}{\\left(\\theta \\right)} + r^{2}} + 2 r\\right) \\sin^{2}{\\left(\\theta \\right)}}{2 \\left(- 4 M^{2} a^{2} r^{2} \\sin^{2}{\\left(\\theta \\right)} + 2 M a^{4} r \\sin^{2}{\\left(\\theta \\right)} \\cos^{2}{\\left(\\theta \\right)} - 2 M a^{4} r \\cos^{2}{\\left(\\theta \\right)} + 2 M a^{2} r^{3} \\sin^{2}{\\left(\\theta \\right)} - 2 M a^{2} r^{3} \\cos^{2}{\\left(\\theta \\right)} - 2 M a^{2} r^{3} - 2 M r^{5} + a^{6} \\cos^{4}{\\left(\\theta \\right)} + a^{4} r^{2} \\cos^{4}{\\left(\\theta \\right)} + 2 a^{4} r^{2} \\cos^{2}{\\left(\\theta \\right)} + 2 a^{2} r^{4} \\cos^{2}{\\left(\\theta \\right)} + a^{2} r^{4} + r^{6}\\right)} & \\frac{\\left(- a^{2} \\cos^{2}{\\left(\\theta \\right)} - r^{2}\\right) \\left(- \\frac{2 R a^{3} r \\sin^{3}{\\left(\\theta \\right)} \\cos{\\left(\\theta \\right)}}{\\left(a^{2} \\cos^{2}{\\left(\\theta \\right)} + r^{2}\\right)^{2}} - \\frac{2 R a r \\sin{\\left(\\theta \\right)} \\cos{\\left(\\theta \\right)}}{a^{2} \\cos^{2}{\\left(\\theta \\right)} + r^{2}}\\right)}{2 \\left(- 2 M r + a^{2} \\cos^{2}{\\left(\\theta \\right)} + r^{2}\\right)} + \\frac{\\left(\\left(\\frac{4 M a^{4} r \\sin^{3}{\\left(\\theta \\right)} \\cos{\\left(\\theta \\right)}}{\\left(a^{2} \\cos^{2}{\\left(\\theta \\right)} + r^{2}\\right)^{2}} + \\frac{4 M a^{2} r \\sin{\\left(\\theta \\right)} \\cos{\\left(\\theta \\right)}}{a^{2} \\cos^{2}{\\left(\\theta \\right)} + r^{2}}\\right) \\sin^{2}{\\left(\\theta \\right)} + 2 \\left(\\frac{2 M a^{2} r \\sin^{2}{\\left(\\theta \\right)}}{a^{2} \\cos^{2}{\\left(\\theta \\right)} + r^{2}} + a^{2} + r^{2}\\right) \\sin{\\left(\\theta \\right)} \\cos{\\left(\\theta \\right)}\\right) \\left(- R a^{3} r \\cos^{2}{\\left(\\theta \\right)} - R a r^{3}\\right)}{2 \\left(- 4 M^{2} a^{2} r^{2} \\sin^{2}{\\left(\\theta \\right)} + 2 M a^{4} r \\sin^{2}{\\left(\\theta \\right)} \\cos^{2}{\\left(\\theta \\right)} - 2 M a^{4} r \\cos^{2}{\\left(\\theta \\right)} + 2 M a^{2} r^{3} \\sin^{2}{\\left(\\theta \\right)} - 2 M a^{2} r^{3} \\cos^{2}{\\left(\\theta \\right)} - 2 M a^{2} r^{3} - 2 M r^{5} + a^{6} \\cos^{4}{\\left(\\theta \\right)} + a^{4} r^{2} \\cos^{4}{\\left(\\theta \\right)} + 2 a^{4} r^{2} \\cos^{2}{\\left(\\theta \\right)} + 2 a^{2} r^{4} \\cos^{2}{\\left(\\theta \\right)} + a^{2} r^{4} + r^{6}\\right)} & 0\\end{matrix}\\right] & \\left[\\begin{matrix}\\frac{\\left(\\frac{4 M r^{2}}{\\left(a^{2} \\cos^{2}{\\left(\\theta \\right)} + r^{2}\\right)^{2}} - \\frac{2 M}{a^{2} \\cos^{2}{\\left(\\theta \\right)} + r^{2}}\\right) \\left(- 2 M r + a^{2} + r^{2}\\right)}{2 \\left(a^{2} \\cos^{2}{\\left(\\theta \\right)} + r^{2}\\right)} & 0 & 0 & 0\\\\0 & \\frac{\\left(\\frac{2 r}{- 2 M r + a^{2} + r^{2}} + \\frac{\\left(2 M - 2 r\\right) \\left(a^{2} \\cos^{2}{\\left(\\theta \\right)} + r^{2}\\right)}{\\left(- 2 M r + a^{2} + r^{2}\\right)^{2}}\\right) \\left(- 2 M r + a^{2} + r^{2}\\right)}{2 \\left(a^{2} \\cos^{2}{\\left(\\theta \\right)} + r^{2}\\right)} & - \\frac{a^{2} \\sin{\\left(\\theta \\right)} \\cos{\\left(\\theta \\right)}}{a^{2} \\cos^{2}{\\left(\\theta \\right)} + r^{2}} & 0\\\\0 & - \\frac{a^{2} \\sin{\\left(\\theta \\right)} \\cos{\\left(\\theta \\right)}}{a^{2} \\cos^{2}{\\left(\\theta \\right)} + r^{2}} & - \\frac{r \\left(- 2 M r + a^{2} + r^{2}\\right)}{a^{2} \\cos^{2}{\\left(\\theta \\right)} + r^{2}} & 0\\\\0 & 0 & 0 & - \\frac{\\left(- 2 M r + a^{2} + r^{2}\\right) \\left(- \\frac{4 M a^{2} r^{2} \\sin^{2}{\\left(\\theta \\right)}}{\\left(a^{2} \\cos^{2}{\\left(\\theta \\right)} + r^{2}\\right)^{2}} + \\frac{2 M a^{2} \\sin^{2}{\\left(\\theta \\right)}}{a^{2} \\cos^{2}{\\left(\\theta \\right)} + r^{2}} + 2 r\\right) \\sin^{2}{\\left(\\theta \\right)}}{2 \\left(a^{2} \\cos^{2}{\\left(\\theta \\right)} + r^{2}\\right)}\\end{matrix}\\right] & \\left[\\begin{matrix}- \\frac{2 M a^{2} r \\sin{\\left(\\theta \\right)} \\cos{\\left(\\theta \\right)}}{\\left(a^{2} \\cos^{2}{\\left(\\theta \\right)} + r^{2}\\right)^{3}} & 0 & 0 & 0\\\\0 & \\frac{a^{2} \\sin{\\left(\\theta \\right)} \\cos{\\left(\\theta \\right)}}{\\left(a^{2} \\cos^{2}{\\left(\\theta \\right)} + r^{2}\\right) \\left(- 2 M r + a^{2} + r^{2}\\right)} & \\frac{r}{a^{2} \\cos^{2}{\\left(\\theta \\right)} + r^{2}} & 0\\\\0 & \\frac{r}{a^{2} \\cos^{2}{\\left(\\theta \\right)} + r^{2}} & - \\frac{a^{2} \\sin{\\left(\\theta \\right)} \\cos{\\left(\\theta \\right)}}{a^{2} \\cos^{2}{\\left(\\theta \\right)} + r^{2}} & 0\\\\0 & 0 & 0 & \\frac{- \\left(\\frac{4 M a^{4} r \\sin^{3}{\\left(\\theta \\right)} \\cos{\\left(\\theta \\right)}}{\\left(a^{2} \\cos^{2}{\\left(\\theta \\right)} + r^{2}\\right)^{2}} + \\frac{4 M a^{2} r \\sin{\\left(\\theta \\right)} \\cos{\\left(\\theta \\right)}}{a^{2} \\cos^{2}{\\left(\\theta \\right)} + r^{2}}\\right) \\sin^{2}{\\left(\\theta \\right)} - 2 \\left(\\frac{2 M a^{2} r \\sin^{2}{\\left(\\theta \\right)}}{a^{2} \\cos^{2}{\\left(\\theta \\right)} + r^{2}} + a^{2} + r^{2}\\right) \\sin{\\left(\\theta \\right)} \\cos{\\left(\\theta \\right)}}{2 \\left(a^{2} \\cos^{2}{\\left(\\theta \\right)} + r^{2}\\right)}\\end{matrix}\\right] & \\left[\\begin{matrix}0 & 0 & 0 & 0\\\\0 & 0 & 0 & \\frac{\\left(a^{2} \\cos^{2}{\\left(\\theta \\right)} + r^{2}\\right) \\left(- \\frac{4 M a^{2} r^{2} \\sin^{2}{\\left(\\theta \\right)}}{\\left(a^{2} \\cos^{2}{\\left(\\theta \\right)} + r^{2}\\right)^{2}} + \\frac{2 M a^{2} \\sin^{2}{\\left(\\theta \\right)}}{a^{2} \\cos^{2}{\\left(\\theta \\right)} + r^{2}} + 2 r\\right) \\sin^{2}{\\left(\\theta \\right)}}{2 \\left(2 M a^{2} r \\sin^{4}{\\left(\\theta \\right)} + a^{4} \\sin^{2}{\\left(\\theta \\right)} \\cos^{2}{\\left(\\theta \\right)} + a^{2} r^{2} \\sin^{2}{\\left(\\theta \\right)} \\cos^{2}{\\left(\\theta \\right)} + a^{2} r^{2} \\sin^{2}{\\left(\\theta \\right)} + r^{4} \\sin^{2}{\\left(\\theta \\right)}\\right)}\\\\0 & 0 & 0 & \\frac{\\left(a^{2} \\cos^{2}{\\left(\\theta \\right)} + r^{2}\\right) \\left(\\left(\\frac{4 M a^{4} r \\sin^{3}{\\left(\\theta \\right)} \\cos{\\left(\\theta \\right)}}{\\left(a^{2} \\cos^{2}{\\left(\\theta \\right)} + r^{2}\\right)^{2}} + \\frac{4 M a^{2} r \\sin{\\left(\\theta \\right)} \\cos{\\left(\\theta \\right)}}{a^{2} \\cos^{2}{\\left(\\theta \\right)} + r^{2}}\\right) \\sin^{2}{\\left(\\theta \\right)} + 2 \\left(\\frac{2 M a^{2} r \\sin^{2}{\\left(\\theta \\right)}}{a^{2} \\cos^{2}{\\left(\\theta \\right)} + r^{2}} + a^{2} + r^{2}\\right) \\sin{\\left(\\theta \\right)} \\cos{\\left(\\theta \\right)}\\right)}{2 \\left(2 M a^{2} r \\sin^{4}{\\left(\\theta \\right)} + a^{4} \\sin^{2}{\\left(\\theta \\right)} \\cos^{2}{\\left(\\theta \\right)} + a^{2} r^{2} \\sin^{2}{\\left(\\theta \\right)} \\cos^{2}{\\left(\\theta \\right)} + a^{2} r^{2} \\sin^{2}{\\left(\\theta \\right)} + r^{4} \\sin^{2}{\\left(\\theta \\right)}\\right)}\\\\0 & \\frac{\\left(a^{2} \\cos^{2}{\\left(\\theta \\right)} + r^{2}\\right) \\left(- \\frac{4 M a^{2} r^{2} \\sin^{2}{\\left(\\theta \\right)}}{\\left(a^{2} \\cos^{2}{\\left(\\theta \\right)} + r^{2}\\right)^{2}} + \\frac{2 M a^{2} \\sin^{2}{\\left(\\theta \\right)}}{a^{2} \\cos^{2}{\\left(\\theta \\right)} + r^{2}} + 2 r\\right) \\sin^{2}{\\left(\\theta \\right)}}{2 \\left(2 M a^{2} r \\sin^{4}{\\left(\\theta \\right)} + a^{4} \\sin^{2}{\\left(\\theta \\right)} \\cos^{2}{\\left(\\theta \\right)} + a^{2} r^{2} \\sin^{2}{\\left(\\theta \\right)} \\cos^{2}{\\left(\\theta \\right)} + a^{2} r^{2} \\sin^{2}{\\left(\\theta \\right)} + r^{4} \\sin^{2}{\\left(\\theta \\right)}\\right)} & \\frac{\\left(a^{2} \\cos^{2}{\\left(\\theta \\right)} + r^{2}\\right) \\left(\\left(\\frac{4 M a^{4} r \\sin^{3}{\\left(\\theta \\right)} \\cos{\\left(\\theta \\right)}}{\\left(a^{2} \\cos^{2}{\\left(\\theta \\right)} + r^{2}\\right)^{2}} + \\frac{4 M a^{2} r \\sin{\\left(\\theta \\right)} \\cos{\\left(\\theta \\right)}}{a^{2} \\cos^{2}{\\left(\\theta \\right)} + r^{2}}\\right) \\sin^{2}{\\left(\\theta \\right)} + 2 \\left(\\frac{2 M a^{2} r \\sin^{2}{\\left(\\theta \\right)}}{a^{2} \\cos^{2}{\\left(\\theta \\right)} + r^{2}} + a^{2} + r^{2}\\right) \\sin{\\left(\\theta \\right)} \\cos{\\left(\\theta \\right)}\\right)}{2 \\left(2 M a^{2} r \\sin^{4}{\\left(\\theta \\right)} + a^{4} \\sin^{2}{\\left(\\theta \\right)} \\cos^{2}{\\left(\\theta \\right)} + a^{2} r^{2} \\sin^{2}{\\left(\\theta \\right)} \\cos^{2}{\\left(\\theta \\right)} + a^{2} r^{2} \\sin^{2}{\\left(\\theta \\right)} + r^{4} \\sin^{2}{\\left(\\theta \\right)}\\right)} & 0\\end{matrix}\\right]\\end{matrix}\\right]$",
            "text/plain": [
              "[[[0, (-a**2*cos(theta)**2 - r**2)*(-4*M*r**2/(a**2*cos(theta)**2 + r**2)**2 + 2*M/(a**2*cos(theta)**2 + r**2))/(2*(-2*M*r + a**2*cos(theta)**2 + r**2)), 2*M*a**2*r*(-a**2*cos(theta)**2 - r**2)*sin(theta)*cos(theta)/((a**2*cos(theta)**2 + r**2)**2*(-2*M*r + a**2*cos(theta)**2 + r**2)), 0], [(-a**2*cos(theta)**2 - r**2)*(-4*M*r**2/(a**2*cos(theta)**2 + r**2)**2 + 2*M/(a**2*cos(theta)**2 + r**2))/(2*(-2*M*r + a**2*cos(theta)**2 + r**2)), 0, 0, (-a**2*cos(theta)**2 - r**2)*(2*R*a*r**2*sin(theta)**2/(a**2*cos(theta)**2 + r**2)**2 - R*a*sin(theta)**2/(a**2*cos(theta)**2 + r**2))/(2*(-2*M*r + a**2*cos(theta)**2 + r**2)) + (-R*a**3*r*cos(theta)**2 - R*a*r**3)*(-4*M*a**2*r**2*sin(theta)**2/(a**2*cos(theta)**2 + r**2)**2 + 2*M*a**2*sin(theta)**2/(a**2*cos(theta)**2 + r**2) + 2*r)*sin(theta)**2/(2*(-4*M**2*a**2*r**2*sin(theta)**2 + 2*M*a**4*r*sin(theta)**2*cos(theta)**2 - 2*M*a**4*r*cos(theta)**2 + 2*M*a**2*r**3*sin(theta)**2 - 2*M*a**2*r**3*cos(theta)**2 - 2*M*a**2*r**3 - 2*M*r**5 + a**6*cos(theta)**4 + a**4*r**2*cos(theta)**4 + 2*a**4*r**2*cos(theta)**2 + 2*a**2*r**4*cos(theta)**2 + a**2*r**4 + r**6))], [2*M*a**2*r*(-a**2*cos(theta)**2 - r**2)*sin(theta)*cos(theta)/((a**2*cos(theta)**2 + r**2)**2*(-2*M*r + a**2*cos(theta)**2 + r**2)), 0, 0, (-a**2*cos(theta)**2 - r**2)*(-2*R*a**3*r*sin(theta)**3*cos(theta)/(a**2*cos(theta)**2 + r**2)**2 - 2*R*a*r*sin(theta)*cos(theta)/(a**2*cos(theta)**2 + r**2))/(2*(-2*M*r + a**2*cos(theta)**2 + r**2)) + ((4*M*a**4*r*sin(theta)**3*cos(theta)/(a**2*cos(theta)**2 + r**2)**2 + 4*M*a**2*r*sin(theta)*cos(theta)/(a**2*cos(theta)**2 + r**2))*sin(theta)**2 + 2*(2*M*a**2*r*sin(theta)**2/(a**2*cos(theta)**2 + r**2) + a**2 + r**2)*sin(theta)*cos(theta))*(-R*a**3*r*cos(theta)**2 - R*a*r**3)/(2*(-4*M**2*a**2*r**2*sin(theta)**2 + 2*M*a**4*r*sin(theta)**2*cos(theta)**2 - 2*M*a**4*r*cos(theta)**2 + 2*M*a**2*r**3*sin(theta)**2 - 2*M*a**2*r**3*cos(theta)**2 - 2*M*a**2*r**3 - 2*M*r**5 + a**6*cos(theta)**4 + a**4*r**2*cos(theta)**4 + 2*a**4*r**2*cos(theta)**2 + 2*a**2*r**4*cos(theta)**2 + a**2*r**4 + r**6))], [0, (-a**2*cos(theta)**2 - r**2)*(2*R*a*r**2*sin(theta)**2/(a**2*cos(theta)**2 + r**2)**2 - R*a*sin(theta)**2/(a**2*cos(theta)**2 + r**2))/(2*(-2*M*r + a**2*cos(theta)**2 + r**2)) + (-R*a**3*r*cos(theta)**2 - R*a*r**3)*(-4*M*a**2*r**2*sin(theta)**2/(a**2*cos(theta)**2 + r**2)**2 + 2*M*a**2*sin(theta)**2/(a**2*cos(theta)**2 + r**2) + 2*r)*sin(theta)**2/(2*(-4*M**2*a**2*r**2*sin(theta)**2 + 2*M*a**4*r*sin(theta)**2*cos(theta)**2 - 2*M*a**4*r*cos(theta)**2 + 2*M*a**2*r**3*sin(theta)**2 - 2*M*a**2*r**3*cos(theta)**2 - 2*M*a**2*r**3 - 2*M*r**5 + a**6*cos(theta)**4 + a**4*r**2*cos(theta)**4 + 2*a**4*r**2*cos(theta)**2 + 2*a**2*r**4*cos(theta)**2 + a**2*r**4 + r**6)), (-a**2*cos(theta)**2 - r**2)*(-2*R*a**3*r*sin(theta)**3*cos(theta)/(a**2*cos(theta)**2 + r**2)**2 - 2*R*a*r*sin(theta)*cos(theta)/(a**2*cos(theta)**2 + r**2))/(2*(-2*M*r + a**2*cos(theta)**2 + r**2)) + ((4*M*a**4*r*sin(theta)**3*cos(theta)/(a**2*cos(theta)**2 + r**2)**2 + 4*M*a**2*r*sin(theta)*cos(theta)/(a**2*cos(theta)**2 + r**2))*sin(theta)**2 + 2*(2*M*a**2*r*sin(theta)**2/(a**2*cos(theta)**2 + r**2) + a**2 + r**2)*sin(theta)*cos(theta))*(-R*a**3*r*cos(theta)**2 - R*a*r**3)/(2*(-4*M**2*a**2*r**2*sin(theta)**2 + 2*M*a**4*r*sin(theta)**2*cos(theta)**2 - 2*M*a**4*r*cos(theta)**2 + 2*M*a**2*r**3*sin(theta)**2 - 2*M*a**2*r**3*cos(theta)**2 - 2*M*a**2*r**3 - 2*M*r**5 + a**6*cos(theta)**4 + a**4*r**2*cos(theta)**4 + 2*a**4*r**2*cos(theta)**2 + 2*a**2*r**4*cos(theta)**2 + a**2*r**4 + r**6)), 0]], [[(4*M*r**2/(a**2*cos(theta)**2 + r**2)**2 - 2*M/(a**2*cos(theta)**2 + r**2))*(-2*M*r + a**2 + r**2)/(2*(a**2*cos(theta)**2 + r**2)), 0, 0, 0], [0, (2*r/(-2*M*r + a**2 + r**2) + (2*M - 2*r)*(a**2*cos(theta)**2 + r**2)/(-2*M*r + a**2 + r**2)**2)*(-2*M*r + a**2 + r**2)/(2*(a**2*cos(theta)**2 + r**2)), -a**2*sin(theta)*cos(theta)/(a**2*cos(theta)**2 + r**2), 0], [0, -a**2*sin(theta)*cos(theta)/(a**2*cos(theta)**2 + r**2), -r*(-2*M*r + a**2 + r**2)/(a**2*cos(theta)**2 + r**2), 0], [0, 0, 0, -(-2*M*r + a**2 + r**2)*(-4*M*a**2*r**2*sin(theta)**2/(a**2*cos(theta)**2 + r**2)**2 + 2*M*a**2*sin(theta)**2/(a**2*cos(theta)**2 + r**2) + 2*r)*sin(theta)**2/(2*(a**2*cos(theta)**2 + r**2))]], [[-2*M*a**2*r*sin(theta)*cos(theta)/(a**2*cos(theta)**2 + r**2)**3, 0, 0, 0], [0, a**2*sin(theta)*cos(theta)/((a**2*cos(theta)**2 + r**2)*(-2*M*r + a**2 + r**2)), r/(a**2*cos(theta)**2 + r**2), 0], [0, r/(a**2*cos(theta)**2 + r**2), -a**2*sin(theta)*cos(theta)/(a**2*cos(theta)**2 + r**2), 0], [0, 0, 0, (-(4*M*a**4*r*sin(theta)**3*cos(theta)/(a**2*cos(theta)**2 + r**2)**2 + 4*M*a**2*r*sin(theta)*cos(theta)/(a**2*cos(theta)**2 + r**2))*sin(theta)**2 - 2*(2*M*a**2*r*sin(theta)**2/(a**2*cos(theta)**2 + r**2) + a**2 + r**2)*sin(theta)*cos(theta))/(2*(a**2*cos(theta)**2 + r**2))]], [[0, 0, 0, 0], [0, 0, 0, (a**2*cos(theta)**2 + r**2)*(-4*M*a**2*r**2*sin(theta)**2/(a**2*cos(theta)**2 + r**2)**2 + 2*M*a**2*sin(theta)**2/(a**2*cos(theta)**2 + r**2) + 2*r)*sin(theta)**2/(2*(2*M*a**2*r*sin(theta)**4 + a**4*sin(theta)**2*cos(theta)**2 + a**2*r**2*sin(theta)**2*cos(theta)**2 + a**2*r**2*sin(theta)**2 + r**4*sin(theta)**2))], [0, 0, 0, (a**2*cos(theta)**2 + r**2)*((4*M*a**4*r*sin(theta)**3*cos(theta)/(a**2*cos(theta)**2 + r**2)**2 + 4*M*a**2*r*sin(theta)*cos(theta)/(a**2*cos(theta)**2 + r**2))*sin(theta)**2 + 2*(2*M*a**2*r*sin(theta)**2/(a**2*cos(theta)**2 + r**2) + a**2 + r**2)*sin(theta)*cos(theta))/(2*(2*M*a**2*r*sin(theta)**4 + a**4*sin(theta)**2*cos(theta)**2 + a**2*r**2*sin(theta)**2*cos(theta)**2 + a**2*r**2*sin(theta)**2 + r**4*sin(theta)**2))], [0, (a**2*cos(theta)**2 + r**2)*(-4*M*a**2*r**2*sin(theta)**2/(a**2*cos(theta)**2 + r**2)**2 + 2*M*a**2*sin(theta)**2/(a**2*cos(theta)**2 + r**2) + 2*r)*sin(theta)**2/(2*(2*M*a**2*r*sin(theta)**4 + a**4*sin(theta)**2*cos(theta)**2 + a**2*r**2*sin(theta)**2*cos(theta)**2 + a**2*r**2*sin(theta)**2 + r**4*sin(theta)**2)), (a**2*cos(theta)**2 + r**2)*((4*M*a**4*r*sin(theta)**3*cos(theta)/(a**2*cos(theta)**2 + r**2)**2 + 4*M*a**2*r*sin(theta)*cos(theta)/(a**2*cos(theta)**2 + r**2))*sin(theta)**2 + 2*(2*M*a**2*r*sin(theta)**2/(a**2*cos(theta)**2 + r**2) + a**2 + r**2)*sin(theta)*cos(theta))/(2*(2*M*a**2*r*sin(theta)**4 + a**4*sin(theta)**2*cos(theta)**2 + a**2*r**2*sin(theta)**2*cos(theta)**2 + a**2*r**2*sin(theta)**2 + r**4*sin(theta)**2)), 0]]]"
            ]
          },
          "metadata": {
            "tags": []
          },
          "execution_count": 32
        }
      ]
    },
    {
      "cell_type": "code",
      "metadata": {
        "colab": {
          "base_uri": "https://localhost:8080/",
          "height": 231
        },
        "id": "nNlbZDx6greY",
        "outputId": "f07d349f-b4fa-43cc-b618-858fde2130fe"
      },
      "source": [
        "kerr_riemann = RiemannTensor.compute_riemann(kerr_ch)\n",
        "kerr_riemann"
      ],
      "execution_count": 33,
      "outputs": [
        {
          "output_type": "error",
          "ename": "KeyboardInterrupt",
          "evalue": "ignored",
          "traceback": [
            "\u001b[0;31m---------------------------------------------------------------------------\u001b[0m",
            "\u001b[0;31mKeyboardInterrupt\u001b[0m                         Traceback (most recent call last)",
            "\u001b[0;32m<ipython-input-33-527e174af079>\u001b[0m in \u001b[0;36m<module>\u001b[0;34m()\u001b[0m\n\u001b[0;32m----> 1\u001b[0;31m \u001b[0mkerr_riemann\u001b[0m \u001b[0;34m=\u001b[0m \u001b[0mRiemannTensor\u001b[0m\u001b[0;34m.\u001b[0m\u001b[0mcompute_riemann\u001b[0m\u001b[0;34m(\u001b[0m\u001b[0mkerr_ch\u001b[0m\u001b[0;34m)\u001b[0m\u001b[0;34m\u001b[0m\u001b[0;34m\u001b[0m\u001b[0m\n\u001b[0m\u001b[1;32m      2\u001b[0m \u001b[0mkerr_riemann\u001b[0m\u001b[0;34m\u001b[0m\u001b[0;34m\u001b[0m\u001b[0m\n",
            "\u001b[0;32m<ipython-input-5-b386af0486cf>\u001b[0m in \u001b[0;36mcompute_riemann\u001b[0;34m(cls, chris, parent_metric)\u001b[0m\n\u001b[1;32m     32\u001b[0m             \u001b[0;32mfor\u001b[0m \u001b[0mp\u001b[0m \u001b[0;32min\u001b[0m \u001b[0mrange\u001b[0m\u001b[0;34m(\u001b[0m\u001b[0mdims\u001b[0m\u001b[0;34m)\u001b[0m\u001b[0;34m:\u001b[0m\u001b[0;34m\u001b[0m\u001b[0;34m\u001b[0m\u001b[0m\n\u001b[1;32m     33\u001b[0m                 \u001b[0mtemp\u001b[0m \u001b[0;34m+=\u001b[0m \u001b[0marr\u001b[0m\u001b[0;34m[\u001b[0m\u001b[0mp\u001b[0m\u001b[0;34m,\u001b[0m \u001b[0ms\u001b[0m\u001b[0;34m,\u001b[0m \u001b[0mn\u001b[0m\u001b[0;34m]\u001b[0m \u001b[0;34m*\u001b[0m \u001b[0marr\u001b[0m\u001b[0;34m[\u001b[0m\u001b[0mt\u001b[0m\u001b[0;34m,\u001b[0m \u001b[0mp\u001b[0m\u001b[0;34m,\u001b[0m \u001b[0mr\u001b[0m\u001b[0;34m]\u001b[0m \u001b[0;34m-\u001b[0m \u001b[0marr\u001b[0m\u001b[0;34m[\u001b[0m\u001b[0mp\u001b[0m\u001b[0;34m,\u001b[0m \u001b[0ms\u001b[0m\u001b[0;34m,\u001b[0m \u001b[0mr\u001b[0m\u001b[0;34m]\u001b[0m \u001b[0;34m*\u001b[0m \u001b[0marr\u001b[0m\u001b[0;34m[\u001b[0m\u001b[0mt\u001b[0m\u001b[0;34m,\u001b[0m \u001b[0mp\u001b[0m\u001b[0;34m,\u001b[0m \u001b[0mn\u001b[0m\u001b[0;34m]\u001b[0m\u001b[0;34m\u001b[0m\u001b[0;34m\u001b[0m\u001b[0m\n\u001b[0;32m---> 34\u001b[0;31m             \u001b[0mriemann\u001b[0m\u001b[0;34m[\u001b[0m\u001b[0mt\u001b[0m\u001b[0;34m]\u001b[0m\u001b[0;34m[\u001b[0m\u001b[0ms\u001b[0m\u001b[0;34m]\u001b[0m\u001b[0;34m[\u001b[0m\u001b[0mr\u001b[0m\u001b[0;34m]\u001b[0m\u001b[0;34m[\u001b[0m\u001b[0mn\u001b[0m\u001b[0;34m]\u001b[0m \u001b[0;34m=\u001b[0m \u001b[0msympy\u001b[0m\u001b[0;34m.\u001b[0m\u001b[0msimplify\u001b[0m\u001b[0;34m(\u001b[0m\u001b[0mtemp\u001b[0m\u001b[0;34m)\u001b[0m\u001b[0;34m\u001b[0m\u001b[0;34m\u001b[0m\u001b[0m\n\u001b[0m\u001b[1;32m     35\u001b[0m         \u001b[0;32mif\u001b[0m \u001b[0mparent_metric\u001b[0m \u001b[0;32mis\u001b[0m \u001b[0;32mNone\u001b[0m\u001b[0;34m:\u001b[0m\u001b[0;34m\u001b[0m\u001b[0;34m\u001b[0m\u001b[0m\n\u001b[1;32m     36\u001b[0m             \u001b[0mparent_metric\u001b[0m \u001b[0;34m=\u001b[0m \u001b[0mchris\u001b[0m\u001b[0;34m.\u001b[0m\u001b[0mparent_metric\u001b[0m\u001b[0;34m\u001b[0m\u001b[0;34m\u001b[0m\u001b[0m\n",
            "\u001b[0;32m/usr/local/lib/python3.7/dist-packages/sympy/simplify/simplify.py\u001b[0m in \u001b[0;36msimplify\u001b[0;34m(expr, ratio, measure, rational, inverse, doit, **kwargs)\u001b[0m\n\u001b[1;32m    663\u001b[0m \u001b[0;34m\u001b[0m\u001b[0m\n\u001b[1;32m    664\u001b[0m     \u001b[0;32mif\u001b[0m \u001b[0mexpr\u001b[0m\u001b[0;34m.\u001b[0m\u001b[0mhas\u001b[0m\u001b[0;34m(\u001b[0m\u001b[0mTrigonometricFunction\u001b[0m\u001b[0;34m,\u001b[0m \u001b[0mHyperbolicFunction\u001b[0m\u001b[0;34m)\u001b[0m\u001b[0;34m:\u001b[0m\u001b[0;34m\u001b[0m\u001b[0;34m\u001b[0m\u001b[0m\n\u001b[0;32m--> 665\u001b[0;31m         \u001b[0mexpr\u001b[0m \u001b[0;34m=\u001b[0m \u001b[0mtrigsimp\u001b[0m\u001b[0;34m(\u001b[0m\u001b[0mexpr\u001b[0m\u001b[0;34m,\u001b[0m \u001b[0mdeep\u001b[0m\u001b[0;34m=\u001b[0m\u001b[0;32mTrue\u001b[0m\u001b[0;34m)\u001b[0m\u001b[0;34m\u001b[0m\u001b[0;34m\u001b[0m\u001b[0m\n\u001b[0m\u001b[1;32m    666\u001b[0m \u001b[0;34m\u001b[0m\u001b[0m\n\u001b[1;32m    667\u001b[0m     \u001b[0;32mif\u001b[0m \u001b[0mexpr\u001b[0m\u001b[0;34m.\u001b[0m\u001b[0mhas\u001b[0m\u001b[0;34m(\u001b[0m\u001b[0mlog\u001b[0m\u001b[0;34m)\u001b[0m\u001b[0;34m:\u001b[0m\u001b[0;34m\u001b[0m\u001b[0;34m\u001b[0m\u001b[0m\n",
            "\u001b[0;32m/usr/local/lib/python3.7/dist-packages/sympy/simplify/trigsimp.py\u001b[0m in \u001b[0;36mtrigsimp\u001b[0;34m(expr, **opts)\u001b[0m\n\u001b[1;32m    506\u001b[0m                    }[method]\n\u001b[1;32m    507\u001b[0m \u001b[0;34m\u001b[0m\u001b[0m\n\u001b[0;32m--> 508\u001b[0;31m     \u001b[0;32mreturn\u001b[0m \u001b[0mtrigsimpfunc\u001b[0m\u001b[0;34m(\u001b[0m\u001b[0mexpr\u001b[0m\u001b[0;34m)\u001b[0m\u001b[0;34m\u001b[0m\u001b[0;34m\u001b[0m\u001b[0m\n\u001b[0m\u001b[1;32m    509\u001b[0m \u001b[0;34m\u001b[0m\u001b[0m\n\u001b[1;32m    510\u001b[0m \u001b[0;34m\u001b[0m\u001b[0m\n",
            "\u001b[0;32m/usr/local/lib/python3.7/dist-packages/sympy/simplify/trigsimp.py\u001b[0m in \u001b[0;36m<lambda>\u001b[0;34m(x)\u001b[0m\n\u001b[1;32m    499\u001b[0m     trigsimpfunc = {\n\u001b[1;32m    500\u001b[0m         \u001b[0;34m'fu'\u001b[0m\u001b[0;34m:\u001b[0m \u001b[0;34m(\u001b[0m\u001b[0;32mlambda\u001b[0m \u001b[0mx\u001b[0m\u001b[0;34m:\u001b[0m \u001b[0mfu\u001b[0m\u001b[0;34m(\u001b[0m\u001b[0mx\u001b[0m\u001b[0;34m,\u001b[0m \u001b[0;34m**\u001b[0m\u001b[0mopts\u001b[0m\u001b[0;34m)\u001b[0m\u001b[0;34m)\u001b[0m\u001b[0;34m,\u001b[0m\u001b[0;34m\u001b[0m\u001b[0;34m\u001b[0m\u001b[0m\n\u001b[0;32m--> 501\u001b[0;31m         \u001b[0;34m'matching'\u001b[0m\u001b[0;34m:\u001b[0m \u001b[0;34m(\u001b[0m\u001b[0;32mlambda\u001b[0m \u001b[0mx\u001b[0m\u001b[0;34m:\u001b[0m \u001b[0mfutrig\u001b[0m\u001b[0;34m(\u001b[0m\u001b[0mx\u001b[0m\u001b[0;34m)\u001b[0m\u001b[0;34m)\u001b[0m\u001b[0;34m,\u001b[0m\u001b[0;34m\u001b[0m\u001b[0;34m\u001b[0m\u001b[0m\n\u001b[0m\u001b[1;32m    502\u001b[0m         \u001b[0;34m'groebner'\u001b[0m\u001b[0;34m:\u001b[0m \u001b[0;34m(\u001b[0m\u001b[0;32mlambda\u001b[0m \u001b[0mx\u001b[0m\u001b[0;34m:\u001b[0m \u001b[0mgroebnersimp\u001b[0m\u001b[0;34m(\u001b[0m\u001b[0mx\u001b[0m\u001b[0;34m,\u001b[0m \u001b[0;34m**\u001b[0m\u001b[0mopts\u001b[0m\u001b[0;34m)\u001b[0m\u001b[0;34m)\u001b[0m\u001b[0;34m,\u001b[0m\u001b[0;34m\u001b[0m\u001b[0;34m\u001b[0m\u001b[0m\n\u001b[1;32m    503\u001b[0m         'combined': (lambda x: futrig(groebnersimp(x,\n",
            "\u001b[0;32m/usr/local/lib/python3.7/dist-packages/sympy/simplify/trigsimp.py\u001b[0m in \u001b[0;36mfutrig\u001b[0;34m(e, hyper, **kwargs)\u001b[0m\n\u001b[1;32m   1098\u001b[0m \u001b[0;34m\u001b[0m\u001b[0m\n\u001b[1;32m   1099\u001b[0m     \u001b[0mold\u001b[0m \u001b[0;34m=\u001b[0m \u001b[0me\u001b[0m\u001b[0;34m\u001b[0m\u001b[0;34m\u001b[0m\u001b[0m\n\u001b[0;32m-> 1100\u001b[0;31m     \u001b[0me\u001b[0m \u001b[0;34m=\u001b[0m \u001b[0mbottom_up\u001b[0m\u001b[0;34m(\u001b[0m\u001b[0me\u001b[0m\u001b[0;34m,\u001b[0m \u001b[0m_futrig\u001b[0m\u001b[0;34m)\u001b[0m\u001b[0;34m\u001b[0m\u001b[0;34m\u001b[0m\u001b[0m\n\u001b[0m\u001b[1;32m   1101\u001b[0m \u001b[0;34m\u001b[0m\u001b[0m\n\u001b[1;32m   1102\u001b[0m     \u001b[0;32mif\u001b[0m \u001b[0mhyper\u001b[0m \u001b[0;32mand\u001b[0m \u001b[0me\u001b[0m\u001b[0;34m.\u001b[0m\u001b[0mhas\u001b[0m\u001b[0;34m(\u001b[0m\u001b[0mHyperbolicFunction\u001b[0m\u001b[0;34m)\u001b[0m\u001b[0;34m:\u001b[0m\u001b[0;34m\u001b[0m\u001b[0;34m\u001b[0m\u001b[0m\n",
            "\u001b[0;32m/usr/local/lib/python3.7/dist-packages/sympy/simplify/simplify.py\u001b[0m in \u001b[0;36mbottom_up\u001b[0;34m(rv, F, atoms, nonbasic)\u001b[0m\n\u001b[1;32m   1154\u001b[0m     \u001b[0;32mif\u001b[0m \u001b[0margs\u001b[0m \u001b[0;32mis\u001b[0m \u001b[0;32mnot\u001b[0m \u001b[0;32mNone\u001b[0m\u001b[0;34m:\u001b[0m\u001b[0;34m\u001b[0m\u001b[0;34m\u001b[0m\u001b[0m\n\u001b[1;32m   1155\u001b[0m         \u001b[0;32mif\u001b[0m \u001b[0margs\u001b[0m\u001b[0;34m:\u001b[0m\u001b[0;34m\u001b[0m\u001b[0;34m\u001b[0m\u001b[0m\n\u001b[0;32m-> 1156\u001b[0;31m             \u001b[0margs\u001b[0m \u001b[0;34m=\u001b[0m \u001b[0mtuple\u001b[0m\u001b[0;34m(\u001b[0m\u001b[0;34m[\u001b[0m\u001b[0mbottom_up\u001b[0m\u001b[0;34m(\u001b[0m\u001b[0ma\u001b[0m\u001b[0;34m,\u001b[0m \u001b[0mF\u001b[0m\u001b[0;34m,\u001b[0m \u001b[0matoms\u001b[0m\u001b[0;34m,\u001b[0m \u001b[0mnonbasic\u001b[0m\u001b[0;34m)\u001b[0m \u001b[0;32mfor\u001b[0m \u001b[0ma\u001b[0m \u001b[0;32min\u001b[0m \u001b[0margs\u001b[0m\u001b[0;34m]\u001b[0m\u001b[0;34m)\u001b[0m\u001b[0;34m\u001b[0m\u001b[0;34m\u001b[0m\u001b[0m\n\u001b[0m\u001b[1;32m   1157\u001b[0m             \u001b[0;32mif\u001b[0m \u001b[0margs\u001b[0m \u001b[0;34m!=\u001b[0m \u001b[0mrv\u001b[0m\u001b[0;34m.\u001b[0m\u001b[0margs\u001b[0m\u001b[0;34m:\u001b[0m\u001b[0;34m\u001b[0m\u001b[0;34m\u001b[0m\u001b[0m\n\u001b[1;32m   1158\u001b[0m                 \u001b[0mrv\u001b[0m \u001b[0;34m=\u001b[0m \u001b[0mrv\u001b[0m\u001b[0;34m.\u001b[0m\u001b[0mfunc\u001b[0m\u001b[0;34m(\u001b[0m\u001b[0;34m*\u001b[0m\u001b[0margs\u001b[0m\u001b[0;34m)\u001b[0m\u001b[0;34m\u001b[0m\u001b[0;34m\u001b[0m\u001b[0m\n",
            "\u001b[0;32m/usr/local/lib/python3.7/dist-packages/sympy/simplify/simplify.py\u001b[0m in \u001b[0;36m<listcomp>\u001b[0;34m(.0)\u001b[0m\n\u001b[1;32m   1154\u001b[0m     \u001b[0;32mif\u001b[0m \u001b[0margs\u001b[0m \u001b[0;32mis\u001b[0m \u001b[0;32mnot\u001b[0m \u001b[0;32mNone\u001b[0m\u001b[0;34m:\u001b[0m\u001b[0;34m\u001b[0m\u001b[0;34m\u001b[0m\u001b[0m\n\u001b[1;32m   1155\u001b[0m         \u001b[0;32mif\u001b[0m \u001b[0margs\u001b[0m\u001b[0;34m:\u001b[0m\u001b[0;34m\u001b[0m\u001b[0;34m\u001b[0m\u001b[0m\n\u001b[0;32m-> 1156\u001b[0;31m             \u001b[0margs\u001b[0m \u001b[0;34m=\u001b[0m \u001b[0mtuple\u001b[0m\u001b[0;34m(\u001b[0m\u001b[0;34m[\u001b[0m\u001b[0mbottom_up\u001b[0m\u001b[0;34m(\u001b[0m\u001b[0ma\u001b[0m\u001b[0;34m,\u001b[0m \u001b[0mF\u001b[0m\u001b[0;34m,\u001b[0m \u001b[0matoms\u001b[0m\u001b[0;34m,\u001b[0m \u001b[0mnonbasic\u001b[0m\u001b[0;34m)\u001b[0m \u001b[0;32mfor\u001b[0m \u001b[0ma\u001b[0m \u001b[0;32min\u001b[0m \u001b[0margs\u001b[0m\u001b[0;34m]\u001b[0m\u001b[0;34m)\u001b[0m\u001b[0;34m\u001b[0m\u001b[0;34m\u001b[0m\u001b[0m\n\u001b[0m\u001b[1;32m   1157\u001b[0m             \u001b[0;32mif\u001b[0m \u001b[0margs\u001b[0m \u001b[0;34m!=\u001b[0m \u001b[0mrv\u001b[0m\u001b[0;34m.\u001b[0m\u001b[0margs\u001b[0m\u001b[0;34m:\u001b[0m\u001b[0;34m\u001b[0m\u001b[0;34m\u001b[0m\u001b[0m\n\u001b[1;32m   1158\u001b[0m                 \u001b[0mrv\u001b[0m \u001b[0;34m=\u001b[0m \u001b[0mrv\u001b[0m\u001b[0;34m.\u001b[0m\u001b[0mfunc\u001b[0m\u001b[0;34m(\u001b[0m\u001b[0;34m*\u001b[0m\u001b[0margs\u001b[0m\u001b[0;34m)\u001b[0m\u001b[0;34m\u001b[0m\u001b[0;34m\u001b[0m\u001b[0m\n",
            "\u001b[0;32m/usr/local/lib/python3.7/dist-packages/sympy/simplify/simplify.py\u001b[0m in \u001b[0;36mbottom_up\u001b[0;34m(rv, F, atoms, nonbasic)\u001b[0m\n\u001b[1;32m   1154\u001b[0m     \u001b[0;32mif\u001b[0m \u001b[0margs\u001b[0m \u001b[0;32mis\u001b[0m \u001b[0;32mnot\u001b[0m \u001b[0;32mNone\u001b[0m\u001b[0;34m:\u001b[0m\u001b[0;34m\u001b[0m\u001b[0;34m\u001b[0m\u001b[0m\n\u001b[1;32m   1155\u001b[0m         \u001b[0;32mif\u001b[0m \u001b[0margs\u001b[0m\u001b[0;34m:\u001b[0m\u001b[0;34m\u001b[0m\u001b[0;34m\u001b[0m\u001b[0m\n\u001b[0;32m-> 1156\u001b[0;31m             \u001b[0margs\u001b[0m \u001b[0;34m=\u001b[0m \u001b[0mtuple\u001b[0m\u001b[0;34m(\u001b[0m\u001b[0;34m[\u001b[0m\u001b[0mbottom_up\u001b[0m\u001b[0;34m(\u001b[0m\u001b[0ma\u001b[0m\u001b[0;34m,\u001b[0m \u001b[0mF\u001b[0m\u001b[0;34m,\u001b[0m \u001b[0matoms\u001b[0m\u001b[0;34m,\u001b[0m \u001b[0mnonbasic\u001b[0m\u001b[0;34m)\u001b[0m \u001b[0;32mfor\u001b[0m \u001b[0ma\u001b[0m \u001b[0;32min\u001b[0m \u001b[0margs\u001b[0m\u001b[0;34m]\u001b[0m\u001b[0;34m)\u001b[0m\u001b[0;34m\u001b[0m\u001b[0;34m\u001b[0m\u001b[0m\n\u001b[0m\u001b[1;32m   1157\u001b[0m             \u001b[0;32mif\u001b[0m \u001b[0margs\u001b[0m \u001b[0;34m!=\u001b[0m \u001b[0mrv\u001b[0m\u001b[0;34m.\u001b[0m\u001b[0margs\u001b[0m\u001b[0;34m:\u001b[0m\u001b[0;34m\u001b[0m\u001b[0;34m\u001b[0m\u001b[0m\n\u001b[1;32m   1158\u001b[0m                 \u001b[0mrv\u001b[0m \u001b[0;34m=\u001b[0m \u001b[0mrv\u001b[0m\u001b[0;34m.\u001b[0m\u001b[0mfunc\u001b[0m\u001b[0;34m(\u001b[0m\u001b[0;34m*\u001b[0m\u001b[0margs\u001b[0m\u001b[0;34m)\u001b[0m\u001b[0;34m\u001b[0m\u001b[0;34m\u001b[0m\u001b[0m\n",
            "\u001b[0;32m/usr/local/lib/python3.7/dist-packages/sympy/simplify/simplify.py\u001b[0m in \u001b[0;36m<listcomp>\u001b[0;34m(.0)\u001b[0m\n\u001b[1;32m   1154\u001b[0m     \u001b[0;32mif\u001b[0m \u001b[0margs\u001b[0m \u001b[0;32mis\u001b[0m \u001b[0;32mnot\u001b[0m \u001b[0;32mNone\u001b[0m\u001b[0;34m:\u001b[0m\u001b[0;34m\u001b[0m\u001b[0;34m\u001b[0m\u001b[0m\n\u001b[1;32m   1155\u001b[0m         \u001b[0;32mif\u001b[0m \u001b[0margs\u001b[0m\u001b[0;34m:\u001b[0m\u001b[0;34m\u001b[0m\u001b[0;34m\u001b[0m\u001b[0m\n\u001b[0;32m-> 1156\u001b[0;31m             \u001b[0margs\u001b[0m \u001b[0;34m=\u001b[0m \u001b[0mtuple\u001b[0m\u001b[0;34m(\u001b[0m\u001b[0;34m[\u001b[0m\u001b[0mbottom_up\u001b[0m\u001b[0;34m(\u001b[0m\u001b[0ma\u001b[0m\u001b[0;34m,\u001b[0m \u001b[0mF\u001b[0m\u001b[0;34m,\u001b[0m \u001b[0matoms\u001b[0m\u001b[0;34m,\u001b[0m \u001b[0mnonbasic\u001b[0m\u001b[0;34m)\u001b[0m \u001b[0;32mfor\u001b[0m \u001b[0ma\u001b[0m \u001b[0;32min\u001b[0m \u001b[0margs\u001b[0m\u001b[0;34m]\u001b[0m\u001b[0;34m)\u001b[0m\u001b[0;34m\u001b[0m\u001b[0;34m\u001b[0m\u001b[0m\n\u001b[0m\u001b[1;32m   1157\u001b[0m             \u001b[0;32mif\u001b[0m \u001b[0margs\u001b[0m \u001b[0;34m!=\u001b[0m \u001b[0mrv\u001b[0m\u001b[0;34m.\u001b[0m\u001b[0margs\u001b[0m\u001b[0;34m:\u001b[0m\u001b[0;34m\u001b[0m\u001b[0;34m\u001b[0m\u001b[0m\n\u001b[1;32m   1158\u001b[0m                 \u001b[0mrv\u001b[0m \u001b[0;34m=\u001b[0m \u001b[0mrv\u001b[0m\u001b[0;34m.\u001b[0m\u001b[0mfunc\u001b[0m\u001b[0;34m(\u001b[0m\u001b[0;34m*\u001b[0m\u001b[0margs\u001b[0m\u001b[0;34m)\u001b[0m\u001b[0;34m\u001b[0m\u001b[0;34m\u001b[0m\u001b[0m\n",
            "\u001b[0;32m/usr/local/lib/python3.7/dist-packages/sympy/simplify/simplify.py\u001b[0m in \u001b[0;36mbottom_up\u001b[0;34m(rv, F, atoms, nonbasic)\u001b[0m\n\u001b[1;32m   1154\u001b[0m     \u001b[0;32mif\u001b[0m \u001b[0margs\u001b[0m \u001b[0;32mis\u001b[0m \u001b[0;32mnot\u001b[0m \u001b[0;32mNone\u001b[0m\u001b[0;34m:\u001b[0m\u001b[0;34m\u001b[0m\u001b[0;34m\u001b[0m\u001b[0m\n\u001b[1;32m   1155\u001b[0m         \u001b[0;32mif\u001b[0m \u001b[0margs\u001b[0m\u001b[0;34m:\u001b[0m\u001b[0;34m\u001b[0m\u001b[0;34m\u001b[0m\u001b[0m\n\u001b[0;32m-> 1156\u001b[0;31m             \u001b[0margs\u001b[0m \u001b[0;34m=\u001b[0m \u001b[0mtuple\u001b[0m\u001b[0;34m(\u001b[0m\u001b[0;34m[\u001b[0m\u001b[0mbottom_up\u001b[0m\u001b[0;34m(\u001b[0m\u001b[0ma\u001b[0m\u001b[0;34m,\u001b[0m \u001b[0mF\u001b[0m\u001b[0;34m,\u001b[0m \u001b[0matoms\u001b[0m\u001b[0;34m,\u001b[0m \u001b[0mnonbasic\u001b[0m\u001b[0;34m)\u001b[0m \u001b[0;32mfor\u001b[0m \u001b[0ma\u001b[0m \u001b[0;32min\u001b[0m \u001b[0margs\u001b[0m\u001b[0;34m]\u001b[0m\u001b[0;34m)\u001b[0m\u001b[0;34m\u001b[0m\u001b[0;34m\u001b[0m\u001b[0m\n\u001b[0m\u001b[1;32m   1157\u001b[0m             \u001b[0;32mif\u001b[0m \u001b[0margs\u001b[0m \u001b[0;34m!=\u001b[0m \u001b[0mrv\u001b[0m\u001b[0;34m.\u001b[0m\u001b[0margs\u001b[0m\u001b[0;34m:\u001b[0m\u001b[0;34m\u001b[0m\u001b[0;34m\u001b[0m\u001b[0m\n\u001b[1;32m   1158\u001b[0m                 \u001b[0mrv\u001b[0m \u001b[0;34m=\u001b[0m \u001b[0mrv\u001b[0m\u001b[0;34m.\u001b[0m\u001b[0mfunc\u001b[0m\u001b[0;34m(\u001b[0m\u001b[0;34m*\u001b[0m\u001b[0margs\u001b[0m\u001b[0;34m)\u001b[0m\u001b[0;34m\u001b[0m\u001b[0;34m\u001b[0m\u001b[0m\n",
            "\u001b[0;32m/usr/local/lib/python3.7/dist-packages/sympy/simplify/simplify.py\u001b[0m in \u001b[0;36m<listcomp>\u001b[0;34m(.0)\u001b[0m\n\u001b[1;32m   1154\u001b[0m     \u001b[0;32mif\u001b[0m \u001b[0margs\u001b[0m \u001b[0;32mis\u001b[0m \u001b[0;32mnot\u001b[0m \u001b[0;32mNone\u001b[0m\u001b[0;34m:\u001b[0m\u001b[0;34m\u001b[0m\u001b[0;34m\u001b[0m\u001b[0m\n\u001b[1;32m   1155\u001b[0m         \u001b[0;32mif\u001b[0m \u001b[0margs\u001b[0m\u001b[0;34m:\u001b[0m\u001b[0;34m\u001b[0m\u001b[0;34m\u001b[0m\u001b[0m\n\u001b[0;32m-> 1156\u001b[0;31m             \u001b[0margs\u001b[0m \u001b[0;34m=\u001b[0m \u001b[0mtuple\u001b[0m\u001b[0;34m(\u001b[0m\u001b[0;34m[\u001b[0m\u001b[0mbottom_up\u001b[0m\u001b[0;34m(\u001b[0m\u001b[0ma\u001b[0m\u001b[0;34m,\u001b[0m \u001b[0mF\u001b[0m\u001b[0;34m,\u001b[0m \u001b[0matoms\u001b[0m\u001b[0;34m,\u001b[0m \u001b[0mnonbasic\u001b[0m\u001b[0;34m)\u001b[0m \u001b[0;32mfor\u001b[0m \u001b[0ma\u001b[0m \u001b[0;32min\u001b[0m \u001b[0margs\u001b[0m\u001b[0;34m]\u001b[0m\u001b[0;34m)\u001b[0m\u001b[0;34m\u001b[0m\u001b[0;34m\u001b[0m\u001b[0m\n\u001b[0m\u001b[1;32m   1157\u001b[0m             \u001b[0;32mif\u001b[0m \u001b[0margs\u001b[0m \u001b[0;34m!=\u001b[0m \u001b[0mrv\u001b[0m\u001b[0;34m.\u001b[0m\u001b[0margs\u001b[0m\u001b[0;34m:\u001b[0m\u001b[0;34m\u001b[0m\u001b[0;34m\u001b[0m\u001b[0m\n\u001b[1;32m   1158\u001b[0m                 \u001b[0mrv\u001b[0m \u001b[0;34m=\u001b[0m \u001b[0mrv\u001b[0m\u001b[0;34m.\u001b[0m\u001b[0mfunc\u001b[0m\u001b[0;34m(\u001b[0m\u001b[0;34m*\u001b[0m\u001b[0margs\u001b[0m\u001b[0;34m)\u001b[0m\u001b[0;34m\u001b[0m\u001b[0;34m\u001b[0m\u001b[0m\n",
            "\u001b[0;32m/usr/local/lib/python3.7/dist-packages/sympy/simplify/simplify.py\u001b[0m in \u001b[0;36mbottom_up\u001b[0;34m(rv, F, atoms, nonbasic)\u001b[0m\n\u001b[1;32m   1157\u001b[0m             \u001b[0;32mif\u001b[0m \u001b[0margs\u001b[0m \u001b[0;34m!=\u001b[0m \u001b[0mrv\u001b[0m\u001b[0;34m.\u001b[0m\u001b[0margs\u001b[0m\u001b[0;34m:\u001b[0m\u001b[0;34m\u001b[0m\u001b[0;34m\u001b[0m\u001b[0m\n\u001b[1;32m   1158\u001b[0m                 \u001b[0mrv\u001b[0m \u001b[0;34m=\u001b[0m \u001b[0mrv\u001b[0m\u001b[0;34m.\u001b[0m\u001b[0mfunc\u001b[0m\u001b[0;34m(\u001b[0m\u001b[0;34m*\u001b[0m\u001b[0margs\u001b[0m\u001b[0;34m)\u001b[0m\u001b[0;34m\u001b[0m\u001b[0;34m\u001b[0m\u001b[0m\n\u001b[0;32m-> 1159\u001b[0;31m             \u001b[0mrv\u001b[0m \u001b[0;34m=\u001b[0m \u001b[0mF\u001b[0m\u001b[0;34m(\u001b[0m\u001b[0mrv\u001b[0m\u001b[0;34m)\u001b[0m\u001b[0;34m\u001b[0m\u001b[0;34m\u001b[0m\u001b[0m\n\u001b[0m\u001b[1;32m   1160\u001b[0m         \u001b[0;32melif\u001b[0m \u001b[0matoms\u001b[0m\u001b[0;34m:\u001b[0m\u001b[0;34m\u001b[0m\u001b[0;34m\u001b[0m\u001b[0m\n\u001b[1;32m   1161\u001b[0m             \u001b[0mrv\u001b[0m \u001b[0;34m=\u001b[0m \u001b[0mF\u001b[0m\u001b[0;34m(\u001b[0m\u001b[0mrv\u001b[0m\u001b[0;34m)\u001b[0m\u001b[0;34m\u001b[0m\u001b[0;34m\u001b[0m\u001b[0m\n",
            "\u001b[0;32m/usr/local/lib/python3.7/dist-packages/sympy/simplify/trigsimp.py\u001b[0m in \u001b[0;36m_futrig\u001b[0;34m(e)\u001b[0m\n\u001b[1;32m   1166\u001b[0m             factor_terms, TR12(x), trigs)],  # expand tan of sum\n\u001b[1;32m   1167\u001b[0m         )]\n\u001b[0;32m-> 1168\u001b[0;31m     \u001b[0me\u001b[0m \u001b[0;34m=\u001b[0m \u001b[0mgreedy\u001b[0m\u001b[0;34m(\u001b[0m\u001b[0mtree\u001b[0m\u001b[0;34m,\u001b[0m \u001b[0mobjective\u001b[0m\u001b[0;34m=\u001b[0m\u001b[0mLops\u001b[0m\u001b[0;34m)\u001b[0m\u001b[0;34m(\u001b[0m\u001b[0me\u001b[0m\u001b[0;34m)\u001b[0m\u001b[0;34m\u001b[0m\u001b[0;34m\u001b[0m\u001b[0m\n\u001b[0m\u001b[1;32m   1169\u001b[0m \u001b[0;34m\u001b[0m\u001b[0m\n\u001b[1;32m   1170\u001b[0m     \u001b[0;32mif\u001b[0m \u001b[0mcoeff\u001b[0m \u001b[0;32mis\u001b[0m \u001b[0;32mnot\u001b[0m \u001b[0;32mNone\u001b[0m\u001b[0;34m:\u001b[0m\u001b[0;34m\u001b[0m\u001b[0;34m\u001b[0m\u001b[0m\n",
            "\u001b[0;32m/usr/local/lib/python3.7/dist-packages/sympy/strategies/core.py\u001b[0m in \u001b[0;36mminrule\u001b[0;34m(expr)\u001b[0m\n\u001b[1;32m    112\u001b[0m \u001b[0;34m\u001b[0m\u001b[0m\n\u001b[1;32m    113\u001b[0m     \u001b[0;32mdef\u001b[0m \u001b[0mminrule\u001b[0m\u001b[0;34m(\u001b[0m\u001b[0mexpr\u001b[0m\u001b[0;34m)\u001b[0m\u001b[0;34m:\u001b[0m\u001b[0;34m\u001b[0m\u001b[0;34m\u001b[0m\u001b[0m\n\u001b[0;32m--> 114\u001b[0;31m         \u001b[0;32mreturn\u001b[0m \u001b[0mmin\u001b[0m\u001b[0;34m(\u001b[0m\u001b[0;34m[\u001b[0m\u001b[0mrule\u001b[0m\u001b[0;34m(\u001b[0m\u001b[0mexpr\u001b[0m\u001b[0;34m)\u001b[0m \u001b[0;32mfor\u001b[0m \u001b[0mrule\u001b[0m \u001b[0;32min\u001b[0m \u001b[0mrules\u001b[0m\u001b[0;34m]\u001b[0m\u001b[0;34m,\u001b[0m \u001b[0mkey\u001b[0m\u001b[0;34m=\u001b[0m\u001b[0mobjective\u001b[0m\u001b[0;34m)\u001b[0m\u001b[0;34m\u001b[0m\u001b[0;34m\u001b[0m\u001b[0m\n\u001b[0m\u001b[1;32m    115\u001b[0m     \u001b[0;32mreturn\u001b[0m \u001b[0mminrule\u001b[0m\u001b[0;34m\u001b[0m\u001b[0;34m\u001b[0m\u001b[0m\n",
            "\u001b[0;32m/usr/local/lib/python3.7/dist-packages/sympy/strategies/core.py\u001b[0m in \u001b[0;36m<listcomp>\u001b[0;34m(.0)\u001b[0m\n\u001b[1;32m    112\u001b[0m \u001b[0;34m\u001b[0m\u001b[0m\n\u001b[1;32m    113\u001b[0m     \u001b[0;32mdef\u001b[0m \u001b[0mminrule\u001b[0m\u001b[0;34m(\u001b[0m\u001b[0mexpr\u001b[0m\u001b[0;34m)\u001b[0m\u001b[0;34m:\u001b[0m\u001b[0;34m\u001b[0m\u001b[0;34m\u001b[0m\u001b[0m\n\u001b[0;32m--> 114\u001b[0;31m         \u001b[0;32mreturn\u001b[0m \u001b[0mmin\u001b[0m\u001b[0;34m(\u001b[0m\u001b[0;34m[\u001b[0m\u001b[0mrule\u001b[0m\u001b[0;34m(\u001b[0m\u001b[0mexpr\u001b[0m\u001b[0;34m)\u001b[0m \u001b[0;32mfor\u001b[0m \u001b[0mrule\u001b[0m \u001b[0;32min\u001b[0m \u001b[0mrules\u001b[0m\u001b[0;34m]\u001b[0m\u001b[0;34m,\u001b[0m \u001b[0mkey\u001b[0m\u001b[0;34m=\u001b[0m\u001b[0mobjective\u001b[0m\u001b[0;34m)\u001b[0m\u001b[0;34m\u001b[0m\u001b[0;34m\u001b[0m\u001b[0m\n\u001b[0m\u001b[1;32m    115\u001b[0m     \u001b[0;32mreturn\u001b[0m \u001b[0mminrule\u001b[0m\u001b[0;34m\u001b[0m\u001b[0;34m\u001b[0m\u001b[0m\n",
            "\u001b[0;32m/usr/local/lib/python3.7/dist-packages/sympy/strategies/core.py\u001b[0m in \u001b[0;36mchain_rl\u001b[0;34m(expr)\u001b[0m\n\u001b[1;32m     42\u001b[0m     \u001b[0;32mdef\u001b[0m \u001b[0mchain_rl\u001b[0m\u001b[0;34m(\u001b[0m\u001b[0mexpr\u001b[0m\u001b[0;34m)\u001b[0m\u001b[0;34m:\u001b[0m\u001b[0;34m\u001b[0m\u001b[0;34m\u001b[0m\u001b[0m\n\u001b[1;32m     43\u001b[0m         \u001b[0;32mfor\u001b[0m \u001b[0mrule\u001b[0m \u001b[0;32min\u001b[0m \u001b[0mrules\u001b[0m\u001b[0;34m:\u001b[0m\u001b[0;34m\u001b[0m\u001b[0;34m\u001b[0m\u001b[0m\n\u001b[0;32m---> 44\u001b[0;31m             \u001b[0mexpr\u001b[0m \u001b[0;34m=\u001b[0m \u001b[0mrule\u001b[0m\u001b[0;34m(\u001b[0m\u001b[0mexpr\u001b[0m\u001b[0;34m)\u001b[0m\u001b[0;34m\u001b[0m\u001b[0;34m\u001b[0m\u001b[0m\n\u001b[0m\u001b[1;32m     45\u001b[0m         \u001b[0;32mreturn\u001b[0m \u001b[0mexpr\u001b[0m\u001b[0;34m\u001b[0m\u001b[0;34m\u001b[0m\u001b[0m\n\u001b[1;32m     46\u001b[0m     \u001b[0;32mreturn\u001b[0m \u001b[0mchain_rl\u001b[0m\u001b[0;34m\u001b[0m\u001b[0;34m\u001b[0m\u001b[0m\n",
            "\u001b[0;32m/usr/local/lib/python3.7/dist-packages/sympy/strategies/core.py\u001b[0m in \u001b[0;36mminrule\u001b[0;34m(expr)\u001b[0m\n\u001b[1;32m    112\u001b[0m \u001b[0;34m\u001b[0m\u001b[0m\n\u001b[1;32m    113\u001b[0m     \u001b[0;32mdef\u001b[0m \u001b[0mminrule\u001b[0m\u001b[0;34m(\u001b[0m\u001b[0mexpr\u001b[0m\u001b[0;34m)\u001b[0m\u001b[0;34m:\u001b[0m\u001b[0;34m\u001b[0m\u001b[0;34m\u001b[0m\u001b[0m\n\u001b[0;32m--> 114\u001b[0;31m         \u001b[0;32mreturn\u001b[0m \u001b[0mmin\u001b[0m\u001b[0;34m(\u001b[0m\u001b[0;34m[\u001b[0m\u001b[0mrule\u001b[0m\u001b[0;34m(\u001b[0m\u001b[0mexpr\u001b[0m\u001b[0;34m)\u001b[0m \u001b[0;32mfor\u001b[0m \u001b[0mrule\u001b[0m \u001b[0;32min\u001b[0m \u001b[0mrules\u001b[0m\u001b[0;34m]\u001b[0m\u001b[0;34m,\u001b[0m \u001b[0mkey\u001b[0m\u001b[0;34m=\u001b[0m\u001b[0mobjective\u001b[0m\u001b[0;34m)\u001b[0m\u001b[0;34m\u001b[0m\u001b[0;34m\u001b[0m\u001b[0m\n\u001b[0m\u001b[1;32m    115\u001b[0m     \u001b[0;32mreturn\u001b[0m \u001b[0mminrule\u001b[0m\u001b[0;34m\u001b[0m\u001b[0;34m\u001b[0m\u001b[0m\n",
            "\u001b[0;32m/usr/local/lib/python3.7/dist-packages/sympy/simplify/trigsimp.py\u001b[0m in \u001b[0;36m<lambda>\u001b[0;34m(x)\u001b[0m\n\u001b[1;32m   1126\u001b[0m         \u001b[0mcoeff\u001b[0m \u001b[0;34m=\u001b[0m \u001b[0;32mNone\u001b[0m\u001b[0;34m\u001b[0m\u001b[0;34m\u001b[0m\u001b[0m\n\u001b[1;32m   1127\u001b[0m \u001b[0;34m\u001b[0m\u001b[0m\n\u001b[0;32m-> 1128\u001b[0;31m     \u001b[0mLops\u001b[0m \u001b[0;34m=\u001b[0m \u001b[0;32mlambda\u001b[0m \u001b[0mx\u001b[0m\u001b[0;34m:\u001b[0m \u001b[0;34m(\u001b[0m\u001b[0mL\u001b[0m\u001b[0;34m(\u001b[0m\u001b[0mx\u001b[0m\u001b[0;34m)\u001b[0m\u001b[0;34m,\u001b[0m \u001b[0mx\u001b[0m\u001b[0;34m.\u001b[0m\u001b[0mcount_ops\u001b[0m\u001b[0;34m(\u001b[0m\u001b[0;34m)\u001b[0m\u001b[0;34m,\u001b[0m \u001b[0m_nodes\u001b[0m\u001b[0;34m(\u001b[0m\u001b[0mx\u001b[0m\u001b[0;34m)\u001b[0m\u001b[0;34m,\u001b[0m \u001b[0mlen\u001b[0m\u001b[0;34m(\u001b[0m\u001b[0mx\u001b[0m\u001b[0;34m.\u001b[0m\u001b[0margs\u001b[0m\u001b[0;34m)\u001b[0m\u001b[0;34m,\u001b[0m \u001b[0mx\u001b[0m\u001b[0;34m.\u001b[0m\u001b[0mis_Add\u001b[0m\u001b[0;34m)\u001b[0m\u001b[0;34m\u001b[0m\u001b[0;34m\u001b[0m\u001b[0m\n\u001b[0m\u001b[1;32m   1129\u001b[0m     \u001b[0mtrigs\u001b[0m \u001b[0;34m=\u001b[0m \u001b[0;32mlambda\u001b[0m \u001b[0mx\u001b[0m\u001b[0;34m:\u001b[0m \u001b[0mx\u001b[0m\u001b[0;34m.\u001b[0m\u001b[0mhas\u001b[0m\u001b[0;34m(\u001b[0m\u001b[0mTrigonometricFunction\u001b[0m\u001b[0;34m)\u001b[0m\u001b[0;34m\u001b[0m\u001b[0;34m\u001b[0m\u001b[0m\n\u001b[1;32m   1130\u001b[0m \u001b[0;34m\u001b[0m\u001b[0m\n",
            "\u001b[0;32m/usr/local/lib/python3.7/dist-packages/sympy/core/compatibility.py\u001b[0m in \u001b[0;36m_nodes\u001b[0;34m(e)\u001b[0m\n\u001b[1;32m    553\u001b[0m     for which the sum of nodes is returned).\n\u001b[1;32m    554\u001b[0m     \"\"\"\n\u001b[0;32m--> 555\u001b[0;31m     \u001b[0;32mfrom\u001b[0m \u001b[0;34m.\u001b[0m\u001b[0mbasic\u001b[0m \u001b[0;32mimport\u001b[0m \u001b[0mBasic\u001b[0m\u001b[0;34m\u001b[0m\u001b[0;34m\u001b[0m\u001b[0m\n\u001b[0m\u001b[1;32m    556\u001b[0m     \u001b[0;32mfrom\u001b[0m \u001b[0;34m.\u001b[0m\u001b[0mfunction\u001b[0m \u001b[0;32mimport\u001b[0m \u001b[0mDerivative\u001b[0m\u001b[0;34m\u001b[0m\u001b[0;34m\u001b[0m\u001b[0m\n\u001b[1;32m    557\u001b[0m \u001b[0;34m\u001b[0m\u001b[0m\n",
            "\u001b[0;32m/usr/lib/python3.7/importlib/_bootstrap.py\u001b[0m in \u001b[0;36m_handle_fromlist\u001b[0;34m(module, fromlist, import_, recursive)\u001b[0m\n",
            "\u001b[0;31mKeyboardInterrupt\u001b[0m: "
          ]
        }
      ]
    },
    {
      "cell_type": "markdown",
      "metadata": {
        "id": "rSKFGKvhretl"
      },
      "source": [
        "This also crashes my computer, sadly. Best I can do then is do as they did in the textbook and consider $M \\longrightarrow 0$."
      ]
    },
    {
      "cell_type": "code",
      "metadata": {
        "colab": {
          "base_uri": "https://localhost:8080/",
          "height": 103
        },
        "id": "3R3-F-4lgvGP",
        "outputId": "fed4438b-548f-44ea-855b-ee015fb35c1b"
      },
      "source": [
        "metric_syms = sympy.symbols('t r theta phi')\n",
        "a_sym = sympy.symbols('a')\n",
        "rho2 = (metric_syms[1])**2 + (a_sym**2 * cos(metric_syms[2])**2)\n",
        "metric = [[ 0 for i in range(4)] for i in range(4)]\n",
        "metric[0][0] = - 1\n",
        "metric[1][1] = rho2/(metric_syms[1]**2 + a_sym**2)\n",
        "metric[2][2] = rho2\n",
        "metric[3][3] = (metric_syms[1]**2 + a_sym**2)*sin(metric_syms[2])**2\n",
        "kerr_metric = MetricTensor(metric, metric_syms)\n",
        "kerr_metric.tensor()"
      ],
      "execution_count": 34,
      "outputs": [
        {
          "output_type": "execute_result",
          "data": {
            "text/latex": "$\\displaystyle \\left[\\begin{matrix}-1 & 0 & 0 & 0\\\\0 & \\frac{a^{2} \\cos^{2}{\\left(\\theta \\right)} + r^{2}}{a^{2} + r^{2}} & 0 & 0\\\\0 & 0 & a^{2} \\cos^{2}{\\left(\\theta \\right)} + r^{2} & 0\\\\0 & 0 & 0 & \\left(a^{2} + r^{2}\\right) \\sin^{2}{\\left(\\theta \\right)}\\end{matrix}\\right]$",
            "text/plain": [
              "[[-1, 0, 0, 0], [0, (a**2*cos(theta)**2 + r**2)/(a**2 + r**2), 0, 0], [0, 0, a**2*cos(theta)**2 + r**2, 0], [0, 0, 0, (a**2 + r**2)*sin(theta)**2]]"
            ]
          },
          "metadata": {
            "tags": []
          },
          "execution_count": 34
        }
      ]
    },
    {
      "cell_type": "markdown",
      "metadata": {
        "id": "rMmcABoTs-Rx"
      },
      "source": [
        "## Christoffel Symbols for Kerr metric with $M \\longrightarrow 0 $"
      ]
    },
    {
      "cell_type": "code",
      "metadata": {
        "colab": {
          "base_uri": "https://localhost:8080/",
          "height": 173
        },
        "id": "ntv34c2NsYg-",
        "outputId": "6eb0ce9e-2140-490f-ae86-4e7ba3bd0735"
      },
      "source": [
        "kerr_ch = ChristoffelSymbols.compute_christoffel(kerr_metric)\n",
        "kerr_ch.tensor()"
      ],
      "execution_count": 35,
      "outputs": [
        {
          "output_type": "execute_result",
          "data": {
            "text/latex": "$\\displaystyle \\left[\\begin{matrix}\\left[\\begin{matrix}0 & 0 & 0 & 0\\\\0 & 0 & 0 & 0\\\\0 & 0 & 0 & 0\\\\0 & 0 & 0 & 0\\end{matrix}\\right] & \\left[\\begin{matrix}0 & 0 & 0 & 0\\\\0 & \\frac{\\left(a^{2} + r^{2}\\right) \\left(\\frac{2 r}{a^{2} + r^{2}} - \\frac{2 r \\left(a^{2} \\cos^{2}{\\left(\\theta \\right)} + r^{2}\\right)}{\\left(a^{2} + r^{2}\\right)^{2}}\\right)}{2 \\left(a^{2} \\cos^{2}{\\left(\\theta \\right)} + r^{2}\\right)} & - \\frac{a^{2} \\sin{\\left(\\theta \\right)} \\cos{\\left(\\theta \\right)}}{a^{2} \\cos^{2}{\\left(\\theta \\right)} + r^{2}} & 0\\\\0 & - \\frac{a^{2} \\sin{\\left(\\theta \\right)} \\cos{\\left(\\theta \\right)}}{a^{2} \\cos^{2}{\\left(\\theta \\right)} + r^{2}} & - \\frac{r \\left(a^{2} + r^{2}\\right)}{a^{2} \\cos^{2}{\\left(\\theta \\right)} + r^{2}} & 0\\\\0 & 0 & 0 & - \\frac{r \\left(a^{2} + r^{2}\\right) \\sin^{2}{\\left(\\theta \\right)}}{a^{2} \\cos^{2}{\\left(\\theta \\right)} + r^{2}}\\end{matrix}\\right] & \\left[\\begin{matrix}0 & 0 & 0 & 0\\\\0 & \\frac{a^{2} \\sin{\\left(\\theta \\right)} \\cos{\\left(\\theta \\right)}}{\\left(a^{2} + r^{2}\\right) \\left(a^{2} \\cos^{2}{\\left(\\theta \\right)} + r^{2}\\right)} & \\frac{r}{a^{2} \\cos^{2}{\\left(\\theta \\right)} + r^{2}} & 0\\\\0 & \\frac{r}{a^{2} \\cos^{2}{\\left(\\theta \\right)} + r^{2}} & - \\frac{a^{2} \\sin{\\left(\\theta \\right)} \\cos{\\left(\\theta \\right)}}{a^{2} \\cos^{2}{\\left(\\theta \\right)} + r^{2}} & 0\\\\0 & 0 & 0 & - \\frac{\\left(a^{2} + r^{2}\\right) \\sin{\\left(\\theta \\right)} \\cos{\\left(\\theta \\right)}}{a^{2} \\cos^{2}{\\left(\\theta \\right)} + r^{2}}\\end{matrix}\\right] & \\left[\\begin{matrix}0 & 0 & 0 & 0\\\\0 & 0 & 0 & \\frac{r \\sin^{2}{\\left(\\theta \\right)}}{a^{2} \\sin^{2}{\\left(\\theta \\right)} + r^{2} \\sin^{2}{\\left(\\theta \\right)}}\\\\0 & 0 & 0 & \\frac{\\left(a^{2} + r^{2}\\right) \\sin{\\left(\\theta \\right)} \\cos{\\left(\\theta \\right)}}{a^{2} \\sin^{2}{\\left(\\theta \\right)} + r^{2} \\sin^{2}{\\left(\\theta \\right)}}\\\\0 & \\frac{r \\sin^{2}{\\left(\\theta \\right)}}{a^{2} \\sin^{2}{\\left(\\theta \\right)} + r^{2} \\sin^{2}{\\left(\\theta \\right)}} & \\frac{\\left(a^{2} + r^{2}\\right) \\sin{\\left(\\theta \\right)} \\cos{\\left(\\theta \\right)}}{a^{2} \\sin^{2}{\\left(\\theta \\right)} + r^{2} \\sin^{2}{\\left(\\theta \\right)}} & 0\\end{matrix}\\right]\\end{matrix}\\right]$",
            "text/plain": [
              "[[[0, 0, 0, 0], [0, 0, 0, 0], [0, 0, 0, 0], [0, 0, 0, 0]], [[0, 0, 0, 0], [0, (a**2 + r**2)*(2*r/(a**2 + r**2) - 2*r*(a**2*cos(theta)**2 + r**2)/(a**2 + r**2)**2)/(2*(a**2*cos(theta)**2 + r**2)), -a**2*sin(theta)*cos(theta)/(a**2*cos(theta)**2 + r**2), 0], [0, -a**2*sin(theta)*cos(theta)/(a**2*cos(theta)**2 + r**2), -r*(a**2 + r**2)/(a**2*cos(theta)**2 + r**2), 0], [0, 0, 0, -r*(a**2 + r**2)*sin(theta)**2/(a**2*cos(theta)**2 + r**2)]], [[0, 0, 0, 0], [0, a**2*sin(theta)*cos(theta)/((a**2 + r**2)*(a**2*cos(theta)**2 + r**2)), r/(a**2*cos(theta)**2 + r**2), 0], [0, r/(a**2*cos(theta)**2 + r**2), -a**2*sin(theta)*cos(theta)/(a**2*cos(theta)**2 + r**2), 0], [0, 0, 0, -(a**2 + r**2)*sin(theta)*cos(theta)/(a**2*cos(theta)**2 + r**2)]], [[0, 0, 0, 0], [0, 0, 0, r*sin(theta)**2/(a**2*sin(theta)**2 + r**2*sin(theta)**2)], [0, 0, 0, (a**2 + r**2)*sin(theta)*cos(theta)/(a**2*sin(theta)**2 + r**2*sin(theta)**2)], [0, r*sin(theta)**2/(a**2*sin(theta)**2 + r**2*sin(theta)**2), (a**2 + r**2)*sin(theta)*cos(theta)/(a**2*sin(theta)**2 + r**2*sin(theta)**2), 0]]]"
            ]
          },
          "metadata": {
            "tags": []
          },
          "execution_count": 35
        }
      ]
    },
    {
      "cell_type": "code",
      "metadata": {
        "colab": {
          "base_uri": "https://localhost:8080/",
          "height": 442
        },
        "id": "IIh1XXM3F-y-",
        "outputId": "85b4d274-b768-42e1-97d8-6024f92cb147"
      },
      "source": [
        "for i, j, k in product(range(4), range(4), range(4)):\n",
        "    if kerr_ch[i, j, k] != 0:\n",
        "        display(Math(f'\\Gamma^{i}_{{{j},{k}}} = ' + latex(kerr_ch[i, j, k])))"
      ],
      "execution_count": 36,
      "outputs": [
        {
          "output_type": "display_data",
          "data": {
            "text/latex": "$$\\Gamma^1_{1,1} = \\frac{\\left(a^{2} + r^{2}\\right) \\left(\\frac{2 r}{a^{2} + r^{2}} - \\frac{2 r \\left(a^{2} \\cos^{2}{\\left(\\theta \\right)} + r^{2}\\right)}{\\left(a^{2} + r^{2}\\right)^{2}}\\right)}{2 \\left(a^{2} \\cos^{2}{\\left(\\theta \\right)} + r^{2}\\right)}$$",
            "text/plain": [
              "<IPython.core.display.Math object>"
            ]
          },
          "metadata": {
            "tags": []
          }
        },
        {
          "output_type": "display_data",
          "data": {
            "text/latex": "$$\\Gamma^1_{1,2} = - \\frac{a^{2} \\sin{\\left(\\theta \\right)} \\cos{\\left(\\theta \\right)}}{a^{2} \\cos^{2}{\\left(\\theta \\right)} + r^{2}}$$",
            "text/plain": [
              "<IPython.core.display.Math object>"
            ]
          },
          "metadata": {
            "tags": []
          }
        },
        {
          "output_type": "display_data",
          "data": {
            "text/latex": "$$\\Gamma^1_{2,1} = - \\frac{a^{2} \\sin{\\left(\\theta \\right)} \\cos{\\left(\\theta \\right)}}{a^{2} \\cos^{2}{\\left(\\theta \\right)} + r^{2}}$$",
            "text/plain": [
              "<IPython.core.display.Math object>"
            ]
          },
          "metadata": {
            "tags": []
          }
        },
        {
          "output_type": "display_data",
          "data": {
            "text/latex": "$$\\Gamma^1_{2,2} = - \\frac{r \\left(a^{2} + r^{2}\\right)}{a^{2} \\cos^{2}{\\left(\\theta \\right)} + r^{2}}$$",
            "text/plain": [
              "<IPython.core.display.Math object>"
            ]
          },
          "metadata": {
            "tags": []
          }
        },
        {
          "output_type": "display_data",
          "data": {
            "text/latex": "$$\\Gamma^1_{3,3} = - \\frac{r \\left(a^{2} + r^{2}\\right) \\sin^{2}{\\left(\\theta \\right)}}{a^{2} \\cos^{2}{\\left(\\theta \\right)} + r^{2}}$$",
            "text/plain": [
              "<IPython.core.display.Math object>"
            ]
          },
          "metadata": {
            "tags": []
          }
        },
        {
          "output_type": "display_data",
          "data": {
            "text/latex": "$$\\Gamma^2_{1,1} = \\frac{a^{2} \\sin{\\left(\\theta \\right)} \\cos{\\left(\\theta \\right)}}{\\left(a^{2} + r^{2}\\right) \\left(a^{2} \\cos^{2}{\\left(\\theta \\right)} + r^{2}\\right)}$$",
            "text/plain": [
              "<IPython.core.display.Math object>"
            ]
          },
          "metadata": {
            "tags": []
          }
        },
        {
          "output_type": "display_data",
          "data": {
            "text/latex": "$$\\Gamma^2_{1,2} = \\frac{r}{a^{2} \\cos^{2}{\\left(\\theta \\right)} + r^{2}}$$",
            "text/plain": [
              "<IPython.core.display.Math object>"
            ]
          },
          "metadata": {
            "tags": []
          }
        },
        {
          "output_type": "display_data",
          "data": {
            "text/latex": "$$\\Gamma^2_{2,1} = \\frac{r}{a^{2} \\cos^{2}{\\left(\\theta \\right)} + r^{2}}$$",
            "text/plain": [
              "<IPython.core.display.Math object>"
            ]
          },
          "metadata": {
            "tags": []
          }
        },
        {
          "output_type": "display_data",
          "data": {
            "text/latex": "$$\\Gamma^2_{2,2} = - \\frac{a^{2} \\sin{\\left(\\theta \\right)} \\cos{\\left(\\theta \\right)}}{a^{2} \\cos^{2}{\\left(\\theta \\right)} + r^{2}}$$",
            "text/plain": [
              "<IPython.core.display.Math object>"
            ]
          },
          "metadata": {
            "tags": []
          }
        },
        {
          "output_type": "display_data",
          "data": {
            "text/latex": "$$\\Gamma^2_{3,3} = - \\frac{\\left(a^{2} + r^{2}\\right) \\sin{\\left(\\theta \\right)} \\cos{\\left(\\theta \\right)}}{a^{2} \\cos^{2}{\\left(\\theta \\right)} + r^{2}}$$",
            "text/plain": [
              "<IPython.core.display.Math object>"
            ]
          },
          "metadata": {
            "tags": []
          }
        },
        {
          "output_type": "display_data",
          "data": {
            "text/latex": "$$\\Gamma^3_{1,3} = \\frac{r \\sin^{2}{\\left(\\theta \\right)}}{a^{2} \\sin^{2}{\\left(\\theta \\right)} + r^{2} \\sin^{2}{\\left(\\theta \\right)}}$$",
            "text/plain": [
              "<IPython.core.display.Math object>"
            ]
          },
          "metadata": {
            "tags": []
          }
        },
        {
          "output_type": "display_data",
          "data": {
            "text/latex": "$$\\Gamma^3_{2,3} = \\frac{\\left(a^{2} + r^{2}\\right) \\sin{\\left(\\theta \\right)} \\cos{\\left(\\theta \\right)}}{a^{2} \\sin^{2}{\\left(\\theta \\right)} + r^{2} \\sin^{2}{\\left(\\theta \\right)}}$$",
            "text/plain": [
              "<IPython.core.display.Math object>"
            ]
          },
          "metadata": {
            "tags": []
          }
        },
        {
          "output_type": "display_data",
          "data": {
            "text/latex": "$$\\Gamma^3_{3,1} = \\frac{r \\sin^{2}{\\left(\\theta \\right)}}{a^{2} \\sin^{2}{\\left(\\theta \\right)} + r^{2} \\sin^{2}{\\left(\\theta \\right)}}$$",
            "text/plain": [
              "<IPython.core.display.Math object>"
            ]
          },
          "metadata": {
            "tags": []
          }
        },
        {
          "output_type": "display_data",
          "data": {
            "text/latex": "$$\\Gamma^3_{3,2} = \\frac{\\left(a^{2} + r^{2}\\right) \\sin{\\left(\\theta \\right)} \\cos{\\left(\\theta \\right)}}{a^{2} \\sin^{2}{\\left(\\theta \\right)} + r^{2} \\sin^{2}{\\left(\\theta \\right)}}$$",
            "text/plain": [
              "<IPython.core.display.Math object>"
            ]
          },
          "metadata": {
            "tags": []
          }
        }
      ]
    },
    {
      "cell_type": "markdown",
      "metadata": {
        "id": "PliuQ98GtbBA"
      },
      "source": [
        "## Riemann Tensor for Kerr metric with $M \\longrightarrow 0 $"
      ]
    },
    {
      "cell_type": "code",
      "metadata": {
        "colab": {
          "base_uri": "https://localhost:8080/",
          "height": 343
        },
        "id": "-mZ2UsvbsmA1",
        "outputId": "b4231d97-2705-4a66-a07f-b55d99f7a6e0"
      },
      "source": [
        "kerr_riemann = RiemannTensor.compute_riemann(kerr_ch)\n",
        "kerr_riemann.tensor()"
      ],
      "execution_count": 37,
      "outputs": [
        {
          "output_type": "execute_result",
          "data": {
            "text/latex": "$\\displaystyle \\left[\\begin{matrix}\\left[\\begin{matrix}0 & 0 & 0 & 0\\\\0 & 0 & 0 & 0\\\\0 & 0 & 0 & 0\\\\0 & 0 & 0 & 0\\end{matrix}\\right] & \\left[\\begin{matrix}0 & 0 & 0 & 0\\\\0 & 0 & 0 & 0\\\\0 & 0 & 0 & 0\\\\0 & 0 & 0 & 0\\end{matrix}\\right] & \\left[\\begin{matrix}0 & 0 & 0 & 0\\\\0 & 0 & 0 & 0\\\\0 & 0 & 0 & 0\\\\0 & 0 & 0 & 0\\end{matrix}\\right] & \\left[\\begin{matrix}0 & 0 & 0 & 0\\\\0 & 0 & 0 & 0\\\\0 & 0 & 0 & 0\\\\0 & 0 & 0 & 0\\end{matrix}\\right]\\\\\\left[\\begin{matrix}0 & 0 & 0 & 0\\\\0 & 0 & 0 & 0\\\\0 & 0 & 0 & 0\\\\0 & 0 & 0 & 0\\end{matrix}\\right] & \\left[\\begin{matrix}0 & 0 & 0 & 0\\\\0 & 0 & 0 & 0\\\\0 & 0 & 0 & 0\\\\0 & 0 & 0 & 0\\end{matrix}\\right] & \\left[\\begin{matrix}0 & 0 & 0 & 0\\\\0 & 0 & 0 & 0\\\\0 & 0 & 0 & 0\\\\0 & 0 & 0 & 0\\end{matrix}\\right] & \\left[\\begin{matrix}0 & 0 & 0 & 0\\\\0 & 0 & 0 & 0\\\\0 & 0 & 0 & 0\\\\0 & 0 & 0 & 0\\end{matrix}\\right]\\\\\\left[\\begin{matrix}0 & 0 & 0 & 0\\\\0 & 0 & 0 & 0\\\\0 & 0 & 0 & 0\\\\0 & 0 & 0 & 0\\end{matrix}\\right] & \\left[\\begin{matrix}0 & 0 & 0 & 0\\\\0 & 0 & 0 & 0\\\\0 & 0 & 0 & 0\\\\0 & 0 & 0 & 0\\end{matrix}\\right] & \\left[\\begin{matrix}0 & 0 & 0 & 0\\\\0 & 0 & 0 & 0\\\\0 & 0 & 0 & 0\\\\0 & 0 & 0 & 0\\end{matrix}\\right] & \\left[\\begin{matrix}0 & 0 & 0 & 0\\\\0 & 0 & 0 & 0\\\\0 & 0 & 0 & 0\\\\0 & 0 & 0 & 0\\end{matrix}\\right]\\\\\\left[\\begin{matrix}0 & 0 & 0 & 0\\\\0 & 0 & 0 & 0\\\\0 & 0 & 0 & 0\\\\0 & 0 & 0 & 0\\end{matrix}\\right] & \\left[\\begin{matrix}0 & 0 & 0 & 0\\\\0 & 0 & 0 & 0\\\\0 & 0 & 0 & 0\\\\0 & 0 & 0 & 0\\end{matrix}\\right] & \\left[\\begin{matrix}0 & 0 & 0 & 0\\\\0 & 0 & 0 & 0\\\\0 & 0 & 0 & 0\\\\0 & 0 & 0 & 0\\end{matrix}\\right] & \\left[\\begin{matrix}0 & 0 & 0 & 0\\\\0 & 0 & 0 & 0\\\\0 & 0 & 0 & 0\\\\0 & 0 & 0 & 0\\end{matrix}\\right]\\end{matrix}\\right]$",
            "text/plain": [
              "[[[[0, 0, 0, 0], [0, 0, 0, 0], [0, 0, 0, 0], [0, 0, 0, 0]], [[0, 0, 0, 0], [0, 0, 0, 0], [0, 0, 0, 0], [0, 0, 0, 0]], [[0, 0, 0, 0], [0, 0, 0, 0], [0, 0, 0, 0], [0, 0, 0, 0]], [[0, 0, 0, 0], [0, 0, 0, 0], [0, 0, 0, 0], [0, 0, 0, 0]]], [[[0, 0, 0, 0], [0, 0, 0, 0], [0, 0, 0, 0], [0, 0, 0, 0]], [[0, 0, 0, 0], [0, 0, 0, 0], [0, 0, 0, 0], [0, 0, 0, 0]], [[0, 0, 0, 0], [0, 0, 0, 0], [0, 0, 0, 0], [0, 0, 0, 0]], [[0, 0, 0, 0], [0, 0, 0, 0], [0, 0, 0, 0], [0, 0, 0, 0]]], [[[0, 0, 0, 0], [0, 0, 0, 0], [0, 0, 0, 0], [0, 0, 0, 0]], [[0, 0, 0, 0], [0, 0, 0, 0], [0, 0, 0, 0], [0, 0, 0, 0]], [[0, 0, 0, 0], [0, 0, 0, 0], [0, 0, 0, 0], [0, 0, 0, 0]], [[0, 0, 0, 0], [0, 0, 0, 0], [0, 0, 0, 0], [0, 0, 0, 0]]], [[[0, 0, 0, 0], [0, 0, 0, 0], [0, 0, 0, 0], [0, 0, 0, 0]], [[0, 0, 0, 0], [0, 0, 0, 0], [0, 0, 0, 0], [0, 0, 0, 0]], [[0, 0, 0, 0], [0, 0, 0, 0], [0, 0, 0, 0], [0, 0, 0, 0]], [[0, 0, 0, 0], [0, 0, 0, 0], [0, 0, 0, 0], [0, 0, 0, 0]]]]"
            ]
          },
          "metadata": {
            "tags": []
          },
          "execution_count": 37
        }
      ]
    },
    {
      "cell_type": "markdown",
      "metadata": {
        "id": "6gASkk9Ntiy9"
      },
      "source": [
        "## Ricci Tensor for Kerr metric with $M \\longrightarrow 0 $"
      ]
    },
    {
      "cell_type": "code",
      "metadata": {
        "colab": {
          "base_uri": "https://localhost:8080/",
          "height": 98
        },
        "id": "LbgUEXrgtNGx",
        "outputId": "9a741b2c-6e46-4d9b-af5b-d5883cdb5e3a"
      },
      "source": [
        "kerr_ricci_t = RicciTensor.compute_ricci_tensor(kerr_riemann)\n",
        "kerr_ricci_t.tensor()"
      ],
      "execution_count": 38,
      "outputs": [
        {
          "output_type": "execute_result",
          "data": {
            "text/latex": "$\\displaystyle \\left[\\begin{matrix}0 & 0 & 0 & 0\\\\0 & 0 & 0 & 0\\\\0 & 0 & 0 & 0\\\\0 & 0 & 0 & 0\\end{matrix}\\right]$",
            "text/plain": [
              "[[0, 0, 0, 0], [0, 0, 0, 0], [0, 0, 0, 0], [0, 0, 0, 0]]"
            ]
          },
          "metadata": {
            "tags": []
          },
          "execution_count": 38
        }
      ]
    },
    {
      "cell_type": "markdown",
      "metadata": {
        "id": "AtRR0xg9uKyu"
      },
      "source": [
        "## Ricci Scalar Tensor for Kerr metric with $M \\longrightarrow 0 $\n"
      ]
    },
    {
      "cell_type": "code",
      "metadata": {
        "colab": {
          "base_uri": "https://localhost:8080/",
          "height": 38
        },
        "id": "5p4duVD9uExF",
        "outputId": "c90f90ea-249e-4c67-cd89-15530b12b55c"
      },
      "source": [
        "kerr_ricci_s = RicciScalar.compute_ricci_scalar(kerr_ricci_t)\n",
        "kerr_ricci_s.simplify()\n",
        "display(Math(f'R = ' + latex(kerr_ricci_s.expr)))"
      ],
      "execution_count": 39,
      "outputs": [
        {
          "output_type": "display_data",
          "data": {
            "text/latex": "$$R = 0$$",
            "text/plain": [
              "<IPython.core.display.Math object>"
            ]
          },
          "metadata": {
            "tags": []
          }
        }
      ]
    },
    {
      "cell_type": "markdown",
      "metadata": {
        "id": "mGzYu2BMvbn0"
      },
      "source": [
        "## Einstein Tensor for Kerr metric with $M \\longrightarrow 0 $\n"
      ]
    },
    {
      "cell_type": "code",
      "metadata": {
        "colab": {
          "base_uri": "https://localhost:8080/",
          "height": 131
        },
        "id": "k2R_5VdRuSzu",
        "outputId": "d9c378c9-aacc-401e-9a9d-e274179d349b"
      },
      "source": [
        "kerr_einstein = EinsteinTensor.compute_einstein_tensor(kerr_ricci_t, kerr_ricci_s, kerr_metric)\n",
        "print(f'Guv = \\n')\n",
        "kerr_einstein.tensor()"
      ],
      "execution_count": 40,
      "outputs": [
        {
          "output_type": "stream",
          "text": [
            "Guv = \n",
            "\n"
          ],
          "name": "stdout"
        },
        {
          "output_type": "execute_result",
          "data": {
            "text/latex": "$\\displaystyle \\left[\\begin{matrix}0 & 0 & 0 & 0\\\\0 & 0 & 0 & 0\\\\0 & 0 & 0 & 0\\\\0 & 0 & 0 & 0\\end{matrix}\\right]$",
            "text/plain": [
              "[[0, 0, 0, 0], [0, 0, 0, 0], [0, 0, 0, 0], [0, 0, 0, 0]]"
            ]
          },
          "metadata": {
            "tags": []
          },
          "execution_count": 40
        }
      ]
    },
    {
      "cell_type": "markdown",
      "metadata": {
        "id": "z_hcpjGAwP-O"
      },
      "source": [
        "And thus we see that the Kerr metric is indeed a solution to the vacuum  Einstein equations."
      ]
    },
    {
      "cell_type": "markdown",
      "metadata": {
        "id": "JwjLGUxwwbWD"
      },
      "source": [
        "# Geodesic Equation for the Schwarzschild Metric"
      ]
    },
    {
      "cell_type": "code",
      "metadata": {
        "id": "DssJbe1QLBvh"
      },
      "source": [
        "from sympy import Symbol, Function\n",
        "from sympy.calculus.euler import euler_equations\n",
        "from __future__ import division\n",
        "sympy.init_printing()"
      ],
      "execution_count": 41,
      "outputs": []
    },
    {
      "cell_type": "markdown",
      "metadata": {
        "id": "IjnHmWNjQyQy"
      },
      "source": [
        "## First Method for the Schwarzschild Lagrangian"
      ]
    },
    {
      "cell_type": "code",
      "metadata": {
        "id": "qUkC7eq5LBl6"
      },
      "source": [
        "t = Function('t')\n",
        "r = Function('r')\n",
        "theta = Function('theta')\n",
        "phi = Function('phi')\n",
        "lam = Symbol('lambda')\n",
        "L = -(1- R_sym/r(lam))*(t(lam).diff(lam))**2\n",
        "L += (1 - R_sym/r(lam))*(r(lam).diff(lam))**2\n",
        "L += r(lam)**2 *(theta(lam).diff(lam))**2\n",
        "L += r(lam)**2*sin(theta(lam))**2*(phi(lam).diff(lam))**2\n",
        "eqns = euler_equations(L, [t(lam), r(lam), theta(lam), phi(lam) ], lam)"
      ],
      "execution_count": 42,
      "outputs": []
    },
    {
      "cell_type": "markdown",
      "metadata": {
        "id": "BMQpUBU3Q8_M"
      },
      "source": [
        "### Geodesic Equations Results"
      ]
    },
    {
      "cell_type": "code",
      "metadata": {
        "colab": {
          "base_uri": "https://localhost:8080/",
          "height": 67
        },
        "id": "nYePSxgSRApQ",
        "outputId": "fdba6a62-e987-499f-d545-4b371ae84672"
      },
      "source": [
        "eqns[0]"
      ],
      "execution_count": 43,
      "outputs": [
        {
          "output_type": "execute_result",
          "data": {
            "image/png": "[encoded data removed]",
            "text/latex": "$\\displaystyle - 2 \\left(- \\frac{R \\frac{d}{d \\lambda} r{\\left(\\lambda \\right)} \\frac{d}{d \\lambda} t{\\left(\\lambda \\right)}}{r^{2}{\\left(\\lambda \\right)}} + \\left(\\frac{R}{r{\\left(\\lambda \\right)}} - 1\\right) \\frac{d^{2}}{d \\lambda^{2}} t{\\left(\\lambda \\right)}\\right) = 0$",
            "text/plain": [
              "   ⎛    d        d                              ⎞    \n",
              "   ⎜  R⋅──(r(λ))⋅──(t(λ))                2      ⎟    \n",
              "   ⎜    dλ       dλ         ⎛ R      ⎞  d       ⎟    \n",
              "-2⋅⎜- ─────────────────── + ⎜──── - 1⎟⋅───(t(λ))⎟ = 0\n",
              "   ⎜          2             ⎝r(λ)    ⎠   2      ⎟    \n",
              "   ⎝         r (λ)                     dλ       ⎠    "
            ]
          },
          "metadata": {
            "tags": []
          },
          "execution_count": 43
        }
      ]
    },
    {
      "cell_type": "code",
      "metadata": {
        "colab": {
          "base_uri": "https://localhost:8080/",
          "height": 70
        },
        "id": "Ud1RUTF0Q3to",
        "outputId": "a218de1d-d5fb-4149-9632-94b580657bc4"
      },
      "source": [
        "eqns[1]"
      ],
      "execution_count": 44,
      "outputs": [
        {
          "output_type": "execute_result",
          "data": {
            "image/png": "[encoded data removed]",
            "text/latex": "$\\displaystyle \\frac{R \\left(\\frac{d}{d \\lambda} r{\\left(\\lambda \\right)}\\right)^{2}}{r^{2}{\\left(\\lambda \\right)}} - \\frac{R \\left(\\frac{d}{d \\lambda} t{\\left(\\lambda \\right)}\\right)^{2}}{r^{2}{\\left(\\lambda \\right)}} - 2 \\left(\\frac{R \\left(\\frac{d}{d \\lambda} r{\\left(\\lambda \\right)}\\right)^{2}}{r^{2}{\\left(\\lambda \\right)}} - \\left(\\frac{R}{r{\\left(\\lambda \\right)}} - 1\\right) \\frac{d^{2}}{d \\lambda^{2}} r{\\left(\\lambda \\right)}\\right) + 2 r{\\left(\\lambda \\right)} \\sin^{2}{\\left(\\theta{\\left(\\lambda \\right)} \\right)} \\left(\\frac{d}{d \\lambda} \\phi{\\left(\\lambda \\right)}\\right)^{2} + 2 r{\\left(\\lambda \\right)} \\left(\\frac{d}{d \\lambda} \\theta{\\left(\\lambda \\right)}\\right)^{2} = 0$",
            "text/plain": [
              "            2               2     ⎛            2                       ⎞      \n",
              "  ⎛d       ⎞      ⎛d       ⎞      ⎜  ⎛d       ⎞                        ⎟      \n",
              "R⋅⎜──(r(λ))⎟    R⋅⎜──(t(λ))⎟      ⎜R⋅⎜──(r(λ))⎟                 2      ⎟      \n",
              "  ⎝dλ      ⎠      ⎝dλ      ⎠      ⎜  ⎝dλ      ⎠    ⎛ R      ⎞  d       ⎟      \n",
              "───────────── - ───────────── - 2⋅⎜───────────── - ⎜──── - 1⎟⋅───(r(λ))⎟ + 2⋅r\n",
              "     2               2            ⎜     2          ⎝r(λ)    ⎠   2      ⎟      \n",
              "    r (λ)           r (λ)         ⎝    r (λ)                  dλ       ⎠      \n",
              "\n",
              "                                                   \n",
              "                                                   \n",
              "                         2                    2    \n",
              "       2       ⎛d       ⎞           ⎛d       ⎞     \n",
              "(λ)⋅sin (θ(λ))⋅⎜──(φ(λ))⎟  + 2⋅r(λ)⋅⎜──(θ(λ))⎟  = 0\n",
              "               ⎝dλ      ⎠           ⎝dλ      ⎠     \n",
              "                                                   "
            ]
          },
          "metadata": {
            "tags": []
          },
          "execution_count": 44
        }
      ]
    },
    {
      "cell_type": "code",
      "metadata": {
        "colab": {
          "base_uri": "https://localhost:8080/",
          "height": 61
        },
        "id": "oZfuU-BcQ3lH",
        "outputId": "9c3f125d-a0c9-46fa-9b21-fa938503bd93"
      },
      "source": [
        "eqns[2]"
      ],
      "execution_count": 45,
      "outputs": [
        {
          "output_type": "execute_result",
          "data": {
            "image/png": "[encoded data removed]",
            "text/latex": "$\\displaystyle - 2 \\left(r{\\left(\\lambda \\right)} \\frac{d^{2}}{d \\lambda^{2}} \\theta{\\left(\\lambda \\right)} + 2 \\frac{d}{d \\lambda} r{\\left(\\lambda \\right)} \\frac{d}{d \\lambda} \\theta{\\left(\\lambda \\right)}\\right) r{\\left(\\lambda \\right)} + 2 r^{2}{\\left(\\lambda \\right)} \\sin{\\left(\\theta{\\left(\\lambda \\right)} \\right)} \\cos{\\left(\\theta{\\left(\\lambda \\right)} \\right)} \\left(\\frac{d}{d \\lambda} \\phi{\\left(\\lambda \\right)}\\right)^{2} = 0$",
            "text/plain": [
              "    ⎛       2                            ⎞                                    \n",
              "    ⎜      d            d        d       ⎟           2                        \n",
              "- 2⋅⎜r(λ)⋅───(θ(λ)) + 2⋅──(r(λ))⋅──(θ(λ))⎟⋅r(λ) + 2⋅r (λ)⋅sin(θ(λ))⋅cos(θ(λ))⋅\n",
              "    ⎜       2           dλ       dλ      ⎟                                    \n",
              "    ⎝     dλ                             ⎠                                    \n",
              "\n",
              "          2    \n",
              "⎛d       ⎞     \n",
              "⎜──(φ(λ))⎟  = 0\n",
              "⎝dλ      ⎠     \n",
              "               "
            ]
          },
          "metadata": {
            "tags": []
          },
          "execution_count": 45
        }
      ]
    },
    {
      "cell_type": "code",
      "metadata": {
        "colab": {
          "base_uri": "https://localhost:8080/",
          "height": 58
        },
        "id": "SuZQaMdHQ3bD",
        "outputId": "e051fd7e-e562-4101-9547-a2c9dd3577cf"
      },
      "source": [
        "eqns[3]"
      ],
      "execution_count": 46,
      "outputs": [
        {
          "output_type": "execute_result",
          "data": {
            "image/png": "[encoded data removed]",
            "text/latex": "$\\displaystyle - 2 \\left(r{\\left(\\lambda \\right)} \\sin{\\left(\\theta{\\left(\\lambda \\right)} \\right)} \\frac{d^{2}}{d \\lambda^{2}} \\phi{\\left(\\lambda \\right)} + 2 r{\\left(\\lambda \\right)} \\cos{\\left(\\theta{\\left(\\lambda \\right)} \\right)} \\frac{d}{d \\lambda} \\phi{\\left(\\lambda \\right)} \\frac{d}{d \\lambda} \\theta{\\left(\\lambda \\right)} + 2 \\sin{\\left(\\theta{\\left(\\lambda \\right)} \\right)} \\frac{d}{d \\lambda} \\phi{\\left(\\lambda \\right)} \\frac{d}{d \\lambda} r{\\left(\\lambda \\right)}\\right) r{\\left(\\lambda \\right)} \\sin{\\left(\\theta{\\left(\\lambda \\right)} \\right)} = 0$",
            "text/plain": [
              "   ⎛                 2                                                        \n",
              "   ⎜                d                           d        d                    \n",
              "-2⋅⎜r(λ)⋅sin(θ(λ))⋅───(φ(λ)) + 2⋅r(λ)⋅cos(θ(λ))⋅──(φ(λ))⋅──(θ(λ)) + 2⋅sin(θ(λ)\n",
              "   ⎜                 2                          dλ       dλ                   \n",
              "   ⎝               dλ                                                         \n",
              "\n",
              "                   ⎞                   \n",
              "  d        d       ⎟                   \n",
              ")⋅──(φ(λ))⋅──(r(λ))⎟⋅r(λ)⋅sin(θ(λ)) = 0\n",
              "  dλ       dλ      ⎟                   \n",
              "                   ⎠                   "
            ]
          },
          "metadata": {
            "tags": []
          },
          "execution_count": 46
        }
      ]
    },
    {
      "cell_type": "code",
      "metadata": {
        "id": "QJpuJa0xzTWu",
        "colab": {
          "base_uri": "https://localhost:8080/",
          "height": 38
        },
        "outputId": "4d6d6d39-a992-497d-bdd3-f1a13363d4e0"
      },
      "source": [
        "from sympy.physics.mechanics import *\n",
        "from sympy import diff, Symbol\n",
        "t, r, theta, phi = dynamicsymbols('tau r theta phi')\n",
        "dt, dr , dtheta, dphi = dynamicsymbols('tau r theta phi', 1)\n",
        "kerr_metric.symbols()\n"
      ],
      "execution_count": 47,
      "outputs": [
        {
          "output_type": "execute_result",
          "data": {
            "image/png": "[encoded data removed]",
            "text/latex": "$\\displaystyle \\left( t, \\  r, \\  \\theta, \\  \\phi\\right)$",
            "text/plain": [
              "(t, r, θ, φ)"
            ]
          },
          "metadata": {
            "tags": []
          },
          "execution_count": 47
        }
      ]
    },
    {
      "cell_type": "markdown",
      "metadata": {
        "id": "wX9ifIOEHpK4"
      },
      "source": [
        "## Second Method for the Schwarzschild Lagrangian\n",
        "The `dynamicsymbols` function with '1' as second parameter assumes differentation w.r.t t, so note that here we have a $\\tau$ where we usually have t, as well as a t where we usually have $\\lambda$"
      ]
    },
    {
      "cell_type": "code",
      "metadata": {
        "id": "aXJbLx7nSS8a"
      },
      "source": [
        "from sympy.physics.mechanics import *\n",
        "tau, r, theta, phi = dynamicsymbols('tau r theta phi')\n",
        "dtau, dr, dtheta, dphi = dynamicsymbols('tau r theta phi', 1)"
      ],
      "execution_count": 48,
      "outputs": []
    },
    {
      "cell_type": "code",
      "metadata": {
        "colab": {
          "base_uri": "https://localhost:8080/",
          "height": 55
        },
        "id": "SNTu3qc8HnDX",
        "outputId": "3b4c9108-8dbf-4464-f6a0-309541c57875"
      },
      "source": [
        "L = -(1-(R_sym/r))*dtau**2 + (1-(R_sym/r))**-1 * dr**2 + r**2 *dtheta**2 + r**2*sin(theta)**2*dphi**2\n",
        "display(Math('L = ' + latex(L)))"
      ],
      "execution_count": 49,
      "outputs": [
        {
          "output_type": "display_data",
          "data": {
            "text/latex": "$$L = \\left(\\frac{R}{r{\\left(t \\right)}} - 1\\right) \\left(\\frac{d}{d t} \\tau{\\left(t \\right)}\\right)^{2} + r^{2}{\\left(t \\right)} \\sin^{2}{\\left(\\theta{\\left(t \\right)} \\right)} \\left(\\frac{d}{d t} \\phi{\\left(t \\right)}\\right)^{2} + r^{2}{\\left(t \\right)} \\left(\\frac{d}{d t} \\theta{\\left(t \\right)}\\right)^{2} + \\frac{\\left(\\frac{d}{d t} r{\\left(t \\right)}\\right)^{2}}{- \\frac{R}{r{\\left(t \\right)}} + 1}$$",
            "text/plain": [
              "<IPython.core.display.Math object>"
            ]
          },
          "metadata": {
            "tags": []
          }
        }
      ]
    },
    {
      "cell_type": "code",
      "metadata": {
        "colab": {
          "base_uri": "https://localhost:8080/",
          "height": 136
        },
        "id": "mOLM9ye8IrPQ",
        "outputId": "6ad1f7fa-8e07-4965-f23d-580b7cf8e3d7"
      },
      "source": [
        "LM = LagrangesMethod(L, [tau, r, theta, phi])\n",
        "LM.form_lagranges_equations()"
      ],
      "execution_count": 50,
      "outputs": [
        {
          "output_type": "execute_result",
          "data": {
            "text/latex": "$\\displaystyle \\left[\\begin{matrix}- \\frac{2 R \\frac{d}{d t} r{\\left(t \\right)} \\frac{d}{d t} \\tau{\\left(t \\right)}}{r^{2}{\\left(t \\right)}} + \\left(\\frac{2 R}{r{\\left(t \\right)}} - 2\\right) \\frac{d^{2}}{d t^{2}} \\tau{\\left(t \\right)}\\\\\\frac{R \\left(\\frac{d}{d t} \\tau{\\left(t \\right)}\\right)^{2}}{r^{2}{\\left(t \\right)}} - \\frac{R \\left(\\frac{d}{d t} r{\\left(t \\right)}\\right)^{2}}{\\left(- \\frac{R}{r{\\left(t \\right)}} + 1\\right)^{2} r^{2}{\\left(t \\right)}} - 2 r{\\left(t \\right)} \\sin^{2}{\\left(\\theta{\\left(t \\right)} \\right)} \\left(\\frac{d}{d t} \\phi{\\left(t \\right)}\\right)^{2} - 2 r{\\left(t \\right)} \\left(\\frac{d}{d t} \\theta{\\left(t \\right)}\\right)^{2} + \\frac{2 \\frac{d^{2}}{d t^{2}} r{\\left(t \\right)}}{- \\frac{R}{r{\\left(t \\right)}} + 1}\\\\- 2 r^{2}{\\left(t \\right)} \\sin{\\left(\\theta{\\left(t \\right)} \\right)} \\cos{\\left(\\theta{\\left(t \\right)} \\right)} \\left(\\frac{d}{d t} \\phi{\\left(t \\right)}\\right)^{2} + 2 r^{2}{\\left(t \\right)} \\frac{d^{2}}{d t^{2}} \\theta{\\left(t \\right)} + 4 r{\\left(t \\right)} \\frac{d}{d t} r{\\left(t \\right)} \\frac{d}{d t} \\theta{\\left(t \\right)}\\\\2 r^{2}{\\left(t \\right)} \\sin^{2}{\\left(\\theta{\\left(t \\right)} \\right)} \\frac{d^{2}}{d t^{2}} \\phi{\\left(t \\right)} + 4 r^{2}{\\left(t \\right)} \\sin{\\left(\\theta{\\left(t \\right)} \\right)} \\cos{\\left(\\theta{\\left(t \\right)} \\right)} \\frac{d}{d t} \\phi{\\left(t \\right)} \\frac{d}{d t} \\theta{\\left(t \\right)} + 4 r{\\left(t \\right)} \\sin^{2}{\\left(\\theta{\\left(t \\right)} \\right)} \\frac{d}{d t} \\phi{\\left(t \\right)} \\frac{d}{d t} r{\\left(t \\right)}\\end{matrix}\\right]$",
            "text/plain": [
              "⎡                                        d        d                           \n",
              "⎢                                    2⋅R⋅──(r(t))⋅──(τ(t))                2   \n",
              "⎢                                        dt       dt         ⎛2⋅R     ⎞  d    \n",
              "⎢                                  - ───────────────────── + ⎜──── - 2⎟⋅───(τ(\n",
              "⎢                                             2              ⎝r(t)    ⎠   2   \n",
              "⎢                                            r (t)                      dt    \n",
              "⎢                                                                             \n",
              "⎢                                                                             \n",
              "⎢                  2                  2                                       \n",
              "⎢        ⎛d       ⎞         ⎛d       ⎞                                        \n",
              "⎢      R⋅⎜──(τ(t))⎟       R⋅⎜──(r(t))⎟                                   2    \n",
              "⎢        ⎝dt      ⎠         ⎝dt      ⎠                 2       ⎛d       ⎞     \n",
              "⎢      ───────────── - ─────────────────── - 2⋅r(t)⋅sin (θ(t))⋅⎜──(φ(t))⎟  - 2\n",
              "⎢           2                      2                           ⎝dt      ⎠     \n",
              "⎢          r (t)       ⎛   R      ⎞   2                                       \n",
              "⎢                      ⎜- ──── + 1⎟ ⋅r (t)                                    \n",
              "⎢                      ⎝  r(t)    ⎠                                           \n",
              "⎢                                                                             \n",
              "⎢                                                     2             2         \n",
              "⎢                  2                        ⎛d       ⎞       2     d          \n",
              "⎢             - 2⋅r (t)⋅sin(θ(t))⋅cos(θ(t))⋅⎜──(φ(t))⎟  + 2⋅r (t)⋅───(θ(t)) + \n",
              "⎢                                           ⎝dt      ⎠              2         \n",
              "⎢                                                                 dt          \n",
              "⎢                                                                             \n",
              "⎢                     2                                                       \n",
              "⎢   2       2        d             2                        d        d        \n",
              "⎢2⋅r (t)⋅sin (θ(t))⋅───(φ(t)) + 4⋅r (t)⋅sin(θ(t))⋅cos(θ(t))⋅──(φ(t))⋅──(θ(t)) \n",
              "⎢                     2                                     dt       dt       \n",
              "⎣                   dt                                                        \n",
              "\n",
              "                                     ⎤\n",
              "                                     ⎥\n",
              "                                     ⎥\n",
              "t))                                  ⎥\n",
              "                                     ⎥\n",
              "                                     ⎥\n",
              "                                     ⎥\n",
              "                        2            ⎥\n",
              "                       d             ⎥\n",
              "                    2⋅───(r(t))      ⎥\n",
              "                2       2            ⎥\n",
              "      ⎛d       ⎞      dt             ⎥\n",
              "⋅r(t)⋅⎜──(θ(t))⎟  + ───────────      ⎥\n",
              "      ⎝dt      ⎠        R            ⎥\n",
              "                     - ──── + 1      ⎥\n",
              "                       r(t)          ⎥\n",
              "                                     ⎥\n",
              "                                     ⎥\n",
              "                                     ⎥\n",
              "       d        d                    ⎥\n",
              "4⋅r(t)⋅──(r(t))⋅──(θ(t))             ⎥\n",
              "       dt       dt                   ⎥\n",
              "                                     ⎥\n",
              "                                     ⎥\n",
              "                                     ⎥\n",
              "            2       d        d       ⎥\n",
              "+ 4⋅r(t)⋅sin (θ(t))⋅──(φ(t))⋅──(r(t))⎥\n",
              "                    dt       dt      ⎥\n",
              "                                     ⎦"
            ]
          },
          "metadata": {
            "tags": []
          },
          "execution_count": 50
        }
      ]
    },
    {
      "cell_type": "markdown",
      "metadata": {
        "id": "XkMxLgZASz2d"
      },
      "source": [
        "Above we have the geodesic equations for the Schwarzchild metric"
      ]
    },
    {
      "cell_type": "code",
      "metadata": {
        "id": "SoKBhnJTS2km"
      },
      "source": [
        ""
      ],
      "execution_count": 50,
      "outputs": []
    },
    {
      "cell_type": "code",
      "metadata": {
        "id": "_BfoGgcGVPmS"
      },
      "source": [
        ""
      ],
      "execution_count": null,
      "outputs": []
    },
    {
      "cell_type": "code",
      "metadata": {
        "id": "uwJC7r8NVPeU"
      },
      "source": [
        ""
      ],
      "execution_count": null,
      "outputs": []
    }
  ]
}